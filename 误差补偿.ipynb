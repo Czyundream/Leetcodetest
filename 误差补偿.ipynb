{
  "nbformat": 4,
  "nbformat_minor": 0,
  "metadata": {
    "colab": {
      "name": "误差补偿.ipynb",
      "provenance": [],
      "mount_file_id": "1g5U4Bc8BFPefe51WOGLd2ylTBdH0xjQF",
      "authorship_tag": "ABX9TyP3GMRMlTwGaugTgUivbcQh",
      "include_colab_link": true
    },
    "kernelspec": {
      "name": "python3",
      "display_name": "Python 3"
    },
    "language_info": {
      "name": "python"
    }
  },
  "cells": [
    {
      "cell_type": "markdown",
      "metadata": {
        "id": "view-in-github",
        "colab_type": "text"
      },
      "source": [
        "<a href=\"https://colab.research.google.com/github/Czyundream/Leetcodetest/blob/main/%E8%AF%AF%E5%B7%AE%E8%A1%A5%E5%81%BF.ipynb\" target=\"_parent\"><img src=\"https://colab.research.google.com/assets/colab-badge.svg\" alt=\"Open In Colab\"/></a>"
      ]
    },
    {
      "cell_type": "code",
      "execution_count": null,
      "metadata": {
        "id": "9qTM5FIesW12"
      },
      "outputs": [],
      "source": [
        "#导入常用库\n",
        "!pip install git+https://github.com/d2l-ai/d2l-zh@release  # installing d2l\n"
      ]
    },
    {
      "cell_type": "code",
      "source": [
        "import numpy as np\n",
        "import torch\n",
        "from torch.utils import data\n",
        "from d2l import torch as d2l"
      ],
      "metadata": {
        "id": "jxeh4lBD61-1"
      },
      "execution_count": 18,
      "outputs": []
    },
    {
      "cell_type": "code",
      "source": [
        "import pandas as pd"
      ],
      "metadata": {
        "id": "695xwyGBy6gM"
      },
      "execution_count": 2,
      "outputs": []
    },
    {
      "cell_type": "code",
      "source": [
        "#读取文件\n",
        "!pip install -u -q PyDrive\n",
        "from pydrive.auth import GoogleAuth\n",
        "from pydrive.drive import GoogleDrive\n",
        "from google.colab import auth\n",
        "from oauth2client.client import GoogleCredentials\n",
        "\n",
        "auth.authenticate_user()\n",
        "gauth = GoogleAuth()\n",
        "gauth.credentials = GoogleCredentials.get_application_default()\n",
        "drive = GoogleDrive(gauth)\n",
        "\n",
        "downloaded = drive.CreateFile({'id':'1C2cnS5fi2Du6UcCbShpj1W2AaFD49huD'})\n",
        "downloaded.GetContentFile('250HZ.xlsx')\n"
      ],
      "metadata": {
        "colab": {
          "base_uri": "https://localhost:8080/"
        },
        "id": "H_7hFqy80i04",
        "outputId": "a8e9d721-0936-4ff5-e863-be0e8ec407f1"
      },
      "execution_count": 5,
      "outputs": [
        {
          "output_type": "stream",
          "name": "stdout",
          "text": [
            "\n",
            "Usage:   \n",
            "  pip3 install [options] <requirement specifier> [package-index-options] ...\n",
            "  pip3 install [options] -r <requirements file> [package-index-options] ...\n",
            "  pip3 install [options] [-e] <vcs project url> ...\n",
            "  pip3 install [options] [-e] <local project path> ...\n",
            "  pip3 install [options] <archive url/path> ...\n",
            "\n",
            "no such option: -u\n"
          ]
        }
      ]
    },
    {
      "cell_type": "code",
      "source": [
        "def xlsx_to_csv():\n",
        "    data_xls=pd.read_excel('250HZ.xlsx')\n",
        "    data_xls.to_csv('250HZ.csv',encoding='utf-8')\n",
        "\n",
        "xlsx_to_csv()"
      ],
      "metadata": {
        "id": "PVyPLWBazsA9"
      },
      "execution_count": 6,
      "outputs": []
    },
    {
      "cell_type": "code",
      "source": [
        "data = pd.read_csv('250HZ.csv')\n",
        "print(data)"
      ],
      "metadata": {
        "colab": {
          "base_uri": "https://localhost:8080/"
        },
        "id": "BWhm6SqgynCs",
        "outputId": "32e3bf6d-5194-46ae-9335-25eff70fd2b0"
      },
      "execution_count": 7,
      "outputs": [
        {
          "output_type": "stream",
          "name": "stdout",
          "text": [
            "      Unnamed: 0       光电           磁         温度        误差\n",
            "0              0  358.375  359.331207  17.201250  0.956207\n",
            "1              1  357.750  358.604736  17.242500  0.854736\n",
            "2              2  357.000  357.823334  17.366249  0.823334\n",
            "3              3  356.250  357.070068  17.325001  0.820068\n",
            "4              4  355.500  356.318909  17.407499  0.818909\n",
            "...          ...      ...         ...        ...       ...\n",
            "1904        1904    1.125    1.896515  17.118750  0.771515\n",
            "1905        1905    0.750    1.599884  17.283751  0.849884\n",
            "1906        1906    0.500    1.349945  17.242500  0.849945\n",
            "1907        1907    0.375    1.239395  17.283751  0.864395\n",
            "1908        1908    0.000    0.819855  17.160000  0.819855\n",
            "\n",
            "[1909 rows x 5 columns]\n"
          ]
        }
      ]
    },
    {
      "cell_type": "code",
      "source": [
        "inputs , outputs= data.iloc[477: 1909, 2 : 4] , data.iloc[477 : 1909, 1]\n",
        "features, labels = torch.tensor(inputs.values), torch.tensor(outputs.values)"
      ],
      "metadata": {
        "id": "b5AYV35W4dm0"
      },
      "execution_count": 13,
      "outputs": []
    },
    {
      "cell_type": "code",
      "source": [
        "features = torch.tensor(features, dtype=torch.float32)\n",
        "labels = torch.tensor(labels, dtype=torch.float32)"
      ],
      "metadata": {
        "colab": {
          "base_uri": "https://localhost:8080/"
        },
        "id": "vdTYMhnT6fGy",
        "outputId": "a4d490d5-3518-4316-fb4c-bb8b8a48c75d"
      },
      "execution_count": 26,
      "outputs": [
        {
          "output_type": "stream",
          "name": "stderr",
          "text": [
            "/usr/local/lib/python3.7/dist-packages/ipykernel_launcher.py:1: UserWarning: To copy construct from a tensor, it is recommended to use sourceTensor.clone().detach() or sourceTensor.clone().detach().requires_grad_(True), rather than torch.tensor(sourceTensor).\n",
            "  \"\"\"Entry point for launching an IPython kernel.\n",
            "/usr/local/lib/python3.7/dist-packages/ipykernel_launcher.py:2: UserWarning: To copy construct from a tensor, it is recommended to use sourceTensor.clone().detach() or sourceTensor.clone().detach().requires_grad_(True), rather than torch.tensor(sourceTensor).\n",
            "  \n"
          ]
        }
      ]
    },
    {
      "cell_type": "code",
      "source": [
        "def load_array(data_arrays, batch_size, is_train=True):\n",
        "    '''构造一个PyTorch数据迭代器'''\n",
        "    dataset = data.TensorDataset(*data_arrays)#将数据转为dataset，*表示将元组拆解为一维数字作为传入参数\n",
        "    return data.DataLoader(dataset, batch_size, shuffle=is_train)\n",
        "    #将dataset型数据挑选batch_size大小的样本，shuffle控制是否打乱\n",
        "\n",
        "batch_size = 50\n",
        "data_iter = load_array((features, labels), batch_size)\n",
        "\n",
        "next(iter(data_iter))"
      ],
      "metadata": {
        "colab": {
          "base_uri": "https://localhost:8080/"
        },
        "id": "fbcZDFrsxCsO",
        "outputId": "f804db7b-202b-456b-c5ca-26a3b55348fe"
      },
      "execution_count": 36,
      "outputs": [
        {
          "output_type": "execute_result",
          "data": {
            "text/plain": [
              "[tensor([[ 15.4413,  17.4075],\n",
              "         [ 47.4348,  17.1600],\n",
              "         [299.0692,  17.3662],\n",
              "         [ 42.7780,  17.2425],\n",
              "         [176.6911,  17.2838],\n",
              "         [139.8896,  17.4075],\n",
              "         [219.3592,  17.3250],\n",
              "         [ 61.1643,  17.2838],\n",
              "         [234.1592,  17.3250],\n",
              "         [138.0961,  17.4075],\n",
              "         [202.4080,  17.2425],\n",
              "         [132.2562,  17.1187],\n",
              "         [146.5130,  17.2838],\n",
              "         [290.0576,  17.2838],\n",
              "         [112.2130,  17.2838],\n",
              "         [272.8688,  17.2838],\n",
              "         [112.4300,  17.1600],\n",
              "         [ 17.0700,  17.1600],\n",
              "         [249.5860,  17.2838],\n",
              "         [314.9492,  17.2013],\n",
              "         [349.7882,  17.4075],\n",
              "         [142.9589,  17.3662],\n",
              "         [ 85.9879,  17.3250],\n",
              "         [144.2917,  17.2838],\n",
              "         [124.4030,  17.2013],\n",
              "         [  6.8623,  17.2013],\n",
              "         [228.7889,  17.4487],\n",
              "         [276.4037,  17.3662],\n",
              "         [196.6285,  17.2425],\n",
              "         [181.0870,  17.2013],\n",
              "         [309.2679,  17.2013],\n",
              "         [317.4053,  17.2838],\n",
              "         [ 93.9310,  17.3662],\n",
              "         [325.5496,  17.2425],\n",
              "         [180.1311,  16.9950],\n",
              "         [ 95.9278,  17.1600],\n",
              "         [ 93.0563,  17.3250],\n",
              "         [280.6732,  17.2425],\n",
              "         [ 43.8169,  17.1600],\n",
              "         [ 91.6171,  17.3662],\n",
              "         [327.7943,  17.4075],\n",
              "         [ 59.1525,  17.0775],\n",
              "         [272.6450,  17.4900],\n",
              "         [276.8369,  17.1600],\n",
              "         [ 85.3267,  17.1600],\n",
              "         [ 58.3882,  17.3662],\n",
              "         [ 48.0329,  17.3250],\n",
              "         [ 16.7521,  17.2013],\n",
              "         [ 87.5034,  17.2425],\n",
              "         [ 66.0855,  17.2013]]),\n",
              " tensor([ 14.6250,  46.6250, 298.3750,  41.8750, 176.1250, 139.1250, 218.8750,\n",
              "          60.1250, 233.7500, 137.5000, 201.7500, 131.5000, 145.7500, 289.5000,\n",
              "         111.1250, 272.5000, 111.3750,  16.1250, 249.1250, 314.2500, 349.1250,\n",
              "         142.2500,  85.0000, 143.6250, 123.5000,   5.8750, 228.5000, 275.8750,\n",
              "         196.1250, 180.5000, 308.6250, 316.8750,  92.8750, 324.8750, 179.5000,\n",
              "          94.8750,  92.1250, 280.0000,  42.7500,  90.6250, 327.2500,  58.2500,\n",
              "         272.2500, 276.2500,  84.2500,  57.5000,  47.1250,  15.7500,  86.5000,\n",
              "          65.0000])]"
            ]
          },
          "metadata": {},
          "execution_count": 36
        }
      ]
    },
    {
      "cell_type": "code",
      "source": [
        "from torch import nn#nn为神经网络的缩写\n",
        "\n",
        "net = nn.Sequential(nn.Linear(2, 1))#Linear为全连接层，需要指定输入维度和输出维度\n",
        "#Sequential可以理解为容器，即list of layers"
      ],
      "metadata": {
        "id": "KB8G9UVMxGPK"
      },
      "execution_count": 20,
      "outputs": []
    },
    {
      "cell_type": "code",
      "source": [
        "net[0].weight.data.normal_(1, 0.01)#normal_为使用正态分布替换掉data的值\n",
        "net[0].bias.data.fill_(0)#bias为偏差"
      ],
      "metadata": {
        "colab": {
          "base_uri": "https://localhost:8080/"
        },
        "id": "UsIN_sLDxHFi",
        "outputId": "bd153d1f-fb9f-4f60-bc54-6823105424b4"
      },
      "execution_count": 33,
      "outputs": [
        {
          "output_type": "execute_result",
          "data": {
            "text/plain": [
              "tensor([0.])"
            ]
          },
          "metadata": {},
          "execution_count": 33
        }
      ]
    },
    {
      "cell_type": "code",
      "source": [
        "loss = nn.MSELoss()\n",
        "trainer = torch.optim.SGD(net.parameters(), lr=0.003)#optim.SGD需要指定两个参数：net.parameters()为拿出所有参数，lr学习率"
      ],
      "metadata": {
        "id": "ZLvsklqgxKKm"
      },
      "execution_count": 34,
      "outputs": []
    },
    {
      "cell_type": "code",
      "source": [
        "num_epochs = 20\n",
        "for epoch in range(num_epochs):\n",
        "    for X, y in data_iter:\n",
        "        l = loss(net(X), y)\n",
        "        trainer.zero_grad()\n",
        "        l.backward()\n",
        "        trainer.step()\n",
        "    l = loss(net(features), labels)\n",
        "    print(f'epoch{epoch + 1}, loss{l:f}')#l:f打印l，格式为浮点数"
      ],
      "metadata": {
        "colab": {
          "base_uri": "https://localhost:8080/"
        },
        "id": "P-z7zVkTxN8s",
        "outputId": "fe34cf3b-dd3d-446a-b616-9b6965000ca2"
      },
      "execution_count": 40,
      "outputs": [
        {
          "output_type": "stream",
          "name": "stderr",
          "text": [
            "/usr/local/lib/python3.7/dist-packages/torch/nn/modules/loss.py:520: UserWarning: Using a target size (torch.Size([50])) that is different to the input size (torch.Size([50, 1])). This will likely lead to incorrect results due to broadcasting. Please ensure they have the same size.\n",
            "  return F.mse_loss(input, target, reduction=self.reduction)\n",
            "/usr/local/lib/python3.7/dist-packages/torch/nn/modules/loss.py:520: UserWarning: Using a target size (torch.Size([32])) that is different to the input size (torch.Size([32, 1])). This will likely lead to incorrect results due to broadcasting. Please ensure they have the same size.\n",
            "  return F.mse_loss(input, target, reduction=self.reduction)\n",
            "/usr/local/lib/python3.7/dist-packages/torch/nn/modules/loss.py:520: UserWarning: Using a target size (torch.Size([1432])) that is different to the input size (torch.Size([1432, 1])). This will likely lead to incorrect results due to broadcasting. Please ensure they have the same size.\n",
            "  return F.mse_loss(input, target, reduction=self.reduction)\n"
          ]
        },
        {
          "output_type": "stream",
          "name": "stdout",
          "text": [
            "epoch1, lossnan\n",
            "epoch2, lossnan\n",
            "epoch3, lossnan\n",
            "epoch4, lossnan\n",
            "epoch5, lossnan\n",
            "epoch6, lossnan\n",
            "epoch7, lossnan\n",
            "epoch8, lossnan\n",
            "epoch9, lossnan\n",
            "epoch10, lossnan\n",
            "epoch11, lossnan\n",
            "epoch12, lossnan\n",
            "epoch13, lossnan\n",
            "epoch14, lossnan\n",
            "epoch15, lossnan\n",
            "epoch16, lossnan\n",
            "epoch17, lossnan\n",
            "epoch18, lossnan\n",
            "epoch19, lossnan\n",
            "epoch20, lossnan\n"
          ]
        }
      ]
    }
  ]
}