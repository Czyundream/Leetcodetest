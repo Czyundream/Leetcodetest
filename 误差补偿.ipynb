{
  "nbformat": 4,
  "nbformat_minor": 0,
  "metadata": {
    "colab": {
      "name": "误差补偿.ipynb",
      "provenance": [],
      "collapsed_sections": [
        "VXzNQnXEoon0"
      ],
      "mount_file_id": "1g5U4Bc8BFPefe51WOGLd2ylTBdH0xjQF",
      "authorship_tag": "ABX9TyPzSbvG/h9NtxOpv4Vzc8gd",
      "include_colab_link": true
    },
    "kernelspec": {
      "name": "python3",
      "display_name": "Python 3"
    },
    "language_info": {
      "name": "python"
    },
    "accelerator": "GPU"
  },
  "cells": [
    {
      "cell_type": "markdown",
      "metadata": {
        "id": "view-in-github",
        "colab_type": "text"
      },
      "source": [
        "<a href=\"https://colab.research.google.com/github/Czyundream/Leetcodetest/blob/main/%E8%AF%AF%E5%B7%AE%E8%A1%A5%E5%81%BF.ipynb\" target=\"_parent\"><img src=\"https://colab.research.google.com/assets/colab-badge.svg\" alt=\"Open In Colab\"/></a>"
      ]
    },
    {
      "cell_type": "code",
      "execution_count": null,
      "metadata": {
        "id": "9qTM5FIesW12"
      },
      "outputs": [],
      "source": [
        "#导入常用库\n",
        "!pip install git+https://github.com/d2l-ai/d2l-zh@release  # installing d2l\n"
      ]
    },
    {
      "cell_type": "code",
      "source": [
        "import numpy as np\n",
        "import torch\n",
        "from torch.utils import data\n",
        "from d2l import torch as d2l"
      ],
      "metadata": {
        "id": "jxeh4lBD61-1"
      },
      "execution_count": null,
      "outputs": []
    },
    {
      "cell_type": "code",
      "source": [
        "import pandas as pd"
      ],
      "metadata": {
        "id": "695xwyGBy6gM"
      },
      "execution_count": null,
      "outputs": []
    },
    {
      "cell_type": "code",
      "source": [
        "#读取文件\n",
        "!pip install -u -q PyDrive\n",
        "from pydrive.auth import GoogleAuth\n",
        "from pydrive.drive import GoogleDrive\n",
        "from google.colab import auth\n",
        "from oauth2client.client import GoogleCredentials\n",
        "\n",
        "auth.authenticate_user()\n",
        "gauth = GoogleAuth()\n",
        "gauth.credentials = GoogleCredentials.get_application_default()\n",
        "drive = GoogleDrive(gauth)\n",
        "\n",
        "downloaded = drive.CreateFile({'id':'1C2cnS5fi2Du6UcCbShpj1W2AaFD49huD'})\n",
        "downloaded.GetContentFile('250HZ.xlsx')\n"
      ],
      "metadata": {
        "id": "H_7hFqy80i04",
        "colab": {
          "base_uri": "https://localhost:8080/"
        },
        "outputId": "51bdc4ca-7c42-4065-f015-01e20ddb6148"
      },
      "execution_count": null,
      "outputs": [
        {
          "output_type": "stream",
          "name": "stdout",
          "text": [
            "\n",
            "Usage:   \n",
            "  pip3 install [options] <requirement specifier> [package-index-options] ...\n",
            "  pip3 install [options] -r <requirements file> [package-index-options] ...\n",
            "  pip3 install [options] [-e] <vcs project url> ...\n",
            "  pip3 install [options] [-e] <local project path> ...\n",
            "  pip3 install [options] <archive url/path> ...\n",
            "\n",
            "no such option: -u\n"
          ]
        }
      ]
    },
    {
      "cell_type": "code",
      "source": [
        "def xlsx_to_csv():\n",
        "    data_xls=pd.read_excel('250HZ.xlsx')\n",
        "    data_xls.to_csv('250HZ.csv',encoding='utf-8')\n",
        "\n",
        "xlsx_to_csv()"
      ],
      "metadata": {
        "id": "PVyPLWBazsA9"
      },
      "execution_count": null,
      "outputs": []
    },
    {
      "cell_type": "code",
      "source": [
        "data = pd.read_csv('250HZ.csv')\n",
        "print(data)"
      ],
      "metadata": {
        "colab": {
          "base_uri": "https://localhost:8080/"
        },
        "id": "BWhm6SqgynCs",
        "outputId": "7f2353cd-da66-4480-dc0a-9e6c9cc50ba9"
      },
      "execution_count": null,
      "outputs": [
        {
          "output_type": "stream",
          "name": "stdout",
          "text": [
            "      Unnamed: 0       光电           磁         温度        误差\n",
            "0              0  358.375  359.331207  17.201250  0.956207\n",
            "1              1  357.750  358.604736  17.242500  0.854736\n",
            "2              2  357.000  357.823334  17.366249  0.823334\n",
            "3              3  356.250  357.070068  17.325001  0.820068\n",
            "4              4  355.500  356.318909  17.407499  0.818909\n",
            "...          ...      ...         ...        ...       ...\n",
            "1904        1904    1.125    1.896515  17.118750  0.771515\n",
            "1905        1905    0.750    1.599884  17.283751  0.849884\n",
            "1906        1906    0.500    1.349945  17.242500  0.849945\n",
            "1907        1907    0.375    1.239395  17.283751  0.864395\n",
            "1908        1908    0.000    0.819855  17.160000  0.819855\n",
            "\n",
            "[1909 rows x 5 columns]\n"
          ]
        }
      ]
    },
    {
      "cell_type": "code",
      "source": [
        "inputs , outputs= data.iloc[477: 1909, 2 : 4] , data.iloc[477 : 1909, 1]\n",
        "features, labels = torch.tensor(inputs.values), torch.tensor(outputs.values)\n",
        "features"
      ],
      "metadata": {
        "id": "b5AYV35W4dm0",
        "colab": {
          "base_uri": "https://localhost:8080/"
        },
        "outputId": "80bc3a7b-cc32-4d04-9633-430654de4ddb"
      },
      "execution_count": null,
      "outputs": [
        {
          "output_type": "execute_result",
          "data": {
            "text/plain": [
              "tensor([[359.8888,  17.4488],\n",
              "        [359.7233,  17.3662],\n",
              "        [359.5290,  17.1600],\n",
              "        ...,\n",
              "        [  1.3499,  17.2425],\n",
              "        [  1.2394,  17.2838],\n",
              "        [  0.8199,  17.1600]], dtype=torch.float64)"
            ]
          },
          "metadata": {},
          "execution_count": 7
        }
      ]
    },
    {
      "cell_type": "code",
      "source": [
        "#获取最小误差处的索引\n",
        "min_index = torch.argmin(torch.abs(features[:, 1]))\n",
        "min_index"
      ],
      "metadata": {
        "colab": {
          "base_uri": "https://localhost:8080/"
        },
        "id": "Bl2tht2LK9vv",
        "outputId": "f4c8afe5-3496-4717-9f58-912967ec4913"
      },
      "execution_count": null,
      "outputs": [
        {
          "output_type": "execute_result",
          "data": {
            "text/plain": [
              "tensor(1271)"
            ]
          },
          "metadata": {},
          "execution_count": 39
        }
      ]
    },
    {
      "cell_type": "code",
      "source": [
        "wu = data.iloc[477: 1909, 4]\n",
        "wu = torch.tensor(wu.values)"
      ],
      "metadata": {
        "id": "3Vr2MsWOx0rY"
      },
      "execution_count": null,
      "outputs": []
    },
    {
      "cell_type": "code",
      "source": [
        "features[:, 1].detach().numpy()"
      ],
      "metadata": {
        "colab": {
          "base_uri": "https://localhost:8080/"
        },
        "id": "laC4eWzsH48a",
        "outputId": "baaaefd4-76c7-4a42-c953-615f3e926ddf"
      },
      "execution_count": null,
      "outputs": [
        {
          "output_type": "execute_result",
          "data": {
            "text/plain": [
              "array([17.44875 , 17.366249, 17.16    , ..., 17.2425  , 17.283751,\n",
              "       17.16    ])"
            ]
          },
          "metadata": {},
          "execution_count": 10
        }
      ]
    },
    {
      "cell_type": "code",
      "source": [
        "i = range(len(features[:, 1]))\n",
        "d2l.set_figsize()\n",
        "#d2l.plt.scatter(features[:, 0].detach().numpy(), labels.detach().numpy(), 1);\n",
        "d2l.plt.scatter(features[:, 1].detach().numpy(), wu.detach().numpy(), 1);\n",
        "#d2l.plt.plot(i, features[:, 1].detach().numpy());"
      ],
      "metadata": {
        "colab": {
          "base_uri": "https://localhost:8080/",
          "height": 243
        },
        "id": "3C6FVHkPxHLs",
        "outputId": "382b215f-9bf0-4a7e-c622-2bad0e172bdf"
      },
      "execution_count": null,
      "outputs": [
        {
          "output_type": "display_data",
          "data": {
            "text/plain": [
              "<Figure size 252x180 with 1 Axes>"
            ],
            "image/svg+xml": "<?xml version=\"1.0\" encoding=\"utf-8\" standalone=\"no\"?>\n<!DOCTYPE svg PUBLIC \"-//W3C//DTD SVG 1.1//EN\"\n  \"http://www.w3.org/Graphics/SVG/1.1/DTD/svg11.dtd\">\n<!-- Created with matplotlib (https://matplotlib.org/) -->\n<svg height=\"166.978125pt\" version=\"1.1\" viewBox=\"0 0 242.256392 166.978125\" width=\"242.256392pt\" xmlns=\"http://www.w3.org/2000/svg\" xmlns:xlink=\"http://www.w3.org/1999/xlink\">\n <defs>\n  <style type=\"text/css\">\n*{stroke-linecap:butt;stroke-linejoin:round;}\n  </style>\n </defs>\n <g id=\"figure_1\">\n  <g id=\"patch_1\">\n   <path d=\"M 0 166.978125 \nL 242.256392 166.978125 \nL 242.256392 0 \nL 0 0 \nz\n\" style=\"fill:none;\"/>\n  </g>\n  <g id=\"axes_1\">\n   <g id=\"patch_2\">\n    <path d=\"M 30.103125 143.1 \nL 225.403125 143.1 \nL 225.403125 7.2 \nL 30.103125 7.2 \nz\n\" style=\"fill:#ffffff;\"/>\n   </g>\n   <g id=\"PathCollection_1\">\n    <defs>\n     <path d=\"M 0 0.5 \nC 0.132602 0.5 0.25979 0.447317 0.353553 0.353553 \nC 0.447317 0.25979 0.5 0.132602 0.5 0 \nC 0.5 -0.132602 0.447317 -0.25979 0.353553 -0.353553 \nC 0.25979 -0.447317 0.132602 -0.5 0 -0.5 \nC -0.132602 -0.5 -0.25979 -0.447317 -0.353553 -0.353553 \nC -0.447317 -0.25979 -0.5 -0.132602 -0.5 0 \nC -0.5 0.132602 -0.447317 0.25979 -0.353553 0.353553 \nC -0.25979 0.447317 -0.132602 0.5 0 0.5 \nz\n\" id=\"m73f566d273\" style=\"stroke:#1f77b4;\"/>\n    </defs>\n    <g clip-path=\"url(#p72bdcfc038)\">\n     <use style=\"fill:#1f77b4;stroke:#1f77b4;\" x=\"183.23608\" xlink:href=\"#m73f566d273\" y=\"52.160238\"/>\n     <use style=\"fill:#1f77b4;stroke:#1f77b4;\" x=\"161.042629\" xlink:href=\"#m73f566d273\" y=\"41.242731\"/>\n     <use style=\"fill:#1f77b4;stroke:#1f77b4;\" x=\"105.559943\" xlink:href=\"#m73f566d273\" y=\"50.19673\"/>\n     <use style=\"fill:#1f77b4;stroke:#1f77b4;\" x=\"127.753125\" xlink:href=\"#m73f566d273\" y=\"52.58206\"/>\n     <use style=\"fill:#1f77b4;stroke:#1f77b4;\" x=\"116.656534\" xlink:href=\"#m73f566d273\" y=\"56.745633\"/>\n     <use style=\"fill:#1f77b4;stroke:#1f77b4;\" x=\"161.042629\" xlink:href=\"#m73f566d273\" y=\"45.73743\"/>\n     <use style=\"fill:#1f77b4;stroke:#1f77b4;\" x=\"183.23608\" xlink:href=\"#m73f566d273\" y=\"51.848749\"/>\n     <use style=\"fill:#1f77b4;stroke:#1f77b4;\" x=\"127.753125\" xlink:href=\"#m73f566d273\" y=\"60.09295\"/>\n     <use style=\"fill:#1f77b4;stroke:#1f77b4;\" x=\"161.042629\" xlink:href=\"#m73f566d273\" y=\"52.897426\"/>\n     <use style=\"fill:#1f77b4;stroke:#1f77b4;\" x=\"127.753125\" xlink:href=\"#m73f566d273\" y=\"74.71655\"/>\n     <use style=\"fill:#1f77b4;stroke:#1f77b4;\" x=\"161.042629\" xlink:href=\"#m73f566d273\" y=\"60.246692\"/>\n     <use style=\"fill:#1f77b4;stroke:#1f77b4;\" x=\"149.946576\" xlink:href=\"#m73f566d273\" y=\"62.454638\"/>\n     <use style=\"fill:#1f77b4;stroke:#1f77b4;\" x=\"149.946576\" xlink:href=\"#m73f566d273\" y=\"56.323681\"/>\n     <use style=\"fill:#1f77b4;stroke:#1f77b4;\" x=\"183.23608\" xlink:href=\"#m73f566d273\" y=\"66.878409\"/>\n     <use style=\"fill:#1f77b4;stroke:#1f77b4;\" x=\"138.849985\" xlink:href=\"#m73f566d273\" y=\"58.618317\"/>\n     <use style=\"fill:#1f77b4;stroke:#1f77b4;\" x=\"172.13922\" xlink:href=\"#m73f566d273\" y=\"55.681065\"/>\n     <use style=\"fill:#1f77b4;stroke:#1f77b4;\" x=\"161.042629\" xlink:href=\"#m73f566d273\" y=\"61.177156\"/>\n     <use style=\"fill:#1f77b4;stroke:#1f77b4;\" x=\"138.849985\" xlink:href=\"#m73f566d273\" y=\"55.0462\"/>\n     <use style=\"fill:#1f77b4;stroke:#1f77b4;\" x=\"138.849985\" xlink:href=\"#m73f566d273\" y=\"53.883185\"/>\n     <use style=\"fill:#1f77b4;stroke:#1f77b4;\" x=\"172.13922\" xlink:href=\"#m73f566d273\" y=\"54.230074\"/>\n     <use style=\"fill:#1f77b4;stroke:#1f77b4;\" x=\"172.13922\" xlink:href=\"#m73f566d273\" y=\"60.790862\"/>\n     <use style=\"fill:#1f77b4;stroke:#1f77b4;\" x=\"105.559943\" xlink:href=\"#m73f566d273\" y=\"59.095434\"/>\n     <use style=\"fill:#1f77b4;stroke:#1f77b4;\" x=\"194.33267\" xlink:href=\"#m73f566d273\" y=\"48.79703\"/>\n     <use style=\"fill:#1f77b4;stroke:#1f77b4;\" x=\"161.042629\" xlink:href=\"#m73f566d273\" y=\"57.754905\"/>\n     <use style=\"fill:#1f77b4;stroke:#1f77b4;\" x=\"172.13922\" xlink:href=\"#m73f566d273\" y=\"45.938587\"/>\n     <use style=\"fill:#1f77b4;stroke:#1f77b4;\" x=\"172.13922\" xlink:href=\"#m73f566d273\" y=\"62.699075\"/>\n     <use style=\"fill:#1f77b4;stroke:#1f77b4;\" x=\"116.656534\" xlink:href=\"#m73f566d273\" y=\"56.130535\"/>\n     <use style=\"fill:#1f77b4;stroke:#1f77b4;\" x=\"172.13922\" xlink:href=\"#m73f566d273\" y=\"67.383045\"/>\n     <use style=\"fill:#1f77b4;stroke:#1f77b4;\" x=\"116.656534\" xlink:href=\"#m73f566d273\" y=\"59.213777\"/>\n     <use style=\"fill:#1f77b4;stroke:#1f77b4;\" x=\"127.753125\" xlink:href=\"#m73f566d273\" y=\"69.677681\"/>\n     <use style=\"fill:#1f77b4;stroke:#1f77b4;\" x=\"161.042629\" xlink:href=\"#m73f566d273\" y=\"82.704429\"/>\n     <use style=\"fill:#1f77b4;stroke:#1f77b4;\" x=\"172.13922\" xlink:href=\"#m73f566d273\" y=\"73.651982\"/>\n     <use style=\"fill:#1f77b4;stroke:#1f77b4;\" x=\"138.849985\" xlink:href=\"#m73f566d273\" y=\"81.541414\"/>\n     <use style=\"fill:#1f77b4;stroke:#1f77b4;\" x=\"183.23608\" xlink:href=\"#m73f566d273\" y=\"79.400521\"/>\n     <use style=\"fill:#1f77b4;stroke:#1f77b4;\" x=\"183.23608\" xlink:href=\"#m73f566d273\" y=\"90.396708\"/>\n     <use style=\"fill:#1f77b4;stroke:#1f77b4;\" x=\"138.849985\" xlink:href=\"#m73f566d273\" y=\"76.459135\"/>\n     <use style=\"fill:#1f77b4;stroke:#1f77b4;\" x=\"116.656534\" xlink:href=\"#m73f566d273\" y=\"76.269993\"/>\n     <use style=\"fill:#1f77b4;stroke:#1f77b4;\" x=\"161.042629\" xlink:href=\"#m73f566d273\" y=\"85.582638\"/>\n     <use style=\"fill:#1f77b4;stroke:#1f77b4;\" x=\"161.042629\" xlink:href=\"#m73f566d273\" y=\"76.262112\"/>\n     <use style=\"fill:#1f77b4;stroke:#1f77b4;\" x=\"149.946576\" xlink:href=\"#m73f566d273\" y=\"71.369104\"/>\n     <use style=\"fill:#1f77b4;stroke:#1f77b4;\" x=\"172.13922\" xlink:href=\"#m73f566d273\" y=\"81.300852\"/>\n     <use style=\"fill:#1f77b4;stroke:#1f77b4;\" x=\"149.946576\" xlink:href=\"#m73f566d273\" y=\"71.980197\"/>\n     <use style=\"fill:#1f77b4;stroke:#1f77b4;\" x=\"127.753125\" xlink:href=\"#m73f566d273\" y=\"63.006559\"/>\n     <use style=\"fill:#1f77b4;stroke:#1f77b4;\" x=\"127.753125\" xlink:href=\"#m73f566d273\" y=\"70.190198\"/>\n     <use style=\"fill:#1f77b4;stroke:#1f77b4;\" x=\"161.042629\" xlink:href=\"#m73f566d273\" y=\"59.446328\"/>\n     <use style=\"fill:#1f77b4;stroke:#1f77b4;\" x=\"172.13922\" xlink:href=\"#m73f566d273\" y=\"58.902288\"/>\n     <use style=\"fill:#1f77b4;stroke:#1f77b4;\" x=\"105.559943\" xlink:href=\"#m73f566d273\" y=\"61.559574\"/>\n     <use style=\"fill:#1f77b4;stroke:#1f77b4;\" x=\"138.849985\" xlink:href=\"#m73f566d273\" y=\"51.793453\"/>\n     <use style=\"fill:#1f77b4;stroke:#1f77b4;\" x=\"127.753125\" xlink:href=\"#m73f566d273\" y=\"49.29779\"/>\n     <use style=\"fill:#1f77b4;stroke:#1f77b4;\" x=\"172.13922\" xlink:href=\"#m73f566d273\" y=\"60.207288\"/>\n     <use style=\"fill:#1f77b4;stroke:#1f77b4;\" x=\"149.946576\" xlink:href=\"#m73f566d273\" y=\"54.695306\"/>\n     <use style=\"fill:#1f77b4;stroke:#1f77b4;\" x=\"149.946576\" xlink:href=\"#m73f566d273\" y=\"54.774244\"/>\n     <use style=\"fill:#1f77b4;stroke:#1f77b4;\" x=\"149.946576\" xlink:href=\"#m73f566d273\" y=\"65.861126\"/>\n     <use style=\"fill:#1f77b4;stroke:#1f77b4;\" x=\"161.042629\" xlink:href=\"#m73f566d273\" y=\"61.413712\"/>\n     <use style=\"fill:#1f77b4;stroke:#1f77b4;\" x=\"149.946576\" xlink:href=\"#m73f566d273\" y=\"66.815233\"/>\n     <use style=\"fill:#1f77b4;stroke:#1f77b4;\" x=\"172.13922\" xlink:href=\"#m73f566d273\" y=\"58.823349\"/>\n     <use style=\"fill:#1f77b4;stroke:#1f77b4;\" x=\"172.13922\" xlink:href=\"#m73f566d273\" y=\"72.216753\"/>\n     <use style=\"fill:#1f77b4;stroke:#1f77b4;\" x=\"161.042629\" xlink:href=\"#m73f566d273\" y=\"71.404632\"/>\n     <use style=\"fill:#1f77b4;stroke:#1f77b4;\" x=\"172.13922\" xlink:href=\"#m73f566d273\" y=\"68.116357\"/>\n     <use style=\"fill:#1f77b4;stroke:#1f77b4;\" x=\"172.13922\" xlink:href=\"#m73f566d273\" y=\"75.560195\"/>\n     <use style=\"fill:#1f77b4;stroke:#1f77b4;\" x=\"138.849985\" xlink:href=\"#m73f566d273\" y=\"73.241917\"/>\n     <use style=\"fill:#1f77b4;stroke:#1f77b4;\" x=\"105.559943\" xlink:href=\"#m73f566d273\" y=\"62.324538\"/>\n     <use style=\"fill:#1f77b4;stroke:#1f77b4;\" x=\"138.849985\" xlink:href=\"#m73f566d273\" y=\"66.223906\"/>\n     <use style=\"fill:#1f77b4;stroke:#1f77b4;\" x=\"172.13922\" xlink:href=\"#m73f566d273\" y=\"68.163643\"/>\n     <use style=\"fill:#1f77b4;stroke:#1f77b4;\" x=\"172.13922\" xlink:href=\"#m73f566d273\" y=\"65.853246\"/>\n     <use style=\"fill:#1f77b4;stroke:#1f77b4;\" x=\"183.23608\" xlink:href=\"#m73f566d273\" y=\"62.38371\"/>\n     <use style=\"fill:#1f77b4;stroke:#1f77b4;\" x=\"161.042629\" xlink:href=\"#m73f566d273\" y=\"61.397951\"/>\n     <use style=\"fill:#1f77b4;stroke:#1f77b4;\" x=\"172.13922\" xlink:href=\"#m73f566d273\" y=\"57.486825\"/>\n     <use style=\"fill:#1f77b4;stroke:#1f77b4;\" x=\"83.366492\" xlink:href=\"#m73f566d273\" y=\"65.112053\"/>\n     <use style=\"fill:#1f77b4;stroke:#1f77b4;\" x=\"161.042629\" xlink:href=\"#m73f566d273\" y=\"65.545761\"/>\n     <use style=\"fill:#1f77b4;stroke:#1f77b4;\" x=\"138.849985\" xlink:href=\"#m73f566d273\" y=\"63.850333\"/>\n     <use style=\"fill:#1f77b4;stroke:#1f77b4;\" x=\"138.849985\" xlink:href=\"#m73f566d273\" y=\"68.195295\"/>\n     <use style=\"fill:#1f77b4;stroke:#1f77b4;\" x=\"127.753125\" xlink:href=\"#m73f566d273\" y=\"77.673569\"/>\n     <use style=\"fill:#1f77b4;stroke:#1f77b4;\" x=\"138.849985\" xlink:href=\"#m73f566d273\" y=\"81.036648\"/>\n     <use style=\"fill:#1f77b4;stroke:#1f77b4;\" x=\"127.753125\" xlink:href=\"#m73f566d273\" y=\"89.726444\"/>\n     <use style=\"fill:#1f77b4;stroke:#1f77b4;\" x=\"149.946576\" xlink:href=\"#m73f566d273\" y=\"96.456736\"/>\n     <use style=\"fill:#1f77b4;stroke:#1f77b4;\" x=\"183.23608\" xlink:href=\"#m73f566d273\" y=\"98.404353\"/>\n     <use style=\"fill:#1f77b4;stroke:#1f77b4;\" x=\"138.849985\" xlink:href=\"#m73f566d273\" y=\"86.773301\"/>\n     <use style=\"fill:#1f77b4;stroke:#1f77b4;\" x=\"205.429261\" xlink:href=\"#m73f566d273\" y=\"85.874361\"/>\n     <use style=\"fill:#1f77b4;stroke:#1f77b4;\" x=\"138.849985\" xlink:href=\"#m73f566d273\" y=\"100.241638\"/>\n     <use style=\"fill:#1f77b4;stroke:#1f77b4;\" x=\"172.13922\" xlink:href=\"#m73f566d273\" y=\"86.485583\"/>\n     <use style=\"fill:#1f77b4;stroke:#1f77b4;\" x=\"161.042629\" xlink:href=\"#m73f566d273\" y=\"90.81853\"/>\n     <use style=\"fill:#1f77b4;stroke:#1f77b4;\" x=\"172.13922\" xlink:href=\"#m73f566d273\" y=\"79.455687\"/>\n     <use style=\"fill:#1f77b4;stroke:#1f77b4;\" x=\"138.849985\" xlink:href=\"#m73f566d273\" y=\"88.058663\"/>\n     <use style=\"fill:#1f77b4;stroke:#1f77b4;\" x=\"116.656534\" xlink:href=\"#m73f566d273\" y=\"93.192104\"/>\n     <use style=\"fill:#1f77b4;stroke:#1f77b4;\" x=\"116.656534\" xlink:href=\"#m73f566d273\" y=\"80.141713\"/>\n     <use style=\"fill:#1f77b4;stroke:#1f77b4;\" x=\"127.753125\" xlink:href=\"#m73f566d273\" y=\"87.147967\"/>\n     <use style=\"fill:#1f77b4;stroke:#1f77b4;\" x=\"127.753125\" xlink:href=\"#m73f566d273\" y=\"66.551158\"/>\n     <use style=\"fill:#1f77b4;stroke:#1f77b4;\" x=\"149.946576\" xlink:href=\"#m73f566d273\" y=\"74.976749\"/>\n     <use style=\"fill:#1f77b4;stroke:#1f77b4;\" x=\"194.33267\" xlink:href=\"#m73f566d273\" y=\"65.033115\"/>\n     <use style=\"fill:#1f77b4;stroke:#1f77b4;\" x=\"127.753125\" xlink:href=\"#m73f566d273\" y=\"73.715029\"/>\n     <use style=\"fill:#1f77b4;stroke:#1f77b4;\" x=\"116.656534\" xlink:href=\"#m73f566d273\" y=\"65.900531\"/>\n     <use style=\"fill:#1f77b4;stroke:#1f77b4;\" x=\"149.946576\" xlink:href=\"#m73f566d273\" y=\"69.267615\"/>\n     <use style=\"fill:#1f77b4;stroke:#1f77b4;\" x=\"172.13922\" xlink:href=\"#m73f566d273\" y=\"69.078474\"/>\n     <use style=\"fill:#1f77b4;stroke:#1f77b4;\" x=\"149.946576\" xlink:href=\"#m73f566d273\" y=\"68.983773\"/>\n     <use style=\"fill:#1f77b4;stroke:#1f77b4;\" x=\"194.33267\" xlink:href=\"#m73f566d273\" y=\"77.31867\"/>\n     <use style=\"fill:#1f77b4;stroke:#1f77b4;\" x=\"161.042629\" xlink:href=\"#m73f566d273\" y=\"90.700317\"/>\n     <use style=\"fill:#1f77b4;stroke:#1f77b4;\" x=\"149.946576\" xlink:href=\"#m73f566d273\" y=\"76.944133\"/>\n     <use style=\"fill:#1f77b4;stroke:#1f77b4;\" x=\"149.946576\" xlink:href=\"#m73f566d273\" y=\"72.413905\"/>\n     <use style=\"fill:#1f77b4;stroke:#1f77b4;\" x=\"161.042629\" xlink:href=\"#m73f566d273\" y=\"66.279073\"/>\n     <use style=\"fill:#1f77b4;stroke:#1f77b4;\" x=\"127.753125\" xlink:href=\"#m73f566d273\" y=\"74.882049\"/>\n     <use style=\"fill:#1f77b4;stroke:#1f77b4;\" x=\"149.946576\" xlink:href=\"#m73f566d273\" y=\"76.293636\"/>\n     <use style=\"fill:#1f77b4;stroke:#1f77b4;\" x=\"127.753125\" xlink:href=\"#m73f566d273\" y=\"70.690958\"/>\n     <use style=\"fill:#1f77b4;stroke:#1f77b4;\" x=\"161.042629\" xlink:href=\"#m73f566d273\" y=\"80.445322\"/>\n     <use style=\"fill:#1f77b4;stroke:#1f77b4;\" x=\"127.753125\" xlink:href=\"#m73f566d273\" y=\"85.677338\"/>\n     <use style=\"fill:#1f77b4;stroke:#1f77b4;\" x=\"149.946576\" xlink:href=\"#m73f566d273\" y=\"80.693635\"/>\n     <use style=\"fill:#1f77b4;stroke:#1f77b4;\" x=\"116.656534\" xlink:href=\"#m73f566d273\" y=\"59.130963\"/>\n     <use style=\"fill:#1f77b4;stroke:#1f77b4;\" x=\"149.946576\" xlink:href=\"#m73f566d273\" y=\"74.740193\"/>\n     <use style=\"fill:#1f77b4;stroke:#1f77b4;\" x=\"172.13922\" xlink:href=\"#m73f566d273\" y=\"72.776685\"/>\n     <use style=\"fill:#1f77b4;stroke:#1f77b4;\" x=\"105.559943\" xlink:href=\"#m73f566d273\" y=\"75.70218\"/>\n     <use style=\"fill:#1f77b4;stroke:#1f77b4;\" x=\"161.042629\" xlink:href=\"#m73f566d273\" y=\"65.577285\"/>\n     <use style=\"fill:#1f77b4;stroke:#1f77b4;\" x=\"138.849985\" xlink:href=\"#m73f566d273\" y=\"79.227012\"/>\n     <use style=\"fill:#1f77b4;stroke:#1f77b4;\" x=\"138.849985\" xlink:href=\"#m73f566d273\" y=\"69.019302\"/>\n     <use style=\"fill:#1f77b4;stroke:#1f77b4;\" x=\"138.849985\" xlink:href=\"#m73f566d273\" y=\"76.908605\"/>\n     <use style=\"fill:#1f77b4;stroke:#1f77b4;\" x=\"138.849985\" xlink:href=\"#m73f566d273\" y=\"68.557946\"/>\n     <use style=\"fill:#1f77b4;stroke:#1f77b4;\" x=\"127.753125\" xlink:href=\"#m73f566d273\" y=\"76.001784\"/>\n     <use style=\"fill:#1f77b4;stroke:#1f77b4;\" x=\"127.753125\" xlink:href=\"#m73f566d273\" y=\"73.155227\"/>\n     <use style=\"fill:#1f77b4;stroke:#1f77b4;\" x=\"161.042629\" xlink:href=\"#m73f566d273\" y=\"81.040653\"/>\n     <use style=\"fill:#1f77b4;stroke:#1f77b4;\" x=\"183.23608\" xlink:href=\"#m73f566d273\" y=\"90.881707\"/>\n     <use style=\"fill:#1f77b4;stroke:#1f77b4;\" x=\"138.849985\" xlink:href=\"#m73f566d273\" y=\"82.093335\"/>\n     <use style=\"fill:#1f77b4;stroke:#1f77b4;\" x=\"172.13922\" xlink:href=\"#m73f566d273\" y=\"84.565485\"/>\n     <use style=\"fill:#1f77b4;stroke:#1f77b4;\" x=\"127.753125\" xlink:href=\"#m73f566d273\" y=\"101.061769\"/>\n     <use style=\"fill:#1f77b4;stroke:#1f77b4;\" x=\"105.559943\" xlink:href=\"#m73f566d273\" y=\"91.386343\"/>\n     <use style=\"fill:#1f77b4;stroke:#1f77b4;\" x=\"161.042629\" xlink:href=\"#m73f566d273\" y=\"85.338201\"/>\n     <use style=\"fill:#1f77b4;stroke:#1f77b4;\" x=\"116.656534\" xlink:href=\"#m73f566d273\" y=\"106.360837\"/>\n     <use style=\"fill:#1f77b4;stroke:#1f77b4;\" x=\"116.656534\" xlink:href=\"#m73f566d273\" y=\"89.943362\"/>\n     <use style=\"fill:#1f77b4;stroke:#1f77b4;\" x=\"127.753125\" xlink:href=\"#m73f566d273\" y=\"87.356875\"/>\n     <use style=\"fill:#1f77b4;stroke:#1f77b4;\" x=\"172.13922\" xlink:href=\"#m73f566d273\" y=\"96.66965\"/>\n     <use style=\"fill:#1f77b4;stroke:#1f77b4;\" x=\"138.849985\" xlink:href=\"#m73f566d273\" y=\"92.222236\"/>\n     <use style=\"fill:#1f77b4;stroke:#1f77b4;\" x=\"83.366492\" xlink:href=\"#m73f566d273\" y=\"82.09734\"/>\n     <use style=\"fill:#1f77b4;stroke:#1f77b4;\" x=\"161.042629\" xlink:href=\"#m73f566d273\" y=\"88.658\"/>\n     <use style=\"fill:#1f77b4;stroke:#1f77b4;\" x=\"161.042629\" xlink:href=\"#m73f566d273\" y=\"74.546917\"/>\n     <use style=\"fill:#1f77b4;stroke:#1f77b4;\" x=\"127.753125\" xlink:href=\"#m73f566d273\" y=\"72.760923\"/>\n     <use style=\"fill:#1f77b4;stroke:#1f77b4;\" x=\"183.23608\" xlink:href=\"#m73f566d273\" y=\"80.031251\"/>\n     <use style=\"fill:#1f77b4;stroke:#1f77b4;\" x=\"183.23608\" xlink:href=\"#m73f566d273\" y=\"83.130256\"/>\n     <use style=\"fill:#1f77b4;stroke:#1f77b4;\" x=\"138.849985\" xlink:href=\"#m73f566d273\" y=\"76.553835\"/>\n     <use style=\"fill:#1f77b4;stroke:#1f77b4;\" x=\"105.559943\" xlink:href=\"#m73f566d273\" y=\"58.275304\"/>\n     <use style=\"fill:#1f77b4;stroke:#1f77b4;\" x=\"127.753125\" xlink:href=\"#m73f566d273\" y=\"79.826219\"/>\n     <use style=\"fill:#1f77b4;stroke:#1f77b4;\" x=\"127.753125\" xlink:href=\"#m73f566d273\" y=\"80.87903\"/>\n     <use style=\"fill:#1f77b4;stroke:#1f77b4;\" x=\"138.849985\" xlink:href=\"#m73f566d273\" y=\"72.709633\"/>\n     <use style=\"fill:#1f77b4;stroke:#1f77b4;\" x=\"149.946576\" xlink:href=\"#m73f566d273\" y=\"83.528435\"/>\n     <use style=\"fill:#1f77b4;stroke:#1f77b4;\" x=\"161.042629\" xlink:href=\"#m73f566d273\" y=\"79.609429\"/>\n     <use style=\"fill:#1f77b4;stroke:#1f77b4;\" x=\"149.946576\" xlink:href=\"#m73f566d273\" y=\"86.079394\"/>\n     <use style=\"fill:#1f77b4;stroke:#1f77b4;\" x=\"172.13922\" xlink:href=\"#m73f566d273\" y=\"84.478666\"/>\n     <use style=\"fill:#1f77b4;stroke:#1f77b4;\" x=\"205.429261\" xlink:href=\"#m73f566d273\" y=\"82.870057\"/>\n     <use style=\"fill:#1f77b4;stroke:#1f77b4;\" x=\"149.946576\" xlink:href=\"#m73f566d273\" y=\"81.529528\"/>\n     <use style=\"fill:#1f77b4;stroke:#1f77b4;\" x=\"172.13922\" xlink:href=\"#m73f566d273\" y=\"87.912802\"/>\n     <use style=\"fill:#1f77b4;stroke:#1f77b4;\" x=\"172.13922\" xlink:href=\"#m73f566d273\" y=\"89.761972\"/>\n     <use style=\"fill:#1f77b4;stroke:#1f77b4;\" x=\"149.946576\" xlink:href=\"#m73f566d273\" y=\"79.380754\"/>\n     <use style=\"fill:#1f77b4;stroke:#1f77b4;\" x=\"116.656534\" xlink:href=\"#m73f566d273\" y=\"78.399\"/>\n     <use style=\"fill:#1f77b4;stroke:#1f77b4;\" x=\"161.042629\" xlink:href=\"#m73f566d273\" y=\"72.887018\"/>\n     <use style=\"fill:#1f77b4;stroke:#1f77b4;\" x=\"116.656534\" xlink:href=\"#m73f566d273\" y=\"82.728071\"/>\n     <use style=\"fill:#1f77b4;stroke:#1f77b4;\" x=\"149.946576\" xlink:href=\"#m73f566d273\" y=\"67.903444\"/>\n     <use style=\"fill:#1f77b4;stroke:#1f77b4;\" x=\"138.849985\" xlink:href=\"#m73f566d273\" y=\"74.992511\"/>\n     <use style=\"fill:#1f77b4;stroke:#1f77b4;\" x=\"183.23608\" xlink:href=\"#m73f566d273\" y=\"76.758867\"/>\n     <use style=\"fill:#1f77b4;stroke:#1f77b4;\" x=\"149.946576\" xlink:href=\"#m73f566d273\" y=\"71.609665\"/>\n     <use style=\"fill:#1f77b4;stroke:#1f77b4;\" x=\"161.042629\" xlink:href=\"#m73f566d273\" y=\"73.194631\"/>\n     <use style=\"fill:#1f77b4;stroke:#1f77b4;\" x=\"138.849985\" xlink:href=\"#m73f566d273\" y=\"70.434764\"/>\n     <use style=\"fill:#1f77b4;stroke:#1f77b4;\" x=\"172.13922\" xlink:href=\"#m73f566d273\" y=\"77.172809\"/>\n     <use style=\"fill:#1f77b4;stroke:#1f77b4;\" x=\"127.753125\" xlink:href=\"#m73f566d273\" y=\"77.693207\"/>\n     <use style=\"fill:#1f77b4;stroke:#1f77b4;\" x=\"172.13922\" xlink:href=\"#m73f566d273\" y=\"77.86284\"/>\n     <use style=\"fill:#1f77b4;stroke:#1f77b4;\" x=\"172.13922\" xlink:href=\"#m73f566d273\" y=\"92.407502\"/>\n     <use style=\"fill:#1f77b4;stroke:#1f77b4;\" x=\"116.656534\" xlink:href=\"#m73f566d273\" y=\"88.760452\"/>\n     <use style=\"fill:#1f77b4;stroke:#1f77b4;\" x=\"94.463352\" xlink:href=\"#m73f566d273\" y=\"96.914087\"/>\n     <use style=\"fill:#1f77b4;stroke:#1f77b4;\" x=\"149.946576\" xlink:href=\"#m73f566d273\" y=\"112.700702\"/>\n     <use style=\"fill:#1f77b4;stroke:#1f77b4;\" x=\"105.559943\" xlink:href=\"#m73f566d273\" y=\"113.489309\"/>\n     <use style=\"fill:#1f77b4;stroke:#1f77b4;\" x=\"127.753125\" xlink:href=\"#m73f566d273\" y=\"110.374543\"/>\n     <use style=\"fill:#1f77b4;stroke:#1f77b4;\" x=\"138.849985\" xlink:href=\"#m73f566d273\" y=\"116.580304\"/>\n     <use style=\"fill:#1f77b4;stroke:#1f77b4;\" x=\"138.849985\" xlink:href=\"#m73f566d273\" y=\"98.46753\"/>\n     <use style=\"fill:#1f77b4;stroke:#1f77b4;\" x=\"116.656534\" xlink:href=\"#m73f566d273\" y=\"111.860934\"/>\n     <use style=\"fill:#1f77b4;stroke:#1f77b4;\" x=\"105.559943\" xlink:href=\"#m73f566d273\" y=\"108.568783\"/>\n     <use style=\"fill:#1f77b4;stroke:#1f77b4;\" x=\"127.753125\" xlink:href=\"#m73f566d273\" y=\"101.992232\"/>\n     <use style=\"fill:#1f77b4;stroke:#1f77b4;\" x=\"127.753125\" xlink:href=\"#m73f566d273\" y=\"87.703894\"/>\n     <use style=\"fill:#1f77b4;stroke:#1f77b4;\" x=\"172.13922\" xlink:href=\"#m73f566d273\" y=\"101.716271\"/>\n     <use style=\"fill:#1f77b4;stroke:#1f77b4;\" x=\"183.23608\" xlink:href=\"#m73f566d273\" y=\"97.801141\"/>\n     <use style=\"fill:#1f77b4;stroke:#1f77b4;\" x=\"127.753125\" xlink:href=\"#m73f566d273\" y=\"87.147967\"/>\n     <use style=\"fill:#1f77b4;stroke:#1f77b4;\" x=\"172.13922\" xlink:href=\"#m73f566d273\" y=\"90.779126\"/>\n     <use style=\"fill:#1f77b4;stroke:#1f77b4;\" x=\"149.946576\" xlink:href=\"#m73f566d273\" y=\"85.803433\"/>\n     <use style=\"fill:#1f77b4;stroke:#1f77b4;\" x=\"172.13922\" xlink:href=\"#m73f566d273\" y=\"89.525416\"/>\n     <use style=\"fill:#1f77b4;stroke:#1f77b4;\" x=\"116.656534\" xlink:href=\"#m73f566d273\" y=\"76.652411\"/>\n     <use style=\"fill:#1f77b4;stroke:#1f77b4;\" x=\"116.656534\" xlink:href=\"#m73f566d273\" y=\"78.769661\"/>\n     <use style=\"fill:#1f77b4;stroke:#1f77b4;\" x=\"172.13922\" xlink:href=\"#m73f566d273\" y=\"72.46132\"/>\n     <use style=\"fill:#1f77b4;stroke:#1f77b4;\" x=\"161.042629\" xlink:href=\"#m73f566d273\" y=\"77.338437\"/>\n     <use style=\"fill:#1f77b4;stroke:#1f77b4;\" x=\"149.946576\" xlink:href=\"#m73f566d273\" y=\"75.02003\"/>\n     <use style=\"fill:#1f77b4;stroke:#1f77b4;\" x=\"127.753125\" xlink:href=\"#m73f566d273\" y=\"75.812642\"/>\n     <use style=\"fill:#1f77b4;stroke:#1f77b4;\" x=\"149.946576\" xlink:href=\"#m73f566d273\" y=\"94.879651\"/>\n     <use style=\"fill:#1f77b4;stroke:#1f77b4;\" x=\"183.23608\" xlink:href=\"#m73f566d273\" y=\"88.125716\"/>\n     <use style=\"fill:#1f77b4;stroke:#1f77b4;\" x=\"105.559943\" xlink:href=\"#m73f566d273\" y=\"81.285091\"/>\n     <use style=\"fill:#1f77b4;stroke:#1f77b4;\" x=\"116.656534\" xlink:href=\"#m73f566d273\" y=\"94.14621\"/>\n     <use style=\"fill:#1f77b4;stroke:#1f77b4;\" x=\"161.042629\" xlink:href=\"#m73f566d273\" y=\"90.585979\"/>\n     <use style=\"fill:#1f77b4;stroke:#1f77b4;\" x=\"161.042629\" xlink:href=\"#m73f566d273\" y=\"80.906549\"/>\n     <use style=\"fill:#1f77b4;stroke:#1f77b4;\" x=\"194.33267\" xlink:href=\"#m73f566d273\" y=\"85.783666\"/>\n     <use style=\"fill:#1f77b4;stroke:#1f77b4;\" x=\"183.23608\" xlink:href=\"#m73f566d273\" y=\"86.213498\"/>\n     <use style=\"fill:#1f77b4;stroke:#1f77b4;\" x=\"161.042629\" xlink:href=\"#m73f566d273\" y=\"86.655087\"/>\n     <use style=\"fill:#1f77b4;stroke:#1f77b4;\" x=\"138.849985\" xlink:href=\"#m73f566d273\" y=\"80.259927\"/>\n     <use style=\"fill:#1f77b4;stroke:#1f77b4;\" x=\"161.042629\" xlink:href=\"#m73f566d273\" y=\"74.661255\"/>\n     <use style=\"fill:#1f77b4;stroke:#1f77b4;\" x=\"138.849985\" xlink:href=\"#m73f566d273\" y=\"86.544625\"/>\n     <use style=\"fill:#1f77b4;stroke:#1f77b4;\" x=\"183.23608\" xlink:href=\"#m73f566d273\" y=\"72.961951\"/>\n     <use style=\"fill:#1f77b4;stroke:#1f77b4;\" x=\"127.753125\" xlink:href=\"#m73f566d273\" y=\"85.637805\"/>\n     <use style=\"fill:#1f77b4;stroke:#1f77b4;\" x=\"161.042629\" xlink:href=\"#m73f566d273\" y=\"68.95225\"/>\n     <use style=\"fill:#1f77b4;stroke:#1f77b4;\" x=\"172.13922\" xlink:href=\"#m73f566d273\" y=\"81.986879\"/>\n     <use style=\"fill:#1f77b4;stroke:#1f77b4;\" x=\"116.656534\" xlink:href=\"#m73f566d273\" y=\"83.926744\"/>\n     <use style=\"fill:#1f77b4;stroke:#1f77b4;\" x=\"138.849985\" xlink:href=\"#m73f566d273\" y=\"78.773537\"/>\n     <use style=\"fill:#1f77b4;stroke:#1f77b4;\" x=\"83.366492\" xlink:href=\"#m73f566d273\" y=\"72.023606\"/>\n     <use style=\"fill:#1f77b4;stroke:#1f77b4;\" x=\"138.849985\" xlink:href=\"#m73f566d273\" y=\"90.467636\"/>\n     <use style=\"fill:#1f77b4;stroke:#1f77b4;\" x=\"161.042629\" xlink:href=\"#m73f566d273\" y=\"80.701516\"/>\n     <use style=\"fill:#1f77b4;stroke:#1f77b4;\" x=\"161.042629\" xlink:href=\"#m73f566d273\" y=\"97.994288\"/>\n     <use style=\"fill:#1f77b4;stroke:#1f77b4;\" x=\"105.559943\" xlink:href=\"#m73f566d273\" y=\"101.266801\"/>\n     <use style=\"fill:#1f77b4;stroke:#1f77b4;\" x=\"172.13922\" xlink:href=\"#m73f566d273\" y=\"91.678066\"/>\n     <use style=\"fill:#1f77b4;stroke:#1f77b4;\" x=\"127.753125\" xlink:href=\"#m73f566d273\" y=\"101.964714\"/>\n     <use style=\"fill:#1f77b4;stroke:#1f77b4;\" x=\"172.13922\" xlink:href=\"#m73f566d273\" y=\"109.136466\"/>\n     <use style=\"fill:#1f77b4;stroke:#1f77b4;\" x=\"127.753125\" xlink:href=\"#m73f566d273\" y=\"102.386536\"/>\n     <use style=\"fill:#1f77b4;stroke:#1f77b4;\" x=\"138.849985\" xlink:href=\"#m73f566d273\" y=\"112.850568\"/>\n     <use style=\"fill:#1f77b4;stroke:#1f77b4;\" x=\"116.656534\" xlink:href=\"#m73f566d273\" y=\"115.945568\"/>\n     <use style=\"fill:#1f77b4;stroke:#1f77b4;\" x=\"127.753125\" xlink:href=\"#m73f566d273\" y=\"112.389213\"/>\n     <use style=\"fill:#1f77b4;stroke:#1f77b4;\" x=\"161.042629\" xlink:href=\"#m73f566d273\" y=\"118.330898\"/>\n     <use style=\"fill:#1f77b4;stroke:#1f77b4;\" x=\"161.042629\" xlink:href=\"#m73f566d273\" y=\"113.347324\"/>\n     <use style=\"fill:#1f77b4;stroke:#1f77b4;\" x=\"161.042629\" xlink:href=\"#m73f566d273\" y=\"102.69402\"/>\n     <use style=\"fill:#1f77b4;stroke:#1f77b4;\" x=\"172.13922\" xlink:href=\"#m73f566d273\" y=\"109.16799\"/>\n     <use style=\"fill:#1f77b4;stroke:#1f77b4;\" x=\"161.042629\" xlink:href=\"#m73f566d273\" y=\"102.504879\"/>\n     <use style=\"fill:#1f77b4;stroke:#1f77b4;\" x=\"172.13922\" xlink:href=\"#m73f566d273\" y=\"110.394181\"/>\n     <use style=\"fill:#1f77b4;stroke:#1f77b4;\" x=\"149.946576\" xlink:href=\"#m73f566d273\" y=\"96.902201\"/>\n     <use style=\"fill:#1f77b4;stroke:#1f77b4;\" x=\"138.849985\" xlink:href=\"#m73f566d273\" y=\"83.847806\"/>\n     <use style=\"fill:#1f77b4;stroke:#1f77b4;\" x=\"127.753125\" xlink:href=\"#m73f566d273\" y=\"90.499289\"/>\n     <use style=\"fill:#1f77b4;stroke:#1f77b4;\" x=\"138.849985\" xlink:href=\"#m73f566d273\" y=\"91.910746\"/>\n     <use style=\"fill:#1f77b4;stroke:#1f77b4;\" x=\"116.656534\" xlink:href=\"#m73f566d273\" y=\"82.940985\"/>\n     <use style=\"fill:#1f77b4;stroke:#1f77b4;\" x=\"138.849985\" xlink:href=\"#m73f566d273\" y=\"77.874597\"/>\n     <use style=\"fill:#1f77b4;stroke:#1f77b4;\" x=\"149.946576\" xlink:href=\"#m73f566d273\" y=\"97.3872\"/>\n     <use style=\"fill:#1f77b4;stroke:#1f77b4;\" x=\"149.946576\" xlink:href=\"#m73f566d273\" y=\"100.036734\"/>\n     <use style=\"fill:#1f77b4;stroke:#1f77b4;\" x=\"161.042629\" xlink:href=\"#m73f566d273\" y=\"94.351243\"/>\n     <use style=\"fill:#1f77b4;stroke:#1f77b4;\" x=\"127.753125\" xlink:href=\"#m73f566d273\" y=\"82.6335\"/>\n     <use style=\"fill:#1f77b4;stroke:#1f77b4;\" x=\"138.849985\" xlink:href=\"#m73f566d273\" y=\"96.196408\"/>\n     <use style=\"fill:#1f77b4;stroke:#1f77b4;\" x=\"149.946576\" xlink:href=\"#m73f566d273\" y=\"99.027332\"/>\n     <use style=\"fill:#1f77b4;stroke:#1f77b4;\" x=\"172.13922\" xlink:href=\"#m73f566d273\" y=\"85.626048\"/>\n     <use style=\"fill:#1f77b4;stroke:#1f77b4;\" x=\"116.656534\" xlink:href=\"#m73f566d273\" y=\"103.979383\"/>\n     <use style=\"fill:#1f77b4;stroke:#1f77b4;\" x=\"149.946576\" xlink:href=\"#m73f566d273\" y=\"88.271577\"/>\n     <use style=\"fill:#1f77b4;stroke:#1f77b4;\" x=\"149.946576\" xlink:href=\"#m73f566d273\" y=\"104.499781\"/>\n     <use style=\"fill:#1f77b4;stroke:#1f77b4;\" x=\"127.753125\" xlink:href=\"#m73f566d273\" y=\"99.433393\"/>\n     <use style=\"fill:#1f77b4;stroke:#1f77b4;\" x=\"172.13922\" xlink:href=\"#m73f566d273\" y=\"87.71565\"/>\n     <use style=\"fill:#1f77b4;stroke:#1f77b4;\" x=\"149.946576\" xlink:href=\"#m73f566d273\" y=\"99.776406\"/>\n     <use style=\"fill:#1f77b4;stroke:#1f77b4;\" x=\"172.13922\" xlink:href=\"#m73f566d273\" y=\"95.861276\"/>\n     <use style=\"fill:#1f77b4;stroke:#1f77b4;\" x=\"138.849985\" xlink:href=\"#m73f566d273\" y=\"80.949958\"/>\n     <use style=\"fill:#1f77b4;stroke:#1f77b4;\" x=\"161.042629\" xlink:href=\"#m73f566d273\" y=\"77.302908\"/>\n     <use style=\"fill:#1f77b4;stroke:#1f77b4;\" x=\"183.23608\" xlink:href=\"#m73f566d273\" y=\"77.026947\"/>\n     <use style=\"fill:#1f77b4;stroke:#1f77b4;\" x=\"116.656534\" xlink:href=\"#m73f566d273\" y=\"83.319527\"/>\n     <use style=\"fill:#1f77b4;stroke:#1f77b4;\" x=\"172.13922\" xlink:href=\"#m73f566d273\" y=\"75.595723\"/>\n     <use style=\"fill:#1f77b4;stroke:#1f77b4;\" x=\"116.656534\" xlink:href=\"#m73f566d273\" y=\"73.632215\"/>\n     <use style=\"fill:#1f77b4;stroke:#1f77b4;\" x=\"161.042629\" xlink:href=\"#m73f566d273\" y=\"88.973365\"/>\n     <use style=\"fill:#1f77b4;stroke:#1f77b4;\" x=\"161.042629\" xlink:href=\"#m73f566d273\" y=\"91.98568\"/>\n     <use style=\"fill:#1f77b4;stroke:#1f77b4;\" x=\"127.753125\" xlink:href=\"#m73f566d273\" y=\"94.193496\"/>\n     <use style=\"fill:#1f77b4;stroke:#1f77b4;\" x=\"127.753125\" xlink:href=\"#m73f566d273\" y=\"91.701709\"/>\n     <use style=\"fill:#1f77b4;stroke:#1f77b4;\" x=\"161.042629\" xlink:href=\"#m73f566d273\" y=\"105.800905\"/>\n     <use style=\"fill:#1f77b4;stroke:#1f77b4;\" x=\"138.849985\" xlink:href=\"#m73f566d273\" y=\"113.599642\"/>\n     <use style=\"fill:#1f77b4;stroke:#1f77b4;\" x=\"116.656534\" xlink:href=\"#m73f566d273\" y=\"99.484683\"/>\n     <use style=\"fill:#1f77b4;stroke:#1f77b4;\" x=\"127.753125\" xlink:href=\"#m73f566d273\" y=\"124.410564\"/>\n     <use style=\"fill:#1f77b4;stroke:#1f77b4;\" x=\"149.946576\" xlink:href=\"#m73f566d273\" y=\"125.72745\"/>\n     <use style=\"fill:#1f77b4;stroke:#1f77b4;\" x=\"149.946576\" xlink:href=\"#m73f566d273\" y=\"116.761694\"/>\n     <use style=\"fill:#1f77b4;stroke:#1f77b4;\" x=\"105.559943\" xlink:href=\"#m73f566d273\" y=\"109.034014\"/>\n     <use style=\"fill:#1f77b4;stroke:#1f77b4;\" x=\"161.042629\" xlink:href=\"#m73f566d273\" y=\"113.725866\"/>\n     <use style=\"fill:#1f77b4;stroke:#1f77b4;\" x=\"116.656534\" xlink:href=\"#m73f566d273\" y=\"120.905499\"/>\n     <use style=\"fill:#1f77b4;stroke:#1f77b4;\" x=\"127.753125\" xlink:href=\"#m73f566d273\" y=\"103.155376\"/>\n     <use style=\"fill:#1f77b4;stroke:#1f77b4;\" x=\"172.13922\" xlink:href=\"#m73f566d273\" y=\"100.391504\"/>\n     <use style=\"fill:#1f77b4;stroke:#1f77b4;\" x=\"116.656534\" xlink:href=\"#m73f566d273\" y=\"102.69402\"/>\n     <use style=\"fill:#1f77b4;stroke:#1f77b4;\" x=\"127.753125\" xlink:href=\"#m73f566d273\" y=\"86.189856\"/>\n     <use style=\"fill:#1f77b4;stroke:#1f77b4;\" x=\"194.33267\" xlink:href=\"#m73f566d273\" y=\"102.059284\"/>\n     <use style=\"fill:#1f77b4;stroke:#1f77b4;\" x=\"127.753125\" xlink:href=\"#m73f566d273\" y=\"86.260784\"/>\n     <use style=\"fill:#1f77b4;stroke:#1f77b4;\" x=\"138.849985\" xlink:href=\"#m73f566d273\" y=\"97.347795\"/>\n     <use style=\"fill:#1f77b4;stroke:#1f77b4;\" x=\"205.429261\" xlink:href=\"#m73f566d273\" y=\"71.692479\"/>\n     <use style=\"fill:#1f77b4;stroke:#1f77b4;\" x=\"127.753125\" xlink:href=\"#m73f566d273\" y=\"82.775486\"/>\n     <use style=\"fill:#1f77b4;stroke:#1f77b4;\" x=\"138.849985\" xlink:href=\"#m73f566d273\" y=\"79.309826\"/>\n     <use style=\"fill:#1f77b4;stroke:#1f77b4;\" x=\"205.429261\" xlink:href=\"#m73f566d273\" y=\"72.200991\"/>\n     <use style=\"fill:#1f77b4;stroke:#1f77b4;\" x=\"161.042629\" xlink:href=\"#m73f566d273\" y=\"77.874597\"/>\n     <use style=\"fill:#1f77b4;stroke:#1f77b4;\" x=\"149.946576\" xlink:href=\"#m73f566d273\" y=\"79.195488\"/>\n     <use style=\"fill:#1f77b4;stroke:#1f77b4;\" x=\"183.23608\" xlink:href=\"#m73f566d273\" y=\"79.096912\"/>\n     <use style=\"fill:#1f77b4;stroke:#1f77b4;\" x=\"127.753125\" xlink:href=\"#m73f566d273\" y=\"94.438062\"/>\n     <use style=\"fill:#1f77b4;stroke:#1f77b4;\" x=\"138.849985\" xlink:href=\"#m73f566d273\" y=\"80.772573\"/>\n     <use style=\"fill:#1f77b4;stroke:#1f77b4;\" x=\"127.753125\" xlink:href=\"#m73f566d273\" y=\"81.911945\"/>\n     <use style=\"fill:#1f77b4;stroke:#1f77b4;\" x=\"161.042629\" xlink:href=\"#m73f566d273\" y=\"86.607802\"/>\n     <use style=\"fill:#1f77b4;stroke:#1f77b4;\" x=\"138.849985\" xlink:href=\"#m73f566d273\" y=\"94.942698\"/>\n     <use style=\"fill:#1f77b4;stroke:#1f77b4;\" x=\"149.946576\" xlink:href=\"#m73f566d273\" y=\"98.392597\"/>\n     <use style=\"fill:#1f77b4;stroke:#1f77b4;\" x=\"172.13922\" xlink:href=\"#m73f566d273\" y=\"83.390455\"/>\n     <use style=\"fill:#1f77b4;stroke:#1f77b4;\" x=\"105.559943\" xlink:href=\"#m73f566d273\" y=\"96.606474\"/>\n     <use style=\"fill:#1f77b4;stroke:#1f77b4;\" x=\"94.463352\" xlink:href=\"#m73f566d273\" y=\"93.310447\"/>\n     <use style=\"fill:#1f77b4;stroke:#1f77b4;\" x=\"94.463352\" xlink:href=\"#m73f566d273\" y=\"85.231744\"/>\n     <use style=\"fill:#1f77b4;stroke:#1f77b4;\" x=\"127.753125\" xlink:href=\"#m73f566d273\" y=\"78.572509\"/>\n     <use style=\"fill:#1f77b4;stroke:#1f77b4;\" x=\"194.33267\" xlink:href=\"#m73f566d273\" y=\"77.227975\"/>\n     <use style=\"fill:#1f77b4;stroke:#1f77b4;\" x=\"116.656534\" xlink:href=\"#m73f566d273\" y=\"89.91171\"/>\n     <use style=\"fill:#1f77b4;stroke:#1f77b4;\" x=\"83.366492\" xlink:href=\"#m73f566d273\" y=\"77.748502\"/>\n     <use style=\"fill:#1f77b4;stroke:#1f77b4;\" x=\"161.042629\" xlink:href=\"#m73f566d273\" y=\"80.930191\"/>\n     <use style=\"fill:#1f77b4;stroke:#1f77b4;\" x=\"149.946576\" xlink:href=\"#m73f566d273\" y=\"87.57767\"/>\n     <use style=\"fill:#1f77b4;stroke:#1f77b4;\" x=\"183.23608\" xlink:href=\"#m73f566d273\" y=\"84.999064\"/>\n     <use style=\"fill:#1f77b4;stroke:#1f77b4;\" x=\"161.042629\" xlink:href=\"#m73f566d273\" y=\"76.916485\"/>\n     <use style=\"fill:#1f77b4;stroke:#1f77b4;\" x=\"127.753125\" xlink:href=\"#m73f566d273\" y=\"88.263696\"/>\n     <use style=\"fill:#1f77b4;stroke:#1f77b4;\" x=\"149.946576\" xlink:href=\"#m73f566d273\" y=\"75.92698\"/>\n     <use style=\"fill:#1f77b4;stroke:#1f77b4;\" x=\"149.946576\" xlink:href=\"#m73f566d273\" y=\"96.054552\"/>\n     <use style=\"fill:#1f77b4;stroke:#1f77b4;\" x=\"161.042629\" xlink:href=\"#m73f566d273\" y=\"101.014483\"/>\n     <use style=\"fill:#1f77b4;stroke:#1f77b4;\" x=\"116.656534\" xlink:href=\"#m73f566d273\" y=\"101.716271\"/>\n     <use style=\"fill:#1f77b4;stroke:#1f77b4;\" x=\"149.946576\" xlink:href=\"#m73f566d273\" y=\"107.031102\"/>\n     <use style=\"fill:#1f77b4;stroke:#1f77b4;\" x=\"127.753125\" xlink:href=\"#m73f566d273\" y=\"120.7754\"/>\n     <use style=\"fill:#1f77b4;stroke:#1f77b4;\" x=\"172.13922\" xlink:href=\"#m73f566d273\" y=\"121.209108\"/>\n     <use style=\"fill:#1f77b4;stroke:#1f77b4;\" x=\"149.946576\" xlink:href=\"#m73f566d273\" y=\"115.878515\"/>\n     <use style=\"fill:#1f77b4;stroke:#1f77b4;\" x=\"127.753125\" xlink:href=\"#m73f566d273\" y=\"109.747559\"/>\n     <use style=\"fill:#1f77b4;stroke:#1f77b4;\" x=\"127.753125\" xlink:href=\"#m73f566d273\" y=\"115.862754\"/>\n     <use style=\"fill:#1f77b4;stroke:#1f77b4;\" x=\"116.656534\" xlink:href=\"#m73f566d273\" y=\"112.215703\"/>\n     <use style=\"fill:#1f77b4;stroke:#1f77b4;\" x=\"94.463352\" xlink:href=\"#m73f566d273\" y=\"114.782424\"/>\n     <use style=\"fill:#1f77b4;stroke:#1f77b4;\" x=\"138.849985\" xlink:href=\"#m73f566d273\" y=\"109.720041\"/>\n     <use style=\"fill:#1f77b4;stroke:#1f77b4;\" x=\"149.946576\" xlink:href=\"#m73f566d273\" y=\"102.079051\"/>\n     <use style=\"fill:#1f77b4;stroke:#1f77b4;\" x=\"172.13922\" xlink:href=\"#m73f566d273\" y=\"106.952164\"/>\n     <use style=\"fill:#1f77b4;stroke:#1f77b4;\" x=\"194.33267\" xlink:href=\"#m73f566d273\" y=\"95.415811\"/>\n     <use style=\"fill:#1f77b4;stroke:#1f77b4;\" x=\"127.753125\" xlink:href=\"#m73f566d273\" y=\"89.19416\"/>\n     <use style=\"fill:#1f77b4;stroke:#1f77b4;\" x=\"138.849985\" xlink:href=\"#m73f566d273\" y=\"93.799321\"/>\n     <use style=\"fill:#1f77b4;stroke:#1f77b4;\" x=\"138.849985\" xlink:href=\"#m73f566d273\" y=\"87.404161\"/>\n     <use style=\"fill:#1f77b4;stroke:#1f77b4;\" x=\"138.849985\" xlink:href=\"#m73f566d273\" y=\"86.331712\"/>\n     <use style=\"fill:#1f77b4;stroke:#1f77b4;\" x=\"94.463352\" xlink:href=\"#m73f566d273\" y=\"95.195016\"/>\n     <use style=\"fill:#1f77b4;stroke:#1f77b4;\" x=\"161.042629\" xlink:href=\"#m73f566d273\" y=\"90.219323\"/>\n     <use style=\"fill:#1f77b4;stroke:#1f77b4;\" x=\"127.753125\" xlink:href=\"#m73f566d273\" y=\"80.007609\"/>\n     <use style=\"fill:#1f77b4;stroke:#1f77b4;\" x=\"161.042629\" xlink:href=\"#m73f566d273\" y=\"76.273869\"/>\n     <use style=\"fill:#1f77b4;stroke:#1f77b4;\" x=\"161.042629\" xlink:href=\"#m73f566d273\" y=\"90.996045\"/>\n     <use style=\"fill:#1f77b4;stroke:#1f77b4;\" x=\"149.946576\" xlink:href=\"#m73f566d273\" y=\"93.381375\"/>\n     <use style=\"fill:#1f77b4;stroke:#1f77b4;\" x=\"138.849985\" xlink:href=\"#m73f566d273\" y=\"83.16966\"/>\n     <use style=\"fill:#1f77b4;stroke:#1f77b4;\" x=\"127.753125\" xlink:href=\"#m73f566d273\" y=\"92.837205\"/>\n     <use style=\"fill:#1f77b4;stroke:#1f77b4;\" x=\"172.13922\" xlink:href=\"#m73f566d273\" y=\"93.267037\"/>\n     <use style=\"fill:#1f77b4;stroke:#1f77b4;\" x=\"138.849985\" xlink:href=\"#m73f566d273\" y=\"103.111967\"/>\n     <use style=\"fill:#1f77b4;stroke:#1f77b4;\" x=\"149.946576\" xlink:href=\"#m73f566d273\" y=\"101.503358\"/>\n     <use style=\"fill:#1f77b4;stroke:#1f77b4;\" x=\"94.463352\" xlink:href=\"#m73f566d273\" y=\"89.872305\"/>\n     <use style=\"fill:#1f77b4;stroke:#1f77b4;\" x=\"138.849985\" xlink:href=\"#m73f566d273\" y=\"103.088324\"/>\n     <use style=\"fill:#1f77b4;stroke:#1f77b4;\" x=\"149.946576\" xlink:href=\"#m73f566d273\" y=\"94.564157\"/>\n     <use style=\"fill:#1f77b4;stroke:#1f77b4;\" x=\"161.042629\" xlink:href=\"#m73f566d273\" y=\"88.606709\"/>\n     <use style=\"fill:#1f77b4;stroke:#1f77b4;\" x=\"127.753125\" xlink:href=\"#m73f566d273\" y=\"88.776213\"/>\n     <use style=\"fill:#1f77b4;stroke:#1f77b4;\" x=\"172.13922\" xlink:href=\"#m73f566d273\" y=\"98.972166\"/>\n     <use style=\"fill:#1f77b4;stroke:#1f77b4;\" x=\"105.559943\" xlink:href=\"#m73f566d273\" y=\"91.157668\"/>\n     <use style=\"fill:#1f77b4;stroke:#1f77b4;\" x=\"172.13922\" xlink:href=\"#m73f566d273\" y=\"81.300852\"/>\n     <use style=\"fill:#1f77b4;stroke:#1f77b4;\" x=\"161.042629\" xlink:href=\"#m73f566d273\" y=\"98.684319\"/>\n     <use style=\"fill:#1f77b4;stroke:#1f77b4;\" x=\"149.946576\" xlink:href=\"#m73f566d273\" y=\"85.01095\"/>\n     <use style=\"fill:#1f77b4;stroke:#1f77b4;\" x=\"127.753125\" xlink:href=\"#m73f566d273\" y=\"90.242966\"/>\n     <use style=\"fill:#1f77b4;stroke:#1f77b4;\" x=\"127.753125\" xlink:href=\"#m73f566d273\" y=\"82.515158\"/>\n     <use style=\"fill:#1f77b4;stroke:#1f77b4;\" x=\"172.13922\" xlink:href=\"#m73f566d273\" y=\"81.529528\"/>\n     <use style=\"fill:#1f77b4;stroke:#1f77b4;\" x=\"138.849985\" xlink:href=\"#m73f566d273\" y=\"90.128628\"/>\n     <use style=\"fill:#1f77b4;stroke:#1f77b4;\" x=\"149.946576\" xlink:href=\"#m73f566d273\" y=\"86.308069\"/>\n     <use style=\"fill:#1f77b4;stroke:#1f77b4;\" x=\"149.946576\" xlink:href=\"#m73f566d273\" y=\"86.647206\"/>\n     <use style=\"fill:#1f77b4;stroke:#1f77b4;\" x=\"116.656534\" xlink:href=\"#m73f566d273\" y=\"102.260312\"/>\n     <use style=\"fill:#1f77b4;stroke:#1f77b4;\" x=\"127.753125\" xlink:href=\"#m73f566d273\" y=\"102.962229\"/>\n     <use style=\"fill:#1f77b4;stroke:#1f77b4;\" x=\"149.946576\" xlink:href=\"#m73f566d273\" y=\"113.418252\"/>\n     <use style=\"fill:#1f77b4;stroke:#1f77b4;\" x=\"127.753125\" xlink:href=\"#m73f566d273\" y=\"101.254915\"/>\n     <use style=\"fill:#1f77b4;stroke:#1f77b4;\" x=\"138.849985\" xlink:href=\"#m73f566d273\" y=\"116.864274\"/>\n     <use style=\"fill:#1f77b4;stroke:#1f77b4;\" x=\"138.849985\" xlink:href=\"#m73f566d273\" y=\"119.336295\"/>\n     <use style=\"fill:#1f77b4;stroke:#1f77b4;\" x=\"194.33267\" xlink:href=\"#m73f566d273\" y=\"115.957454\"/>\n     <use style=\"fill:#1f77b4;stroke:#1f77b4;\" x=\"127.753125\" xlink:href=\"#m73f566d273\" y=\"120.830566\"/>\n     <use style=\"fill:#1f77b4;stroke:#1f77b4;\" x=\"205.429261\" xlink:href=\"#m73f566d273\" y=\"117.006131\"/>\n     <use style=\"fill:#1f77b4;stroke:#1f77b4;\" x=\"105.559943\" xlink:href=\"#m73f566d273\" y=\"104.4919\"/>\n     <use style=\"fill:#1f77b4;stroke:#1f77b4;\" x=\"116.656534\" xlink:href=\"#m73f566d273\" y=\"112.290637\"/>\n     <use style=\"fill:#1f77b4;stroke:#1f77b4;\" x=\"116.656534\" xlink:href=\"#m73f566d273\" y=\"104.831037\"/>\n     <use style=\"fill:#1f77b4;stroke:#1f77b4;\" x=\"183.23608\" xlink:href=\"#m73f566d273\" y=\"98.790776\"/>\n     <use style=\"fill:#1f77b4;stroke:#1f77b4;\" x=\"116.656534\" xlink:href=\"#m73f566d273\" y=\"103.131733\"/>\n     <use style=\"fill:#1f77b4;stroke:#1f77b4;\" x=\"172.13922\" xlink:href=\"#m73f566d273\" y=\"96.023028\"/>\n     <use style=\"fill:#1f77b4;stroke:#1f77b4;\" x=\"161.042629\" xlink:href=\"#m73f566d273\" y=\"95.928328\"/>\n     <use style=\"fill:#1f77b4;stroke:#1f77b4;\" x=\"127.753125\" xlink:href=\"#m73f566d273\" y=\"103.640375\"/>\n     <use style=\"fill:#1f77b4;stroke:#1f77b4;\" x=\"116.656534\" xlink:href=\"#m73f566d273\" y=\"85.969061\"/>\n     <use style=\"fill:#1f77b4;stroke:#1f77b4;\" x=\"149.946576\" xlink:href=\"#m73f566d273\" y=\"89.42684\"/>\n     <use style=\"fill:#1f77b4;stroke:#1f77b4;\" x=\"138.849985\" xlink:href=\"#m73f566d273\" y=\"85.870485\"/>\n     <use style=\"fill:#1f77b4;stroke:#1f77b4;\" x=\"94.463352\" xlink:href=\"#m73f566d273\" y=\"84.88085\"/>\n     <use style=\"fill:#1f77b4;stroke:#1f77b4;\" x=\"161.042629\" xlink:href=\"#m73f566d273\" y=\"93.752036\"/>\n     <use style=\"fill:#1f77b4;stroke:#1f77b4;\" x=\"149.946576\" xlink:href=\"#m73f566d273\" y=\"76.265988\"/>\n     <use style=\"fill:#1f77b4;stroke:#1f77b4;\" x=\"161.042629\" xlink:href=\"#m73f566d273\" y=\"101.452067\"/>\n     <use style=\"fill:#1f77b4;stroke:#1f77b4;\" x=\"161.042629\" xlink:href=\"#m73f566d273\" y=\"87.159724\"/>\n     <use style=\"fill:#1f77b4;stroke:#1f77b4;\" x=\"105.559943\" xlink:href=\"#m73f566d273\" y=\"103.482628\"/>\n     <use style=\"fill:#1f77b4;stroke:#1f77b4;\" x=\"138.849985\" xlink:href=\"#m73f566d273\" y=\"101.783324\"/>\n     <use style=\"fill:#1f77b4;stroke:#1f77b4;\" x=\"138.849985\" xlink:href=\"#m73f566d273\" y=\"91.749123\"/>\n     <use style=\"fill:#1f77b4;stroke:#1f77b4;\" x=\"172.13922\" xlink:href=\"#m73f566d273\" y=\"91.480914\"/>\n     <use style=\"fill:#1f77b4;stroke:#1f77b4;\" x=\"116.656534\" xlink:href=\"#m73f566d273\" y=\"105.662925\"/>\n     <use style=\"fill:#1f77b4;stroke:#1f77b4;\" x=\"172.13922\" xlink:href=\"#m73f566d273\" y=\"93.767798\"/>\n     <use style=\"fill:#1f77b4;stroke:#1f77b4;\" x=\"149.946576\" xlink:href=\"#m73f566d273\" y=\"104.94137\"/>\n     <use style=\"fill:#1f77b4;stroke:#1f77b4;\" x=\"116.656534\" xlink:href=\"#m73f566d273\" y=\"99.252132\"/>\n     <use style=\"fill:#1f77b4;stroke:#1f77b4;\" x=\"127.753125\" xlink:href=\"#m73f566d273\" y=\"85.669328\"/>\n     <use style=\"fill:#1f77b4;stroke:#1f77b4;\" x=\"194.33267\" xlink:href=\"#m73f566d273\" y=\"81.316614\"/>\n     <use style=\"fill:#1f77b4;stroke:#1f77b4;\" x=\"127.753125\" xlink:href=\"#m73f566d273\" y=\"79.353106\"/>\n     <use style=\"fill:#1f77b4;stroke:#1f77b4;\" x=\"138.849985\" xlink:href=\"#m73f566d273\" y=\"87.065153\"/>\n     <use style=\"fill:#1f77b4;stroke:#1f77b4;\" x=\"116.656534\" xlink:href=\"#m73f566d273\" y=\"74.109333\"/>\n     <use style=\"fill:#1f77b4;stroke:#1f77b4;\" x=\"116.656534\" xlink:href=\"#m73f566d273\" y=\"87.230652\"/>\n     <use style=\"fill:#1f77b4;stroke:#1f77b4;\" x=\"138.849985\" xlink:href=\"#m73f566d273\" y=\"76.486782\"/>\n     <use style=\"fill:#1f77b4;stroke:#1f77b4;\" x=\"72.269901\" xlink:href=\"#m73f566d273\" y=\"89.434721\"/>\n     <use style=\"fill:#1f77b4;stroke:#1f77b4;\" x=\"105.559943\" xlink:href=\"#m73f566d273\" y=\"96.251704\"/>\n     <use style=\"fill:#1f77b4;stroke:#1f77b4;\" x=\"116.656534\" xlink:href=\"#m73f566d273\" y=\"85.51171\"/>\n     <use style=\"fill:#1f77b4;stroke:#1f77b4;\" x=\"127.753125\" xlink:href=\"#m73f566d273\" y=\"80.267808\"/>\n     <use style=\"fill:#1f77b4;stroke:#1f77b4;\" x=\"138.849985\" xlink:href=\"#m73f566d273\" y=\"90.282371\"/>\n     <use style=\"fill:#1f77b4;stroke:#1f77b4;\" x=\"138.849985\" xlink:href=\"#m73f566d273\" y=\"98.084983\"/>\n     <use style=\"fill:#1f77b4;stroke:#1f77b4;\" x=\"105.559943\" xlink:href=\"#m73f566d273\" y=\"97.813027\"/>\n     <use style=\"fill:#1f77b4;stroke:#1f77b4;\" x=\"149.946576\" xlink:href=\"#m73f566d273\" y=\"104.720576\"/>\n     <use style=\"fill:#1f77b4;stroke:#1f77b4;\" x=\"127.753125\" xlink:href=\"#m73f566d273\" y=\"121.835963\"/>\n     <use style=\"fill:#1f77b4;stroke:#1f77b4;\" x=\"149.946576\" xlink:href=\"#m73f566d273\" y=\"116.596065\"/>\n     <use style=\"fill:#1f77b4;stroke:#1f77b4;\" x=\"116.656534\" xlink:href=\"#m73f566d273\" y=\"114.009707\"/>\n     <use style=\"fill:#1f77b4;stroke:#1f77b4;\" x=\"94.463352\" xlink:href=\"#m73f566d273\" y=\"116.489609\"/>\n     <use style=\"fill:#1f77b4;stroke:#1f77b4;\" x=\"161.042629\" xlink:href=\"#m73f566d273\" y=\"124.9152\"/>\n     <use style=\"fill:#1f77b4;stroke:#1f77b4;\" x=\"105.559943\" xlink:href=\"#m73f566d273\" y=\"118.338779\"/>\n     <use style=\"fill:#1f77b4;stroke:#1f77b4;\" x=\"149.946576\" xlink:href=\"#m73f566d273\" y=\"112.472027\"/>\n     <use style=\"fill:#1f77b4;stroke:#1f77b4;\" x=\"127.753125\" xlink:href=\"#m73f566d273\" y=\"117.881428\"/>\n     <use style=\"fill:#1f77b4;stroke:#1f77b4;\" x=\"127.753125\" xlink:href=\"#m73f566d273\" y=\"112.724345\"/>\n     <use style=\"fill:#1f77b4;stroke:#1f77b4;\" x=\"138.849985\" xlink:href=\"#m73f566d273\" y=\"99.855344\"/>\n     <use style=\"fill:#1f77b4;stroke:#1f77b4;\" x=\"105.559943\" xlink:href=\"#m73f566d273\" y=\"107.835342\"/>\n     <use style=\"fill:#1f77b4;stroke:#1f77b4;\" x=\"172.13922\" xlink:href=\"#m73f566d273\" y=\"90.696312\"/>\n     <use style=\"fill:#1f77b4;stroke:#1f77b4;\" x=\"105.559943\" xlink:href=\"#m73f566d273\" y=\"90.337537\"/>\n     <use style=\"fill:#1f77b4;stroke:#1f77b4;\" x=\"94.463352\" xlink:href=\"#m73f566d273\" y=\"81.900189\"/>\n     <use style=\"fill:#1f77b4;stroke:#1f77b4;\" x=\"138.849985\" xlink:href=\"#m73f566d273\" y=\"78.162444\"/>\n     <use style=\"fill:#1f77b4;stroke:#1f77b4;\" x=\"116.656534\" xlink:href=\"#m73f566d273\" y=\"90.400713\"/>\n     <use style=\"fill:#1f77b4;stroke:#1f77b4;\" x=\"172.13922\" xlink:href=\"#m73f566d273\" y=\"80.547774\"/>\n     <use style=\"fill:#1f77b4;stroke:#1f77b4;\" x=\"127.753125\" xlink:href=\"#m73f566d273\" y=\"81.955355\"/>\n     <use style=\"fill:#1f77b4;stroke:#1f77b4;\" x=\"94.463352\" xlink:href=\"#m73f566d273\" y=\"81.505885\"/>\n     <use style=\"fill:#1f77b4;stroke:#1f77b4;\" x=\"94.463352\" xlink:href=\"#m73f566d273\" y=\"76.088603\"/>\n     <use style=\"fill:#1f77b4;stroke:#1f77b4;\" x=\"127.753125\" xlink:href=\"#m73f566d273\" y=\"77.850954\"/>\n     <use style=\"fill:#1f77b4;stroke:#1f77b4;\" x=\"183.23608\" xlink:href=\"#m73f566d273\" y=\"92.57313\"/>\n     <use style=\"fill:#1f77b4;stroke:#1f77b4;\" x=\"116.656534\" xlink:href=\"#m73f566d273\" y=\"88.042902\"/>\n     <use style=\"fill:#1f77b4;stroke:#1f77b4;\" x=\"161.042629\" xlink:href=\"#m73f566d273\" y=\"82.885819\"/>\n     <use style=\"fill:#1f77b4;stroke:#1f77b4;\" x=\"172.13922\" xlink:href=\"#m73f566d273\" y=\"99.468922\"/>\n     <use style=\"fill:#1f77b4;stroke:#1f77b4;\" x=\"138.849985\" xlink:href=\"#m73f566d273\" y=\"95.202897\"/>\n     <use style=\"fill:#1f77b4;stroke:#1f77b4;\" x=\"138.849985\" xlink:href=\"#m73f566d273\" y=\"94.303957\"/>\n     <use style=\"fill:#1f77b4;stroke:#1f77b4;\" x=\"127.753125\" xlink:href=\"#m73f566d273\" y=\"89.416892\"/>\n     <use style=\"fill:#1f77b4;stroke:#1f77b4;\" x=\"194.33267\" xlink:href=\"#m73f566d273\" y=\"89.67722\"/>\n     <use style=\"fill:#1f77b4;stroke:#1f77b4;\" x=\"116.656534\" xlink:href=\"#m73f566d273\" y=\"94.280315\"/>\n     <use style=\"fill:#1f77b4;stroke:#1f77b4;\" x=\"172.13922\" xlink:href=\"#m73f566d273\" y=\"86.818778\"/>\n     <use style=\"fill:#1f77b4;stroke:#1f77b4;\" x=\"138.849985\" xlink:href=\"#m73f566d273\" y=\"86.373183\"/>\n     <use style=\"fill:#1f77b4;stroke:#1f77b4;\" x=\"138.849985\" xlink:href=\"#m73f566d273\" y=\"81.393485\"/>\n     <use style=\"fill:#1f77b4;stroke:#1f77b4;\" x=\"127.753125\" xlink:href=\"#m73f566d273\" y=\"89.728382\"/>\n     <use style=\"fill:#1f77b4;stroke:#1f77b4;\" x=\"127.753125\" xlink:href=\"#m73f566d273\" y=\"81.823318\"/>\n     <use style=\"fill:#1f77b4;stroke:#1f77b4;\" x=\"161.042629\" xlink:href=\"#m73f566d273\" y=\"95.746938\"/>\n     <use style=\"fill:#1f77b4;stroke:#1f77b4;\" x=\"149.946576\" xlink:href=\"#m73f566d273\" y=\"82.519163\"/>\n     <use style=\"fill:#1f77b4;stroke:#1f77b4;\" x=\"127.753125\" xlink:href=\"#m73f566d273\" y=\"80.293518\"/>\n     <use style=\"fill:#1f77b4;stroke:#1f77b4;\" x=\"116.656534\" xlink:href=\"#m73f566d273\" y=\"85.428896\"/>\n     <use style=\"fill:#1f77b4;stroke:#1f77b4;\" x=\"138.849985\" xlink:href=\"#m73f566d273\" y=\"98.463525\"/>\n     <use style=\"fill:#1f77b4;stroke:#1f77b4;\" x=\"116.656534\" xlink:href=\"#m73f566d273\" y=\"90.205499\"/>\n     <use style=\"fill:#1f77b4;stroke:#1f77b4;\" x=\"116.656534\" xlink:href=\"#m73f566d273\" y=\"106.871417\"/>\n     <use style=\"fill:#1f77b4;stroke:#1f77b4;\" x=\"161.042629\" xlink:href=\"#m73f566d273\" y=\"114.407887\"/>\n     <use style=\"fill:#1f77b4;stroke:#1f77b4;\" x=\"105.559943\" xlink:href=\"#m73f566d273\" y=\"110.141863\"/>\n     <use style=\"fill:#1f77b4;stroke:#1f77b4;\" x=\"105.559943\" xlink:href=\"#m73f566d273\" y=\"111.994909\"/>\n     <use style=\"fill:#1f77b4;stroke:#1f77b4;\" x=\"127.753125\" xlink:href=\"#m73f566d273\" y=\"110.033468\"/>\n     <use style=\"fill:#1f77b4;stroke:#1f77b4;\" x=\"138.849985\" xlink:href=\"#m73f566d273\" y=\"120.586129\"/>\n     <use style=\"fill:#1f77b4;stroke:#1f77b4;\" x=\"161.042629\" xlink:href=\"#m73f566d273\" y=\"115.872572\"/>\n     <use style=\"fill:#1f77b4;stroke:#1f77b4;\" x=\"116.656534\" xlink:href=\"#m73f566d273\" y=\"123.76588\"/>\n     <use style=\"fill:#1f77b4;stroke:#1f77b4;\" x=\"127.753125\" xlink:href=\"#m73f566d273\" y=\"112.134957\"/>\n     <use style=\"fill:#1f77b4;stroke:#1f77b4;\" x=\"138.849985\" xlink:href=\"#m73f566d273\" y=\"107.419462\"/>\n     <use style=\"fill:#1f77b4;stroke:#1f77b4;\" x=\"183.23608\" xlink:href=\"#m73f566d273\" y=\"117.264392\"/>\n     <use style=\"fill:#1f77b4;stroke:#1f77b4;\" x=\"161.042629\" xlink:href=\"#m73f566d273\" y=\"112.199942\"/>\n     <use style=\"fill:#1f77b4;stroke:#1f77b4;\" x=\"183.23608\" xlink:href=\"#m73f566d273\" y=\"110.68009\"/>\n     <use style=\"fill:#1f77b4;stroke:#1f77b4;\" x=\"127.753125\" xlink:href=\"#m73f566d273\" y=\"103.042976\"/>\n     <use style=\"fill:#1f77b4;stroke:#1f77b4;\" x=\"172.13922\" xlink:href=\"#m73f566d273\" y=\"106.410061\"/>\n     <use style=\"fill:#1f77b4;stroke:#1f77b4;\" x=\"105.559943\" xlink:href=\"#m73f566d273\" y=\"102.93652\"/>\n     <use style=\"fill:#1f77b4;stroke:#1f77b4;\" x=\"138.849985\" xlink:href=\"#m73f566d273\" y=\"90.512984\"/>\n     <use style=\"fill:#1f77b4;stroke:#1f77b4;\" x=\"161.042629\" xlink:href=\"#m73f566d273\" y=\"100.708937\"/>\n     <use style=\"fill:#1f77b4;stroke:#1f77b4;\" x=\"127.753125\" xlink:href=\"#m73f566d273\" y=\"97.769618\"/>\n     <use style=\"fill:#1f77b4;stroke:#1f77b4;\" x=\"116.656534\" xlink:href=\"#m73f566d273\" y=\"90.842302\"/>\n     <use style=\"fill:#1f77b4;stroke:#1f77b4;\" x=\"94.463352\" xlink:href=\"#m73f566d273\" y=\"92.170945\"/>\n     <use style=\"fill:#1f77b4;stroke:#1f77b4;\" x=\"127.753125\" xlink:href=\"#m73f566d273\" y=\"97.92336\"/>\n     <use style=\"fill:#1f77b4;stroke:#1f77b4;\" x=\"116.656534\" xlink:href=\"#m73f566d273\" y=\"104.306634\"/>\n     <use style=\"fill:#1f77b4;stroke:#1f77b4;\" x=\"149.946576\" xlink:href=\"#m73f566d273\" y=\"95.605082\"/>\n     <use style=\"fill:#1f77b4;stroke:#1f77b4;\" x=\"138.849985\" xlink:href=\"#m73f566d273\" y=\"103.222428\"/>\n     <use style=\"fill:#1f77b4;stroke:#1f77b4;\" x=\"161.042629\" xlink:href=\"#m73f566d273\" y=\"112.886097\"/>\n     <use style=\"fill:#1f77b4;stroke:#1f77b4;\" x=\"94.463352\" xlink:href=\"#m73f566d273\" y=\"108.889962\"/>\n     <use style=\"fill:#1f77b4;stroke:#1f77b4;\" x=\"116.656534\" xlink:href=\"#m73f566d273\" y=\"110.029463\"/>\n     <use style=\"fill:#1f77b4;stroke:#1f77b4;\" x=\"127.753125\" xlink:href=\"#m73f566d273\" y=\"104.342163\"/>\n     <use style=\"fill:#1f77b4;stroke:#1f77b4;\" x=\"127.753125\" xlink:href=\"#m73f566d273\" y=\"112.945139\"/>\n     <use style=\"fill:#1f77b4;stroke:#1f77b4;\" x=\"127.753125\" xlink:href=\"#m73f566d273\" y=\"111.33653\"/>\n     <use style=\"fill:#1f77b4;stroke:#1f77b4;\" x=\"161.042629\" xlink:href=\"#m73f566d273\" y=\"100.417085\"/>\n     <use style=\"fill:#1f77b4;stroke:#1f77b4;\" x=\"127.753125\" xlink:href=\"#m73f566d273\" y=\"115.403465\"/>\n     <use style=\"fill:#1f77b4;stroke:#1f77b4;\" x=\"138.849985\" xlink:href=\"#m73f566d273\" y=\"105.724034\"/>\n     <use style=\"fill:#1f77b4;stroke:#1f77b4;\" x=\"138.849985\" xlink:href=\"#m73f566d273\" y=\"104.566833\"/>\n     <use style=\"fill:#1f77b4;stroke:#1f77b4;\" x=\"105.559943\" xlink:href=\"#m73f566d273\" y=\"98.881471\"/>\n     <use style=\"fill:#1f77b4;stroke:#1f77b4;\" x=\"161.042629\" xlink:href=\"#m73f566d273\" y=\"90.708198\"/>\n     <use style=\"fill:#1f77b4;stroke:#1f77b4;\" x=\"127.753125\" xlink:href=\"#m73f566d273\" y=\"106.317428\"/>\n     <use style=\"fill:#1f77b4;stroke:#1f77b4;\" x=\"161.042629\" xlink:href=\"#m73f566d273\" y=\"91.049273\"/>\n     <use style=\"fill:#1f77b4;stroke:#1f77b4;\" x=\"116.656534\" xlink:href=\"#m73f566d273\" y=\"92.458792\"/>\n     <use style=\"fill:#1f77b4;stroke:#1f77b4;\" x=\"116.656534\" xlink:href=\"#m73f566d273\" y=\"96.446788\"/>\n     <use style=\"fill:#1f77b4;stroke:#1f77b4;\" x=\"127.753125\" xlink:href=\"#m73f566d273\" y=\"90.938811\"/>\n     <use style=\"fill:#1f77b4;stroke:#1f77b4;\" x=\"149.946576\" xlink:href=\"#m73f566d273\" y=\"96.872616\"/>\n     <use style=\"fill:#1f77b4;stroke:#1f77b4;\" x=\"149.946576\" xlink:href=\"#m73f566d273\" y=\"92.782038\"/>\n     <use style=\"fill:#1f77b4;stroke:#1f77b4;\" x=\"149.946576\" xlink:href=\"#m73f566d273\" y=\"108.213883\"/>\n     <use style=\"fill:#1f77b4;stroke:#1f77b4;\" x=\"138.849985\" xlink:href=\"#m73f566d273\" y=\"111.661844\"/>\n     <use style=\"fill:#1f77b4;stroke:#1f77b4;\" x=\"161.042629\" xlink:href=\"#m73f566d273\" y=\"109.613584\"/>\n     <use style=\"fill:#1f77b4;stroke:#1f77b4;\" x=\"83.366492\" xlink:href=\"#m73f566d273\" y=\"119.63396\"/>\n     <use style=\"fill:#1f77b4;stroke:#1f77b4;\" x=\"161.042629\" xlink:href=\"#m73f566d273\" y=\"120.777337\"/>\n     <use style=\"fill:#1f77b4;stroke:#1f77b4;\" x=\"94.463352\" xlink:href=\"#m73f566d273\" y=\"109.678569\"/>\n     <use style=\"fill:#1f77b4;stroke:#1f77b4;\" x=\"138.849985\" xlink:href=\"#m73f566d273\" y=\"119.521561\"/>\n     <use style=\"fill:#1f77b4;stroke:#1f77b4;\" x=\"105.559943\" xlink:href=\"#m73f566d273\" y=\"126.251853\"/>\n     <use style=\"fill:#1f77b4;stroke:#1f77b4;\" x=\"116.656534\" xlink:href=\"#m73f566d273\" y=\"113.735685\"/>\n     <use style=\"fill:#1f77b4;stroke:#1f77b4;\" x=\"127.753125\" xlink:href=\"#m73f566d273\" y=\"125.530298\"/>\n     <use style=\"fill:#1f77b4;stroke:#1f77b4;\" x=\"149.946576\" xlink:href=\"#m73f566d273\" y=\"119.218081\"/>\n     <use style=\"fill:#1f77b4;stroke:#1f77b4;\" x=\"116.656534\" xlink:href=\"#m73f566d273\" y=\"114.332954\"/>\n     <use style=\"fill:#1f77b4;stroke:#1f77b4;\" x=\"116.656534\" xlink:href=\"#m73f566d273\" y=\"119.119505\"/>\n     <use style=\"fill:#1f77b4;stroke:#1f77b4;\" x=\"94.463352\" xlink:href=\"#m73f566d273\" y=\"119.285004\"/>\n     <use style=\"fill:#1f77b4;stroke:#1f77b4;\" x=\"161.042629\" xlink:href=\"#m73f566d273\" y=\"108.454445\"/>\n     <use style=\"fill:#1f77b4;stroke:#1f77b4;\" x=\"138.849985\" xlink:href=\"#m73f566d273\" y=\"111.910157\"/>\n     <use style=\"fill:#1f77b4;stroke:#1f77b4;\" x=\"116.656534\" xlink:href=\"#m73f566d273\" y=\"111.009279\"/>\n     <use style=\"fill:#1f77b4;stroke:#1f77b4;\" x=\"172.13922\" xlink:href=\"#m73f566d273\" y=\"105.77132\"/>\n     <use style=\"fill:#1f77b4;stroke:#1f77b4;\" x=\"149.946576\" xlink:href=\"#m73f566d273\" y=\"109.579993\"/>\n     <use style=\"fill:#1f77b4;stroke:#1f77b4;\" x=\"161.042629\" xlink:href=\"#m73f566d273\" y=\"100.253524\"/>\n     <use style=\"fill:#1f77b4;stroke:#1f77b4;\" x=\"161.042629\" xlink:href=\"#m73f566d273\" y=\"91.019687\"/>\n     <use style=\"fill:#1f77b4;stroke:#1f77b4;\" x=\"172.13922\" xlink:href=\"#m73f566d273\" y=\"95.985432\"/>\n     <use style=\"fill:#1f77b4;stroke:#1f77b4;\" x=\"116.656534\" xlink:href=\"#m73f566d273\" y=\"103.689598\"/>\n     <use style=\"fill:#1f77b4;stroke:#1f77b4;\" x=\"105.559943\" xlink:href=\"#m73f566d273\" y=\"95.610896\"/>\n     <use style=\"fill:#1f77b4;stroke:#1f77b4;\" x=\"149.946576\" xlink:href=\"#m73f566d273\" y=\"103.0568\"/>\n     <use style=\"fill:#1f77b4;stroke:#1f77b4;\" x=\"149.946576\" xlink:href=\"#m73f566d273\" y=\"111.383816\"/>\n     <use style=\"fill:#1f77b4;stroke:#1f77b4;\" x=\"138.849985\" xlink:href=\"#m73f566d273\" y=\"103.746832\"/>\n     <use style=\"fill:#1f77b4;stroke:#1f77b4;\" x=\"149.946576\" xlink:href=\"#m73f566d273\" y=\"114.124045\"/>\n     <use style=\"fill:#1f77b4;stroke:#1f77b4;\" x=\"105.559943\" xlink:href=\"#m73f566d273\" y=\"122.626508\"/>\n     <use style=\"fill:#1f77b4;stroke:#1f77b4;\" x=\"116.656534\" xlink:href=\"#m73f566d273\" y=\"117.826262\"/>\n     <use style=\"fill:#1f77b4;stroke:#1f77b4;\" x=\"116.656534\" xlink:href=\"#m73f566d273\" y=\"121.195284\"/>\n     <use style=\"fill:#1f77b4;stroke:#1f77b4;\" x=\"105.559943\" xlink:href=\"#m73f566d273\" y=\"98.469468\"/>\n     <use style=\"fill:#1f77b4;stroke:#1f77b4;\" x=\"116.656534\" xlink:href=\"#m73f566d273\" y=\"104.675228\"/>\n     <use style=\"fill:#1f77b4;stroke:#1f77b4;\" x=\"116.656534\" xlink:href=\"#m73f566d273\" y=\"113.185701\"/>\n     <use style=\"fill:#1f77b4;stroke:#1f77b4;\" x=\"105.559943\" xlink:href=\"#m73f566d273\" y=\"105.635277\"/>\n     <use style=\"fill:#1f77b4;stroke:#1f77b4;\" x=\"105.559943\" xlink:href=\"#m73f566d273\" y=\"100.480261\"/>\n     <use style=\"fill:#1f77b4;stroke:#1f77b4;\" x=\"194.33267\" xlink:href=\"#m73f566d273\" y=\"106.067047\"/>\n     <use style=\"fill:#1f77b4;stroke:#1f77b4;\" x=\"105.559943\" xlink:href=\"#m73f566d273\" y=\"100.998721\"/>\n     <use style=\"fill:#1f77b4;stroke:#1f77b4;\" x=\"138.849985\" xlink:href=\"#m73f566d273\" y=\"95.135845\"/>\n     <use style=\"fill:#1f77b4;stroke:#1f77b4;\" x=\"116.656534\" xlink:href=\"#m73f566d273\" y=\"104.355987\"/>\n     <use style=\"fill:#1f77b4;stroke:#1f77b4;\" x=\"127.753125\" xlink:href=\"#m73f566d273\" y=\"107.096087\"/>\n     <use style=\"fill:#1f77b4;stroke:#1f77b4;\" x=\"94.463352\" xlink:href=\"#m73f566d273\" y=\"100.080015\"/>\n     <use style=\"fill:#1f77b4;stroke:#1f77b4;\" x=\"138.849985\" xlink:href=\"#m73f566d273\" y=\"90.400713\"/>\n     <use style=\"fill:#1f77b4;stroke:#1f77b4;\" x=\"127.753125\" xlink:href=\"#m73f566d273\" y=\"95.62472\"/>\n     <use style=\"fill:#1f77b4;stroke:#1f77b4;\" x=\"127.753125\" xlink:href=\"#m73f566d273\" y=\"110.790422\"/>\n     <use style=\"fill:#1f77b4;stroke:#1f77b4;\" x=\"161.042629\" xlink:href=\"#m73f566d273\" y=\"101.201687\"/>\n     <use style=\"fill:#1f77b4;stroke:#1f77b4;\" x=\"105.559943\" xlink:href=\"#m73f566d273\" y=\"104.915789\"/>\n     <use style=\"fill:#1f77b4;stroke:#1f77b4;\" x=\"138.849985\" xlink:href=\"#m73f566d273\" y=\"120.968546\"/>\n     <use style=\"fill:#1f77b4;stroke:#1f77b4;\" x=\"183.23608\" xlink:href=\"#m73f566d273\" y=\"129.658342\"/>\n     <use style=\"fill:#1f77b4;stroke:#1f77b4;\" x=\"116.656534\" xlink:href=\"#m73f566d273\" y=\"128.583955\"/>\n     <use style=\"fill:#1f77b4;stroke:#1f77b4;\" x=\"116.656534\" xlink:href=\"#m73f566d273\" y=\"121.388431\"/>\n     <use style=\"fill:#1f77b4;stroke:#1f77b4;\" x=\"138.849985\" xlink:href=\"#m73f566d273\" y=\"130.787895\"/>\n     <use style=\"fill:#1f77b4;stroke:#1f77b4;\" x=\"127.753125\" xlink:href=\"#m73f566d273\" y=\"136.09885\"/>\n     <use style=\"fill:#1f77b4;stroke:#1f77b4;\" x=\"116.656534\" xlink:href=\"#m73f566d273\" y=\"120.566491\"/>\n     <use style=\"fill:#1f77b4;stroke:#1f77b4;\" x=\"172.13922\" xlink:href=\"#m73f566d273\" y=\"132.627247\"/>\n     <use style=\"fill:#1f77b4;stroke:#1f77b4;\" x=\"172.13922\" xlink:href=\"#m73f566d273\" y=\"130.661801\"/>\n     <use style=\"fill:#1f77b4;stroke:#1f77b4;\" x=\"116.656534\" xlink:href=\"#m73f566d273\" y=\"122.583098\"/>\n     <use style=\"fill:#1f77b4;stroke:#1f77b4;\" x=\"138.849985\" xlink:href=\"#m73f566d273\" y=\"116.010553\"/>\n     <use style=\"fill:#1f77b4;stroke:#1f77b4;\" x=\"161.042629\" xlink:href=\"#m73f566d273\" y=\"107.484448\"/>\n     <use style=\"fill:#1f77b4;stroke:#1f77b4;\" x=\"94.463352\" xlink:href=\"#m73f566d273\" y=\"116.881974\"/>\n     <use style=\"fill:#1f77b4;stroke:#1f77b4;\" x=\"149.946576\" xlink:href=\"#m73f566d273\" y=\"107.91428\"/>\n     <use style=\"fill:#1f77b4;stroke:#1f77b4;\" x=\"138.849985\" xlink:href=\"#m73f566d273\" y=\"96.902201\"/>\n     <use style=\"fill:#1f77b4;stroke:#1f77b4;\" x=\"161.042629\" xlink:href=\"#m73f566d273\" y=\"104.884266\"/>\n     <use style=\"fill:#1f77b4;stroke:#1f77b4;\" x=\"172.13922\" xlink:href=\"#m73f566d273\" y=\"107.894513\"/>\n     <use style=\"fill:#1f77b4;stroke:#1f77b4;\" x=\"161.042629\" xlink:href=\"#m73f566d273\" y=\"110.277905\"/>\n     <use style=\"fill:#1f77b4;stroke:#1f77b4;\" x=\"127.753125\" xlink:href=\"#m73f566d273\" y=\"98.826305\"/>\n     <use style=\"fill:#1f77b4;stroke:#1f77b4;\" x=\"138.849985\" xlink:href=\"#m73f566d273\" y=\"111.776052\"/>\n     <use style=\"fill:#1f77b4;stroke:#1f77b4;\" x=\"116.656534\" xlink:href=\"#m73f566d273\" y=\"109.633221\"/>\n     <use style=\"fill:#1f77b4;stroke:#1f77b4;\" x=\"138.849985\" xlink:href=\"#m73f566d273\" y=\"105.635277\"/>\n     <use style=\"fill:#1f77b4;stroke:#1f77b4;\" x=\"138.849985\" xlink:href=\"#m73f566d273\" y=\"101.810842\"/>\n     <use style=\"fill:#1f77b4;stroke:#1f77b4;\" x=\"161.042629\" xlink:href=\"#m73f566d273\" y=\"111.023103\"/>\n     <use style=\"fill:#1f77b4;stroke:#1f77b4;\" x=\"94.463352\" xlink:href=\"#m73f566d273\" y=\"120.513263\"/>\n     <use style=\"fill:#1f77b4;stroke:#1f77b4;\" x=\"138.849985\" xlink:href=\"#m73f566d273\" y=\"112.432622\"/>\n     <use style=\"fill:#1f77b4;stroke:#1f77b4;\" x=\"138.849985\" xlink:href=\"#m73f566d273\" y=\"116.501494\"/>\n     <use style=\"fill:#1f77b4;stroke:#1f77b4;\" x=\"105.559943\" xlink:href=\"#m73f566d273\" y=\"121.552121\"/>\n     <use style=\"fill:#1f77b4;stroke:#1f77b4;\" x=\"149.946576\" xlink:href=\"#m73f566d273\" y=\"114.628681\"/>\n     <use style=\"fill:#1f77b4;stroke:#1f77b4;\" x=\"149.946576\" xlink:href=\"#m73f566d273\" y=\"120.118959\"/>\n     <use style=\"fill:#1f77b4;stroke:#1f77b4;\" x=\"161.042629\" xlink:href=\"#m73f566d273\" y=\"112.127076\"/>\n     <use style=\"fill:#1f77b4;stroke:#1f77b4;\" x=\"194.33267\" xlink:href=\"#m73f566d273\" y=\"118.774554\"/>\n     <use style=\"fill:#1f77b4;stroke:#1f77b4;\" x=\"138.849985\" xlink:href=\"#m73f566d273\" y=\"114.062936\"/>\n     <use style=\"fill:#1f77b4;stroke:#1f77b4;\" x=\"127.753125\" xlink:href=\"#m73f566d273\" y=\"107.665838\"/>\n     <use style=\"fill:#1f77b4;stroke:#1f77b4;\" x=\"161.042629\" xlink:href=\"#m73f566d273\" y=\"109.704279\"/>\n     <use style=\"fill:#1f77b4;stroke:#1f77b4;\" x=\"138.849985\" xlink:href=\"#m73f566d273\" y=\"107.829528\"/>\n     <use style=\"fill:#1f77b4;stroke:#1f77b4;\" x=\"116.656534\" xlink:href=\"#m73f566d273\" y=\"104.539315\"/>\n     <use style=\"fill:#1f77b4;stroke:#1f77b4;\" x=\"149.946576\" xlink:href=\"#m73f566d273\" y=\"93.442484\"/>\n     <use style=\"fill:#1f77b4;stroke:#1f77b4;\" x=\"161.042629\" xlink:href=\"#m73f566d273\" y=\"95.02745\"/>\n     <use style=\"fill:#1f77b4;stroke:#1f77b4;\" x=\"149.946576\" xlink:href=\"#m73f566d273\" y=\"104.426915\"/>\n     <use style=\"fill:#1f77b4;stroke:#1f77b4;\" x=\"161.042629\" xlink:href=\"#m73f566d273\" y=\"97.852432\"/>\n     <use style=\"fill:#1f77b4;stroke:#1f77b4;\" x=\"105.559943\" xlink:href=\"#m73f566d273\" y=\"106.447527\"/>\n     <use style=\"fill:#1f77b4;stroke:#1f77b4;\" x=\"105.559943\" xlink:href=\"#m73f566d273\" y=\"110.435653\"/>\n     <use style=\"fill:#1f77b4;stroke:#1f77b4;\" x=\"116.656534\" xlink:href=\"#m73f566d273\" y=\"108.032493\"/>\n     <use style=\"fill:#1f77b4;stroke:#1f77b4;\" x=\"149.946576\" xlink:href=\"#m73f566d273\" y=\"110.149744\"/>\n     <use style=\"fill:#1f77b4;stroke:#1f77b4;\" x=\"161.042629\" xlink:href=\"#m73f566d273\" y=\"119.283066\"/>\n     <use style=\"fill:#1f77b4;stroke:#1f77b4;\" x=\"161.042629\" xlink:href=\"#m73f566d273\" y=\"130.634153\"/>\n     <use style=\"fill:#1f77b4;stroke:#1f77b4;\" x=\"116.656534\" xlink:href=\"#m73f566d273\" y=\"136.922727\"/>\n     <use style=\"fill:#1f77b4;stroke:#1f77b4;\" x=\"149.946576\" xlink:href=\"#m73f566d273\" y=\"131.412812\"/>\n     <use style=\"fill:#1f77b4;stroke:#1f77b4;\" x=\"172.13922\" xlink:href=\"#m73f566d273\" y=\"123.953213\"/>\n     <use style=\"fill:#1f77b4;stroke:#1f77b4;\" x=\"116.656534\" xlink:href=\"#m73f566d273\" y=\"124.919205\"/>\n     <use style=\"fill:#1f77b4;stroke:#1f77b4;\" x=\"149.946576\" xlink:href=\"#m73f566d273\" y=\"132.71988\"/>\n     <use style=\"fill:#1f77b4;stroke:#1f77b4;\" x=\"127.753125\" xlink:href=\"#m73f566d273\" y=\"126.679618\"/>\n     <use style=\"fill:#1f77b4;stroke:#1f77b4;\" x=\"138.849985\" xlink:href=\"#m73f566d273\" y=\"127.909815\"/>\n     <use style=\"fill:#1f77b4;stroke:#1f77b4;\" x=\"149.946576\" xlink:href=\"#m73f566d273\" y=\"130.034946\"/>\n     <use style=\"fill:#1f77b4;stroke:#1f77b4;\" x=\"161.042629\" xlink:href=\"#m73f566d273\" y=\"122.13169\"/>\n     <use style=\"fill:#1f77b4;stroke:#1f77b4;\" x=\"161.042629\" xlink:href=\"#m73f566d273\" y=\"113.694213\"/>\n     <use style=\"fill:#1f77b4;stroke:#1f77b4;\" x=\"161.042629\" xlink:href=\"#m73f566d273\" y=\"120.252934\"/>\n     <use style=\"fill:#1f77b4;stroke:#1f77b4;\" x=\"94.463352\" xlink:href=\"#m73f566d273\" y=\"107.027097\"/>\n     <use style=\"fill:#1f77b4;stroke:#1f77b4;\" x=\"149.946576\" xlink:href=\"#m73f566d273\" y=\"113.404557\"/>\n     <use style=\"fill:#1f77b4;stroke:#1f77b4;\" x=\"116.656534\" xlink:href=\"#m73f566d273\" y=\"106.835888\"/>\n     <use style=\"fill:#1f77b4;stroke:#1f77b4;\" x=\"138.849985\" xlink:href=\"#m73f566d273\" y=\"112.68494\"/>\n     <use style=\"fill:#1f77b4;stroke:#1f77b4;\" x=\"61.173849\" xlink:href=\"#m73f566d273\" y=\"93.062004\"/>\n     <use style=\"fill:#1f77b4;stroke:#1f77b4;\" x=\"149.946576\" xlink:href=\"#m73f566d273\" y=\"102.818306\"/>\n     <use style=\"fill:#1f77b4;stroke:#1f77b4;\" x=\"127.753125\" xlink:href=\"#m73f566d273\" y=\"98.28614\"/>\n     <use style=\"fill:#1f77b4;stroke:#1f77b4;\" x=\"138.849985\" xlink:href=\"#m73f566d273\" y=\"102.621154\"/>\n     <use style=\"fill:#1f77b4;stroke:#1f77b4;\" x=\"105.559943\" xlink:href=\"#m73f566d273\" y=\"118.054937\"/>\n     <use style=\"fill:#1f77b4;stroke:#1f77b4;\" x=\"116.656534\" xlink:href=\"#m73f566d273\" y=\"115.29507\"/>\n     <use style=\"fill:#1f77b4;stroke:#1f77b4;\" x=\"127.753125\" xlink:href=\"#m73f566d273\" y=\"119.007105\"/>\n     <use style=\"fill:#1f77b4;stroke:#1f77b4;\" x=\"138.849985\" xlink:href=\"#m73f566d273\" y=\"126.368129\"/>\n     <use style=\"fill:#1f77b4;stroke:#1f77b4;\" x=\"83.366492\" xlink:href=\"#m73f566d273\" y=\"118.110103\"/>\n     <use style=\"fill:#1f77b4;stroke:#1f77b4;\" x=\"138.849985\" xlink:href=\"#m73f566d273\" y=\"115.436926\"/>\n     <use style=\"fill:#1f77b4;stroke:#1f77b4;\" x=\"116.656534\" xlink:href=\"#m73f566d273\" y=\"120.57631\"/>\n     <use style=\"fill:#1f77b4;stroke:#1f77b4;\" x=\"138.849985\" xlink:href=\"#m73f566d273\" y=\"111.789876\"/>\n     <use style=\"fill:#1f77b4;stroke:#1f77b4;\" x=\"105.559943\" xlink:href=\"#m73f566d273\" y=\"111.598667\"/>\n     <use style=\"fill:#1f77b4;stroke:#1f77b4;\" x=\"116.656534\" xlink:href=\"#m73f566d273\" y=\"114.256083\"/>\n     <use style=\"fill:#1f77b4;stroke:#1f77b4;\" x=\"127.753125\" xlink:href=\"#m73f566d273\" y=\"103.514151\"/>\n     <use style=\"fill:#1f77b4;stroke:#1f77b4;\" x=\"94.463352\" xlink:href=\"#m73f566d273\" y=\"101.107116\"/>\n     <use style=\"fill:#1f77b4;stroke:#1f77b4;\" x=\"161.042629\" xlink:href=\"#m73f566d273\" y=\"109.706217\"/>\n     <use style=\"fill:#1f77b4;stroke:#1f77b4;\" x=\"127.753125\" xlink:href=\"#m73f566d273\" y=\"103.315061\"/>\n     <use style=\"fill:#1f77b4;stroke:#1f77b4;\" x=\"138.849985\" xlink:href=\"#m73f566d273\" y=\"98.15604\"/>\n     <use style=\"fill:#1f77b4;stroke:#1f77b4;\" x=\"205.429261\" xlink:href=\"#m73f566d273\" y=\"85.10565\"/>\n     <use style=\"fill:#1f77b4;stroke:#1f77b4;\" x=\"105.559943\" xlink:href=\"#m73f566d273\" y=\"94.59568\"/>\n     <use style=\"fill:#1f77b4;stroke:#1f77b4;\" x=\"138.849985\" xlink:href=\"#m73f566d273\" y=\"95.382349\"/>\n     <use style=\"fill:#1f77b4;stroke:#1f77b4;\" x=\"149.946576\" xlink:href=\"#m73f566d273\" y=\"85.882242\"/>\n     <use style=\"fill:#1f77b4;stroke:#1f77b4;\" x=\"138.849985\" xlink:href=\"#m73f566d273\" y=\"93.062004\"/>\n     <use style=\"fill:#1f77b4;stroke:#1f77b4;\" x=\"127.753125\" xlink:href=\"#m73f566d273\" y=\"90.035995\"/>\n     <use style=\"fill:#1f77b4;stroke:#1f77b4;\" x=\"149.946576\" xlink:href=\"#m73f566d273\" y=\"99.79023\"/>\n     <use style=\"fill:#1f77b4;stroke:#1f77b4;\" x=\"149.946576\" xlink:href=\"#m73f566d273\" y=\"92.774158\"/>\n     <use style=\"fill:#1f77b4;stroke:#1f77b4;\" x=\"138.849985\" xlink:href=\"#m73f566d273\" y=\"97.552699\"/>\n     <use style=\"fill:#1f77b4;stroke:#1f77b4;\" x=\"172.13922\" xlink:href=\"#m73f566d273\" y=\"117.952356\"/>\n     <use style=\"fill:#1f77b4;stroke:#1f77b4;\" x=\"149.946576\" xlink:href=\"#m73f566d273\" y=\"110.136049\"/>\n     <use style=\"fill:#1f77b4;stroke:#1f77b4;\" x=\"105.559943\" xlink:href=\"#m73f566d273\" y=\"112.16648\"/>\n     <use style=\"fill:#1f77b4;stroke:#1f77b4;\" x=\"105.559943\" xlink:href=\"#m73f566d273\" y=\"125.203047\"/>\n     <use style=\"fill:#1f77b4;stroke:#1f77b4;\" x=\"116.656534\" xlink:href=\"#m73f566d273\" y=\"121.203165\"/>\n     <use style=\"fill:#1f77b4;stroke:#1f77b4;\" x=\"127.753125\" xlink:href=\"#m73f566d273\" y=\"123.588495\"/>\n     <use style=\"fill:#1f77b4;stroke:#1f77b4;\" x=\"127.753125\" xlink:href=\"#m73f566d273\" y=\"114.086579\"/>\n     <use style=\"fill:#1f77b4;stroke:#1f77b4;\" x=\"105.559943\" xlink:href=\"#m73f566d273\" y=\"119.316528\"/>\n     <use style=\"fill:#1f77b4;stroke:#1f77b4;\" x=\"149.946576\" xlink:href=\"#m73f566d273\" y=\"114.691729\"/>\n     <use style=\"fill:#1f77b4;stroke:#1f77b4;\" x=\"116.656534\" xlink:href=\"#m73f566d273\" y=\"106.433703\"/>\n     <use style=\"fill:#1f77b4;stroke:#1f77b4;\" x=\"138.849985\" xlink:href=\"#m73f566d273\" y=\"108.470207\"/>\n     <use style=\"fill:#1f77b4;stroke:#1f77b4;\" x=\"161.042629\" xlink:href=\"#m73f566d273\" y=\"100.565013\"/>\n     <use style=\"fill:#1f77b4;stroke:#1f77b4;\" x=\"183.23608\" xlink:href=\"#m73f566d273\" y=\"107.567262\"/>\n     <use style=\"fill:#1f77b4;stroke:#1f77b4;\" x=\"138.849985\" xlink:href=\"#m73f566d273\" y=\"96.82533\"/>\n     <use style=\"fill:#1f77b4;stroke:#1f77b4;\" x=\"172.13922\" xlink:href=\"#m73f566d273\" y=\"89.805253\"/>\n     <use style=\"fill:#1f77b4;stroke:#1f77b4;\" x=\"161.042629\" xlink:href=\"#m73f566d273\" y=\"97.964702\"/>\n     <use style=\"fill:#1f77b4;stroke:#1f77b4;\" x=\"116.656534\" xlink:href=\"#m73f566d273\" y=\"87.398218\"/>\n     <use style=\"fill:#1f77b4;stroke:#1f77b4;\" x=\"127.753125\" xlink:href=\"#m73f566d273\" y=\"81.973055\"/>\n     <use style=\"fill:#1f77b4;stroke:#1f77b4;\" x=\"149.946576\" xlink:href=\"#m73f566d273\" y=\"79.662658\"/>\n     <use style=\"fill:#1f77b4;stroke:#1f77b4;\" x=\"149.946576\" xlink:href=\"#m73f566d273\" y=\"88.794042\"/>\n     <use style=\"fill:#1f77b4;stroke:#1f77b4;\" x=\"138.849985\" xlink:href=\"#m73f566d273\" y=\"92.951543\"/>\n     <use style=\"fill:#1f77b4;stroke:#1f77b4;\" x=\"116.656534\" xlink:href=\"#m73f566d273\" y=\"90.548513\"/>\n     <use style=\"fill:#1f77b4;stroke:#1f77b4;\" x=\"149.946576\" xlink:href=\"#m73f566d273\" y=\"94.980165\"/>\n     <use style=\"fill:#1f77b4;stroke:#1f77b4;\" x=\"116.656534\" xlink:href=\"#m73f566d273\" y=\"102.418059\"/>\n     <use style=\"fill:#1f77b4;stroke:#1f77b4;\" x=\"127.753125\" xlink:href=\"#m73f566d273\" y=\"96.913958\"/>\n     <use style=\"fill:#1f77b4;stroke:#1f77b4;\" x=\"94.463352\" xlink:href=\"#m73f566d273\" y=\"107.642195\"/>\n     <use style=\"fill:#1f77b4;stroke:#1f77b4;\" x=\"105.559943\" xlink:href=\"#m73f566d273\" y=\"103.194781\"/>\n     <use style=\"fill:#1f77b4;stroke:#1f77b4;\" x=\"172.13922\" xlink:href=\"#m73f566d273\" y=\"108.068022\"/>\n     <use style=\"fill:#1f77b4;stroke:#1f77b4;\" x=\"138.849985\" xlink:href=\"#m73f566d273\" y=\"102.386536\"/>\n     <use style=\"fill:#1f77b4;stroke:#1f77b4;\" x=\"138.849985\" xlink:href=\"#m73f566d273\" y=\"97.759799\"/>\n     <use style=\"fill:#1f77b4;stroke:#1f77b4;\" x=\"138.849985\" xlink:href=\"#m73f566d273\" y=\"110.264081\"/>\n     <use style=\"fill:#1f77b4;stroke:#1f77b4;\" x=\"138.849985\" xlink:href=\"#m73f566d273\" y=\"96.949487\"/>\n     <use style=\"fill:#1f77b4;stroke:#1f77b4;\" x=\"138.849985\" xlink:href=\"#m73f566d273\" y=\"101.107116\"/>\n     <use style=\"fill:#1f77b4;stroke:#1f77b4;\" x=\"183.23608\" xlink:href=\"#m73f566d273\" y=\"91.784523\"/>\n     <use style=\"fill:#1f77b4;stroke:#1f77b4;\" x=\"138.849985\" xlink:href=\"#m73f566d273\" y=\"102.33925\"/>\n     <use style=\"fill:#1f77b4;stroke:#1f77b4;\" x=\"194.33267\" xlink:href=\"#m73f566d273\" y=\"98.244668\"/>\n     <use style=\"fill:#1f77b4;stroke:#1f77b4;\" x=\"94.463352\" xlink:href=\"#m73f566d273\" y=\"88.654124\"/>\n     <use style=\"fill:#1f77b4;stroke:#1f77b4;\" x=\"149.946576\" xlink:href=\"#m73f566d273\" y=\"99.563492\"/>\n     <use style=\"fill:#1f77b4;stroke:#1f77b4;\" x=\"138.849985\" xlink:href=\"#m73f566d273\" y=\"98.487168\"/>\n     <use style=\"fill:#1f77b4;stroke:#1f77b4;\" x=\"105.559943\" xlink:href=\"#m73f566d273\" y=\"93.511474\"/>\n     <use style=\"fill:#1f77b4;stroke:#1f77b4;\" x=\"127.753125\" xlink:href=\"#m73f566d273\" y=\"101.93319\"/>\n     <use style=\"fill:#1f77b4;stroke:#1f77b4;\" x=\"138.849985\" xlink:href=\"#m73f566d273\" y=\"99.084566\"/>\n     <use style=\"fill:#1f77b4;stroke:#1f77b4;\" x=\"149.946576\" xlink:href=\"#m73f566d273\" y=\"109.725854\"/>\n     <use style=\"fill:#1f77b4;stroke:#1f77b4;\" x=\"127.753125\" xlink:href=\"#m73f566d273\" y=\"109.451961\"/>\n     <use style=\"fill:#1f77b4;stroke:#1f77b4;\" x=\"127.753125\" xlink:href=\"#m73f566d273\" y=\"114.674029\"/>\n     <use style=\"fill:#1f77b4;stroke:#1f77b4;\" x=\"116.656534\" xlink:href=\"#m73f566d273\" y=\"127.089684\"/>\n     <use style=\"fill:#1f77b4;stroke:#1f77b4;\" x=\"116.656534\" xlink:href=\"#m73f566d273\" y=\"118.652335\"/>\n     <use style=\"fill:#1f77b4;stroke:#1f77b4;\" x=\"116.656534\" xlink:href=\"#m73f566d273\" y=\"132.215243\"/>\n     <use style=\"fill:#1f77b4;stroke:#1f77b4;\" x=\"172.13922\" xlink:href=\"#m73f566d273\" y=\"126.973408\"/>\n     <use style=\"fill:#1f77b4;stroke:#1f77b4;\" x=\"161.042629\" xlink:href=\"#m73f566d273\" y=\"135.929217\"/>\n     <use style=\"fill:#1f77b4;stroke:#1f77b4;\" x=\"161.042629\" xlink:href=\"#m73f566d273\" y=\"120.300349\"/>\n     <use style=\"fill:#1f77b4;stroke:#1f77b4;\" x=\"105.559943\" xlink:href=\"#m73f566d273\" y=\"125.175528\"/>\n     <use style=\"fill:#1f77b4;stroke:#1f77b4;\" x=\"94.463352\" xlink:href=\"#m73f566d273\" y=\"114.256083\"/>\n     <use style=\"fill:#1f77b4;stroke:#1f77b4;\" x=\"194.33267\" xlink:href=\"#m73f566d273\" y=\"109.808668\"/>\n     <use style=\"fill:#1f77b4;stroke:#1f77b4;\" x=\"138.849985\" xlink:href=\"#m73f566d273\" y=\"111.046746\"/>\n     <use style=\"fill:#1f77b4;stroke:#1f77b4;\" x=\"138.849985\" xlink:href=\"#m73f566d273\" y=\"115.74454\"/>\n     <use style=\"fill:#1f77b4;stroke:#1f77b4;\" x=\"105.559943\" xlink:href=\"#m73f566d273\" y=\"106.597394\"/>\n     <use style=\"fill:#1f77b4;stroke:#1f77b4;\" x=\"138.849985\" xlink:href=\"#m73f566d273\" y=\"97.805146\"/>\n     <use style=\"fill:#1f77b4;stroke:#1f77b4;\" x=\"172.13922\" xlink:href=\"#m73f566d273\" y=\"100.817331\"/>\n     <use style=\"fill:#1f77b4;stroke:#1f77b4;\" x=\"138.849985\" xlink:href=\"#m73f566d273\" y=\"98.410296\"/>\n     <use style=\"fill:#1f77b4;stroke:#1f77b4;\" x=\"138.849985\" xlink:href=\"#m73f566d273\" y=\"89.619987\"/>\n     <use style=\"fill:#1f77b4;stroke:#1f77b4;\" x=\"149.946576\" xlink:href=\"#m73f566d273\" y=\"98.575925\"/>\n     <use style=\"fill:#1f77b4;stroke:#1f77b4;\" x=\"127.753125\" xlink:href=\"#m73f566d273\" y=\"94.21533\"/>\n     <use style=\"fill:#1f77b4;stroke:#1f77b4;\" x=\"161.042629\" xlink:href=\"#m73f566d273\" y=\"88.178944\"/>\n     <use style=\"fill:#1f77b4;stroke:#1f77b4;\" x=\"149.946576\" xlink:href=\"#m73f566d273\" y=\"97.487714\"/>\n     <use style=\"fill:#1f77b4;stroke:#1f77b4;\" x=\"183.23608\" xlink:href=\"#m73f566d273\" y=\"99.07268\"/>\n     <use style=\"fill:#1f77b4;stroke:#1f77b4;\" x=\"138.849985\" xlink:href=\"#m73f566d273\" y=\"93.742088\"/>\n     <use style=\"fill:#1f77b4;stroke:#1f77b4;\" x=\"127.753125\" xlink:href=\"#m73f566d273\" y=\"103.939978\"/>\n     <use style=\"fill:#1f77b4;stroke:#1f77b4;\" x=\"116.656534\" xlink:href=\"#m73f566d273\" y=\"101.974532\"/>\n     <use style=\"fill:#1f77b4;stroke:#1f77b4;\" x=\"149.946576\" xlink:href=\"#m73f566d273\" y=\"115.101794\"/>\n     <use style=\"fill:#1f77b4;stroke:#1f77b4;\" x=\"127.753125\" xlink:href=\"#m73f566d273\" y=\"103.472809\"/>\n     <use style=\"fill:#1f77b4;stroke:#1f77b4;\" x=\"172.13922\" xlink:href=\"#m73f566d273\" y=\"106.388356\"/>\n     <use style=\"fill:#1f77b4;stroke:#1f77b4;\" x=\"127.753125\" xlink:href=\"#m73f566d273\" y=\"110.108401\"/>\n     <use style=\"fill:#1f77b4;stroke:#1f77b4;\" x=\"183.23608\" xlink:href=\"#m73f566d273\" y=\"104.870442\"/>\n     <use style=\"fill:#1f77b4;stroke:#1f77b4;\" x=\"138.849985\" xlink:href=\"#m73f566d273\" y=\"106.009943\"/>\n     <use style=\"fill:#1f77b4;stroke:#1f77b4;\" x=\"161.042629\" xlink:href=\"#m73f566d273\" y=\"100.322514\"/>\n     <use style=\"fill:#1f77b4;stroke:#1f77b4;\" x=\"138.849985\" xlink:href=\"#m73f566d273\" y=\"91.179373\"/>\n     <use style=\"fill:#1f77b4;stroke:#1f77b4;\" x=\"194.33267\" xlink:href=\"#m73f566d273\" y=\"91.875218\"/>\n     <use style=\"fill:#1f77b4;stroke:#1f77b4;\" x=\"127.753125\" xlink:href=\"#m73f566d273\" y=\"93.470003\"/>\n     <use style=\"fill:#1f77b4;stroke:#1f77b4;\" x=\"149.946576\" xlink:href=\"#m73f566d273\" y=\"87.163729\"/>\n     <use style=\"fill:#1f77b4;stroke:#1f77b4;\" x=\"172.13922\" xlink:href=\"#m73f566d273\" y=\"83.159841\"/>\n     <use style=\"fill:#1f77b4;stroke:#1f77b4;\" x=\"138.849985\" xlink:href=\"#m73f566d273\" y=\"90.960516\"/>\n     <use style=\"fill:#1f77b4;stroke:#1f77b4;\" x=\"138.849985\" xlink:href=\"#m73f566d273\" y=\"81.375786\"/>\n     <use style=\"fill:#1f77b4;stroke:#1f77b4;\" x=\"161.042629\" xlink:href=\"#m73f566d273\" y=\"90.946692\"/>\n     <use style=\"fill:#1f77b4;stroke:#1f77b4;\" x=\"138.849985\" xlink:href=\"#m73f566d273\" y=\"84.108134\"/>\n     <use style=\"fill:#1f77b4;stroke:#1f77b4;\" x=\"116.656534\" xlink:href=\"#m73f566d273\" y=\"87.650665\"/>\n     <use style=\"fill:#1f77b4;stroke:#1f77b4;\" x=\"116.656534\" xlink:href=\"#m73f566d273\" y=\"89.769853\"/>\n     <use style=\"fill:#1f77b4;stroke:#1f77b4;\" x=\"116.656534\" xlink:href=\"#m73f566d273\" y=\"87.632836\"/>\n     <use style=\"fill:#1f77b4;stroke:#1f77b4;\" x=\"116.656534\" xlink:href=\"#m73f566d273\" y=\"97.3872\"/>\n     <use style=\"fill:#1f77b4;stroke:#1f77b4;\" x=\"105.559943\" xlink:href=\"#m73f566d273\" y=\"104.383505\"/>\n     <use style=\"fill:#1f77b4;stroke:#1f77b4;\" x=\"138.849985\" xlink:href=\"#m73f566d273\" y=\"97.722332\"/>\n     <use style=\"fill:#1f77b4;stroke:#1f77b4;\" x=\"138.849985\" xlink:href=\"#m73f566d273\" y=\"93.811078\"/>\n     <use style=\"fill:#1f77b4;stroke:#1f77b4;\" x=\"149.946576\" xlink:href=\"#m73f566d273\" y=\"118.287488\"/>\n     <use style=\"fill:#1f77b4;stroke:#1f77b4;\" x=\"116.656534\" xlink:href=\"#m73f566d273\" y=\"113.666694\"/>\n     <use style=\"fill:#1f77b4;stroke:#1f77b4;\" x=\"116.656534\" xlink:href=\"#m73f566d273\" y=\"102.834068\"/>\n     <use style=\"fill:#1f77b4;stroke:#1f77b4;\" x=\"105.559943\" xlink:href=\"#m73f566d273\" y=\"99.985444\"/>\n     <use style=\"fill:#1f77b4;stroke:#1f77b4;\" x=\"116.656534\" xlink:href=\"#m73f566d273\" y=\"109.030009\"/>\n     <use style=\"fill:#1f77b4;stroke:#1f77b4;\" x=\"138.849985\" xlink:href=\"#m73f566d273\" y=\"113.284277\"/>\n     <use style=\"fill:#1f77b4;stroke:#1f77b4;\" x=\"127.753125\" xlink:href=\"#m73f566d273\" y=\"109.723916\"/>\n     <use style=\"fill:#1f77b4;stroke:#1f77b4;\" x=\"172.13922\" xlink:href=\"#m73f566d273\" y=\"99.336884\"/>\n     <use style=\"fill:#1f77b4;stroke:#1f77b4;\" x=\"161.042629\" xlink:href=\"#m73f566d273\" y=\"106.163685\"/>\n     <use style=\"fill:#1f77b4;stroke:#1f77b4;\" x=\"138.849985\" xlink:href=\"#m73f566d273\" y=\"99.855215\"/>\n     <use style=\"fill:#1f77b4;stroke:#1f77b4;\" x=\"116.656534\" xlink:href=\"#m73f566d273\" y=\"91.151725\"/>\n     <use style=\"fill:#1f77b4;stroke:#1f77b4;\" x=\"138.849985\" xlink:href=\"#m73f566d273\" y=\"96.470431\"/>\n     <use style=\"fill:#1f77b4;stroke:#1f77b4;\" x=\"127.753125\" xlink:href=\"#m73f566d273\" y=\"82.172144\"/>\n     <use style=\"fill:#1f77b4;stroke:#1f77b4;\" x=\"83.366492\" xlink:href=\"#m73f566d273\" y=\"94.233029\"/>\n     <use style=\"fill:#1f77b4;stroke:#1f77b4;\" x=\"61.173849\" xlink:href=\"#m73f566d273\" y=\"85.44272\"/>\n     <use style=\"fill:#1f77b4;stroke:#1f77b4;\" x=\"149.946576\" xlink:href=\"#m73f566d273\" y=\"84.54378\"/>\n     <use style=\"fill:#1f77b4;stroke:#1f77b4;\" x=\"172.13922\" xlink:href=\"#m73f566d273\" y=\"77.79385\"/>\n     <use style=\"fill:#1f77b4;stroke:#1f77b4;\" x=\"127.753125\" xlink:href=\"#m73f566d273\" y=\"88.523895\"/>\n     <use style=\"fill:#1f77b4;stroke:#1f77b4;\" x=\"161.042629\" xlink:href=\"#m73f566d273\" y=\"86.11686\"/>\n     <use style=\"fill:#1f77b4;stroke:#1f77b4;\" x=\"94.463352\" xlink:href=\"#m73f566d273\" y=\"93.387318\"/>\n     <use style=\"fill:#1f77b4;stroke:#1f77b4;\" x=\"105.559943\" xlink:href=\"#m73f566d273\" y=\"88.766395\"/>\n     <use style=\"fill:#1f77b4;stroke:#1f77b4;\" x=\"149.946576\" xlink:href=\"#m73f566d273\" y=\"83.875453\"/>\n     <use style=\"fill:#1f77b4;stroke:#1f77b4;\" x=\"116.656534\" xlink:href=\"#m73f566d273\" y=\"96.823392\"/>\n     <use style=\"fill:#1f77b4;stroke:#1f77b4;\" x=\"149.946576\" xlink:href=\"#m73f566d273\" y=\"95.573558\"/>\n     <use style=\"fill:#1f77b4;stroke:#1f77b4;\" x=\"94.463352\" xlink:href=\"#m73f566d273\" y=\"93.521293\"/>\n     <use style=\"fill:#1f77b4;stroke:#1f77b4;\" x=\"127.753125\" xlink:href=\"#m73f566d273\" y=\"103.541799\"/>\n     <use style=\"fill:#1f77b4;stroke:#1f77b4;\" x=\"149.946576\" xlink:href=\"#m73f566d273\" y=\"95.638543\"/>\n     <use style=\"fill:#1f77b4;stroke:#1f77b4;\" x=\"138.849985\" xlink:href=\"#m73f566d273\" y=\"93.85255\"/>\n     <use style=\"fill:#1f77b4;stroke:#1f77b4;\" x=\"116.656534\" xlink:href=\"#m73f566d273\" y=\"99.614783\"/>\n     <use style=\"fill:#1f77b4;stroke:#1f77b4;\" x=\"161.042629\" xlink:href=\"#m73f566d273\" y=\"87.098614\"/>\n     <use style=\"fill:#1f77b4;stroke:#1f77b4;\" x=\"149.946576\" xlink:href=\"#m73f566d273\" y=\"82.828714\"/>\n     <use style=\"fill:#1f77b4;stroke:#1f77b4;\" x=\"161.042629\" xlink:href=\"#m73f566d273\" y=\"89.655516\"/>\n     <use style=\"fill:#1f77b4;stroke:#1f77b4;\" x=\"138.849985\" xlink:href=\"#m73f566d273\" y=\"77.05059\"/>\n     <use style=\"fill:#1f77b4;stroke:#1f77b4;\" x=\"138.849985\" xlink:href=\"#m73f566d273\" y=\"75.087082\"/>\n     <use style=\"fill:#1f77b4;stroke:#1f77b4;\" x=\"94.463352\" xlink:href=\"#m73f566d273\" y=\"75.61549\"/>\n     <use style=\"fill:#1f77b4;stroke:#1f77b4;\" x=\"116.656534\" xlink:href=\"#m73f566d273\" y=\"82.087392\"/>\n     <use style=\"fill:#1f77b4;stroke:#1f77b4;\" x=\"149.946576\" xlink:href=\"#m73f566d273\" y=\"81.986879\"/>\n     <use style=\"fill:#1f77b4;stroke:#1f77b4;\" x=\"138.849985\" xlink:href=\"#m73f566d273\" y=\"76.567658\"/>\n     <use style=\"fill:#1f77b4;stroke:#1f77b4;\" x=\"83.366492\" xlink:href=\"#m73f566d273\" y=\"69.019302\"/>\n     <use style=\"fill:#1f77b4;stroke:#1f77b4;\" x=\"116.656534\" xlink:href=\"#m73f566d273\" y=\"68.475132\"/>\n     <use style=\"fill:#1f77b4;stroke:#1f77b4;\" x=\"172.13922\" xlink:href=\"#m73f566d273\" y=\"86.036113\"/>\n     <use style=\"fill:#1f77b4;stroke:#1f77b4;\" x=\"127.753125\" xlink:href=\"#m73f566d273\" y=\"79.907095\"/>\n     <use style=\"fill:#1f77b4;stroke:#1f77b4;\" x=\"116.656534\" xlink:href=\"#m73f566d273\" y=\"88.94378\"/>\n     <use style=\"fill:#1f77b4;stroke:#1f77b4;\" x=\"138.849985\" xlink:href=\"#m73f566d273\" y=\"84.943897\"/>\n     <use style=\"fill:#1f77b4;stroke:#1f77b4;\" x=\"149.946576\" xlink:href=\"#m73f566d273\" y=\"98.867647\"/>\n     <use style=\"fill:#1f77b4;stroke:#1f77b4;\" x=\"105.559943\" xlink:href=\"#m73f566d273\" y=\"104.533372\"/>\n     <use style=\"fill:#1f77b4;stroke:#1f77b4;\" x=\"94.463352\" xlink:href=\"#m73f566d273\" y=\"94.057582\"/>\n     <use style=\"fill:#1f77b4;stroke:#1f77b4;\" x=\"149.946576\" xlink:href=\"#m73f566d273\" y=\"106.473108\"/>\n     <use style=\"fill:#1f77b4;stroke:#1f77b4;\" x=\"105.559943\" xlink:href=\"#m73f566d273\" y=\"98.477349\"/>\n     <use style=\"fill:#1f77b4;stroke:#1f77b4;\" x=\"138.849985\" xlink:href=\"#m73f566d273\" y=\"105.747677\"/>\n     <use style=\"fill:#1f77b4;stroke:#1f77b4;\" x=\"105.559943\" xlink:href=\"#m73f566d273\" y=\"98.820362\"/>\n     <use style=\"fill:#1f77b4;stroke:#1f77b4;\" x=\"116.656534\" xlink:href=\"#m73f566d273\" y=\"91.6229\"/>\n     <use style=\"fill:#1f77b4;stroke:#1f77b4;\" x=\"149.946576\" xlink:href=\"#m73f566d273\" y=\"100.578837\"/>\n     <use style=\"fill:#1f77b4;stroke:#1f77b4;\" x=\"127.753125\" xlink:href=\"#m73f566d273\" y=\"89.127107\"/>\n     <use style=\"fill:#1f77b4;stroke:#1f77b4;\" x=\"83.366492\" xlink:href=\"#m73f566d273\" y=\"88.13954\"/>\n     <use style=\"fill:#1f77b4;stroke:#1f77b4;\" x=\"116.656534\" xlink:href=\"#m73f566d273\" y=\"92.482435\"/>\n     <use style=\"fill:#1f77b4;stroke:#1f77b4;\" x=\"94.463352\" xlink:href=\"#m73f566d273\" y=\"81.030834\"/>\n     <use style=\"fill:#1f77b4;stroke:#1f77b4;\" x=\"61.173849\" xlink:href=\"#m73f566d273\" y=\"80.486664\"/>\n     <use style=\"fill:#1f77b4;stroke:#1f77b4;\" x=\"116.656534\" xlink:href=\"#m73f566d273\" y=\"85.184459\"/>\n     <use style=\"fill:#1f77b4;stroke:#1f77b4;\" x=\"94.463352\" xlink:href=\"#m73f566d273\" y=\"77.990872\"/>\n     <use style=\"fill:#1f77b4;stroke:#1f77b4;\" x=\"94.463352\" xlink:href=\"#m73f566d273\" y=\"80.108123\"/>\n     <use style=\"fill:#1f77b4;stroke:#1f77b4;\" x=\"138.849985\" xlink:href=\"#m73f566d273\" y=\"71.140428\"/>\n     <use style=\"fill:#1f77b4;stroke:#1f77b4;\" x=\"138.849985\" xlink:href=\"#m73f566d273\" y=\"74.951039\"/>\n     <use style=\"fill:#1f77b4;stroke:#1f77b4;\" x=\"127.753125\" xlink:href=\"#m73f566d273\" y=\"72.366619\"/>\n     <use style=\"fill:#1f77b4;stroke:#1f77b4;\" x=\"127.753125\" xlink:href=\"#m73f566d273\" y=\"81.411185\"/>\n     <use style=\"fill:#1f77b4;stroke:#1f77b4;\" x=\"161.042629\" xlink:href=\"#m73f566d273\" y=\"74.572627\"/>\n     <use style=\"fill:#1f77b4;stroke:#1f77b4;\" x=\"149.946576\" xlink:href=\"#m73f566d273\" y=\"78.109215\"/>\n     <use style=\"fill:#1f77b4;stroke:#1f77b4;\" x=\"105.559943\" xlink:href=\"#m73f566d273\" y=\"90.258728\"/>\n     <use style=\"fill:#1f77b4;stroke:#1f77b4;\" x=\"94.463352\" xlink:href=\"#m73f566d273\" y=\"86.081461\"/>\n     <use style=\"fill:#1f77b4;stroke:#1f77b4;\" x=\"105.559943\" xlink:href=\"#m73f566d273\" y=\"89.174522\"/>\n     <use style=\"fill:#1f77b4;stroke:#1f77b4;\" x=\"127.753125\" xlink:href=\"#m73f566d273\" y=\"83.577788\"/>\n     <use style=\"fill:#1f77b4;stroke:#1f77b4;\" x=\"94.463352\" xlink:href=\"#m73f566d273\" y=\"94.219205\"/>\n     <use style=\"fill:#1f77b4;stroke:#1f77b4;\" x=\"161.042629\" xlink:href=\"#m73f566d273\" y=\"91.900928\"/>\n     <use style=\"fill:#1f77b4;stroke:#1f77b4;\" x=\"138.849985\" xlink:href=\"#m73f566d273\" y=\"86.925105\"/>\n     <use style=\"fill:#1f77b4;stroke:#1f77b4;\" x=\"127.753125\" xlink:href=\"#m73f566d273\" y=\"92.776096\"/>\n     <use style=\"fill:#1f77b4;stroke:#1f77b4;\" x=\"72.269901\" xlink:href=\"#m73f566d273\" y=\"90.635203\"/>\n     <use style=\"fill:#1f77b4;stroke:#1f77b4;\" x=\"94.463352\" xlink:href=\"#m73f566d273\" y=\"80.24817\"/>\n     <use style=\"fill:#1f77b4;stroke:#1f77b4;\" x=\"127.753125\" xlink:href=\"#m73f566d273\" y=\"81.042591\"/>\n     <use style=\"fill:#1f77b4;stroke:#1f77b4;\" x=\"138.849985\" xlink:href=\"#m73f566d273\" y=\"78.192029\"/>\n     <use style=\"fill:#1f77b4;stroke:#1f77b4;\" x=\"127.753125\" xlink:href=\"#m73f566d273\" y=\"83.155966\"/>\n     <use style=\"fill:#1f77b4;stroke:#1f77b4;\" x=\"105.559943\" xlink:href=\"#m73f566d273\" y=\"75.25271\"/>\n     <use style=\"fill:#1f77b4;stroke:#1f77b4;\" x=\"172.13922\" xlink:href=\"#m73f566d273\" y=\"79.41034\"/>\n     <use style=\"fill:#1f77b4;stroke:#1f77b4;\" x=\"138.849985\" xlink:href=\"#m73f566d273\" y=\"87.390337\"/>\n     <use style=\"fill:#1f77b4;stroke:#1f77b4;\" x=\"94.463352\" xlink:href=\"#m73f566d273\" y=\"78.688785\"/>\n     <use style=\"fill:#1f77b4;stroke:#1f77b4;\" x=\"116.656534\" xlink:href=\"#m73f566d273\" y=\"86.039989\"/>\n     <use style=\"fill:#1f77b4;stroke:#1f77b4;\" x=\"94.463352\" xlink:href=\"#m73f566d273\" y=\"77.338437\"/>\n     <use style=\"fill:#1f77b4;stroke:#1f77b4;\" x=\"161.042629\" xlink:href=\"#m73f566d273\" y=\"91.439572\"/>\n     <use style=\"fill:#1f77b4;stroke:#1f77b4;\" x=\"83.366492\" xlink:href=\"#m73f566d273\" y=\"97.99235\"/>\n     <use style=\"fill:#1f77b4;stroke:#1f77b4;\" x=\"94.463352\" xlink:href=\"#m73f566d273\" y=\"90.355366\"/>\n     <use style=\"fill:#1f77b4;stroke:#1f77b4;\" x=\"116.656534\" xlink:href=\"#m73f566d273\" y=\"102.327364\"/>\n     <use style=\"fill:#1f77b4;stroke:#1f77b4;\" x=\"105.559943\" xlink:href=\"#m73f566d273\" y=\"104.355987\"/>\n     <use style=\"fill:#1f77b4;stroke:#1f77b4;\" x=\"127.753125\" xlink:href=\"#m73f566d273\" y=\"110.561747\"/>\n     <use style=\"fill:#1f77b4;stroke:#1f77b4;\" x=\"83.366492\" xlink:href=\"#m73f566d273\" y=\"103.634432\"/>\n     <use style=\"fill:#1f77b4;stroke:#1f77b4;\" x=\"105.559943\" xlink:href=\"#m73f566d273\" y=\"99.808059\"/>\n     <use style=\"fill:#1f77b4;stroke:#1f77b4;\" x=\"138.849985\" xlink:href=\"#m73f566d273\" y=\"111.513915\"/>\n     <use style=\"fill:#1f77b4;stroke:#1f77b4;\" x=\"138.849985\" xlink:href=\"#m73f566d273\" y=\"99.973558\"/>\n     <use style=\"fill:#1f77b4;stroke:#1f77b4;\" x=\"149.946576\" xlink:href=\"#m73f566d273\" y=\"95.703658\"/>\n     <use style=\"fill:#1f77b4;stroke:#1f77b4;\" x=\"94.463352\" xlink:href=\"#m73f566d273\" y=\"101.998175\"/>\n     <use style=\"fill:#1f77b4;stroke:#1f77b4;\" x=\"116.656534\" xlink:href=\"#m73f566d273\" y=\"96.312813\"/>\n     <use style=\"fill:#1f77b4;stroke:#1f77b4;\" x=\"116.656534\" xlink:href=\"#m73f566d273\" y=\"90.534689\"/>\n     <use style=\"fill:#1f77b4;stroke:#1f77b4;\" x=\"105.559943\" xlink:href=\"#m73f566d273\" y=\"82.010521\"/>\n     <use style=\"fill:#1f77b4;stroke:#1f77b4;\" x=\"127.753125\" xlink:href=\"#m73f566d273\" y=\"85.377606\"/>\n     <use style=\"fill:#1f77b4;stroke:#1f77b4;\" x=\"83.366492\" xlink:href=\"#m73f566d273\" y=\"67.264703\"/>\n     <use style=\"fill:#1f77b4;stroke:#1f77b4;\" x=\"94.463352\" xlink:href=\"#m73f566d273\" y=\"74.801302\"/>\n     <use style=\"fill:#1f77b4;stroke:#1f77b4;\" x=\"127.753125\" xlink:href=\"#m73f566d273\" y=\"64.502898\"/>\n     <use style=\"fill:#1f77b4;stroke:#1f77b4;\" x=\"161.042629\" xlink:href=\"#m73f566d273\" y=\"74.341884\"/>\n     <use style=\"fill:#1f77b4;stroke:#1f77b4;\" x=\"194.33267\" xlink:href=\"#m73f566d273\" y=\"70.430759\"/>\n     <use style=\"fill:#1f77b4;stroke:#1f77b4;\" x=\"116.656534\" xlink:href=\"#m73f566d273\" y=\"73.797843\"/>\n     <use style=\"fill:#1f77b4;stroke:#1f77b4;\" x=\"127.753125\" xlink:href=\"#m73f566d273\" y=\"78.044101\"/>\n     <use style=\"fill:#1f77b4;stroke:#1f77b4;\" x=\"149.946576\" xlink:href=\"#m73f566d273\" y=\"71.471685\"/>\n     <use style=\"fill:#1f77b4;stroke:#1f77b4;\" x=\"105.559943\" xlink:href=\"#m73f566d273\" y=\"82.734014\"/>\n     <use style=\"fill:#1f77b4;stroke:#1f77b4;\" x=\"116.656534\" xlink:href=\"#m73f566d273\" y=\"90.617503\"/>\n     <use style=\"fill:#1f77b4;stroke:#1f77b4;\" x=\"149.946576\" xlink:href=\"#m73f566d273\" y=\"81.383666\"/>\n     <use style=\"fill:#1f77b4;stroke:#1f77b4;\" x=\"172.13922\" xlink:href=\"#m73f566d273\" y=\"91.670185\"/>\n     <use style=\"fill:#1f77b4;stroke:#1f77b4;\" x=\"105.559943\" xlink:href=\"#m73f566d273\" y=\"96.093956\"/>\n     <use style=\"fill:#1f77b4;stroke:#1f77b4;\" x=\"127.753125\" xlink:href=\"#m73f566d273\" y=\"85.52941\"/>\n     <use style=\"fill:#1f77b4;stroke:#1f77b4;\" x=\"183.23608\" xlink:href=\"#m73f566d273\" y=\"92.71111\"/>\n     <use style=\"fill:#1f77b4;stroke:#1f77b4;\" x=\"149.946576\" xlink:href=\"#m73f566d273\" y=\"76.993486\"/>\n     <use style=\"fill:#1f77b4;stroke:#1f77b4;\" x=\"138.849985\" xlink:href=\"#m73f566d273\" y=\"79.828286\"/>\n     <use style=\"fill:#1f77b4;stroke:#1f77b4;\" x=\"127.753125\" xlink:href=\"#m73f566d273\" y=\"85.679276\"/>\n     <use style=\"fill:#1f77b4;stroke:#1f77b4;\" x=\"127.753125\" xlink:href=\"#m73f566d273\" y=\"84.070667\"/>\n     <use style=\"fill:#1f77b4;stroke:#1f77b4;\" x=\"149.946576\" xlink:href=\"#m73f566d273\" y=\"71.554499\"/>\n     <use style=\"fill:#1f77b4;stroke:#1f77b4;\" x=\"149.946576\" xlink:href=\"#m73f566d273\" y=\"75.897394\"/>\n     <use style=\"fill:#1f77b4;stroke:#1f77b4;\" x=\"138.849985\" xlink:href=\"#m73f566d273\" y=\"75.264596\"/>\n     <use style=\"fill:#1f77b4;stroke:#1f77b4;\" x=\"127.753125\" xlink:href=\"#m73f566d273\" y=\"74.462165\"/>\n     <use style=\"fill:#1f77b4;stroke:#1f77b4;\" x=\"116.656534\" xlink:href=\"#m73f566d273\" y=\"68.067134\"/>\n     <use style=\"fill:#1f77b4;stroke:#1f77b4;\" x=\"149.946576\" xlink:href=\"#m73f566d273\" y=\"71.692479\"/>\n     <use style=\"fill:#1f77b4;stroke:#1f77b4;\" x=\"127.753125\" xlink:href=\"#m73f566d273\" y=\"65.829603\"/>\n     <use style=\"fill:#1f77b4;stroke:#1f77b4;\" x=\"161.042629\" xlink:href=\"#m73f566d273\" y=\"73.543587\"/>\n     <use style=\"fill:#1f77b4;stroke:#1f77b4;\" x=\"105.559943\" xlink:href=\"#m73f566d273\" y=\"63.680829\"/>\n     <use style=\"fill:#1f77b4;stroke:#1f77b4;\" x=\"172.13922\" xlink:href=\"#m73f566d273\" y=\"76.273869\"/>\n     <use style=\"fill:#1f77b4;stroke:#1f77b4;\" x=\"172.13922\" xlink:href=\"#m73f566d273\" y=\"71.741703\"/>\n     <use style=\"fill:#1f77b4;stroke:#1f77b4;\" x=\"138.849985\" xlink:href=\"#m73f566d273\" y=\"76.254102\"/>\n     <use style=\"fill:#1f77b4;stroke:#1f77b4;\" x=\"172.13922\" xlink:href=\"#m73f566d273\" y=\"89.024656\"/>\n     <use style=\"fill:#1f77b4;stroke:#1f77b4;\" x=\"183.23608\" xlink:href=\"#m73f566d273\" y=\"96.028842\"/>\n     <use style=\"fill:#1f77b4;stroke:#1f77b4;\" x=\"161.042629\" xlink:href=\"#m73f566d273\" y=\"98.678376\"/>\n     <use style=\"fill:#1f77b4;stroke:#1f77b4;\" x=\"127.753125\" xlink:href=\"#m73f566d273\" y=\"94.412352\"/>\n     <use style=\"fill:#1f77b4;stroke:#1f77b4;\" x=\"127.753125\" xlink:href=\"#m73f566d273\" y=\"101.771438\"/>\n     <use style=\"fill:#1f77b4;stroke:#1f77b4;\" x=\"116.656534\" xlink:href=\"#m73f566d273\" y=\"103.888688\"/>\n     <use style=\"fill:#1f77b4;stroke:#1f77b4;\" x=\"161.042629\" xlink:href=\"#m73f566d273\" y=\"93.324141\"/>\n     <use style=\"fill:#1f77b4;stroke:#1f77b4;\" x=\"172.13922\" xlink:href=\"#m73f566d273\" y=\"84.179062\"/>\n     <use style=\"fill:#1f77b4;stroke:#1f77b4;\" x=\"172.13922\" xlink:href=\"#m73f566d273\" y=\"78.755837\"/>\n     <use style=\"fill:#1f77b4;stroke:#1f77b4;\" x=\"138.849985\" xlink:href=\"#m73f566d273\" y=\"90.106924\"/>\n     <use style=\"fill:#1f77b4;stroke:#1f77b4;\" x=\"138.849985\" xlink:href=\"#m73f566d273\" y=\"76.614944\"/>\n     <use style=\"fill:#1f77b4;stroke:#1f77b4;\" x=\"172.13922\" xlink:href=\"#m73f566d273\" y=\"72.344915\"/>\n     <use style=\"fill:#1f77b4;stroke:#1f77b4;\" x=\"105.559943\" xlink:href=\"#m73f566d273\" y=\"80.857325\"/>\n     <use style=\"fill:#1f77b4;stroke:#1f77b4;\" x=\"94.463352\" xlink:href=\"#m73f566d273\" y=\"68.873441\"/>\n     <use style=\"fill:#1f77b4;stroke:#1f77b4;\" x=\"116.656534\" xlink:href=\"#m73f566d273\" y=\"63.184074\"/>\n     <use style=\"fill:#1f77b4;stroke:#1f77b4;\" x=\"138.849985\" xlink:href=\"#m73f566d273\" y=\"69.567348\"/>\n     <use style=\"fill:#1f77b4;stroke:#1f77b4;\" x=\"138.849985\" xlink:href=\"#m73f566d273\" y=\"68.410147\"/>\n     <use style=\"fill:#1f77b4;stroke:#1f77b4;\" x=\"161.042629\" xlink:href=\"#m73f566d273\" y=\"63.607834\"/>\n     <use style=\"fill:#1f77b4;stroke:#1f77b4;\" x=\"149.946576\" xlink:href=\"#m73f566d273\" y=\"57.035418\"/>\n     <use style=\"fill:#1f77b4;stroke:#1f77b4;\" x=\"172.13922\" xlink:href=\"#m73f566d273\" y=\"64.483131\"/>\n     <use style=\"fill:#1f77b4;stroke:#1f77b4;\" x=\"116.656534\" xlink:href=\"#m73f566d273\" y=\"68.729517\"/>\n     <use style=\"fill:#1f77b4;stroke:#1f77b4;\" x=\"127.753125\" xlink:href=\"#m73f566d273\" y=\"65.794074\"/>\n     <use style=\"fill:#1f77b4;stroke:#1f77b4;\" x=\"138.849985\" xlink:href=\"#m73f566d273\" y=\"72.887018\"/>\n     <use style=\"fill:#1f77b4;stroke:#1f77b4;\" x=\"161.042629\" xlink:href=\"#m73f566d273\" y=\"67.01639\"/>\n     <use style=\"fill:#1f77b4;stroke:#1f77b4;\" x=\"138.849985\" xlink:href=\"#m73f566d273\" y=\"80.851382\"/>\n     <use style=\"fill:#1f77b4;stroke:#1f77b4;\" x=\"138.849985\" xlink:href=\"#m73f566d273\" y=\"72.415972\"/>\n     <use style=\"fill:#1f77b4;stroke:#1f77b4;\" x=\"138.849985\" xlink:href=\"#m73f566d273\" y=\"79.767177\"/>\n     <use style=\"fill:#1f77b4;stroke:#1f77b4;\" x=\"138.849985\" xlink:href=\"#m73f566d273\" y=\"85.618167\"/>\n     <use style=\"fill:#1f77b4;stroke:#1f77b4;\" x=\"172.13922\" xlink:href=\"#m73f566d273\" y=\"77.714911\"/>\n     <use style=\"fill:#1f77b4;stroke:#1f77b4;\" x=\"161.042629\" xlink:href=\"#m73f566d273\" y=\"75.396634\"/>\n     <use style=\"fill:#1f77b4;stroke:#1f77b4;\" x=\"127.753125\" xlink:href=\"#m73f566d273\" y=\"80.449198\"/>\n     <use style=\"fill:#1f77b4;stroke:#1f77b4;\" x=\"149.946576\" xlink:href=\"#m73f566d273\" y=\"69.884651\"/>\n     <use style=\"fill:#1f77b4;stroke:#1f77b4;\" x=\"149.946576\" xlink:href=\"#m73f566d273\" y=\"65.348609\"/>\n     <use style=\"fill:#1f77b4;stroke:#1f77b4;\" x=\"138.849985\" xlink:href=\"#m73f566d273\" y=\"71.554499\"/>\n     <use style=\"fill:#1f77b4;stroke:#1f77b4;\" x=\"105.559943\" xlink:href=\"#m73f566d273\" y=\"63.74\"/>\n     <use style=\"fill:#1f77b4;stroke:#1f77b4;\" x=\"116.656534\" xlink:href=\"#m73f566d273\" y=\"59.736113\"/>\n     <use style=\"fill:#1f77b4;stroke:#1f77b4;\" x=\"138.849985\" xlink:href=\"#m73f566d273\" y=\"64.966192\"/>\n     <use style=\"fill:#1f77b4;stroke:#1f77b4;\" x=\"105.559943\" xlink:href=\"#m73f566d273\" y=\"57.861362\"/>\n     <use style=\"fill:#1f77b4;stroke:#1f77b4;\" x=\"127.753125\" xlink:href=\"#m73f566d273\" y=\"56.341381\"/>\n     <use style=\"fill:#1f77b4;stroke:#1f77b4;\" x=\"116.656534\" xlink:href=\"#m73f566d273\" y=\"63.168312\"/>\n     <use style=\"fill:#1f77b4;stroke:#1f77b4;\" x=\"105.559943\" xlink:href=\"#m73f566d273\" y=\"55.708583\"/>\n     <use style=\"fill:#1f77b4;stroke:#1f77b4;\" x=\"149.946576\" xlink:href=\"#m73f566d273\" y=\"59.067787\"/>\n     <use style=\"fill:#1f77b4;stroke:#1f77b4;\" x=\"172.13922\" xlink:href=\"#m73f566d273\" y=\"68.201109\"/>\n     <use style=\"fill:#1f77b4;stroke:#1f77b4;\" x=\"127.753125\" xlink:href=\"#m73f566d273\" y=\"61.539936\"/>\n     <use style=\"fill:#1f77b4;stroke:#1f77b4;\" x=\"149.946576\" xlink:href=\"#m73f566d273\" y=\"61.705564\"/>\n     <use style=\"fill:#1f77b4;stroke:#1f77b4;\" x=\"172.13922\" xlink:href=\"#m73f566d273\" y=\"70.572745\"/>\n     <use style=\"fill:#1f77b4;stroke:#1f77b4;\" x=\"172.13922\" xlink:href=\"#m73f566d273\" y=\"79.173783\"/>\n     <use style=\"fill:#1f77b4;stroke:#1f77b4;\" x=\"138.849985\" xlink:href=\"#m73f566d273\" y=\"85.194278\"/>\n     <use style=\"fill:#1f77b4;stroke:#1f77b4;\" x=\"138.849985\" xlink:href=\"#m73f566d273\" y=\"78.887874\"/>\n     <use style=\"fill:#1f77b4;stroke:#1f77b4;\" x=\"172.13922\" xlink:href=\"#m73f566d273\" y=\"89.972819\"/>\n     <use style=\"fill:#1f77b4;stroke:#1f77b4;\" x=\"105.559943\" xlink:href=\"#m73f566d273\" y=\"77.714911\"/>\n     <use style=\"fill:#1f77b4;stroke:#1f77b4;\" x=\"138.849985\" xlink:href=\"#m73f566d273\" y=\"83.122375\"/>\n     <use style=\"fill:#1f77b4;stroke:#1f77b4;\" x=\"149.946576\" xlink:href=\"#m73f566d273\" y=\"78.324067\"/>\n     <use style=\"fill:#1f77b4;stroke:#1f77b4;\" x=\"138.849985\" xlink:href=\"#m73f566d273\" y=\"78.844594\"/>\n     <use style=\"fill:#1f77b4;stroke:#1f77b4;\" x=\"116.656534\" xlink:href=\"#m73f566d273\" y=\"68.900959\"/>\n     <use style=\"fill:#1f77b4;stroke:#1f77b4;\" x=\"172.13922\" xlink:href=\"#m73f566d273\" y=\"79.542377\"/>\n     <use style=\"fill:#1f77b4;stroke:#1f77b4;\" x=\"105.559943\" xlink:href=\"#m73f566d273\" y=\"76.070774\"/>\n     <use style=\"fill:#1f77b4;stroke:#1f77b4;\" x=\"194.33267\" xlink:href=\"#m73f566d273\" y=\"64.974073\"/>\n     <use style=\"fill:#1f77b4;stroke:#1f77b4;\" x=\"138.849985\" xlink:href=\"#m73f566d273\" y=\"70.026637\"/>\n     <use style=\"fill:#1f77b4;stroke:#1f77b4;\" x=\"138.849985\" xlink:href=\"#m73f566d273\" y=\"62.740417\"/>\n     <use style=\"fill:#1f77b4;stroke:#1f77b4;\" x=\"161.042629\" xlink:href=\"#m73f566d273\" y=\"69.301206\"/>\n     <use style=\"fill:#1f77b4;stroke:#1f77b4;\" x=\"138.849985\" xlink:href=\"#m73f566d273\" y=\"61.75285\"/>\n     <use style=\"fill:#1f77b4;stroke:#1f77b4;\" x=\"161.042629\" xlink:href=\"#m73f566d273\" y=\"58.192489\"/>\n     <use style=\"fill:#1f77b4;stroke:#1f77b4;\" x=\"127.753125\" xlink:href=\"#m73f566d273\" y=\"66.438758\"/>\n     <use style=\"fill:#1f77b4;stroke:#1f77b4;\" x=\"127.753125\" xlink:href=\"#m73f566d273\" y=\"60.043598\"/>\n     <use style=\"fill:#1f77b4;stroke:#1f77b4;\" x=\"105.559943\" xlink:href=\"#m73f566d273\" y=\"61.806078\"/>\n     <use style=\"fill:#1f77b4;stroke:#1f77b4;\" x=\"138.849985\" xlink:href=\"#m73f566d273\" y=\"58.249723\"/>\n     <use style=\"fill:#1f77b4;stroke:#1f77b4;\" x=\"127.753125\" xlink:href=\"#m73f566d273\" y=\"69.955709\"/>\n     <use style=\"fill:#1f77b4;stroke:#1f77b4;\" x=\"138.849985\" xlink:href=\"#m73f566d273\" y=\"73.137398\"/>\n     <use style=\"fill:#1f77b4;stroke:#1f77b4;\" x=\"83.366492\" xlink:href=\"#m73f566d273\" y=\"66.564982\"/>\n     <use style=\"fill:#1f77b4;stroke:#1f77b4;\" x=\"116.656534\" xlink:href=\"#m73f566d273\" y=\"74.456222\"/>\n     <use style=\"fill:#1f77b4;stroke:#1f77b4;\" x=\"116.656534\" xlink:href=\"#m73f566d273\" y=\"78.081567\"/>\n     <use style=\"fill:#1f77b4;stroke:#1f77b4;\" x=\"94.463352\" xlink:href=\"#m73f566d273\" y=\"69.291258\"/>\n     <use style=\"fill:#1f77b4;stroke:#1f77b4;\" x=\"161.042629\" xlink:href=\"#m73f566d273\" y=\"70.085808\"/>\n     <use style=\"fill:#1f77b4;stroke:#1f77b4;\" x=\"105.559943\" xlink:href=\"#m73f566d273\" y=\"67.678773\"/>\n     <use style=\"fill:#1f77b4;stroke:#1f77b4;\" x=\"161.042629\" xlink:href=\"#m73f566d273\" y=\"72.553952\"/>\n     <use style=\"fill:#1f77b4;stroke:#1f77b4;\" x=\"127.753125\" xlink:href=\"#m73f566d273\" y=\"61.368365\"/>\n     <use style=\"fill:#1f77b4;stroke:#1f77b4;\" x=\"161.042629\" xlink:href=\"#m73f566d273\" y=\"62.953331\"/>\n     <use style=\"fill:#1f77b4;stroke:#1f77b4;\" x=\"116.656534\" xlink:href=\"#m73f566d273\" y=\"70.578558\"/>\n     <use style=\"fill:#1f77b4;stroke:#1f77b4;\" x=\"127.753125\" xlink:href=\"#m73f566d273\" y=\"58.860816\"/>\n     <use style=\"fill:#1f77b4;stroke:#1f77b4;\" x=\"127.753125\" xlink:href=\"#m73f566d273\" y=\"58.228018\"/>\n     <use style=\"fill:#1f77b4;stroke:#1f77b4;\" x=\"116.656534\" xlink:href=\"#m73f566d273\" y=\"52.187757\"/>\n     <use style=\"fill:#1f77b4;stroke:#1f77b4;\" x=\"94.463352\" xlink:href=\"#m73f566d273\" y=\"59.635599\"/>\n     <use style=\"fill:#1f77b4;stroke:#1f77b4;\" x=\"127.753125\" xlink:href=\"#m73f566d273\" y=\"58.647902\"/>\n     <use style=\"fill:#1f77b4;stroke:#1f77b4;\" x=\"172.13922\" xlink:href=\"#m73f566d273\" y=\"53.760966\"/>\n     <use style=\"fill:#1f77b4;stroke:#1f77b4;\" x=\"183.23608\" xlink:href=\"#m73f566d273\" y=\"62.007106\"/>\n     <use style=\"fill:#1f77b4;stroke:#1f77b4;\" x=\"127.753125\" xlink:href=\"#m73f566d273\" y=\"60.132355\"/>\n     <use style=\"fill:#1f77b4;stroke:#1f77b4;\" x=\"149.946576\" xlink:href=\"#m73f566d273\" y=\"51.075903\"/>\n     <use style=\"fill:#1f77b4;stroke:#1f77b4;\" x=\"127.753125\" xlink:href=\"#m73f566d273\" y=\"61.717321\"/>\n     <use style=\"fill:#1f77b4;stroke:#1f77b4;\" x=\"161.042629\" xlink:href=\"#m73f566d273\" y=\"65.165281\"/>\n     <use style=\"fill:#1f77b4;stroke:#1f77b4;\" x=\"116.656534\" xlink:href=\"#m73f566d273\" y=\"62.939636\"/>\n     <use style=\"fill:#1f77b4;stroke:#1f77b4;\" x=\"183.23608\" xlink:href=\"#m73f566d273\" y=\"75.355162\"/>\n     <use style=\"fill:#1f77b4;stroke:#1f77b4;\" x=\"127.753125\" xlink:href=\"#m73f566d273\" y=\"78.271872\"/>\n     <use style=\"fill:#1f77b4;stroke:#1f77b4;\" x=\"127.753125\" xlink:href=\"#m73f566d273\" y=\"71.432151\"/>\n     <use style=\"fill:#1f77b4;stroke:#1f77b4;\" x=\"161.042629\" xlink:href=\"#m73f566d273\" y=\"84.02532\"/>\n     <use style=\"fill:#1f77b4;stroke:#1f77b4;\" x=\"161.042629\" xlink:href=\"#m73f566d273\" y=\"82.506372\"/>\n     <use style=\"fill:#1f77b4;stroke:#1f77b4;\" x=\"183.23608\" xlink:href=\"#m73f566d273\" y=\"76.642462\"/>\n     <use style=\"fill:#1f77b4;stroke:#1f77b4;\" x=\"94.463352\" xlink:href=\"#m73f566d273\" y=\"82.670967\"/>\n     <use style=\"fill:#1f77b4;stroke:#1f77b4;\" x=\"183.23608\" xlink:href=\"#m73f566d273\" y=\"78.222519\"/>\n     <use style=\"fill:#1f77b4;stroke:#1f77b4;\" x=\"116.656534\" xlink:href=\"#m73f566d273\" y=\"68.457432\"/>\n     <use style=\"fill:#1f77b4;stroke:#1f77b4;\" x=\"172.13922\" xlink:href=\"#m73f566d273\" y=\"74.574565\"/>\n     <use style=\"fill:#1f77b4;stroke:#1f77b4;\" x=\"161.042629\" xlink:href=\"#m73f566d273\" y=\"64.359879\"/>\n     <use style=\"fill:#1f77b4;stroke:#1f77b4;\" x=\"94.463352\" xlink:href=\"#m73f566d273\" y=\"51.578602\"/>\n     <use style=\"fill:#1f77b4;stroke:#1f77b4;\" x=\"116.656534\" xlink:href=\"#m73f566d273\" y=\"57.607106\"/>\n     <use style=\"fill:#1f77b4;stroke:#1f77b4;\" x=\"116.656534\" xlink:href=\"#m73f566d273\" y=\"50.320887\"/>\n     <use style=\"fill:#1f77b4;stroke:#1f77b4;\" x=\"138.849985\" xlink:href=\"#m73f566d273\" y=\"55.461175\"/>\n     <use style=\"fill:#1f77b4;stroke:#1f77b4;\" x=\"183.23608\" xlink:href=\"#m73f566d273\" y=\"44.010608\"/>\n     <use style=\"fill:#1f77b4;stroke:#1f77b4;\" x=\"94.463352\" xlink:href=\"#m73f566d273\" y=\"42.668141\"/>\n     <use style=\"fill:#1f77b4;stroke:#1f77b4;\" x=\"161.042629\" xlink:href=\"#m73f566d273\" y=\"36.274014\"/>\n     <use style=\"fill:#1f77b4;stroke:#1f77b4;\" x=\"94.463352\" xlink:href=\"#m73f566d273\" y=\"50.285358\"/>\n     <use style=\"fill:#1f77b4;stroke:#1f77b4;\" x=\"216.525852\" xlink:href=\"#m73f566d273\" y=\"36.608113\"/>\n     <use style=\"fill:#1f77b4;stroke:#1f77b4;\" x=\"172.13922\" xlink:href=\"#m73f566d273\" y=\"47.071112\"/>\n     <use style=\"fill:#1f77b4;stroke:#1f77b4;\" x=\"138.849985\" xlink:href=\"#m73f566d273\" y=\"44.136702\"/>\n     <use style=\"fill:#1f77b4;stroke:#1f77b4;\" x=\"94.463352\" xlink:href=\"#m73f566d273\" y=\"49.802427\"/>\n     <use style=\"fill:#1f77b4;stroke:#1f77b4;\" x=\"161.042629\" xlink:href=\"#m73f566d273\" y=\"58.313804\"/>\n     <use style=\"fill:#1f77b4;stroke:#1f77b4;\" x=\"149.946576\" xlink:href=\"#m73f566d273\" y=\"51.83092\"/>\n     <use style=\"fill:#1f77b4;stroke:#1f77b4;\" x=\"105.559943\" xlink:href=\"#m73f566d273\" y=\"66.194321\"/>\n     <use style=\"fill:#1f77b4;stroke:#1f77b4;\" x=\"138.849985\" xlink:href=\"#m73f566d273\" y=\"58.379822\"/>\n     <use style=\"fill:#1f77b4;stroke:#1f77b4;\" x=\"149.946576\" xlink:href=\"#m73f566d273\" y=\"66.006083\"/>\n     <use style=\"fill:#1f77b4;stroke:#1f77b4;\" x=\"127.753125\" xlink:href=\"#m73f566d273\" y=\"62.888346\"/>\n     <use style=\"fill:#1f77b4;stroke:#1f77b4;\" x=\"149.946576\" xlink:href=\"#m73f566d273\" y=\"54.009279\"/>\n     <use style=\"fill:#1f77b4;stroke:#1f77b4;\" x=\"116.656534\" xlink:href=\"#m73f566d273\" y=\"58.262513\"/>\n     <use style=\"fill:#1f77b4;stroke:#1f77b4;\" x=\"149.946576\" xlink:href=\"#m73f566d273\" y=\"43.344219\"/>\n     <use style=\"fill:#1f77b4;stroke:#1f77b4;\" x=\"127.753125\" xlink:href=\"#m73f566d273\" y=\"48.574297\"/>\n     <use style=\"fill:#1f77b4;stroke:#1f77b4;\" x=\"138.849985\" xlink:href=\"#m73f566d273\" y=\"38.188169\"/>\n     <use style=\"fill:#1f77b4;stroke:#1f77b4;\" x=\"149.946576\" xlink:href=\"#m73f566d273\" y=\"35.957615\"/>\n     <use style=\"fill:#1f77b4;stroke:#1f77b4;\" x=\"138.849985\" xlink:href=\"#m73f566d273\" y=\"39.235942\"/>\n     <use style=\"fill:#1f77b4;stroke:#1f77b4;\" x=\"149.946576\" xlink:href=\"#m73f566d273\" y=\"35.146269\"/>\n     <use style=\"fill:#1f77b4;stroke:#1f77b4;\" x=\"172.13922\" xlink:href=\"#m73f566d273\" y=\"29.457936\"/>\n     <use style=\"fill:#1f77b4;stroke:#1f77b4;\" x=\"94.463352\" xlink:href=\"#m73f566d273\" y=\"33.800831\"/>\n     <use style=\"fill:#1f77b4;stroke:#1f77b4;\" x=\"116.656534\" xlink:href=\"#m73f566d273\" y=\"25.364387\"/>\n     <use style=\"fill:#1f77b4;stroke:#1f77b4;\" x=\"83.366492\" xlink:href=\"#m73f566d273\" y=\"37.511058\"/>\n     <use style=\"fill:#1f77b4;stroke:#1f77b4;\" x=\"138.849985\" xlink:href=\"#m73f566d273\" y=\"34.664371\"/>\n     <use style=\"fill:#1f77b4;stroke:#1f77b4;\" x=\"116.656534\" xlink:href=\"#m73f566d273\" y=\"40.870132\"/>\n     <use style=\"fill:#1f77b4;stroke:#1f77b4;\" x=\"127.753125\" xlink:href=\"#m73f566d273\" y=\"44.850376\"/>\n     <use style=\"fill:#1f77b4;stroke:#1f77b4;\" x=\"161.042629\" xlink:href=\"#m73f566d273\" y=\"39.253642\"/>\n     <use style=\"fill:#1f77b4;stroke:#1f77b4;\" x=\"149.946576\" xlink:href=\"#m73f566d273\" y=\"53.709676\"/>\n     <use style=\"fill:#1f77b4;stroke:#1f77b4;\" x=\"105.559943\" xlink:href=\"#m73f566d273\" y=\"45.44377\"/>\n     <use style=\"fill:#1f77b4;stroke:#1f77b4;\" x=\"94.463352\" xlink:href=\"#m73f566d273\" y=\"57.149755\"/>\n     <use style=\"fill:#1f77b4;stroke:#1f77b4;\" x=\"172.13922\" xlink:href=\"#m73f566d273\" y=\"54.125684\"/>\n     <use style=\"fill:#1f77b4;stroke:#1f77b4;\" x=\"183.23608\" xlink:href=\"#m73f566d273\" y=\"54.823467\"/>\n     <use style=\"fill:#1f77b4;stroke:#1f77b4;\" x=\"127.753125\" xlink:href=\"#m73f566d273\" y=\"62.448695\"/>\n     <use style=\"fill:#1f77b4;stroke:#1f77b4;\" x=\"172.13922\" xlink:href=\"#m73f566d273\" y=\"56.85196\"/>\n     <use style=\"fill:#1f77b4;stroke:#1f77b4;\" x=\"127.753125\" xlink:href=\"#m73f566d273\" y=\"53.292763\"/>\n     <use style=\"fill:#1f77b4;stroke:#1f77b4;\" x=\"127.753125\" xlink:href=\"#m73f566d273\" y=\"58.78795\"/>\n     <use style=\"fill:#1f77b4;stroke:#1f77b4;\" x=\"149.946576\" xlink:href=\"#m73f566d273\" y=\"46.537923\"/>\n     <use style=\"fill:#1f77b4;stroke:#1f77b4;\" x=\"116.656534\" xlink:href=\"#m73f566d273\" y=\"43.244739\"/>\n     <use style=\"fill:#1f77b4;stroke:#1f77b4;\" x=\"138.849985\" xlink:href=\"#m73f566d273\" y=\"50.070507\"/>\n     <use style=\"fill:#1f77b4;stroke:#1f77b4;\" x=\"138.849985\" xlink:href=\"#m73f566d273\" y=\"38.086622\"/>\n     <use style=\"fill:#1f77b4;stroke:#1f77b4;\" x=\"105.559943\" xlink:href=\"#m73f566d273\" y=\"34.613985\"/>\n     <use style=\"fill:#1f77b4;stroke:#1f77b4;\" x=\"172.13922\" xlink:href=\"#m73f566d273\" y=\"40.644557\"/>\n     <use style=\"fill:#1f77b4;stroke:#1f77b4;\" x=\"105.559943\" xlink:href=\"#m73f566d273\" y=\"33.982221\"/>\n     <use style=\"fill:#1f77b4;stroke:#1f77b4;\" x=\"105.559943\" xlink:href=\"#m73f566d273\" y=\"30.687098\"/>\n     <use style=\"fill:#1f77b4;stroke:#1f77b4;\" x=\"138.849985\" xlink:href=\"#m73f566d273\" y=\"26.422108\"/>\n     <use style=\"fill:#1f77b4;stroke:#1f77b4;\" x=\"72.269901\" xlink:href=\"#m73f566d273\" y=\"33.071524\"/>\n     <use style=\"fill:#1f77b4;stroke:#1f77b4;\" x=\"138.849985\" xlink:href=\"#m73f566d273\" y=\"31.99507\"/>\n     <use style=\"fill:#1f77b4;stroke:#1f77b4;\" x=\"172.13922\" xlink:href=\"#m73f566d273\" y=\"29.414655\"/>\n     <use style=\"fill:#1f77b4;stroke:#1f77b4;\" x=\"105.559943\" xlink:href=\"#m73f566d273\" y=\"39.612417\"/>\n     <use style=\"fill:#1f77b4;stroke:#1f77b4;\" x=\"127.753125\" xlink:href=\"#m73f566d273\" y=\"39.866802\"/>\n     <use style=\"fill:#1f77b4;stroke:#1f77b4;\" x=\"172.13922\" xlink:href=\"#m73f566d273\" y=\"48.999091\"/>\n     <use style=\"fill:#1f77b4;stroke:#1f77b4;\" x=\"94.463352\" xlink:href=\"#m73f566d273\" y=\"38.967862\"/>\n     <use style=\"fill:#1f77b4;stroke:#1f77b4;\" x=\"105.559943\" xlink:href=\"#m73f566d273\" y=\"40.375443\"/>\n     <use style=\"fill:#1f77b4;stroke:#1f77b4;\" x=\"205.429261\" xlink:href=\"#m73f566d273\" y=\"49.331252\"/>\n     <use style=\"fill:#1f77b4;stroke:#1f77b4;\" x=\"149.946576\" xlink:href=\"#m73f566d273\" y=\"43.024849\"/>\n     <use style=\"fill:#1f77b4;stroke:#1f77b4;\" x=\"149.946576\" xlink:href=\"#m73f566d273\" y=\"41.238855\"/>\n     <use style=\"fill:#1f77b4;stroke:#1f77b4;\" x=\"127.753125\" xlink:href=\"#m73f566d273\" y=\"52.589941\"/>\n     <use style=\"fill:#1f77b4;stroke:#1f77b4;\" x=\"172.13922\" xlink:href=\"#m73f566d273\" y=\"44.155565\"/>\n     <use style=\"fill:#1f77b4;stroke:#1f77b4;\" x=\"183.23608\" xlink:href=\"#m73f566d273\" y=\"46.449166\"/>\n     <use style=\"fill:#1f77b4;stroke:#1f77b4;\" x=\"161.042629\" xlink:href=\"#m73f566d273\" y=\"35.883586\"/>\n     <use style=\"fill:#1f77b4;stroke:#1f77b4;\" x=\"138.849985\" xlink:href=\"#m73f566d273\" y=\"46.527071\"/>\n     <use style=\"fill:#1f77b4;stroke:#1f77b4;\" x=\"105.559943\" xlink:href=\"#m73f566d273\" y=\"45.53834\"/>\n     <use style=\"fill:#1f77b4;stroke:#1f77b4;\" x=\"172.13922\" xlink:href=\"#m73f566d273\" y=\"36.127119\"/>\n     <use style=\"fill:#1f77b4;stroke:#1f77b4;\" x=\"172.13922\" xlink:href=\"#m73f566d273\" y=\"38.694744\"/>\n     <use style=\"fill:#1f77b4;stroke:#1f77b4;\" x=\"138.849985\" xlink:href=\"#m73f566d273\" y=\"37.70808\"/>\n     <use style=\"fill:#1f77b4;stroke:#1f77b4;\" x=\"94.463352\" xlink:href=\"#m73f566d273\" y=\"44.446254\"/>\n     <use style=\"fill:#1f77b4;stroke:#1f77b4;\" x=\"116.656534\" xlink:href=\"#m73f566d273\" y=\"36.541965\"/>\n     <use style=\"fill:#1f77b4;stroke:#1f77b4;\" x=\"116.656534\" xlink:href=\"#m73f566d273\" y=\"38.926391\"/>\n     <use style=\"fill:#1f77b4;stroke:#1f77b4;\" x=\"138.849985\" xlink:href=\"#m73f566d273\" y=\"33.418413\"/>\n     <use style=\"fill:#1f77b4;stroke:#1f77b4;\" x=\"149.946576\" xlink:href=\"#m73f566d273\" y=\"43.08402\"/>\n     <use style=\"fill:#1f77b4;stroke:#1f77b4;\" x=\"116.656534\" xlink:href=\"#m73f566d273\" y=\"49.725555\"/>\n     <use style=\"fill:#1f77b4;stroke:#1f77b4;\" x=\"127.753125\" xlink:href=\"#m73f566d273\" y=\"45.016004\"/>\n     <use style=\"fill:#1f77b4;stroke:#1f77b4;\" x=\"161.042629\" xlink:href=\"#m73f566d273\" y=\"59.294524\"/>\n     <use style=\"fill:#1f77b4;stroke:#1f77b4;\" x=\"138.849985\" xlink:href=\"#m73f566d273\" y=\"68.065067\"/>\n     <use style=\"fill:#1f77b4;stroke:#1f77b4;\" x=\"161.042629\" xlink:href=\"#m73f566d273\" y=\"60.16194\"/>\n     <use style=\"fill:#1f77b4;stroke:#1f77b4;\" x=\"172.13922\" xlink:href=\"#m73f566d273\" y=\"54.653963\"/>\n     <use style=\"fill:#1f77b4;stroke:#1f77b4;\" x=\"149.946576\" xlink:href=\"#m73f566d273\" y=\"55.263118\"/>\n     <use style=\"fill:#1f77b4;stroke:#1f77b4;\" x=\"127.753125\" xlink:href=\"#m73f566d273\" y=\"60.75921\"/>\n     <use style=\"fill:#1f77b4;stroke:#1f77b4;\" x=\"149.946576\" xlink:href=\"#m73f566d273\" y=\"50.904461\"/>\n     <use style=\"fill:#1f77b4;stroke:#1f77b4;\" x=\"183.23608\" xlink:href=\"#m73f566d273\" y=\"61.099381\"/>\n     <use style=\"fill:#1f77b4;stroke:#1f77b4;\" x=\"161.042629\" xlink:href=\"#m73f566d273\" y=\"47.606367\"/>\n     <use style=\"fill:#1f77b4;stroke:#1f77b4;\" x=\"127.753125\" xlink:href=\"#m73f566d273\" y=\"53.900885\"/>\n     <use style=\"fill:#1f77b4;stroke:#1f77b4;\" x=\"116.656534\" xlink:href=\"#m73f566d273\" y=\"52.382066\"/>\n     <use style=\"fill:#1f77b4;stroke:#1f77b4;\" x=\"149.946576\" xlink:href=\"#m73f566d273\" y=\"55.481975\"/>\n     <use style=\"fill:#1f77b4;stroke:#1f77b4;\" x=\"127.753125\" xlink:href=\"#m73f566d273\" y=\"48.199761\"/>\n     <use style=\"fill:#1f77b4;stroke:#1f77b4;\" x=\"127.753125\" xlink:href=\"#m73f566d273\" y=\"44.727124\"/>\n     <use style=\"fill:#1f77b4;stroke:#1f77b4;\" x=\"149.946576\" xlink:href=\"#m73f566d273\" y=\"37.357186\"/>\n     <use style=\"fill:#1f77b4;stroke:#1f77b4;\" x=\"116.656534\" xlink:href=\"#m73f566d273\" y=\"40.901785\"/>\n     <use style=\"fill:#1f77b4;stroke:#1f77b4;\" x=\"105.559943\" xlink:href=\"#m73f566d273\" y=\"39.735669\"/>\n     <use style=\"fill:#1f77b4;stroke:#1f77b4;\" x=\"127.753125\" xlink:href=\"#m73f566d273\" y=\"32.631873\"/>\n     <use style=\"fill:#1f77b4;stroke:#1f77b4;\" x=\"127.753125\" xlink:href=\"#m73f566d273\" y=\"25.615801\"/>\n     <use style=\"fill:#1f77b4;stroke:#1f77b4;\" x=\"161.042629\" xlink:href=\"#m73f566d273\" y=\"31.191735\"/>\n     <use style=\"fill:#1f77b4;stroke:#1f77b4;\" x=\"161.042629\" xlink:href=\"#m73f566d273\" y=\"39.793807\"/>\n     <use style=\"fill:#1f77b4;stroke:#1f77b4;\" x=\"161.042629\" xlink:href=\"#m73f566d273\" y=\"43.072263\"/>\n     <use style=\"fill:#1f77b4;stroke:#1f77b4;\" x=\"138.849985\" xlink:href=\"#m73f566d273\" y=\"49.270143\"/>\n     <use style=\"fill:#1f77b4;stroke:#1f77b4;\" x=\"116.656534\" xlink:href=\"#m73f566d273\" y=\"41.279293\"/>\n     <use style=\"fill:#1f77b4;stroke:#1f77b4;\" x=\"116.656534\" xlink:href=\"#m73f566d273\" y=\"51.121251\"/>\n     <use style=\"fill:#1f77b4;stroke:#1f77b4;\" x=\"127.753125\" xlink:href=\"#m73f566d273\" y=\"56.875732\"/>\n     <use style=\"fill:#1f77b4;stroke:#1f77b4;\" x=\"116.656534\" xlink:href=\"#m73f566d273\" y=\"47.997699\"/>\n     <use style=\"fill:#1f77b4;stroke:#1f77b4;\" x=\"149.946576\" xlink:href=\"#m73f566d273\" y=\"57.484888\"/>\n     <use style=\"fill:#1f77b4;stroke:#1f77b4;\" x=\"116.656534\" xlink:href=\"#m73f566d273\" y=\"42.56556\"/>\n     <use style=\"fill:#1f77b4;stroke:#1f77b4;\" x=\"183.23608\" xlink:href=\"#m73f566d273\" y=\"52.851045\"/>\n     <use style=\"fill:#1f77b4;stroke:#1f77b4;\" x=\"149.946576\" xlink:href=\"#m73f566d273\" y=\"41.844005\"/>\n     <use style=\"fill:#1f77b4;stroke:#1f77b4;\" x=\"149.946576\" xlink:href=\"#m73f566d273\" y=\"37.130578\"/>\n     <use style=\"fill:#1f77b4;stroke:#1f77b4;\" x=\"161.042629\" xlink:href=\"#m73f566d273\" y=\"44.399873\"/>\n     <use style=\"fill:#1f77b4;stroke:#1f77b4;\" x=\"149.946576\" xlink:href=\"#m73f566d273\" y=\"31.884738\"/>\n     <use style=\"fill:#1f77b4;stroke:#1f77b4;\" x=\"116.656534\" xlink:href=\"#m73f566d273\" y=\"28.856661\"/>\n     <use style=\"fill:#1f77b4;stroke:#1f77b4;\" x=\"116.656534\" xlink:href=\"#m73f566d273\" y=\"28.497887\"/>\n     <use style=\"fill:#1f77b4;stroke:#1f77b4;\" x=\"127.753125\" xlink:href=\"#m73f566d273\" y=\"35.944695\"/>\n     <use style=\"fill:#1f77b4;stroke:#1f77b4;\" x=\"105.559943\" xlink:href=\"#m73f566d273\" y=\"30.966031\"/>\n     <use style=\"fill:#1f77b4;stroke:#1f77b4;\" x=\"172.13922\" xlink:href=\"#m73f566d273\" y=\"20.312856\"/>\n     <use style=\"fill:#1f77b4;stroke:#1f77b4;\" x=\"105.559943\" xlink:href=\"#m73f566d273\" y=\"26.428955\"/>\n     <use style=\"fill:#1f77b4;stroke:#1f77b4;\" x=\"161.042629\" xlink:href=\"#m73f566d273\" y=\"26.861759\"/>\n     <use style=\"fill:#1f77b4;stroke:#1f77b4;\" x=\"94.463352\" xlink:href=\"#m73f566d273\" y=\"20.200457\"/>\n     <use style=\"fill:#1f77b4;stroke:#1f77b4;\" x=\"83.366492\" xlink:href=\"#m73f566d273\" y=\"19.215731\"/>\n     <use style=\"fill:#1f77b4;stroke:#1f77b4;\" x=\"127.753125\" xlink:href=\"#m73f566d273\" y=\"26.124442\"/>\n     <use style=\"fill:#1f77b4;stroke:#1f77b4;\" x=\"138.849985\" xlink:href=\"#m73f566d273\" y=\"36.233576\"/>\n     <use style=\"fill:#1f77b4;stroke:#1f77b4;\" x=\"161.042629\" xlink:href=\"#m73f566d273\" y=\"30.547051\"/>\n     <use style=\"fill:#1f77b4;stroke:#1f77b4;\" x=\"138.849985\" xlink:href=\"#m73f566d273\" y=\"40.471952\"/>\n     <use style=\"fill:#1f77b4;stroke:#1f77b4;\" x=\"127.753125\" xlink:href=\"#m73f566d273\" y=\"51.556897\"/>\n     <use style=\"fill:#1f77b4;stroke:#1f77b4;\" x=\"149.946576\" xlink:href=\"#m73f566d273\" y=\"46.669961\"/>\n     <use style=\"fill:#1f77b4;stroke:#1f77b4;\" x=\"105.559943\" xlink:href=\"#m73f566d273\" y=\"44.174169\"/>\n     <use style=\"fill:#1f77b4;stroke:#1f77b4;\" x=\"127.753125\" xlink:href=\"#m73f566d273\" y=\"51.00097\"/>\n     <use style=\"fill:#1f77b4;stroke:#1f77b4;\" x=\"172.13922\" xlink:href=\"#m73f566d273\" y=\"42.654317\"/>\n     <use style=\"fill:#1f77b4;stroke:#1f77b4;\" x=\"183.23608\" xlink:href=\"#m73f566d273\" y=\"41.755377\"/>\n     <use style=\"fill:#1f77b4;stroke:#1f77b4;\" x=\"172.13922\" xlink:href=\"#m73f566d273\" y=\"46.630556\"/>\n     <use style=\"fill:#1f77b4;stroke:#1f77b4;\" x=\"161.042629\" xlink:href=\"#m73f566d273\" y=\"38.816058\"/>\n     <use style=\"fill:#1f77b4;stroke:#1f77b4;\" x=\"149.946576\" xlink:href=\"#m73f566d273\" y=\"37.473591\"/>\n     <use style=\"fill:#1f77b4;stroke:#1f77b4;\" x=\"50.077258\" xlink:href=\"#m73f566d273\" y=\"44.566534\"/>\n     <use style=\"fill:#1f77b4;stroke:#1f77b4;\" x=\"116.656534\" xlink:href=\"#m73f566d273\" y=\"37.63909\"/>\n     <use style=\"fill:#1f77b4;stroke:#1f77b4;\" x=\"149.946576\" xlink:href=\"#m73f566d273\" y=\"33.103048\"/>\n     <use style=\"fill:#1f77b4;stroke:#1f77b4;\" x=\"94.463352\" xlink:href=\"#m73f566d273\" y=\"23.514312\"/>\n     <use style=\"fill:#1f77b4;stroke:#1f77b4;\" x=\"138.849985\" xlink:href=\"#m73f566d273\" y=\"25.728201\"/>\n     <use style=\"fill:#1f77b4;stroke:#1f77b4;\" x=\"116.656534\" xlink:href=\"#m73f566d273\" y=\"28.288978\"/>\n     <use style=\"fill:#1f77b4;stroke:#1f77b4;\" x=\"116.656534\" xlink:href=\"#m73f566d273\" y=\"16.305093\"/>\n     <use style=\"fill:#1f77b4;stroke:#1f77b4;\" x=\"161.042629\" xlink:href=\"#m73f566d273\" y=\"26.946511\"/>\n     <use style=\"fill:#1f77b4;stroke:#1f77b4;\" x=\"94.463352\" xlink:href=\"#m73f566d273\" y=\"22.587725\"/>\n     <use style=\"fill:#1f77b4;stroke:#1f77b4;\" x=\"105.559943\" xlink:href=\"#m73f566d273\" y=\"32.785615\"/>\n     <use style=\"fill:#1f77b4;stroke:#1f77b4;\" x=\"127.753125\" xlink:href=\"#m73f566d273\" y=\"23.019495\"/>\n     <use style=\"fill:#1f77b4;stroke:#1f77b4;\" x=\"161.042629\" xlink:href=\"#m73f566d273\" y=\"30.3707\"/>\n     <use style=\"fill:#1f77b4;stroke:#1f77b4;\" x=\"149.946576\" xlink:href=\"#m73f566d273\" y=\"33.471642\"/>\n     <use style=\"fill:#1f77b4;stroke:#1f77b4;\" x=\"138.849985\" xlink:href=\"#m73f566d273\" y=\"29.915287\"/>\n     <use style=\"fill:#1f77b4;stroke:#1f77b4;\" x=\"127.753125\" xlink:href=\"#m73f566d273\" y=\"37.355248\"/>\n     <use style=\"fill:#1f77b4;stroke:#1f77b4;\" x=\"83.366492\" xlink:href=\"#m73f566d273\" y=\"45.956287\"/>\n     <use style=\"fill:#1f77b4;stroke:#1f77b4;\" x=\"116.656534\" xlink:href=\"#m73f566d273\" y=\"39.649883\"/>\n     <use style=\"fill:#1f77b4;stroke:#1f77b4;\" x=\"127.753125\" xlink:href=\"#m73f566d273\" y=\"36.976706\"/>\n     <use style=\"fill:#1f77b4;stroke:#1f77b4;\" x=\"105.559943\" xlink:href=\"#m73f566d273\" y=\"32.533297\"/>\n     <use style=\"fill:#1f77b4;stroke:#1f77b4;\" x=\"149.946576\" xlink:href=\"#m73f566d273\" y=\"41.489235\"/>\n     <use style=\"fill:#1f77b4;stroke:#1f77b4;\" x=\"149.946576\" xlink:href=\"#m73f566d273\" y=\"39.348342\"/>\n     <use style=\"fill:#1f77b4;stroke:#1f77b4;\" x=\"127.753125\" xlink:href=\"#m73f566d273\" y=\"28.517653\"/>\n     <use style=\"fill:#1f77b4;stroke:#1f77b4;\" x=\"127.753125\" xlink:href=\"#m73f566d273\" y=\"34.723543\"/>\n     <use style=\"fill:#1f77b4;stroke:#1f77b4;\" x=\"105.559943\" xlink:href=\"#m73f566d273\" y=\"27.88085\"/>\n     <use style=\"fill:#1f77b4;stroke:#1f77b4;\" x=\"161.042629\" xlink:href=\"#m73f566d273\" y=\"33.997983\"/>\n     <use style=\"fill:#1f77b4;stroke:#1f77b4;\" x=\"172.13922\" xlink:href=\"#m73f566d273\" y=\"26.449626\"/>\n     <use style=\"fill:#1f77b4;stroke:#1f77b4;\" x=\"172.13922\" xlink:href=\"#m73f566d273\" y=\"23.06678\"/>\n     <use style=\"fill:#1f77b4;stroke:#1f77b4;\" x=\"138.849985\" xlink:href=\"#m73f566d273\" y=\"33.530813\"/>\n     <use style=\"fill:#1f77b4;stroke:#1f77b4;\" x=\"138.849985\" xlink:href=\"#m73f566d273\" y=\"25.006646\"/>\n     <use style=\"fill:#1f77b4;stroke:#1f77b4;\" x=\"116.656534\" xlink:href=\"#m73f566d273\" y=\"28.365849\"/>\n     <use style=\"fill:#1f77b4;stroke:#1f77b4;\" x=\"149.946576\" xlink:href=\"#m73f566d273\" y=\"27.204772\"/>\n     <use style=\"fill:#1f77b4;stroke:#1f77b4;\" x=\"161.042629\" xlink:href=\"#m73f566d273\" y=\"34.563858\"/>\n     <use style=\"fill:#1f77b4;stroke:#1f77b4;\" x=\"149.946576\" xlink:href=\"#m73f566d273\" y=\"38.9875\"/>\n     <use style=\"fill:#1f77b4;stroke:#1f77b4;\" x=\"138.849985\" xlink:href=\"#m73f566d273\" y=\"36.761855\"/>\n     <use style=\"fill:#1f77b4;stroke:#1f77b4;\" x=\"94.463352\" xlink:href=\"#m73f566d273\" y=\"47.403273\"/>\n     <use style=\"fill:#1f77b4;stroke:#1f77b4;\" x=\"149.946576\" xlink:href=\"#m73f566d273\" y=\"52.093186\"/>\n     <use style=\"fill:#1f77b4;stroke:#1f77b4;\" x=\"94.463352\" xlink:href=\"#m73f566d273\" y=\"43.391504\"/>\n     <use style=\"fill:#1f77b4;stroke:#1f77b4;\" x=\"127.753125\" xlink:href=\"#m73f566d273\" y=\"51.371631\"/>\n     <use style=\"fill:#1f77b4;stroke:#1f77b4;\" x=\"149.946576\" xlink:href=\"#m73f566d273\" y=\"49.141981\"/>\n     <use style=\"fill:#1f77b4;stroke:#1f77b4;\" x=\"127.753125\" xlink:href=\"#m73f566d273\" y=\"55.081728\"/>\n     <use style=\"fill:#1f77b4;stroke:#1f77b4;\" x=\"116.656534\" xlink:href=\"#m73f566d273\" y=\"47.976899\"/>\n     <use style=\"fill:#1f77b4;stroke:#1f77b4;\" x=\"50.077258\" xlink:href=\"#m73f566d273\" y=\"46.900574\"/>\n     <use style=\"fill:#1f77b4;stroke:#1f77b4;\" x=\"149.946576\" xlink:href=\"#m73f566d273\" y=\"38.819934\"/>\n     <use style=\"fill:#1f77b4;stroke:#1f77b4;\" x=\"116.656534\" xlink:href=\"#m73f566d273\" y=\"43.340343\"/>\n     <use style=\"fill:#1f77b4;stroke:#1f77b4;\" x=\"172.13922\" xlink:href=\"#m73f566d273\" y=\"46.167262\"/>\n     <use style=\"fill:#1f77b4;stroke:#1f77b4;\" x=\"127.753125\" xlink:href=\"#m73f566d273\" y=\"34.183378\"/>\n     <use style=\"fill:#1f77b4;stroke:#1f77b4;\" x=\"94.463352\" xlink:href=\"#m73f566d273\" y=\"42.784416\"/>\n     <use style=\"fill:#1f77b4;stroke:#1f77b4;\" x=\"149.946576\" xlink:href=\"#m73f566d273\" y=\"40.554766\"/>\n     <use style=\"fill:#1f77b4;stroke:#1f77b4;\" x=\"116.656534\" xlink:href=\"#m73f566d273\" y=\"31.232173\"/>\n     <use style=\"fill:#1f77b4;stroke:#1f77b4;\" x=\"105.559943\" xlink:href=\"#m73f566d273\" y=\"20.224099\"/>\n     <use style=\"fill:#1f77b4;stroke:#1f77b4;\" x=\"116.656534\" xlink:href=\"#m73f566d273\" y=\"35.031027\"/>\n     <use style=\"fill:#1f77b4;stroke:#1f77b4;\" x=\"127.753125\" xlink:href=\"#m73f566d273\" y=\"18.966384\"/>\n     <use style=\"fill:#1f77b4;stroke:#1f77b4;\" x=\"127.753125\" xlink:href=\"#m73f566d273\" y=\"27.922322\"/>\n     <use style=\"fill:#1f77b4;stroke:#1f77b4;\" x=\"149.946576\" xlink:href=\"#m73f566d273\" y=\"28.886247\"/>\n     <use style=\"fill:#1f77b4;stroke:#1f77b4;\" x=\"149.946576\" xlink:href=\"#m73f566d273\" y=\"22.225074\"/>\n     <use style=\"fill:#1f77b4;stroke:#1f77b4;\" x=\"127.753125\" xlink:href=\"#m73f566d273\" y=\"32.068066\"/>\n     <use style=\"fill:#1f77b4;stroke:#1f77b4;\" x=\"161.042629\" xlink:href=\"#m73f566d273\" y=\"40.572466\"/>\n     <use style=\"fill:#1f77b4;stroke:#1f77b4;\" x=\"172.13922\" xlink:href=\"#m73f566d273\" y=\"34.35482\"/>\n     <use style=\"fill:#1f77b4;stroke:#1f77b4;\" x=\"138.849985\" xlink:href=\"#m73f566d273\" y=\"48.988239\"/>\n     <use style=\"fill:#1f77b4;stroke:#1f77b4;\" x=\"127.753125\" xlink:href=\"#m73f566d273\" y=\"35.044851\"/>\n     <use style=\"fill:#1f77b4;stroke:#1f77b4;\" x=\"127.753125\" xlink:href=\"#m73f566d273\" y=\"40.718457\"/>\n     <use style=\"fill:#1f77b4;stroke:#1f77b4;\" x=\"138.849985\" xlink:href=\"#m73f566d273\" y=\"36.807202\"/>\n     <use style=\"fill:#1f77b4;stroke:#1f77b4;\" x=\"138.849985\" xlink:href=\"#m73f566d273\" y=\"32.27116\"/>\n     <use style=\"fill:#1f77b4;stroke:#1f77b4;\" x=\"116.656534\" xlink:href=\"#m73f566d273\" y=\"45.307727\"/>\n     <use style=\"fill:#1f77b4;stroke:#1f77b4;\" x=\"161.042629\" xlink:href=\"#m73f566d273\" y=\"33.235085\"/>\n     <use style=\"fill:#1f77b4;stroke:#1f77b4;\" x=\"172.13922\" xlink:href=\"#m73f566d273\" y=\"42.364532\"/>\n     <use style=\"fill:#1f77b4;stroke:#1f77b4;\" x=\"149.946576\" xlink:href=\"#m73f566d273\" y=\"31.00156\"/>\n     <use style=\"fill:#1f77b4;stroke:#1f77b4;\" x=\"105.559943\" xlink:href=\"#m73f566d273\" y=\"35.433212\"/>\n     <use style=\"fill:#1f77b4;stroke:#1f77b4;\" x=\"116.656534\" xlink:href=\"#m73f566d273\" y=\"32.138994\"/>\n     <use style=\"fill:#1f77b4;stroke:#1f77b4;\" x=\"172.13922\" xlink:href=\"#m73f566d273\" y=\"19.622825\"/>\n     <use style=\"fill:#1f77b4;stroke:#1f77b4;\" x=\"138.849985\" xlink:href=\"#m73f566d273\" y=\"31.151426\"/>\n     <use style=\"fill:#1f77b4;stroke:#1f77b4;\" x=\"161.042629\" xlink:href=\"#m73f566d273\" y=\"27.679823\"/>\n     <use style=\"fill:#1f77b4;stroke:#1f77b4;\" x=\"172.13922\" xlink:href=\"#m73f566d273\" y=\"20.220224\"/>\n     <use style=\"fill:#1f77b4;stroke:#1f77b4;\" x=\"105.559943\" xlink:href=\"#m73f566d273\" y=\"17.107395\"/>\n     <use style=\"fill:#1f77b4;stroke:#1f77b4;\" x=\"149.946576\" xlink:href=\"#m73f566d273\" y=\"16.563355\"/>\n     <use style=\"fill:#1f77b4;stroke:#1f77b4;\" x=\"138.849985\" xlink:href=\"#m73f566d273\" y=\"27.204772\"/>\n     <use style=\"fill:#1f77b4;stroke:#1f77b4;\" x=\"105.559943\" xlink:href=\"#m73f566d273\" y=\"24.978998\"/>\n     <use style=\"fill:#1f77b4;stroke:#1f77b4;\" x=\"138.849985\" xlink:href=\"#m73f566d273\" y=\"30.023811\"/>\n     <use style=\"fill:#1f77b4;stroke:#1f77b4;\" x=\"116.656534\" xlink:href=\"#m73f566d273\" y=\"36.407085\"/>\n     <use style=\"fill:#1f77b4;stroke:#1f77b4;\" x=\"183.23608\" xlink:href=\"#m73f566d273\" y=\"34.891109\"/>\n     <use style=\"fill:#1f77b4;stroke:#1f77b4;\" x=\"105.559943\" xlink:href=\"#m73f566d273\" y=\"50.762476\"/>\n     <use style=\"fill:#1f77b4;stroke:#1f77b4;\" x=\"149.946576\" xlink:href=\"#m73f566d273\" y=\"44.367445\"/>\n     <use style=\"fill:#1f77b4;stroke:#1f77b4;\" x=\"72.269901\" xlink:href=\"#m73f566d273\" y=\"39.835279\"/>\n     <use style=\"fill:#1f77b4;stroke:#1f77b4;\" x=\"138.849985\" xlink:href=\"#m73f566d273\" y=\"55.263118\"/>\n     <use style=\"fill:#1f77b4;stroke:#1f77b4;\" x=\"161.042629\" xlink:href=\"#m73f566d273\" y=\"49.045472\"/>\n     <use style=\"fill:#1f77b4;stroke:#1f77b4;\" x=\"105.559943\" xlink:href=\"#m73f566d273\" y=\"55.694889\"/>\n     <use style=\"fill:#1f77b4;stroke:#1f77b4;\" x=\"172.13922\" xlink:href=\"#m73f566d273\" y=\"42.372413\"/>\n     <use style=\"fill:#1f77b4;stroke:#1f77b4;\" x=\"161.042629\" xlink:href=\"#m73f566d273\" y=\"49.553984\"/>\n     <use style=\"fill:#1f77b4;stroke:#1f77b4;\" x=\"138.849985\" xlink:href=\"#m73f566d273\" y=\"39.344337\"/>\n     <use style=\"fill:#1f77b4;stroke:#1f77b4;\" x=\"116.656534\" xlink:href=\"#m73f566d273\" y=\"40.308391\"/>\n     <use style=\"fill:#1f77b4;stroke:#1f77b4;\" x=\"149.946576\" xlink:href=\"#m73f566d273\" y=\"29.832602\"/>\n     <use style=\"fill:#1f77b4;stroke:#1f77b4;\" x=\"149.946576\" xlink:href=\"#m73f566d273\" y=\"35.77222\"/>\n     <use style=\"fill:#1f77b4;stroke:#1f77b4;\" x=\"127.753125\" xlink:href=\"#m73f566d273\" y=\"30.703894\"/>\n     <use style=\"fill:#1f77b4;stroke:#1f77b4;\" x=\"127.753125\" xlink:href=\"#m73f566d273\" y=\"37.087168\"/>\n     <use style=\"fill:#1f77b4;stroke:#1f77b4;\" x=\"149.946576\" xlink:href=\"#m73f566d273\" y=\"22.974148\"/>\n     <use style=\"fill:#1f77b4;stroke:#1f77b4;\" x=\"138.849985\" xlink:href=\"#m73f566d273\" y=\"19.591301\"/>\n     <use style=\"fill:#1f77b4;stroke:#1f77b4;\" x=\"149.946576\" xlink:href=\"#m73f566d273\" y=\"25.264907\"/>\n     <use style=\"fill:#1f77b4;stroke:#1f77b4;\" x=\"138.849985\" xlink:href=\"#m73f566d273\" y=\"34.398229\"/>\n     <use style=\"fill:#1f77b4;stroke:#1f77b4;\" x=\"94.463352\" xlink:href=\"#m73f566d273\" y=\"24.180701\"/>\n     <use style=\"fill:#1f77b4;stroke:#1f77b4;\" x=\"138.849985\" xlink:href=\"#m73f566d273\" y=\"30.386461\"/>\n     <use style=\"fill:#1f77b4;stroke:#1f77b4;\" x=\"116.656534\" xlink:href=\"#m73f566d273\" y=\"26.741478\"/>\n     <use style=\"fill:#1f77b4;stroke:#1f77b4;\" x=\"161.042629\" xlink:href=\"#m73f566d273\" y=\"32.939358\"/>\n     <use style=\"fill:#1f77b4;stroke:#1f77b4;\" x=\"161.042629\" xlink:href=\"#m73f566d273\" y=\"42.782478\"/>\n     <use style=\"fill:#1f77b4;stroke:#1f77b4;\" x=\"138.849985\" xlink:href=\"#m73f566d273\" y=\"38.072798\"/>\n     <use style=\"fill:#1f77b4;stroke:#1f77b4;\" x=\"172.13922\" xlink:href=\"#m73f566d273\" y=\"40.722332\"/>\n     <use style=\"fill:#1f77b4;stroke:#1f77b4;\" x=\"138.849985\" xlink:href=\"#m73f566d273\" y=\"33.528875\"/>\n     <use style=\"fill:#1f77b4;stroke:#1f77b4;\" x=\"138.849985\" xlink:href=\"#m73f566d273\" y=\"41.59763\"/>\n     <use style=\"fill:#1f77b4;stroke:#1f77b4;\" x=\"161.042629\" xlink:href=\"#m73f566d273\" y=\"42.0294\"/>\n     <use style=\"fill:#1f77b4;stroke:#1f77b4;\" x=\"105.559943\" xlink:href=\"#m73f566d273\" y=\"46.727065\"/>\n     <use style=\"fill:#1f77b4;stroke:#1f77b4;\" x=\"161.042629\" xlink:href=\"#m73f566d273\" y=\"36.162519\"/>\n     <use style=\"fill:#1f77b4;stroke:#1f77b4;\" x=\"149.946576\" xlink:href=\"#m73f566d273\" y=\"29.319955\"/>\n     <use style=\"fill:#1f77b4;stroke:#1f77b4;\" x=\"94.463352\" xlink:href=\"#m73f566d273\" y=\"36.324271\"/>\n     <use style=\"fill:#1f77b4;stroke:#1f77b4;\" x=\"138.849985\" xlink:href=\"#m73f566d273\" y=\"27.445204\"/>\n     <use style=\"fill:#1f77b4;stroke:#1f77b4;\" x=\"138.849985\" xlink:href=\"#m73f566d273\" y=\"22.022496\"/>\n     <use style=\"fill:#1f77b4;stroke:#1f77b4;\" x=\"138.849985\" xlink:href=\"#m73f566d273\" y=\"37.187682\"/>\n     <use style=\"fill:#1f77b4;stroke:#1f77b4;\" x=\"138.849985\" xlink:href=\"#m73f566d273\" y=\"27.155936\"/>\n     <use style=\"fill:#1f77b4;stroke:#1f77b4;\" x=\"149.946576\" xlink:href=\"#m73f566d273\" y=\"29.183396\"/>\n     <use style=\"fill:#1f77b4;stroke:#1f77b4;\" x=\"138.849985\" xlink:href=\"#m73f566d273\" y=\"19.329164\"/>\n     <use style=\"fill:#1f77b4;stroke:#1f77b4;\" x=\"149.946576\" xlink:href=\"#m73f566d273\" y=\"30.679734\"/>\n     <use style=\"fill:#1f77b4;stroke:#1f77b4;\" x=\"138.849985\" xlink:href=\"#m73f566d273\" y=\"32.708744\"/>\n     <use style=\"fill:#1f77b4;stroke:#1f77b4;\" x=\"116.656534\" xlink:href=\"#m73f566d273\" y=\"26.579855\"/>\n     <use style=\"fill:#1f77b4;stroke:#1f77b4;\" x=\"94.463352\" xlink:href=\"#m73f566d273\" y=\"36.245333\"/>\n     <use style=\"fill:#1f77b4;stroke:#1f77b4;\" x=\"127.753125\" xlink:href=\"#m73f566d273\" y=\"41.112631\"/>\n     <use style=\"fill:#1f77b4;stroke:#1f77b4;\" x=\"94.463352\" xlink:href=\"#m73f566d273\" y=\"49.625558\"/>\n     <use style=\"fill:#1f77b4;stroke:#1f77b4;\" x=\"105.559943\" xlink:href=\"#m73f566d273\" y=\"42.786354\"/>\n     <use style=\"fill:#1f77b4;stroke:#1f77b4;\" x=\"127.753125\" xlink:href=\"#m73f566d273\" y=\"47.121369\"/>\n     <use style=\"fill:#1f77b4;stroke:#1f77b4;\" x=\"149.946576\" xlink:href=\"#m73f566d273\" y=\"61.399501\"/>\n     <use style=\"fill:#1f77b4;stroke:#1f77b4;\" x=\"83.366492\" xlink:href=\"#m73f566d273\" y=\"50.391815\"/>\n     <use style=\"fill:#1f77b4;stroke:#1f77b4;\" x=\"138.849985\" xlink:href=\"#m73f566d273\" y=\"49.936531\"/>\n     <use style=\"fill:#1f77b4;stroke:#1f77b4;\" x=\"116.656534\" xlink:href=\"#m73f566d273\" y=\"60.844091\"/>\n     <use style=\"fill:#1f77b4;stroke:#1f77b4;\" x=\"161.042629\" xlink:href=\"#m73f566d273\" y=\"52.231166\"/>\n     <use style=\"fill:#1f77b4;stroke:#1f77b4;\" x=\"116.656534\" xlink:href=\"#m73f566d273\" y=\"54.614559\"/>\n     <use style=\"fill:#1f77b4;stroke:#1f77b4;\" x=\"138.849985\" xlink:href=\"#m73f566d273\" y=\"46.976928\"/>\n     <use style=\"fill:#1f77b4;stroke:#1f77b4;\" x=\"138.849985\" xlink:href=\"#m73f566d273\" y=\"50.788056\"/>\n     <use style=\"fill:#1f77b4;stroke:#1f77b4;\" x=\"127.753125\" xlink:href=\"#m73f566d273\" y=\"47.050441\"/>\n     <use style=\"fill:#1f77b4;stroke:#1f77b4;\" x=\"72.269901\" xlink:href=\"#m73f566d273\" y=\"35.155184\"/>\n     <use style=\"fill:#1f77b4;stroke:#1f77b4;\" x=\"149.946576\" xlink:href=\"#m73f566d273\" y=\"42.958442\"/>\n     <use style=\"fill:#1f77b4;stroke:#1f77b4;\" x=\"83.366492\" xlink:href=\"#m73f566d273\" y=\"31.857607\"/>\n     <use style=\"fill:#1f77b4;stroke:#1f77b4;\" x=\"138.849985\" xlink:href=\"#m73f566d273\" y=\"41.079169\"/>\n     <use style=\"fill:#1f77b4;stroke:#1f77b4;\" x=\"149.946576\" xlink:href=\"#m73f566d273\" y=\"28.385099\"/>\n     <use style=\"fill:#1f77b4;stroke:#1f77b4;\" x=\"127.753125\" xlink:href=\"#m73f566d273\" y=\"22.606975\"/>\n     <use style=\"fill:#1f77b4;stroke:#1f77b4;\" x=\"127.753125\" xlink:href=\"#m73f566d273\" y=\"33.426294\"/>\n     <use style=\"fill:#1f77b4;stroke:#1f77b4;\" x=\"138.849985\" xlink:href=\"#m73f566d273\" y=\"25.700553\"/>\n     <use style=\"fill:#1f77b4;stroke:#1f77b4;\" x=\"138.849985\" xlink:href=\"#m73f566d273\" y=\"26.753235\"/>\n     <use style=\"fill:#1f77b4;stroke:#1f77b4;\" x=\"149.946576\" xlink:href=\"#m73f566d273\" y=\"39.080779\"/>\n     <use style=\"fill:#1f77b4;stroke:#1f77b4;\" x=\"172.13922\" xlink:href=\"#m73f566d273\" y=\"34.10444\"/>\n     <use style=\"fill:#1f77b4;stroke:#1f77b4;\" x=\"172.13922\" xlink:href=\"#m73f566d273\" y=\"41.987928\"/>\n     <use style=\"fill:#1f77b4;stroke:#1f77b4;\" x=\"149.946576\" xlink:href=\"#m73f566d273\" y=\"35.237998\"/>\n     <use style=\"fill:#1f77b4;stroke:#1f77b4;\" x=\"94.463352\" xlink:href=\"#m73f566d273\" y=\"46.500457\"/>\n     <use style=\"fill:#1f77b4;stroke:#1f77b4;\" x=\"127.753125\" xlink:href=\"#m73f566d273\" y=\"44.359564\"/>\n     <use style=\"fill:#1f77b4;stroke:#1f77b4;\" x=\"116.656534\" xlink:href=\"#m73f566d273\" y=\"37.787018\"/>\n     <use style=\"fill:#1f77b4;stroke:#1f77b4;\" x=\"94.463352\" xlink:href=\"#m73f566d273\" y=\"49.936531\"/>\n     <use style=\"fill:#1f77b4;stroke:#1f77b4;\" x=\"116.656534\" xlink:href=\"#m73f566d273\" y=\"42.916454\"/>\n     <use style=\"fill:#1f77b4;stroke:#1f77b4;\" x=\"94.463352\" xlink:href=\"#m73f566d273\" y=\"48.856201\"/>\n     <use style=\"fill:#1f77b4;stroke:#1f77b4;\" x=\"149.946576\" xlink:href=\"#m73f566d273\" y=\"41.573987\"/>\n     <use style=\"fill:#1f77b4;stroke:#1f77b4;\" x=\"83.366492\" xlink:href=\"#m73f566d273\" y=\"35.88462\"/>\n     <use style=\"fill:#1f77b4;stroke:#1f77b4;\" x=\"127.753125\" xlink:href=\"#m73f566d273\" y=\"42.445279\"/>\n     <use style=\"fill:#1f77b4;stroke:#1f77b4;\" x=\"116.656534\" xlink:href=\"#m73f566d273\" y=\"37.558343\"/>\n     <use style=\"fill:#1f77b4;stroke:#1f77b4;\" x=\"138.849985\" xlink:href=\"#m73f566d273\" y=\"40.208394\"/>\n     <use style=\"fill:#1f77b4;stroke:#1f77b4;\" x=\"116.656534\" xlink:href=\"#m73f566d273\" y=\"31.594953\"/>\n     <use style=\"fill:#1f77b4;stroke:#1f77b4;\" x=\"116.656534\" xlink:href=\"#m73f566d273\" y=\"40.107751\"/>\n     <use style=\"fill:#1f77b4;stroke:#1f77b4;\" x=\"83.366492\" xlink:href=\"#m73f566d273\" y=\"34.861006\"/>\n     <use style=\"fill:#1f77b4;stroke:#1f77b4;\" x=\"149.946576\" xlink:href=\"#m73f566d273\" y=\"27.135782\"/>\n     <use style=\"fill:#1f77b4;stroke:#1f77b4;\" x=\"149.946576\" xlink:href=\"#m73f566d273\" y=\"20.740622\"/>\n     <use style=\"fill:#1f77b4;stroke:#1f77b4;\" x=\"138.849985\" xlink:href=\"#m73f566d273\" y=\"40.958889\"/>\n     <use style=\"fill:#1f77b4;stroke:#1f77b4;\" x=\"127.753125\" xlink:href=\"#m73f566d273\" y=\"35.628297\"/>\n     <use style=\"fill:#1f77b4;stroke:#1f77b4;\" x=\"138.849985\" xlink:href=\"#m73f566d273\" y=\"42.72124\"/>\n     <use style=\"fill:#1f77b4;stroke:#1f77b4;\" x=\"127.753125\" xlink:href=\"#m73f566d273\" y=\"46.435342\"/>\n     <use style=\"fill:#1f77b4;stroke:#1f77b4;\" x=\"149.946576\" xlink:href=\"#m73f566d273\" y=\"55.569182\"/>\n     <use style=\"fill:#1f77b4;stroke:#1f77b4;\" x=\"83.366492\" xlink:href=\"#m73f566d273\" y=\"49.883303\"/>\n     <use style=\"fill:#1f77b4;stroke:#1f77b4;\" x=\"127.753125\" xlink:href=\"#m73f566d273\" y=\"56.790851\"/>\n     <use style=\"fill:#1f77b4;stroke:#1f77b4;\" x=\"149.946576\" xlink:href=\"#m73f566d273\" y=\"49.686151\"/>\n     <use style=\"fill:#1f77b4;stroke:#1f77b4;\" x=\"149.946576\" xlink:href=\"#m73f566d273\" y=\"61.480765\"/>\n     <use style=\"fill:#1f77b4;stroke:#1f77b4;\" x=\"105.559943\" xlink:href=\"#m73f566d273\" y=\"62.356062\"/>\n     <use style=\"fill:#1f77b4;stroke:#1f77b4;\" x=\"127.753125\" xlink:href=\"#m73f566d273\" y=\"58.267939\"/>\n     <use style=\"fill:#1f77b4;stroke:#1f77b4;\" x=\"94.463352\" xlink:href=\"#m73f566d273\" y=\"65.005596\"/>\n     <use style=\"fill:#1f77b4;stroke:#1f77b4;\" x=\"83.366492\" xlink:href=\"#m73f566d273\" y=\"64.195284\"/>\n     <use style=\"fill:#1f77b4;stroke:#1f77b4;\" x=\"149.946576\" xlink:href=\"#m73f566d273\" y=\"56.557783\"/>\n     <use style=\"fill:#1f77b4;stroke:#1f77b4;\" x=\"116.656534\" xlink:href=\"#m73f566d273\" y=\"46.792179\"/>\n     <use style=\"fill:#1f77b4;stroke:#1f77b4;\" x=\"94.463352\" xlink:href=\"#m73f566d273\" y=\"39.860859\"/>\n     <use style=\"fill:#1f77b4;stroke:#1f77b4;\" x=\"172.13922\" xlink:href=\"#m73f566d273\" y=\"38.082746\"/>\n     <use style=\"fill:#1f77b4;stroke:#1f77b4;\" x=\"127.753125\" xlink:href=\"#m73f566d273\" y=\"45.441832\"/>\n     <use style=\"fill:#1f77b4;stroke:#1f77b4;\" x=\"116.656534\" xlink:href=\"#m73f566d273\" y=\"38.954038\"/>\n     <use style=\"fill:#1f77b4;stroke:#1f77b4;\" x=\"127.753125\" xlink:href=\"#m73f566d273\" y=\"29.720202\"/>\n     <use style=\"fill:#1f77b4;stroke:#1f77b4;\" x=\"116.656534\" xlink:href=\"#m73f566d273\" y=\"33.885712\"/>\n     <use style=\"fill:#1f77b4;stroke:#1f77b4;\" x=\"116.656534\" xlink:href=\"#m73f566d273\" y=\"34.494867\"/>\n     <use style=\"fill:#1f77b4;stroke:#1f77b4;\" x=\"138.849985\" xlink:href=\"#m73f566d273\" y=\"27.478795\"/>\n     <use style=\"fill:#1f77b4;stroke:#1f77b4;\" x=\"116.656534\" xlink:href=\"#m73f566d273\" y=\"37.765314\"/>\n     <use style=\"fill:#1f77b4;stroke:#1f77b4;\" x=\"105.559943\" xlink:href=\"#m73f566d273\" y=\"29.144508\"/>\n     <use style=\"fill:#1f77b4;stroke:#1f77b4;\" x=\"127.753125\" xlink:href=\"#m73f566d273\" y=\"37.923061\"/>\n     <use style=\"fill:#1f77b4;stroke:#1f77b4;\" x=\"72.269901\" xlink:href=\"#m73f566d273\" y=\"32.415084\"/>\n     <use style=\"fill:#1f77b4;stroke:#1f77b4;\" x=\"149.946576\" xlink:href=\"#m73f566d273\" y=\"35.508145\"/>\n     <use style=\"fill:#1f77b4;stroke:#1f77b4;\" x=\"127.753125\" xlink:href=\"#m73f566d273\" y=\"50.318949\"/>\n     <use style=\"fill:#1f77b4;stroke:#1f77b4;\" x=\"138.849985\" xlink:href=\"#m73f566d273\" y=\"40.996355\"/>\n     <use style=\"fill:#1f77b4;stroke:#1f77b4;\" x=\"183.23608\" xlink:href=\"#m73f566d273\" y=\"53.940289\"/>\n     <use style=\"fill:#1f77b4;stroke:#1f77b4;\" x=\"138.849985\" xlink:href=\"#m73f566d273\" y=\"43.553257\"/>\n     <use style=\"fill:#1f77b4;stroke:#1f77b4;\" x=\"127.753125\" xlink:href=\"#m73f566d273\" y=\"46.920341\"/>\n     <use style=\"fill:#1f77b4;stroke:#1f77b4;\" x=\"94.463352\" xlink:href=\"#m73f566d273\" y=\"50.811828\"/>\n     <use style=\"fill:#1f77b4;stroke:#1f77b4;\" x=\"149.946576\" xlink:href=\"#m73f566d273\" y=\"43.3521\"/>\n     <use style=\"fill:#1f77b4;stroke:#1f77b4;\" x=\"38.980398\" xlink:href=\"#m73f566d273\" y=\"47.51761\"/>\n     <use style=\"fill:#1f77b4;stroke:#1f77b4;\" x=\"94.463352\" xlink:href=\"#m73f566d273\" y=\"49.368718\"/>\n     <use style=\"fill:#1f77b4;stroke:#1f77b4;\" x=\"138.849985\" xlink:href=\"#m73f566d273\" y=\"39.159071\"/>\n     <use style=\"fill:#1f77b4;stroke:#1f77b4;\" x=\"138.849985\" xlink:href=\"#m73f566d273\" y=\"46.163257\"/>\n     <use style=\"fill:#1f77b4;stroke:#1f77b4;\" x=\"149.946576\" xlink:href=\"#m73f566d273\" y=\"28.050484\"/>\n     <use style=\"fill:#1f77b4;stroke:#1f77b4;\" x=\"138.849985\" xlink:href=\"#m73f566d273\" y=\"39.046671\"/>\n     <use style=\"fill:#1f77b4;stroke:#1f77b4;\" x=\"116.656534\" xlink:href=\"#m73f566d273\" y=\"32.474126\"/>\n     <use style=\"fill:#1f77b4;stroke:#1f77b4;\" x=\"149.946576\" xlink:href=\"#m73f566d273\" y=\"34.76889\"/>\n     <use style=\"fill:#1f77b4;stroke:#1f77b4;\" x=\"138.849985\" xlink:href=\"#m73f566d273\" y=\"36.982649\"/>\n     <use style=\"fill:#1f77b4;stroke:#1f77b4;\" x=\"116.656534\" xlink:href=\"#m73f566d273\" y=\"31.652057\"/>\n     <use style=\"fill:#1f77b4;stroke:#1f77b4;\" x=\"116.656534\" xlink:href=\"#m73f566d273\" y=\"45.926701\"/>\n     <use style=\"fill:#1f77b4;stroke:#1f77b4;\" x=\"127.753125\" xlink:href=\"#m73f566d273\" y=\"38.644487\"/>\n     <use style=\"fill:#1f77b4;stroke:#1f77b4;\" x=\"149.946576\" xlink:href=\"#m73f566d273\" y=\"53.189278\"/>\n     <use style=\"fill:#1f77b4;stroke:#1f77b4;\" x=\"116.656534\" xlink:href=\"#m73f566d273\" y=\"63.29053\"/>\n     <use style=\"fill:#1f77b4;stroke:#1f77b4;\" x=\"116.656534\" xlink:href=\"#m73f566d273\" y=\"51.217889\"/>\n     <use style=\"fill:#1f77b4;stroke:#1f77b4;\" x=\"105.559943\" xlink:href=\"#m73f566d273\" y=\"65.496409\"/>\n     <use style=\"fill:#1f77b4;stroke:#1f77b4;\" x=\"72.269901\" xlink:href=\"#m73f566d273\" y=\"73.468654\"/>\n     <use style=\"fill:#1f77b4;stroke:#1f77b4;\" x=\"116.656534\" xlink:href=\"#m73f566d273\" y=\"68.315447\"/>\n     <use style=\"fill:#1f77b4;stroke:#1f77b4;\" x=\"116.656534\" xlink:href=\"#m73f566d273\" y=\"56.686461\"/>\n     <use style=\"fill:#1f77b4;stroke:#1f77b4;\" x=\"127.753125\" xlink:href=\"#m73f566d273\" y=\"60.666577\"/>\n     <use style=\"fill:#1f77b4;stroke:#1f77b4;\" x=\"83.366492\" xlink:href=\"#m73f566d273\" y=\"68.469318\"/>\n     <use style=\"fill:#1f77b4;stroke:#1f77b4;\" x=\"149.946576\" xlink:href=\"#m73f566d273\" y=\"55.775636\"/>\n     <use style=\"fill:#1f77b4;stroke:#1f77b4;\" x=\"138.849985\" xlink:href=\"#m73f566d273\" y=\"52.925074\"/>\n     <use style=\"fill:#1f77b4;stroke:#1f77b4;\" x=\"116.656534\" xlink:href=\"#m73f566d273\" y=\"55.582489\"/>\n     <use style=\"fill:#1f77b4;stroke:#1f77b4;\" x=\"61.173849\" xlink:href=\"#m73f566d273\" y=\"45.816368\"/>\n     <use style=\"fill:#1f77b4;stroke:#1f77b4;\" x=\"127.753125\" xlink:href=\"#m73f566d273\" y=\"52.018253\"/>\n     <use style=\"fill:#1f77b4;stroke:#1f77b4;\" x=\"138.849985\" xlink:href=\"#m73f566d273\" y=\"39.856854\"/>\n     <use style=\"fill:#1f77b4;stroke:#1f77b4;\" x=\"105.559943\" xlink:href=\"#m73f566d273\" y=\"44.199879\"/>\n     <use style=\"fill:#1f77b4;stroke:#1f77b4;\" x=\"105.559943\" xlink:href=\"#m73f566d273\" y=\"39.929849\"/>\n     <use style=\"fill:#1f77b4;stroke:#1f77b4;\" x=\"94.463352\" xlink:href=\"#m73f566d273\" y=\"29.187918\"/>\n     <use style=\"fill:#1f77b4;stroke:#1f77b4;\" x=\"116.656534\" xlink:href=\"#m73f566d273\" y=\"37.345429\"/>\n     <use style=\"fill:#1f77b4;stroke:#1f77b4;\" x=\"149.946576\" xlink:href=\"#m73f566d273\" y=\"33.164157\"/>\n     <use style=\"fill:#1f77b4;stroke:#1f77b4;\" x=\"127.753125\" xlink:href=\"#m73f566d273\" y=\"28.01095\"/>\n     <use style=\"fill:#1f77b4;stroke:#1f77b4;\" x=\"149.946576\" xlink:href=\"#m73f566d273\" y=\"24.365967\"/>\n     <use style=\"fill:#1f77b4;stroke:#1f77b4;\" x=\"105.559943\" xlink:href=\"#m73f566d273\" y=\"25.241264\"/>\n     <use style=\"fill:#1f77b4;stroke:#1f77b4;\" x=\"149.946576\" xlink:href=\"#m73f566d273\" y=\"32.95512\"/>\n     <use style=\"fill:#1f77b4;stroke:#1f77b4;\" x=\"172.13922\" xlink:href=\"#m73f566d273\" y=\"35.786044\"/>\n     <use style=\"fill:#1f77b4;stroke:#1f77b4;\" x=\"149.946576\" xlink:href=\"#m73f566d273\" y=\"30.362819\"/>\n     <use style=\"fill:#1f77b4;stroke:#1f77b4;\" x=\"138.849985\" xlink:href=\"#m73f566d273\" y=\"42.601347\"/>\n     <use style=\"fill:#1f77b4;stroke:#1f77b4;\" x=\"127.753125\" xlink:href=\"#m73f566d273\" y=\"50.669843\"/>\n     <use style=\"fill:#1f77b4;stroke:#1f77b4;\" x=\"116.656534\" xlink:href=\"#m73f566d273\" y=\"47.020855\"/>\n     <use style=\"fill:#1f77b4;stroke:#1f77b4;\" x=\"161.042629\" xlink:href=\"#m73f566d273\" y=\"42.488689\"/>\n     <use style=\"fill:#1f77b4;stroke:#1f77b4;\" x=\"127.753125\" xlink:href=\"#m73f566d273\" y=\"43.726637\"/>\n     <use style=\"fill:#1f77b4;stroke:#1f77b4;\" x=\"94.463352\" xlink:href=\"#m73f566d273\" y=\"45.755259\"/>\n     <use style=\"fill:#1f77b4;stroke:#1f77b4;\" x=\"83.366492\" xlink:href=\"#m73f566d273\" y=\"37.674619\"/>\n     <use style=\"fill:#1f77b4;stroke:#1f77b4;\" x=\"161.042629\" xlink:href=\"#m73f566d273\" y=\"34.207021\"/>\n     <use style=\"fill:#1f77b4;stroke:#1f77b4;\" x=\"94.463352\" xlink:href=\"#m73f566d273\" y=\"30.735417\"/>\n     <use style=\"fill:#1f77b4;stroke:#1f77b4;\" x=\"149.946576\" xlink:href=\"#m73f566d273\" y=\"37.473591\"/>\n     <use style=\"fill:#1f77b4;stroke:#1f77b4;\" x=\"127.753125\" xlink:href=\"#m73f566d273\" y=\"30.457519\"/>\n     <use style=\"fill:#1f77b4;stroke:#1f77b4;\" x=\"127.753125\" xlink:href=\"#m73f566d273\" y=\"30.179491\"/>\n     <use style=\"fill:#1f77b4;stroke:#1f77b4;\" x=\"138.849985\" xlink:href=\"#m73f566d273\" y=\"21.300424\"/>\n     <use style=\"fill:#1f77b4;stroke:#1f77b4;\" x=\"105.559943\" xlink:href=\"#m73f566d273\" y=\"25.554692\"/>\n     <use style=\"fill:#1f77b4;stroke:#1f77b4;\" x=\"161.042629\" xlink:href=\"#m73f566d273\" y=\"21.63982\"/>\n     <use style=\"fill:#1f77b4;stroke:#1f77b4;\" x=\"116.656534\" xlink:href=\"#m73f566d273\" y=\"19.15165\"/>\n     <use style=\"fill:#1f77b4;stroke:#1f77b4;\" x=\"116.656534\" xlink:href=\"#m73f566d273\" y=\"13.377273\"/>\n     <use style=\"fill:#1f77b4;stroke:#1f77b4;\" x=\"127.753125\" xlink:href=\"#m73f566d273\" y=\"13.454531\"/>\n     <use style=\"fill:#1f77b4;stroke:#1f77b4;\" x=\"116.656534\" xlink:href=\"#m73f566d273\" y=\"20.192576\"/>\n     <use style=\"fill:#1f77b4;stroke:#1f77b4;\" x=\"116.656534\" xlink:href=\"#m73f566d273\" y=\"29.326157\"/>\n     <use style=\"fill:#1f77b4;stroke:#1f77b4;\" x=\"138.849985\" xlink:href=\"#m73f566d273\" y=\"20.438951\"/>\n     <use style=\"fill:#1f77b4;stroke:#1f77b4;\" x=\"116.656534\" xlink:href=\"#m73f566d273\" y=\"34.628843\"/>\n     <use style=\"fill:#1f77b4;stroke:#1f77b4;\" x=\"116.656534\" xlink:href=\"#m73f566d273\" y=\"31.782157\"/>\n     <use style=\"fill:#1f77b4;stroke:#1f77b4;\" x=\"116.656534\" xlink:href=\"#m73f566d273\" y=\"41.17374\"/>\n     <use style=\"fill:#1f77b4;stroke:#1f77b4;\" x=\"94.463352\" xlink:href=\"#m73f566d273\" y=\"54.653705\"/>\n     <use style=\"fill:#1f77b4;stroke:#1f77b4;\" x=\"127.753125\" xlink:href=\"#m73f566d273\" y=\"39.121604\"/>\n     <use style=\"fill:#1f77b4;stroke:#1f77b4;\" x=\"138.849985\" xlink:href=\"#m73f566d273\" y=\"44.521445\"/>\n     <use style=\"fill:#1f77b4;stroke:#1f77b4;\" x=\"127.753125\" xlink:href=\"#m73f566d273\" y=\"53.210982\"/>\n     <use style=\"fill:#1f77b4;stroke:#1f77b4;\" x=\"116.656534\" xlink:href=\"#m73f566d273\" y=\"48.323659\"/>\n     <use style=\"fill:#1f77b4;stroke:#1f77b4;\" x=\"138.849985\" xlink:href=\"#m73f566d273\" y=\"44.32003\"/>\n     <use style=\"fill:#1f77b4;stroke:#1f77b4;\" x=\"149.946576\" xlink:href=\"#m73f566d273\" y=\"49.195209\"/>\n     <use style=\"fill:#1f77b4;stroke:#1f77b4;\" x=\"105.559943\" xlink:href=\"#m73f566d273\" y=\"36.501656\"/>\n     <use style=\"fill:#1f77b4;stroke:#1f77b4;\" x=\"127.753125\" xlink:href=\"#m73f566d273\" y=\"36.48977\"/>\n     <use style=\"fill:#1f77b4;stroke:#1f77b4;\" x=\"94.463352\" xlink:href=\"#m73f566d273\" y=\"40.211753\"/>\n     <use style=\"fill:#1f77b4;stroke:#1f77b4;\" x=\"127.753125\" xlink:href=\"#m73f566d273\" y=\"36.92154\"/>\n     <use style=\"fill:#1f77b4;stroke:#1f77b4;\" x=\"116.656534\" xlink:href=\"#m73f566d273\" y=\"29.99022\"/>\n     <use style=\"fill:#1f77b4;stroke:#1f77b4;\" x=\"149.946576\" xlink:href=\"#m73f566d273\" y=\"35.131541\"/>\n     <use style=\"fill:#1f77b4;stroke:#1f77b4;\" x=\"116.656534\" xlink:href=\"#m73f566d273\" y=\"33.260795\"/>\n     <use style=\"fill:#1f77b4;stroke:#1f77b4;\" x=\"127.753125\" xlink:href=\"#m73f566d273\" y=\"32.716625\"/>\n     <use style=\"fill:#1f77b4;stroke:#1f77b4;\" x=\"72.269901\" xlink:href=\"#m73f566d273\" y=\"25.434411\"/>\n     <use style=\"fill:#1f77b4;stroke:#1f77b4;\" x=\"105.559943\" xlink:href=\"#m73f566d273\" y=\"27.470785\"/>\n     <use style=\"fill:#1f77b4;stroke:#1f77b4;\" x=\"127.753125\" xlink:href=\"#m73f566d273\" y=\"40.85437\"/>\n     <use style=\"fill:#1f77b4;stroke:#1f77b4;\" x=\"138.849985\" xlink:href=\"#m73f566d273\" y=\"31.177007\"/>\n     <use style=\"fill:#1f77b4;stroke:#1f77b4;\" x=\"116.656534\" xlink:href=\"#m73f566d273\" y=\"39.334518\"/>\n     <use style=\"fill:#1f77b4;stroke:#1f77b4;\" x=\"105.559943\" xlink:href=\"#m73f566d273\" y=\"35.330631\"/>\n     <use style=\"fill:#1f77b4;stroke:#1f77b4;\" x=\"105.559943\" xlink:href=\"#m73f566d273\" y=\"44.197811\"/>\n     <use style=\"fill:#1f77b4;stroke:#1f77b4;\" x=\"105.559943\" xlink:href=\"#m73f566d273\" y=\"32.834968\"/>\n     <use style=\"fill:#1f77b4;stroke:#1f77b4;\" x=\"127.753125\" xlink:href=\"#m73f566d273\" y=\"40.097415\"/>\n     <use style=\"fill:#1f77b4;stroke:#1f77b4;\" x=\"149.946576\" xlink:href=\"#m73f566d273\" y=\"50.82759\"/>\n     <use style=\"fill:#1f77b4;stroke:#1f77b4;\" x=\"116.656534\" xlink:href=\"#m73f566d273\" y=\"42.658193\"/>\n     <use style=\"fill:#1f77b4;stroke:#1f77b4;\" x=\"127.753125\" xlink:href=\"#m73f566d273\" y=\"47.702876\"/>\n     <use style=\"fill:#1f77b4;stroke:#1f77b4;\" x=\"105.559943\" xlink:href=\"#m73f566d273\" y=\"55.239476\"/>\n     <use style=\"fill:#1f77b4;stroke:#1f77b4;\" x=\"138.849985\" xlink:href=\"#m73f566d273\" y=\"50.973452\"/>\n     <use style=\"fill:#1f77b4;stroke:#1f77b4;\" x=\"83.366492\" xlink:href=\"#m73f566d273\" y=\"51.227708\"/>\n     <use style=\"fill:#1f77b4;stroke:#1f77b4;\" x=\"127.753125\" xlink:href=\"#m73f566d273\" y=\"48.118885\"/>\n     <use style=\"fill:#1f77b4;stroke:#1f77b4;\" x=\"138.849985\" xlink:href=\"#m73f566d273\" y=\"49.619099\"/>\n     <use style=\"fill:#1f77b4;stroke:#1f77b4;\" x=\"127.753125\" xlink:href=\"#m73f566d273\" y=\"46.502395\"/>\n     <use style=\"fill:#1f77b4;stroke:#1f77b4;\" x=\"161.042629\" xlink:href=\"#m73f566d273\" y=\"54.659906\"/>\n     <use style=\"fill:#1f77b4;stroke:#1f77b4;\" x=\"105.559943\" xlink:href=\"#m73f566d273\" y=\"44.893786\"/>\n     <use style=\"fill:#1f77b4;stroke:#1f77b4;\" x=\"116.656534\" xlink:href=\"#m73f566d273\" y=\"37.518938\"/>\n     <use style=\"fill:#1f77b4;stroke:#1f77b4;\" x=\"83.366492\" xlink:href=\"#m73f566d273\" y=\"55.523188\"/>\n     <use style=\"fill:#1f77b4;stroke:#1f77b4;\" x=\"161.042629\" xlink:href=\"#m73f566d273\" y=\"45.66844\"/>\n     <use style=\"fill:#1f77b4;stroke:#1f77b4;\" x=\"138.849985\" xlink:href=\"#m73f566d273\" y=\"48.406731\"/>\n     <use style=\"fill:#1f77b4;stroke:#1f77b4;\" x=\"116.656534\" xlink:href=\"#m73f566d273\" y=\"64.282103\"/>\n     <use style=\"fill:#1f77b4;stroke:#1f77b4;\" x=\"172.13922\" xlink:href=\"#m73f566d273\" y=\"61.524045\"/>\n     <use style=\"fill:#1f77b4;stroke:#1f77b4;\" x=\"116.656534\" xlink:href=\"#m73f566d273\" y=\"71.625427\"/>\n     <use style=\"fill:#1f77b4;stroke:#1f77b4;\" x=\"116.656534\" xlink:href=\"#m73f566d273\" y=\"65.230396\"/>\n     <use style=\"fill:#1f77b4;stroke:#1f77b4;\" x=\"127.753125\" xlink:href=\"#m73f566d273\" y=\"82.879876\"/>\n     <use style=\"fill:#1f77b4;stroke:#1f77b4;\" x=\"138.849985\" xlink:href=\"#m73f566d273\" y=\"81.626295\"/>\n     <use style=\"fill:#1f77b4;stroke:#1f77b4;\" x=\"116.656534\" xlink:href=\"#m73f566d273\" y=\"74.255194\"/>\n     <use style=\"fill:#1f77b4;stroke:#1f77b4;\" x=\"94.463352\" xlink:href=\"#m73f566d273\" y=\"68.481204\"/>\n     <use style=\"fill:#1f77b4;stroke:#1f77b4;\" x=\"116.656534\" xlink:href=\"#m73f566d273\" y=\"79.118617\"/>\n     <use style=\"fill:#1f77b4;stroke:#1f77b4;\" x=\"172.13922\" xlink:href=\"#m73f566d273\" y=\"71.836532\"/>\n     <use style=\"fill:#1f77b4;stroke:#1f77b4;\" x=\"105.559943\" xlink:href=\"#m73f566d273\" y=\"74.493689\"/>\n     <use style=\"fill:#1f77b4;stroke:#1f77b4;\" x=\"127.753125\" xlink:href=\"#m73f566d273\" y=\"63.570496\"/>\n     <use style=\"fill:#1f77b4;stroke:#1f77b4;\" x=\"138.849985\" xlink:href=\"#m73f566d273\" y=\"72.437548\"/>\n     <use style=\"fill:#1f77b4;stroke:#1f77b4;\" x=\"94.463352\" xlink:href=\"#m73f566d273\" y=\"62.937569\"/>\n     <use style=\"fill:#1f77b4;stroke:#1f77b4;\" x=\"105.559943\" xlink:href=\"#m73f566d273\" y=\"52.901431\"/>\n     <use style=\"fill:#1f77b4;stroke:#1f77b4;\" x=\"105.559943\" xlink:href=\"#m73f566d273\" y=\"59.195948\"/>\n     <use style=\"fill:#1f77b4;stroke:#1f77b4;\" x=\"127.753125\" xlink:href=\"#m73f566d273\" y=\"53.333201\"/>\n     <use style=\"fill:#1f77b4;stroke:#1f77b4;\" x=\"105.559943\" xlink:href=\"#m73f566d273\" y=\"54.297126\"/>\n     <use style=\"fill:#1f77b4;stroke:#1f77b4;\" x=\"127.753125\" xlink:href=\"#m73f566d273\" y=\"38.764767\"/>\n     <use style=\"fill:#1f77b4;stroke:#1f77b4;\" x=\"161.042629\" xlink:href=\"#m73f566d273\" y=\"47.720705\"/>\n     <use style=\"fill:#1f77b4;stroke:#1f77b4;\" x=\"94.463352\" xlink:href=\"#m73f566d273\" y=\"45.579812\"/>\n     <use style=\"fill:#1f77b4;stroke:#1f77b4;\" x=\"127.753125\" xlink:href=\"#m73f566d273\" y=\"35.370035\"/>\n     <use style=\"fill:#1f77b4;stroke:#1f77b4;\" x=\"127.753125\" xlink:href=\"#m73f566d273\" y=\"41.842067\"/>\n     <use style=\"fill:#1f77b4;stroke:#1f77b4;\" x=\"105.559943\" xlink:href=\"#m73f566d273\" y=\"49.725555\"/>\n     <use style=\"fill:#1f77b4;stroke:#1f77b4;\" x=\"105.559943\" xlink:href=\"#m73f566d273\" y=\"56.907256\"/>\n     <use style=\"fill:#1f77b4;stroke:#1f77b4;\" x=\"161.042629\" xlink:href=\"#m73f566d273\" y=\"46.608851\"/>\n     <use style=\"fill:#1f77b4;stroke:#1f77b4;\" x=\"149.946576\" xlink:href=\"#m73f566d273\" y=\"46.419581\"/>\n     <use style=\"fill:#1f77b4;stroke:#1f77b4;\" x=\"149.946576\" xlink:href=\"#m73f566d273\" y=\"58.923863\"/>\n     <use style=\"fill:#1f77b4;stroke:#1f77b4;\" x=\"127.753125\" xlink:href=\"#m73f566d273\" y=\"49.157743\"/>\n     <use style=\"fill:#1f77b4;stroke:#1f77b4;\" x=\"149.946576\" xlink:href=\"#m73f566d273\" y=\"54.468697\"/>\n     <use style=\"fill:#1f77b4;stroke:#1f77b4;\" x=\"127.753125\" xlink:href=\"#m73f566d273\" y=\"48.605821\"/>\n     <use style=\"fill:#1f77b4;stroke:#1f77b4;\" x=\"83.366492\" xlink:href=\"#m73f566d273\" y=\"63.860152\"/>\n     <use style=\"fill:#1f77b4;stroke:#1f77b4;\" x=\"94.463352\" xlink:href=\"#m73f566d273\" y=\"55.953021\"/>\n     <use style=\"fill:#1f77b4;stroke:#1f77b4;\" x=\"105.559943\" xlink:href=\"#m73f566d273\" y=\"55.412985\"/>\n     <use style=\"fill:#1f77b4;stroke:#1f77b4;\" x=\"116.656534\" xlink:href=\"#m73f566d273\" y=\"57.271974\"/>\n     <use style=\"fill:#1f77b4;stroke:#1f77b4;\" x=\"116.656534\" xlink:href=\"#m73f566d273\" y=\"39.425213\"/>\n     <use style=\"fill:#1f77b4;stroke:#1f77b4;\" x=\"94.463352\" xlink:href=\"#m73f566d273\" y=\"51.663354\"/>\n     <use style=\"fill:#1f77b4;stroke:#1f77b4;\" x=\"127.753125\" xlink:href=\"#m73f566d273\" y=\"31.784224\"/>\n     <use style=\"fill:#1f77b4;stroke:#1f77b4;\" x=\"105.559943\" xlink:href=\"#m73f566d273\" y=\"42.244251\"/>\n     <use style=\"fill:#1f77b4;stroke:#1f77b4;\" x=\"149.946576\" xlink:href=\"#m73f566d273\" y=\"31.413563\"/>\n     <use style=\"fill:#1f77b4;stroke:#1f77b4;\" x=\"94.463352\" xlink:href=\"#m73f566d273\" y=\"38.240364\"/>\n     <use style=\"fill:#1f77b4;stroke:#1f77b4;\" x=\"127.753125\" xlink:href=\"#m73f566d273\" y=\"34.147849\"/>\n     <use style=\"fill:#1f77b4;stroke:#1f77b4;\" x=\"138.849985\" xlink:href=\"#m73f566d273\" y=\"42.305361\"/>\n     <use style=\"fill:#1f77b4;stroke:#1f77b4;\" x=\"116.656534\" xlink:href=\"#m73f566d273\" y=\"30.321476\"/>\n     <use style=\"fill:#1f77b4;stroke:#1f77b4;\" x=\"138.849985\" xlink:href=\"#m73f566d273\" y=\"32.971011\"/>\n     <use style=\"fill:#1f77b4;stroke:#1f77b4;\" x=\"83.366492\" xlink:href=\"#m73f566d273\" y=\"30.92275\"/>\n     <use style=\"fill:#1f77b4;stroke:#1f77b4;\" x=\"116.656534\" xlink:href=\"#m73f566d273\" y=\"46.88675\"/>\n     <use style=\"fill:#1f77b4;stroke:#1f77b4;\" x=\"105.559943\" xlink:href=\"#m73f566d273\" y=\"55.479908\"/>\n     <use style=\"fill:#1f77b4;stroke:#1f77b4;\" x=\"149.946576\" xlink:href=\"#m73f566d273\" y=\"55.826926\"/>\n     <use style=\"fill:#1f77b4;stroke:#1f77b4;\" x=\"105.559943\" xlink:href=\"#m73f566d273\" y=\"62.121443\"/>\n     <use style=\"fill:#1f77b4;stroke:#1f77b4;\" x=\"72.269901\" xlink:href=\"#m73f566d273\" y=\"70.714601\"/>\n     <use style=\"fill:#1f77b4;stroke:#1f77b4;\" x=\"116.656534\" xlink:href=\"#m73f566d273\" y=\"63.787286\"/>\n     <use style=\"fill:#1f77b4;stroke:#1f77b4;\" x=\"127.753125\" xlink:href=\"#m73f566d273\" y=\"71.50127\"/>\n     <use style=\"fill:#1f77b4;stroke:#1f77b4;\" x=\"172.13922\" xlink:href=\"#m73f566d273\" y=\"66.521572\"/>\n     <use style=\"fill:#1f77b4;stroke:#1f77b4;\" x=\"172.13922\" xlink:href=\"#m73f566d273\" y=\"74.235427\"/>\n     <use style=\"fill:#1f77b4;stroke:#1f77b4;\" x=\"94.463352\" xlink:href=\"#m73f566d273\" y=\"67.308112\"/>\n     <use style=\"fill:#1f77b4;stroke:#1f77b4;\" x=\"138.849985\" xlink:href=\"#m73f566d273\" y=\"57.183217\"/>\n     <use style=\"fill:#1f77b4;stroke:#1f77b4;\" x=\"127.753125\" xlink:href=\"#m73f566d273\" y=\"57.175336\"/>\n     <use style=\"fill:#1f77b4;stroke:#1f77b4;\" x=\"138.849985\" xlink:href=\"#m73f566d273\" y=\"55.308466\"/>\n     <use style=\"fill:#1f77b4;stroke:#1f77b4;\" x=\"105.559943\" xlink:href=\"#m73f566d273\" y=\"61.062818\"/>\n    </g>\n   </g>\n   <g id=\"matplotlib.axis_1\">\n    <g id=\"xtick_1\">\n     <g id=\"line2d_1\">\n      <defs>\n       <path d=\"M 0 0 \nL 0 3.5 \n\" id=\"mf563ad8926\" style=\"stroke:#000000;stroke-width:0.8;\"/>\n      </defs>\n      <g>\n       <use style=\"stroke:#000000;stroke-width:0.8;\" x=\"62.518621\" xlink:href=\"#mf563ad8926\" y=\"143.1\"/>\n      </g>\n     </g>\n     <g id=\"text_1\">\n      <!-- 17.0 -->\n      <defs>\n       <path d=\"M 12.40625 8.296875 \nL 28.515625 8.296875 \nL 28.515625 63.921875 \nL 10.984375 60.40625 \nL 10.984375 69.390625 \nL 28.421875 72.90625 \nL 38.28125 72.90625 \nL 38.28125 8.296875 \nL 54.390625 8.296875 \nL 54.390625 0 \nL 12.40625 0 \nz\n\" id=\"DejaVuSans-49\"/>\n       <path d=\"M 8.203125 72.90625 \nL 55.078125 72.90625 \nL 55.078125 68.703125 \nL 28.609375 0 \nL 18.3125 0 \nL 43.21875 64.59375 \nL 8.203125 64.59375 \nz\n\" id=\"DejaVuSans-55\"/>\n       <path d=\"M 10.6875 12.40625 \nL 21 12.40625 \nL 21 0 \nL 10.6875 0 \nz\n\" id=\"DejaVuSans-46\"/>\n       <path d=\"M 31.78125 66.40625 \nQ 24.171875 66.40625 20.328125 58.90625 \nQ 16.5 51.421875 16.5 36.375 \nQ 16.5 21.390625 20.328125 13.890625 \nQ 24.171875 6.390625 31.78125 6.390625 \nQ 39.453125 6.390625 43.28125 13.890625 \nQ 47.125 21.390625 47.125 36.375 \nQ 47.125 51.421875 43.28125 58.90625 \nQ 39.453125 66.40625 31.78125 66.40625 \nz\nM 31.78125 74.21875 \nQ 44.046875 74.21875 50.515625 64.515625 \nQ 56.984375 54.828125 56.984375 36.375 \nQ 56.984375 17.96875 50.515625 8.265625 \nQ 44.046875 -1.421875 31.78125 -1.421875 \nQ 19.53125 -1.421875 13.0625 8.265625 \nQ 6.59375 17.96875 6.59375 36.375 \nQ 6.59375 54.828125 13.0625 64.515625 \nQ 19.53125 74.21875 31.78125 74.21875 \nz\n\" id=\"DejaVuSans-48\"/>\n      </defs>\n      <g transform=\"translate(51.385808 157.698438)scale(0.1 -0.1)\">\n       <use xlink:href=\"#DejaVuSans-49\"/>\n       <use x=\"63.623047\" xlink:href=\"#DejaVuSans-55\"/>\n       <use x=\"127.246094\" xlink:href=\"#DejaVuSans-46\"/>\n       <use x=\"159.033203\" xlink:href=\"#DejaVuSans-48\"/>\n      </g>\n     </g>\n    </g>\n    <g id=\"xtick_2\">\n     <g id=\"line2d_2\">\n      <g>\n       <use style=\"stroke:#000000;stroke-width:0.8;\" x=\"116.320274\" xlink:href=\"#mf563ad8926\" y=\"143.1\"/>\n      </g>\n     </g>\n     <g id=\"text_2\">\n      <!-- 17.2 -->\n      <defs>\n       <path d=\"M 19.1875 8.296875 \nL 53.609375 8.296875 \nL 53.609375 0 \nL 7.328125 0 \nL 7.328125 8.296875 \nQ 12.9375 14.109375 22.625 23.890625 \nQ 32.328125 33.6875 34.8125 36.53125 \nQ 39.546875 41.84375 41.421875 45.53125 \nQ 43.3125 49.21875 43.3125 52.78125 \nQ 43.3125 58.59375 39.234375 62.25 \nQ 35.15625 65.921875 28.609375 65.921875 \nQ 23.96875 65.921875 18.8125 64.3125 \nQ 13.671875 62.703125 7.8125 59.421875 \nL 7.8125 69.390625 \nQ 13.765625 71.78125 18.9375 73 \nQ 24.125 74.21875 28.421875 74.21875 \nQ 39.75 74.21875 46.484375 68.546875 \nQ 53.21875 62.890625 53.21875 53.421875 \nQ 53.21875 48.921875 51.53125 44.890625 \nQ 49.859375 40.875 45.40625 35.40625 \nQ 44.1875 33.984375 37.640625 27.21875 \nQ 31.109375 20.453125 19.1875 8.296875 \nz\n\" id=\"DejaVuSans-50\"/>\n      </defs>\n      <g transform=\"translate(105.187461 157.698438)scale(0.1 -0.1)\">\n       <use xlink:href=\"#DejaVuSans-49\"/>\n       <use x=\"63.623047\" xlink:href=\"#DejaVuSans-55\"/>\n       <use x=\"127.246094\" xlink:href=\"#DejaVuSans-46\"/>\n       <use x=\"159.033203\" xlink:href=\"#DejaVuSans-50\"/>\n      </g>\n     </g>\n    </g>\n    <g id=\"xtick_3\">\n     <g id=\"line2d_3\">\n      <g>\n       <use style=\"stroke:#000000;stroke-width:0.8;\" x=\"170.121927\" xlink:href=\"#mf563ad8926\" y=\"143.1\"/>\n      </g>\n     </g>\n     <g id=\"text_3\">\n      <!-- 17.4 -->\n      <defs>\n       <path d=\"M 37.796875 64.3125 \nL 12.890625 25.390625 \nL 37.796875 25.390625 \nz\nM 35.203125 72.90625 \nL 47.609375 72.90625 \nL 47.609375 25.390625 \nL 58.015625 25.390625 \nL 58.015625 17.1875 \nL 47.609375 17.1875 \nL 47.609375 0 \nL 37.796875 0 \nL 37.796875 17.1875 \nL 4.890625 17.1875 \nL 4.890625 26.703125 \nz\n\" id=\"DejaVuSans-52\"/>\n      </defs>\n      <g transform=\"translate(158.989114 157.698438)scale(0.1 -0.1)\">\n       <use xlink:href=\"#DejaVuSans-49\"/>\n       <use x=\"63.623047\" xlink:href=\"#DejaVuSans-55\"/>\n       <use x=\"127.246094\" xlink:href=\"#DejaVuSans-46\"/>\n       <use x=\"159.033203\" xlink:href=\"#DejaVuSans-52\"/>\n      </g>\n     </g>\n    </g>\n    <g id=\"xtick_4\">\n     <g id=\"line2d_4\">\n      <g>\n       <use style=\"stroke:#000000;stroke-width:0.8;\" x=\"223.92358\" xlink:href=\"#mf563ad8926\" y=\"143.1\"/>\n      </g>\n     </g>\n     <g id=\"text_4\">\n      <!-- 17.6 -->\n      <defs>\n       <path d=\"M 33.015625 40.375 \nQ 26.375 40.375 22.484375 35.828125 \nQ 18.609375 31.296875 18.609375 23.390625 \nQ 18.609375 15.53125 22.484375 10.953125 \nQ 26.375 6.390625 33.015625 6.390625 \nQ 39.65625 6.390625 43.53125 10.953125 \nQ 47.40625 15.53125 47.40625 23.390625 \nQ 47.40625 31.296875 43.53125 35.828125 \nQ 39.65625 40.375 33.015625 40.375 \nz\nM 52.59375 71.296875 \nL 52.59375 62.3125 \nQ 48.875 64.0625 45.09375 64.984375 \nQ 41.3125 65.921875 37.59375 65.921875 \nQ 27.828125 65.921875 22.671875 59.328125 \nQ 17.53125 52.734375 16.796875 39.40625 \nQ 19.671875 43.65625 24.015625 45.921875 \nQ 28.375 48.1875 33.59375 48.1875 \nQ 44.578125 48.1875 50.953125 41.515625 \nQ 57.328125 34.859375 57.328125 23.390625 \nQ 57.328125 12.15625 50.6875 5.359375 \nQ 44.046875 -1.421875 33.015625 -1.421875 \nQ 20.359375 -1.421875 13.671875 8.265625 \nQ 6.984375 17.96875 6.984375 36.375 \nQ 6.984375 53.65625 15.1875 63.9375 \nQ 23.390625 74.21875 37.203125 74.21875 \nQ 40.921875 74.21875 44.703125 73.484375 \nQ 48.484375 72.75 52.59375 71.296875 \nz\n\" id=\"DejaVuSans-54\"/>\n      </defs>\n      <g transform=\"translate(212.790767 157.698438)scale(0.1 -0.1)\">\n       <use xlink:href=\"#DejaVuSans-49\"/>\n       <use x=\"63.623047\" xlink:href=\"#DejaVuSans-55\"/>\n       <use x=\"127.246094\" xlink:href=\"#DejaVuSans-46\"/>\n       <use x=\"159.033203\" xlink:href=\"#DejaVuSans-54\"/>\n      </g>\n     </g>\n    </g>\n   </g>\n   <g id=\"matplotlib.axis_2\">\n    <g id=\"ytick_1\">\n     <g id=\"line2d_5\">\n      <defs>\n       <path d=\"M 0 0 \nL -3.5 0 \n\" id=\"m31b43fe774\" style=\"stroke:#000000;stroke-width:0.8;\"/>\n      </defs>\n      <g>\n       <use style=\"stroke:#000000;stroke-width:0.8;\" x=\"30.103125\" xlink:href=\"#m31b43fe774\" y=\"141.145083\"/>\n      </g>\n     </g>\n     <g id=\"text_5\">\n      <!-- 0.2 -->\n      <g transform=\"translate(7.2 144.944302)scale(0.1 -0.1)\">\n       <use xlink:href=\"#DejaVuSans-48\"/>\n       <use x=\"63.623047\" xlink:href=\"#DejaVuSans-46\"/>\n       <use x=\"95.410156\" xlink:href=\"#DejaVuSans-50\"/>\n      </g>\n     </g>\n    </g>\n    <g id=\"ytick_2\">\n     <g id=\"line2d_6\">\n      <g>\n       <use style=\"stroke:#000000;stroke-width:0.8;\" x=\"30.103125\" xlink:href=\"#m31b43fe774\" y=\"115.306052\"/>\n      </g>\n     </g>\n     <g id=\"text_6\">\n      <!-- 0.4 -->\n      <g transform=\"translate(7.2 119.10527)scale(0.1 -0.1)\">\n       <use xlink:href=\"#DejaVuSans-48\"/>\n       <use x=\"63.623047\" xlink:href=\"#DejaVuSans-46\"/>\n       <use x=\"95.410156\" xlink:href=\"#DejaVuSans-52\"/>\n      </g>\n     </g>\n    </g>\n    <g id=\"ytick_3\">\n     <g id=\"line2d_7\">\n      <g>\n       <use style=\"stroke:#000000;stroke-width:0.8;\" x=\"30.103125\" xlink:href=\"#m31b43fe774\" y=\"89.46702\"/>\n      </g>\n     </g>\n     <g id=\"text_7\">\n      <!-- 0.6 -->\n      <g transform=\"translate(7.2 93.266239)scale(0.1 -0.1)\">\n       <use xlink:href=\"#DejaVuSans-48\"/>\n       <use x=\"63.623047\" xlink:href=\"#DejaVuSans-46\"/>\n       <use x=\"95.410156\" xlink:href=\"#DejaVuSans-54\"/>\n      </g>\n     </g>\n    </g>\n    <g id=\"ytick_4\">\n     <g id=\"line2d_8\">\n      <g>\n       <use style=\"stroke:#000000;stroke-width:0.8;\" x=\"30.103125\" xlink:href=\"#m31b43fe774\" y=\"63.627988\"/>\n      </g>\n     </g>\n     <g id=\"text_8\">\n      <!-- 0.8 -->\n      <defs>\n       <path d=\"M 31.78125 34.625 \nQ 24.75 34.625 20.71875 30.859375 \nQ 16.703125 27.09375 16.703125 20.515625 \nQ 16.703125 13.921875 20.71875 10.15625 \nQ 24.75 6.390625 31.78125 6.390625 \nQ 38.8125 6.390625 42.859375 10.171875 \nQ 46.921875 13.96875 46.921875 20.515625 \nQ 46.921875 27.09375 42.890625 30.859375 \nQ 38.875 34.625 31.78125 34.625 \nz\nM 21.921875 38.8125 \nQ 15.578125 40.375 12.03125 44.71875 \nQ 8.5 49.078125 8.5 55.328125 \nQ 8.5 64.0625 14.71875 69.140625 \nQ 20.953125 74.21875 31.78125 74.21875 \nQ 42.671875 74.21875 48.875 69.140625 \nQ 55.078125 64.0625 55.078125 55.328125 \nQ 55.078125 49.078125 51.53125 44.71875 \nQ 48 40.375 41.703125 38.8125 \nQ 48.828125 37.15625 52.796875 32.3125 \nQ 56.78125 27.484375 56.78125 20.515625 \nQ 56.78125 9.90625 50.3125 4.234375 \nQ 43.84375 -1.421875 31.78125 -1.421875 \nQ 19.734375 -1.421875 13.25 4.234375 \nQ 6.78125 9.90625 6.78125 20.515625 \nQ 6.78125 27.484375 10.78125 32.3125 \nQ 14.796875 37.15625 21.921875 38.8125 \nz\nM 18.3125 54.390625 \nQ 18.3125 48.734375 21.84375 45.5625 \nQ 25.390625 42.390625 31.78125 42.390625 \nQ 38.140625 42.390625 41.71875 45.5625 \nQ 45.3125 48.734375 45.3125 54.390625 \nQ 45.3125 60.0625 41.71875 63.234375 \nQ 38.140625 66.40625 31.78125 66.40625 \nQ 25.390625 66.40625 21.84375 63.234375 \nQ 18.3125 60.0625 18.3125 54.390625 \nz\n\" id=\"DejaVuSans-56\"/>\n      </defs>\n      <g transform=\"translate(7.2 67.427207)scale(0.1 -0.1)\">\n       <use xlink:href=\"#DejaVuSans-48\"/>\n       <use x=\"63.623047\" xlink:href=\"#DejaVuSans-46\"/>\n       <use x=\"95.410156\" xlink:href=\"#DejaVuSans-56\"/>\n      </g>\n     </g>\n    </g>\n    <g id=\"ytick_5\">\n     <g id=\"line2d_9\">\n      <g>\n       <use style=\"stroke:#000000;stroke-width:0.8;\" x=\"30.103125\" xlink:href=\"#m31b43fe774\" y=\"37.788956\"/>\n      </g>\n     </g>\n     <g id=\"text_9\">\n      <!-- 1.0 -->\n      <g transform=\"translate(7.2 41.588175)scale(0.1 -0.1)\">\n       <use xlink:href=\"#DejaVuSans-49\"/>\n       <use x=\"63.623047\" xlink:href=\"#DejaVuSans-46\"/>\n       <use x=\"95.410156\" xlink:href=\"#DejaVuSans-48\"/>\n      </g>\n     </g>\n    </g>\n    <g id=\"ytick_6\">\n     <g id=\"line2d_10\">\n      <g>\n       <use style=\"stroke:#000000;stroke-width:0.8;\" x=\"30.103125\" xlink:href=\"#m31b43fe774\" y=\"11.949925\"/>\n      </g>\n     </g>\n     <g id=\"text_10\">\n      <!-- 1.2 -->\n      <g transform=\"translate(7.2 15.749143)scale(0.1 -0.1)\">\n       <use xlink:href=\"#DejaVuSans-49\"/>\n       <use x=\"63.623047\" xlink:href=\"#DejaVuSans-46\"/>\n       <use x=\"95.410156\" xlink:href=\"#DejaVuSans-50\"/>\n      </g>\n     </g>\n    </g>\n   </g>\n   <g id=\"patch_3\">\n    <path d=\"M 30.103125 143.1 \nL 30.103125 7.2 \n\" style=\"fill:none;stroke:#000000;stroke-linecap:square;stroke-linejoin:miter;stroke-width:0.8;\"/>\n   </g>\n   <g id=\"patch_4\">\n    <path d=\"M 225.403125 143.1 \nL 225.403125 7.2 \n\" style=\"fill:none;stroke:#000000;stroke-linecap:square;stroke-linejoin:miter;stroke-width:0.8;\"/>\n   </g>\n   <g id=\"patch_5\">\n    <path d=\"M 30.103125 143.1 \nL 225.403125 143.1 \n\" style=\"fill:none;stroke:#000000;stroke-linecap:square;stroke-linejoin:miter;stroke-width:0.8;\"/>\n   </g>\n   <g id=\"patch_6\">\n    <path d=\"M 30.103125 7.2 \nL 225.403125 7.2 \n\" style=\"fill:none;stroke:#000000;stroke-linecap:square;stroke-linejoin:miter;stroke-width:0.8;\"/>\n   </g>\n  </g>\n </g>\n <defs>\n  <clipPath id=\"p72bdcfc038\">\n   <rect height=\"135.9\" width=\"195.3\" x=\"30.103125\" y=\"7.2\"/>\n  </clipPath>\n </defs>\n</svg>\n"
          },
          "metadata": {
            "needs_background": "light"
          }
        }
      ]
    },
    {
      "cell_type": "code",
      "source": [
        "bc = torch.randn_like(wu)\n",
        "#for i in range(len(bc)):\n",
        "#    bc[i] = features[]\n",
        "bc = features[:, 1]/wu\n",
        "bc"
      ],
      "metadata": {
        "colab": {
          "base_uri": "https://localhost:8080/"
        },
        "id": "u6yOOb2Djt-d",
        "outputId": "a3a5cdf6-877b-4b3e-8a7f-57f65a69c531"
      },
      "execution_count": null,
      "outputs": [
        {
          "output_type": "execute_result",
          "data": {
            "text/plain": [
              "tensor([19.6326, 17.8433, 18.9831,  ..., 20.2866, 19.9952, 20.9305],\n",
              "       dtype=torch.float64)"
            ]
          },
          "metadata": {},
          "execution_count": 12
        }
      ]
    },
    {
      "cell_type": "code",
      "source": [
        "def findt(T, features):\n",
        "    x = 0\n",
        "    y = 100\n",
        "    W = features[:, 1]\n",
        "    for i in range(len(W)):\n",
        "        if W[i]-T == 0:\n",
        "            x = i\n",
        "            return x\n",
        "        elif y <= abs(W[i]-T):\n",
        "            continue\n",
        "        elif y > abs(W[i]-T):\n",
        "            x = i\n",
        "            y = abs(W[i]-T)\n",
        "    return x"
      ],
      "metadata": {
        "id": "vrbF8btcm4T7"
      },
      "execution_count": null,
      "outputs": []
    },
    {
      "cell_type": "code",
      "source": [
        "def op(x, T, features):\n",
        "    if x > 2:\n",
        "        i = (bc[x-1]+ 12*bc[x] + bc[x+1])/14\n",
        "    else:\n",
        "        i = (12*bc[x] + bc[x+1] + bc[x+2])/14\n",
        "    return T/i"
      ],
      "metadata": {
        "id": "4FI_qI0lpx2D"
      },
      "execution_count": null,
      "outputs": []
    },
    {
      "cell_type": "code",
      "source": [
        "test_indata, test_outdata = data.iloc[0: 477, 2 : 4] , data.iloc[0 : 477, 1]\n",
        "test_indata, test_outdata = torch.tensor(test_indata.values), torch.tensor(test_outdata.values)\n",
        "m = test_indata[:, 1]\n",
        "n = test_indata[:, 0]\n",
        "new_n = torch.zeros_like(n)\n",
        "for i in range(len(test_indata[:, 1])):\n",
        "    x = findt(m[i], features)\n",
        "    b = op(x, m[i], features)\n",
        "    new_n[i] = n[i] - b"
      ],
      "metadata": {
        "id": "MtHRjIkFsP20",
        "colab": {
          "base_uri": "https://localhost:8080/",
          "height": 237
        },
        "outputId": "a6291dab-41e1-444d-f617-088ba5a190ba"
      },
      "execution_count": null,
      "outputs": [
        {
          "output_type": "error",
          "ename": "AttributeError",
          "evalue": "ignored",
          "traceback": [
            "\u001b[0;31m---------------------------------------------------------------------------\u001b[0m",
            "\u001b[0;31mAttributeError\u001b[0m                            Traceback (most recent call last)",
            "\u001b[0;32m<ipython-input-35-cbe3a179a5c4>\u001b[0m in \u001b[0;36m<module>\u001b[0;34m()\u001b[0m\n\u001b[0;32m----> 1\u001b[0;31m \u001b[0mtest_indata\u001b[0m\u001b[0;34m,\u001b[0m \u001b[0mtest_outdata\u001b[0m \u001b[0;34m=\u001b[0m \u001b[0mdata\u001b[0m\u001b[0;34m.\u001b[0m\u001b[0miloc\u001b[0m\u001b[0;34m[\u001b[0m\u001b[0;36m0\u001b[0m\u001b[0;34m:\u001b[0m \u001b[0;36m477\u001b[0m\u001b[0;34m,\u001b[0m \u001b[0;36m2\u001b[0m \u001b[0;34m:\u001b[0m \u001b[0;36m4\u001b[0m\u001b[0;34m]\u001b[0m \u001b[0;34m,\u001b[0m \u001b[0mdata\u001b[0m\u001b[0;34m.\u001b[0m\u001b[0miloc\u001b[0m\u001b[0;34m[\u001b[0m\u001b[0;36m0\u001b[0m \u001b[0;34m:\u001b[0m \u001b[0;36m477\u001b[0m\u001b[0;34m,\u001b[0m \u001b[0;36m1\u001b[0m\u001b[0;34m]\u001b[0m\u001b[0;34m\u001b[0m\u001b[0;34m\u001b[0m\u001b[0m\n\u001b[0m\u001b[1;32m      2\u001b[0m \u001b[0mtest_indata\u001b[0m\u001b[0;34m,\u001b[0m \u001b[0mtest_outdata\u001b[0m \u001b[0;34m=\u001b[0m \u001b[0mtorch\u001b[0m\u001b[0;34m.\u001b[0m\u001b[0mtensor\u001b[0m\u001b[0;34m(\u001b[0m\u001b[0mtest_indata\u001b[0m\u001b[0;34m.\u001b[0m\u001b[0mvalues\u001b[0m\u001b[0;34m)\u001b[0m\u001b[0;34m,\u001b[0m \u001b[0mtorch\u001b[0m\u001b[0;34m.\u001b[0m\u001b[0mtensor\u001b[0m\u001b[0;34m(\u001b[0m\u001b[0mtest_outdata\u001b[0m\u001b[0;34m.\u001b[0m\u001b[0mvalues\u001b[0m\u001b[0;34m)\u001b[0m\u001b[0;34m\u001b[0m\u001b[0;34m\u001b[0m\u001b[0m\n\u001b[1;32m      3\u001b[0m \u001b[0mm\u001b[0m \u001b[0;34m=\u001b[0m \u001b[0mtest_indata\u001b[0m\u001b[0;34m[\u001b[0m\u001b[0;34m:\u001b[0m\u001b[0;34m,\u001b[0m \u001b[0;36m1\u001b[0m\u001b[0;34m]\u001b[0m\u001b[0;34m\u001b[0m\u001b[0;34m\u001b[0m\u001b[0m\n\u001b[1;32m      4\u001b[0m \u001b[0mn\u001b[0m \u001b[0;34m=\u001b[0m \u001b[0mtest_indata\u001b[0m\u001b[0;34m[\u001b[0m\u001b[0;34m:\u001b[0m\u001b[0;34m,\u001b[0m \u001b[0;36m0\u001b[0m\u001b[0;34m]\u001b[0m\u001b[0;34m\u001b[0m\u001b[0;34m\u001b[0m\u001b[0m\n\u001b[1;32m      5\u001b[0m \u001b[0mnew_n\u001b[0m \u001b[0;34m=\u001b[0m \u001b[0mtorch\u001b[0m\u001b[0;34m.\u001b[0m\u001b[0mzeros_like\u001b[0m\u001b[0;34m(\u001b[0m\u001b[0mn\u001b[0m\u001b[0;34m)\u001b[0m\u001b[0;34m\u001b[0m\u001b[0;34m\u001b[0m\u001b[0m\n",
            "\u001b[0;31mAttributeError\u001b[0m: module 'torch.utils.data' has no attribute 'iloc'"
          ]
        }
      ]
    },
    {
      "cell_type": "code",
      "source": [
        "error=test_outdata-new_n\n",
        "i = range(len(error))\n",
        "d2l.plt.plot(i, error);"
      ],
      "metadata": {
        "colab": {
          "base_uri": "https://localhost:8080/",
          "height": 243
        },
        "id": "HffwRHVrvZ_G",
        "outputId": "1bee5fb7-25cc-4b32-865c-61c3b6c14474"
      },
      "execution_count": null,
      "outputs": [
        {
          "output_type": "display_data",
          "data": {
            "text/plain": [
              "<Figure size 252x180 with 1 Axes>"
            ],
            "image/svg+xml": "<?xml version=\"1.0\" encoding=\"utf-8\" standalone=\"no\"?>\n<!DOCTYPE svg PUBLIC \"-//W3C//DTD SVG 1.1//EN\"\n  \"http://www.w3.org/Graphics/SVG/1.1/DTD/svg11.dtd\">\n<!-- Created with matplotlib (https://matplotlib.org/) -->\n<svg height=\"166.978125pt\" version=\"1.1\" viewBox=\"0 0 247.345313 166.978125\" width=\"247.345313pt\" xmlns=\"http://www.w3.org/2000/svg\" xmlns:xlink=\"http://www.w3.org/1999/xlink\">\n <defs>\n  <style type=\"text/css\">\n*{stroke-linecap:butt;stroke-linejoin:round;}\n  </style>\n </defs>\n <g id=\"figure_1\">\n  <g id=\"patch_1\">\n   <path d=\"M 0 166.978125 \nL 247.345312 166.978125 \nL 247.345312 0 \nL 0 0 \nz\n\" style=\"fill:none;\"/>\n  </g>\n  <g id=\"axes_1\">\n   <g id=\"patch_2\">\n    <path d=\"M 44.845312 143.1 \nL 240.145312 143.1 \nL 240.145312 7.2 \nL 44.845312 7.2 \nz\n\" style=\"fill:#ffffff;\"/>\n   </g>\n   <g id=\"matplotlib.axis_1\">\n    <g id=\"xtick_1\">\n     <g id=\"line2d_1\">\n      <defs>\n       <path d=\"M 0 0 \nL 0 3.5 \n\" id=\"m80daec0a88\" style=\"stroke:#000000;stroke-width:0.8;\"/>\n      </defs>\n      <g>\n       <use style=\"stroke:#000000;stroke-width:0.8;\" x=\"53.722585\" xlink:href=\"#m80daec0a88\" y=\"143.1\"/>\n      </g>\n     </g>\n     <g id=\"text_1\">\n      <!-- 0 -->\n      <defs>\n       <path d=\"M 31.78125 66.40625 \nQ 24.171875 66.40625 20.328125 58.90625 \nQ 16.5 51.421875 16.5 36.375 \nQ 16.5 21.390625 20.328125 13.890625 \nQ 24.171875 6.390625 31.78125 6.390625 \nQ 39.453125 6.390625 43.28125 13.890625 \nQ 47.125 21.390625 47.125 36.375 \nQ 47.125 51.421875 43.28125 58.90625 \nQ 39.453125 66.40625 31.78125 66.40625 \nz\nM 31.78125 74.21875 \nQ 44.046875 74.21875 50.515625 64.515625 \nQ 56.984375 54.828125 56.984375 36.375 \nQ 56.984375 17.96875 50.515625 8.265625 \nQ 44.046875 -1.421875 31.78125 -1.421875 \nQ 19.53125 -1.421875 13.0625 8.265625 \nQ 6.59375 17.96875 6.59375 36.375 \nQ 6.59375 54.828125 13.0625 64.515625 \nQ 19.53125 74.21875 31.78125 74.21875 \nz\n\" id=\"DejaVuSans-48\"/>\n      </defs>\n      <g transform=\"translate(50.541335 157.698438)scale(0.1 -0.1)\">\n       <use xlink:href=\"#DejaVuSans-48\"/>\n      </g>\n     </g>\n    </g>\n    <g id=\"xtick_2\">\n     <g id=\"line2d_2\">\n      <g>\n       <use style=\"stroke:#000000;stroke-width:0.8;\" x=\"91.02205\" xlink:href=\"#m80daec0a88\" y=\"143.1\"/>\n      </g>\n     </g>\n     <g id=\"text_2\">\n      <!-- 100 -->\n      <defs>\n       <path d=\"M 12.40625 8.296875 \nL 28.515625 8.296875 \nL 28.515625 63.921875 \nL 10.984375 60.40625 \nL 10.984375 69.390625 \nL 28.421875 72.90625 \nL 38.28125 72.90625 \nL 38.28125 8.296875 \nL 54.390625 8.296875 \nL 54.390625 0 \nL 12.40625 0 \nz\n\" id=\"DejaVuSans-49\"/>\n      </defs>\n      <g transform=\"translate(81.4783 157.698438)scale(0.1 -0.1)\">\n       <use xlink:href=\"#DejaVuSans-49\"/>\n       <use x=\"63.623047\" xlink:href=\"#DejaVuSans-48\"/>\n       <use x=\"127.246094\" xlink:href=\"#DejaVuSans-48\"/>\n      </g>\n     </g>\n    </g>\n    <g id=\"xtick_3\">\n     <g id=\"line2d_3\">\n      <g>\n       <use style=\"stroke:#000000;stroke-width:0.8;\" x=\"128.321516\" xlink:href=\"#m80daec0a88\" y=\"143.1\"/>\n      </g>\n     </g>\n     <g id=\"text_3\">\n      <!-- 200 -->\n      <defs>\n       <path d=\"M 19.1875 8.296875 \nL 53.609375 8.296875 \nL 53.609375 0 \nL 7.328125 0 \nL 7.328125 8.296875 \nQ 12.9375 14.109375 22.625 23.890625 \nQ 32.328125 33.6875 34.8125 36.53125 \nQ 39.546875 41.84375 41.421875 45.53125 \nQ 43.3125 49.21875 43.3125 52.78125 \nQ 43.3125 58.59375 39.234375 62.25 \nQ 35.15625 65.921875 28.609375 65.921875 \nQ 23.96875 65.921875 18.8125 64.3125 \nQ 13.671875 62.703125 7.8125 59.421875 \nL 7.8125 69.390625 \nQ 13.765625 71.78125 18.9375 73 \nQ 24.125 74.21875 28.421875 74.21875 \nQ 39.75 74.21875 46.484375 68.546875 \nQ 53.21875 62.890625 53.21875 53.421875 \nQ 53.21875 48.921875 51.53125 44.890625 \nQ 49.859375 40.875 45.40625 35.40625 \nQ 44.1875 33.984375 37.640625 27.21875 \nQ 31.109375 20.453125 19.1875 8.296875 \nz\n\" id=\"DejaVuSans-50\"/>\n      </defs>\n      <g transform=\"translate(118.777766 157.698438)scale(0.1 -0.1)\">\n       <use xlink:href=\"#DejaVuSans-50\"/>\n       <use x=\"63.623047\" xlink:href=\"#DejaVuSans-48\"/>\n       <use x=\"127.246094\" xlink:href=\"#DejaVuSans-48\"/>\n      </g>\n     </g>\n    </g>\n    <g id=\"xtick_4\">\n     <g id=\"line2d_4\">\n      <g>\n       <use style=\"stroke:#000000;stroke-width:0.8;\" x=\"165.620981\" xlink:href=\"#m80daec0a88\" y=\"143.1\"/>\n      </g>\n     </g>\n     <g id=\"text_4\">\n      <!-- 300 -->\n      <defs>\n       <path d=\"M 40.578125 39.3125 \nQ 47.65625 37.796875 51.625 33 \nQ 55.609375 28.21875 55.609375 21.1875 \nQ 55.609375 10.40625 48.1875 4.484375 \nQ 40.765625 -1.421875 27.09375 -1.421875 \nQ 22.515625 -1.421875 17.65625 -0.515625 \nQ 12.796875 0.390625 7.625 2.203125 \nL 7.625 11.71875 \nQ 11.71875 9.328125 16.59375 8.109375 \nQ 21.484375 6.890625 26.8125 6.890625 \nQ 36.078125 6.890625 40.9375 10.546875 \nQ 45.796875 14.203125 45.796875 21.1875 \nQ 45.796875 27.640625 41.28125 31.265625 \nQ 36.765625 34.90625 28.71875 34.90625 \nL 20.21875 34.90625 \nL 20.21875 43.015625 \nL 29.109375 43.015625 \nQ 36.375 43.015625 40.234375 45.921875 \nQ 44.09375 48.828125 44.09375 54.296875 \nQ 44.09375 59.90625 40.109375 62.90625 \nQ 36.140625 65.921875 28.71875 65.921875 \nQ 24.65625 65.921875 20.015625 65.03125 \nQ 15.375 64.15625 9.8125 62.3125 \nL 9.8125 71.09375 \nQ 15.4375 72.65625 20.34375 73.4375 \nQ 25.25 74.21875 29.59375 74.21875 \nQ 40.828125 74.21875 47.359375 69.109375 \nQ 53.90625 64.015625 53.90625 55.328125 \nQ 53.90625 49.265625 50.4375 45.09375 \nQ 46.96875 40.921875 40.578125 39.3125 \nz\n\" id=\"DejaVuSans-51\"/>\n      </defs>\n      <g transform=\"translate(156.077231 157.698438)scale(0.1 -0.1)\">\n       <use xlink:href=\"#DejaVuSans-51\"/>\n       <use x=\"63.623047\" xlink:href=\"#DejaVuSans-48\"/>\n       <use x=\"127.246094\" xlink:href=\"#DejaVuSans-48\"/>\n      </g>\n     </g>\n    </g>\n    <g id=\"xtick_5\">\n     <g id=\"line2d_5\">\n      <g>\n       <use style=\"stroke:#000000;stroke-width:0.8;\" x=\"202.920446\" xlink:href=\"#m80daec0a88\" y=\"143.1\"/>\n      </g>\n     </g>\n     <g id=\"text_5\">\n      <!-- 400 -->\n      <defs>\n       <path d=\"M 37.796875 64.3125 \nL 12.890625 25.390625 \nL 37.796875 25.390625 \nz\nM 35.203125 72.90625 \nL 47.609375 72.90625 \nL 47.609375 25.390625 \nL 58.015625 25.390625 \nL 58.015625 17.1875 \nL 47.609375 17.1875 \nL 47.609375 0 \nL 37.796875 0 \nL 37.796875 17.1875 \nL 4.890625 17.1875 \nL 4.890625 26.703125 \nz\n\" id=\"DejaVuSans-52\"/>\n      </defs>\n      <g transform=\"translate(193.376696 157.698438)scale(0.1 -0.1)\">\n       <use xlink:href=\"#DejaVuSans-52\"/>\n       <use x=\"63.623047\" xlink:href=\"#DejaVuSans-48\"/>\n       <use x=\"127.246094\" xlink:href=\"#DejaVuSans-48\"/>\n      </g>\n     </g>\n    </g>\n   </g>\n   <g id=\"matplotlib.axis_2\">\n    <g id=\"ytick_1\">\n     <g id=\"line2d_6\">\n      <defs>\n       <path d=\"M 0 0 \nL -3.5 0 \n\" id=\"me8c6d0e46c\" style=\"stroke:#000000;stroke-width:0.8;\"/>\n      </defs>\n      <g>\n       <use style=\"stroke:#000000;stroke-width:0.8;\" x=\"44.845312\" xlink:href=\"#me8c6d0e46c\" y=\"117.492366\"/>\n      </g>\n     </g>\n     <g id=\"text_6\">\n      <!-- −0.50 -->\n      <defs>\n       <path d=\"M 10.59375 35.5 \nL 73.1875 35.5 \nL 73.1875 27.203125 \nL 10.59375 27.203125 \nz\n\" id=\"DejaVuSans-8722\"/>\n       <path d=\"M 10.6875 12.40625 \nL 21 12.40625 \nL 21 0 \nL 10.6875 0 \nz\n\" id=\"DejaVuSans-46\"/>\n       <path d=\"M 10.796875 72.90625 \nL 49.515625 72.90625 \nL 49.515625 64.59375 \nL 19.828125 64.59375 \nL 19.828125 46.734375 \nQ 21.96875 47.46875 24.109375 47.828125 \nQ 26.265625 48.1875 28.421875 48.1875 \nQ 40.625 48.1875 47.75 41.5 \nQ 54.890625 34.8125 54.890625 23.390625 \nQ 54.890625 11.625 47.5625 5.09375 \nQ 40.234375 -1.421875 26.90625 -1.421875 \nQ 22.3125 -1.421875 17.546875 -0.640625 \nQ 12.796875 0.140625 7.71875 1.703125 \nL 7.71875 11.625 \nQ 12.109375 9.234375 16.796875 8.0625 \nQ 21.484375 6.890625 26.703125 6.890625 \nQ 35.15625 6.890625 40.078125 11.328125 \nQ 45.015625 15.765625 45.015625 23.390625 \nQ 45.015625 31 40.078125 35.4375 \nQ 35.15625 39.890625 26.703125 39.890625 \nQ 22.75 39.890625 18.8125 39.015625 \nQ 14.890625 38.140625 10.796875 36.28125 \nz\n\" id=\"DejaVuSans-53\"/>\n      </defs>\n      <g transform=\"translate(7.2 121.291585)scale(0.1 -0.1)\">\n       <use xlink:href=\"#DejaVuSans-8722\"/>\n       <use x=\"83.789062\" xlink:href=\"#DejaVuSans-48\"/>\n       <use x=\"147.412109\" xlink:href=\"#DejaVuSans-46\"/>\n       <use x=\"179.199219\" xlink:href=\"#DejaVuSans-53\"/>\n       <use x=\"242.822266\" xlink:href=\"#DejaVuSans-48\"/>\n      </g>\n     </g>\n    </g>\n    <g id=\"ytick_2\">\n     <g id=\"line2d_7\">\n      <g>\n       <use style=\"stroke:#000000;stroke-width:0.8;\" x=\"44.845312\" xlink:href=\"#me8c6d0e46c\" y=\"91.73757\"/>\n      </g>\n     </g>\n     <g id=\"text_7\">\n      <!-- −0.25 -->\n      <g transform=\"translate(7.2 95.536789)scale(0.1 -0.1)\">\n       <use xlink:href=\"#DejaVuSans-8722\"/>\n       <use x=\"83.789062\" xlink:href=\"#DejaVuSans-48\"/>\n       <use x=\"147.412109\" xlink:href=\"#DejaVuSans-46\"/>\n       <use x=\"179.199219\" xlink:href=\"#DejaVuSans-50\"/>\n       <use x=\"242.822266\" xlink:href=\"#DejaVuSans-53\"/>\n      </g>\n     </g>\n    </g>\n    <g id=\"ytick_3\">\n     <g id=\"line2d_8\">\n      <g>\n       <use style=\"stroke:#000000;stroke-width:0.8;\" x=\"44.845312\" xlink:href=\"#me8c6d0e46c\" y=\"65.982774\"/>\n      </g>\n     </g>\n     <g id=\"text_8\">\n      <!-- 0.00 -->\n      <g transform=\"translate(15.579687 69.781993)scale(0.1 -0.1)\">\n       <use xlink:href=\"#DejaVuSans-48\"/>\n       <use x=\"63.623047\" xlink:href=\"#DejaVuSans-46\"/>\n       <use x=\"95.410156\" xlink:href=\"#DejaVuSans-48\"/>\n       <use x=\"159.033203\" xlink:href=\"#DejaVuSans-48\"/>\n      </g>\n     </g>\n    </g>\n    <g id=\"ytick_4\">\n     <g id=\"line2d_9\">\n      <g>\n       <use style=\"stroke:#000000;stroke-width:0.8;\" x=\"44.845312\" xlink:href=\"#me8c6d0e46c\" y=\"40.227978\"/>\n      </g>\n     </g>\n     <g id=\"text_9\">\n      <!-- 0.25 -->\n      <g transform=\"translate(15.579687 44.027196)scale(0.1 -0.1)\">\n       <use xlink:href=\"#DejaVuSans-48\"/>\n       <use x=\"63.623047\" xlink:href=\"#DejaVuSans-46\"/>\n       <use x=\"95.410156\" xlink:href=\"#DejaVuSans-50\"/>\n       <use x=\"159.033203\" xlink:href=\"#DejaVuSans-53\"/>\n      </g>\n     </g>\n    </g>\n    <g id=\"ytick_5\">\n     <g id=\"line2d_10\">\n      <g>\n       <use style=\"stroke:#000000;stroke-width:0.8;\" x=\"44.845312\" xlink:href=\"#me8c6d0e46c\" y=\"14.473182\"/>\n      </g>\n     </g>\n     <g id=\"text_10\">\n      <!-- 0.50 -->\n      <g transform=\"translate(15.579687 18.2724)scale(0.1 -0.1)\">\n       <use xlink:href=\"#DejaVuSans-48\"/>\n       <use x=\"63.623047\" xlink:href=\"#DejaVuSans-46\"/>\n       <use x=\"95.410156\" xlink:href=\"#DejaVuSans-53\"/>\n       <use x=\"159.033203\" xlink:href=\"#DejaVuSans-48\"/>\n      </g>\n     </g>\n    </g>\n   </g>\n   <g id=\"line2d_11\">\n    <path clip-path=\"url(#p84c344ba5d)\" d=\"M 53.722585 89.147551 \nL 54.468575 66.510811 \nL 54.841569 79.241954 \nL 55.214564 75.278121 \nL 55.960553 84.79153 \nL 56.333548 84.338867 \nL 56.706542 71.012853 \nL 57.079537 62.487777 \nL 57.452532 59.856731 \nL 57.825526 53.065082 \nL 58.198521 77.175225 \nL 58.571516 75.723579 \nL 58.94451 74.914037 \nL 59.317505 75.646006 \nL 59.6905 93.806437 \nL 60.063494 66.560126 \nL 60.436489 59.528171 \nL 60.809484 74.734183 \nL 61.182478 79.621574 \nL 61.555473 73.238685 \nL 61.928468 77.467957 \nL 62.301462 68.432454 \nL 62.674457 46.200778 \nL 63.047452 51.409606 \nL 63.420446 47.529082 \nL 63.793441 58.60463 \nL 64.166435 59.543575 \nL 64.53943 70.822608 \nL 64.912425 73.283878 \nL 65.285419 69.659419 \nL 65.658414 51.448377 \nL 66.031409 61.899389 \nL 66.404403 61.175551 \nL 66.777398 74.897674 \nL 67.150393 76.475374 \nL 67.523387 57.340044 \nL 67.896382 55.996642 \nL 68.269377 43.764635 \nL 68.642371 44.197542 \nL 69.015366 72.83439 \nL 69.388361 51.26188 \nL 69.761355 53.581047 \nL 70.13435 68.313409 \nL 70.507345 62.090464 \nL 70.880339 48.669125 \nL 71.253334 56.993143 \nL 71.626329 69.417323 \nL 71.999323 55.355244 \nL 72.372318 60.888508 \nL 72.745312 71.499171 \nL 73.118307 66.438133 \nL 73.864296 40.791274 \nL 74.237291 35.55712 \nL 74.610286 51.808912 \nL 74.98328 61.026308 \nL 75.356275 48.215393 \nL 75.72927 71.605451 \nL 76.102264 69.715976 \nL 76.475259 65.27424 \nL 76.848254 64.022415 \nL 77.221248 52.928215 \nL 77.594243 66.462012 \nL 77.967238 59.92428 \nL 78.340232 66.195331 \nL 78.713227 56.876834 \nL 79.459216 46.822126 \nL 79.832211 37.067879 \nL 80.205206 35.530524 \nL 80.5782 42.105843 \nL 80.951195 38.432693 \nL 81.32419 49.718237 \nL 81.697184 49.785235 \nL 82.070179 35.232127 \nL 82.443173 39.426141 \nL 82.816168 40.99811 \nL 83.189163 41.444493 \nL 83.562157 57.180847 \nL 83.935152 60.064766 \nL 84.308147 56.88493 \nL 85.054136 31.790739 \nL 85.427131 24.33532 \nL 86.546115 53.039041 \nL 86.919109 58.007325 \nL 87.665099 44.428031 \nL 88.038093 55.889153 \nL 88.411088 50.234755 \nL 88.784083 40.451079 \nL 89.530072 50.147579 \nL 89.903067 52.704866 \nL 90.276061 33.135918 \nL 90.649056 35.366329 \nL 91.02205 40.602645 \nL 91.395045 37.523035 \nL 91.76804 39.559312 \nL 92.514029 61.456555 \nL 92.887024 65.471689 \nL 93.260018 48.29973 \nL 93.633013 41.799447 \nL 94.006008 60.224613 \nL 94.379002 55.289209 \nL 94.751997 84.825205 \nL 95.124992 75.575833 \nL 95.497986 50.235557 \nL 95.870981 36.357714 \nL 96.243976 34.222896 \nL 96.989965 41.027542 \nL 97.36296 49.46574 \nL 97.735954 51.064678 \nL 98.108949 55.455787 \nL 98.481944 49.805291 \nL 98.854938 52.547211 \nL 99.227933 48.87655 \nL 99.600927 42.985041 \nL 99.973922 45.865586 \nL 100.346917 62.592548 \nL 100.719911 59.571201 \nL 101.092906 55.279177 \nL 101.465901 37.858466 \nL 101.838895 26.719265 \nL 102.21189 29.84254 \nL 102.584885 47.218235 \nL 102.957879 46.053468 \nL 103.703869 61.819995 \nL 104.076863 45.475015 \nL 104.449858 48.219294 \nL 104.822853 41.211431 \nL 105.195847 64.754881 \nL 105.568842 50.477492 \nL 105.941837 50.417099 \nL 106.314831 41.839056 \nL 106.687826 64.914893 \nL 107.433815 22.599573 \nL 107.80681 17.579171 \nL 108.179804 61.594997 \nL 108.552799 35.37522 \nL 108.925794 53.813146 \nL 109.298788 47.911451 \nL 109.671783 47.998541 \nL 110.044778 33.997364 \nL 110.417772 41.517559 \nL 111.163762 44.394106 \nL 111.536756 34.532626 \nL 111.909751 54.802443 \nL 112.282746 43.604979 \nL 113.028735 13.828108 \nL 113.40173 38.264976 \nL 113.774724 32.209982 \nL 114.147719 33.645685 \nL 114.520714 41.48546 \nL 114.893708 44.374596 \nL 115.266703 31.148987 \nL 115.639698 35.053559 \nL 116.012692 58.6824 \nL 116.385687 38.264052 \nL 116.758681 49.704127 \nL 117.131676 52.975398 \nL 117.504671 43.590208 \nL 117.877665 28.453078 \nL 118.25066 34.007569 \nL 118.623655 26.388374 \nL 118.996649 23.007735 \nL 119.369644 18.522312 \nL 119.742639 36.980742 \nL 120.488628 44.304479 \nL 121.234617 23.885001 \nL 121.607612 26.856429 \nL 122.353601 43.163747 \nL 122.726596 37.451334 \nL 123.099591 35.420413 \nL 123.472585 59.045272 \nL 123.84558 20.967334 \nL 124.218575 20.160903 \nL 124.591569 13.377273 \nL 124.964564 36.257651 \nL 125.337558 38.514901 \nL 125.710553 36.918805 \nL 126.083548 26.85368 \nL 126.456542 31.239444 \nL 126.829537 13.592741 \nL 127.202532 33.753009 \nL 127.575526 35.665142 \nL 127.948521 51.829413 \nL 128.321516 54.380843 \nL 128.69451 59.224811 \nL 129.4405 26.15322 \nL 129.813494 27.237252 \nL 130.186489 35.864629 \nL 130.559484 31.484153 \nL 130.932478 71.661722 \nL 131.305473 51.71564 \nL 131.678468 55.179181 \nL 132.051462 45.072178 \nL 132.424457 49.367666 \nL 132.797452 27.40545 \nL 133.170446 51.434743 \nL 133.543441 47.009122 \nL 133.916435 50.419446 \nL 134.28943 32.803108 \nL 134.662425 30.87222 \nL 135.035419 18.677974 \nL 135.408414 27.592462 \nL 135.781409 50.558983 \nL 136.154403 45.09989 \nL 136.527398 41.392571 \nL 136.900393 55.748262 \nL 137.273387 55.41345 \nL 137.646382 48.344537 \nL 138.019377 32.142858 \nL 138.392371 43.01002 \nL 138.765366 39.382152 \nL 139.138361 39.259456 \nL 139.511355 61.258925 \nL 139.88435 62.108518 \nL 140.257345 56.956357 \nL 140.630339 39.793121 \nL 141.003334 38.342038 \nL 141.749323 51.395496 \nL 142.122318 47.585926 \nL 142.495312 50.845267 \nL 142.868307 59.873047 \nL 143.241302 46.557611 \nL 143.614296 47.318884 \nL 143.987291 42.723192 \nL 144.360286 52.857602 \nL 145.106275 65.69884 \nL 145.47927 63.468108 \nL 145.852264 62.485774 \nL 146.225259 79.23219 \nL 146.598254 73.874987 \nL 146.971248 46.144672 \nL 147.344243 48.424525 \nL 147.717238 47.442935 \nL 148.090232 69.757429 \nL 148.463227 57.100984 \nL 148.836222 54.498697 \nL 149.209216 45.335701 \nL 149.582211 50.206139 \nL 149.955206 57.543372 \nL 150.3282 53.159448 \nL 150.701195 53.442796 \nL 151.07419 63.245026 \nL 151.820179 37.711077 \nL 152.566168 41.900384 \nL 152.939163 58.967612 \nL 153.312157 65.14316 \nL 153.685152 61.11729 \nL 154.058147 67.64407 \nL 154.431141 64.467803 \nL 154.804136 57.222776 \nL 155.177131 53.128667 \nL 155.550125 62.060534 \nL 155.92312 51.072666 \nL 156.296115 72.708602 \nL 156.669109 63.461079 \nL 157.042104 58.657933 \nL 157.415099 81.283611 \nL 157.788093 46.953202 \nL 158.161088 55.34113 \nL 158.534083 55.137444 \nL 159.280072 73.969265 \nL 159.653067 74.929999 \nL 160.026061 72.627195 \nL 160.399056 58.482037 \nL 160.77205 54.450323 \nL 161.51804 68.866268 \nL 161.891034 83.664397 \nL 162.264029 69.380688 \nL 162.637024 66.376294 \nL 163.010018 65.843318 \nL 163.383013 56.28015 \nL 163.756008 53.346428 \nL 164.129002 70.761863 \nL 164.501997 65.197342 \nL 164.874992 66.422675 \nL 165.247986 81.94635 \nL 165.993976 60.509189 \nL 166.36697 66.01563 \nL 166.739965 58.6966 \nL 167.11296 69.149261 \nL 167.858949 82.276584 \nL 168.231944 78.900851 \nL 168.604938 65.200455 \nL 168.977933 64.238382 \nL 169.350927 62.620134 \nL 169.723922 65.287768 \nL 170.096917 72.889315 \nL 170.469911 108.753368 \nL 171.215901 72.083325 \nL 171.588895 78.150254 \nL 171.96189 81.510333 \nL 172.334885 83.648742 \nL 172.707879 89.187735 \nL 173.080874 87.849017 \nL 173.453869 99.315484 \nL 173.826863 123.357573 \nL 174.199858 85.003193 \nL 174.572853 63.623081 \nL 174.945847 70.047308 \nL 175.318842 80.602419 \nL 176.064831 89.605414 \nL 176.437826 91.944909 \nL 176.810821 103.616602 \nL 177.183815 88.704099 \nL 177.55681 80.365806 \nL 177.929804 107.931274 \nL 178.302799 123.939941 \nL 178.675794 102.859553 \nL 179.048788 88.995804 \nL 179.421783 92.767749 \nL 179.794778 77.922829 \nL 180.167772 77.754151 \nL 180.913762 91.63282 \nL 181.286756 92.772945 \nL 181.659751 97.691138 \nL 182.032746 91.254442 \nL 182.40574 97.038003 \nL 182.778735 84.642774 \nL 183.15173 81.496935 \nL 183.524724 87.89612 \nL 183.897719 88.612286 \nL 184.270714 95.241317 \nL 184.643708 108.806393 \nL 185.762692 80.417542 \nL 186.135687 91.568508 \nL 186.508681 79.439307 \nL 186.881676 130.743431 \nL 187.627665 95.215736 \nL 188.00066 93.112393 \nL 188.373655 94.768003 \nL 188.746649 100.259555 \nL 189.119644 89.476981 \nL 189.492639 122.171513 \nL 189.865633 88.874937 \nL 190.238628 112.855505 \nL 190.611623 102.971123 \nL 190.984617 81.860876 \nL 191.357612 93.32035 \nL 191.730607 80.317823 \nL 192.103601 94.331889 \nL 192.476596 95.181121 \nL 192.849591 98.829935 \nL 193.222585 96.616726 \nL 193.59558 97.784313 \nL 193.968575 87.497721 \nL 194.341569 86.876081 \nL 194.714564 96.178205 \nL 195.087558 132.856045 \nL 195.460553 112.344078 \nL 195.833548 109.462735 \nL 196.206542 91.540937 \nL 196.579537 91.601205 \nL 196.952532 88.295422 \nL 197.325526 87.74839 \nL 197.698521 75.904719 \nL 198.071516 91.888937 \nL 198.44451 93.343909 \nL 198.817505 107.112483 \nL 199.1905 94.96519 \nL 199.563494 93.844962 \nL 199.936489 95.650328 \nL 200.309484 95.046333 \nL 200.682478 88.434736 \nL 201.055473 93.554653 \nL 201.428468 110.243929 \nL 201.801462 95.961159 \nL 202.174457 72.311719 \nL 202.547452 76.326814 \nL 202.920446 91.502782 \nL 203.293441 87.243184 \nL 204.03943 100.749927 \nL 204.412425 96.279924 \nL 204.785419 100.132117 \nL 205.531409 87.975374 \nL 205.904403 112.040298 \nL 206.277398 96.187493 \nL 206.650393 99.367203 \nL 207.023387 94.717432 \nL 207.396382 99.295914 \nL 207.769377 75.317947 \nL 208.142371 81.687565 \nL 208.515366 77.480217 \nL 208.888361 92.063028 \nL 209.261355 95.924096 \nL 209.63435 92.427451 \nL 210.007345 101.764832 \nL 210.380339 114.1798 \nL 210.753334 81.413592 \nL 211.126329 110.410495 \nL 211.499323 93.773673 \nL 211.872318 90.799506 \nL 212.245312 89.817633 \nL 212.618307 93.533284 \nL 212.991302 79.337778 \nL 213.364296 79.791189 \nL 213.737291 68.954703 \nL 214.110286 102.130779 \nL 214.48328 80.584537 \nL 214.856275 126.431563 \nL 215.22927 100.884246 \nL 215.602264 121.81338 \nL 215.975259 92.005407 \nL 216.348254 94.233821 \nL 216.721248 88.699978 \nL 217.467238 92.438212 \nL 217.840232 111.484995 \nL 218.586222 96.939552 \nL 218.959216 89.963257 \nL 219.332211 67.310858 \nL 219.705206 84.287937 \nL 220.0782 91.143067 \nL 220.451195 91.241416 \nL 220.82419 136.922727 \nL 221.197184 105.23157 \nL 221.570179 91.668231 \nL 221.943173 89.069778 \nL 222.316168 79.291854 \nL 223.062157 97.900995 \nL 223.435152 82.319485 \nL 223.808147 101.785214 \nL 224.181141 66.685809 \nL 224.554136 71.070912 \nL 224.927131 64.816835 \nL 225.300125 71.7355 \nL 225.67312 75.464447 \nL 226.046115 91.17767 \nL 226.419109 123.765529 \nL 226.792104 116.864853 \nL 227.165099 85.135091 \nL 227.538093 75.41747 \nL 227.911088 114.645035 \nL 228.284083 88.049579 \nL 228.657077 92.946841 \nL 229.403067 105.649171 \nL 229.776061 87.89628 \nL 230.52205 64.870463 \nL 230.895045 67.365072 \nL 231.26804 80.05304 \nL 231.26804 80.05304 \n\" style=\"fill:none;stroke:#1f77b4;stroke-linecap:square;stroke-width:1.5;\"/>\n   </g>\n   <g id=\"patch_3\">\n    <path d=\"M 44.845312 143.1 \nL 44.845312 7.2 \n\" style=\"fill:none;stroke:#000000;stroke-linecap:square;stroke-linejoin:miter;stroke-width:0.8;\"/>\n   </g>\n   <g id=\"patch_4\">\n    <path d=\"M 240.145312 143.1 \nL 240.145312 7.2 \n\" style=\"fill:none;stroke:#000000;stroke-linecap:square;stroke-linejoin:miter;stroke-width:0.8;\"/>\n   </g>\n   <g id=\"patch_5\">\n    <path d=\"M 44.845312 143.1 \nL 240.145312 143.1 \n\" style=\"fill:none;stroke:#000000;stroke-linecap:square;stroke-linejoin:miter;stroke-width:0.8;\"/>\n   </g>\n   <g id=\"patch_6\">\n    <path d=\"M 44.845312 7.2 \nL 240.145312 7.2 \n\" style=\"fill:none;stroke:#000000;stroke-linecap:square;stroke-linejoin:miter;stroke-width:0.8;\"/>\n   </g>\n  </g>\n </g>\n <defs>\n  <clipPath id=\"p84c344ba5d\">\n   <rect height=\"135.9\" width=\"195.3\" x=\"44.845312\" y=\"7.2\"/>\n  </clipPath>\n </defs>\n</svg>\n"
          },
          "metadata": {
            "needs_background": "light"
          }
        }
      ]
    },
    {
      "cell_type": "code",
      "source": [
        "real=test_outdata-n\n",
        "d2l.plt.plot(i, real);"
      ],
      "metadata": {
        "colab": {
          "base_uri": "https://localhost:8080/",
          "height": 248
        },
        "id": "MuDPNzvJyggX",
        "outputId": "9e571fd4-5ae3-4cb3-e74d-c8d52601414a"
      },
      "execution_count": null,
      "outputs": [
        {
          "output_type": "display_data",
          "data": {
            "text/plain": [
              "<Figure size 252x180 with 1 Axes>"
            ],
            "image/svg+xml": "<?xml version=\"1.0\" encoding=\"utf-8\" standalone=\"no\"?>\n<!DOCTYPE svg PUBLIC \"-//W3C//DTD SVG 1.1//EN\"\n  \"http://www.w3.org/Graphics/SVG/1.1/DTD/svg11.dtd\">\n<!-- Created with matplotlib (https://matplotlib.org/) -->\n<svg height=\"170.711585pt\" version=\"1.1\" viewBox=\"0 0 240.982812 170.711585\" width=\"240.982812pt\" xmlns=\"http://www.w3.org/2000/svg\" xmlns:xlink=\"http://www.w3.org/1999/xlink\">\n <defs>\n  <style type=\"text/css\">\n*{stroke-linecap:butt;stroke-linejoin:round;}\n  </style>\n </defs>\n <g id=\"figure_1\">\n  <g id=\"patch_1\">\n   <path d=\"M -0 170.711585 \nL 240.982813 170.711585 \nL 240.982813 0 \nL -0 0 \nz\n\" style=\"fill:none;\"/>\n  </g>\n  <g id=\"axes_1\">\n   <g id=\"patch_2\">\n    <path d=\"M 38.482813 146.83346 \nL 233.782813 146.83346 \nL 233.782813 10.93346 \nL 38.482813 10.93346 \nz\n\" style=\"fill:#ffffff;\"/>\n   </g>\n   <g id=\"matplotlib.axis_1\">\n    <g id=\"xtick_1\">\n     <g id=\"line2d_1\">\n      <defs>\n       <path d=\"M 0 0 \nL 0 3.5 \n\" id=\"m1eafca7b28\" style=\"stroke:#000000;stroke-width:0.8;\"/>\n      </defs>\n      <g>\n       <use style=\"stroke:#000000;stroke-width:0.8;\" x=\"47.360085\" xlink:href=\"#m1eafca7b28\" y=\"146.83346\"/>\n      </g>\n     </g>\n     <g id=\"text_1\">\n      <!-- 0 -->\n      <defs>\n       <path d=\"M 31.78125 66.40625 \nQ 24.171875 66.40625 20.328125 58.90625 \nQ 16.5 51.421875 16.5 36.375 \nQ 16.5 21.390625 20.328125 13.890625 \nQ 24.171875 6.390625 31.78125 6.390625 \nQ 39.453125 6.390625 43.28125 13.890625 \nQ 47.125 21.390625 47.125 36.375 \nQ 47.125 51.421875 43.28125 58.90625 \nQ 39.453125 66.40625 31.78125 66.40625 \nz\nM 31.78125 74.21875 \nQ 44.046875 74.21875 50.515625 64.515625 \nQ 56.984375 54.828125 56.984375 36.375 \nQ 56.984375 17.96875 50.515625 8.265625 \nQ 44.046875 -1.421875 31.78125 -1.421875 \nQ 19.53125 -1.421875 13.0625 8.265625 \nQ 6.59375 17.96875 6.59375 36.375 \nQ 6.59375 54.828125 13.0625 64.515625 \nQ 19.53125 74.21875 31.78125 74.21875 \nz\n\" id=\"DejaVuSans-48\"/>\n      </defs>\n      <g transform=\"translate(44.178835 161.431897)scale(0.1 -0.1)\">\n       <use xlink:href=\"#DejaVuSans-48\"/>\n      </g>\n     </g>\n    </g>\n    <g id=\"xtick_2\">\n     <g id=\"line2d_2\">\n      <g>\n       <use style=\"stroke:#000000;stroke-width:0.8;\" x=\"84.65955\" xlink:href=\"#m1eafca7b28\" y=\"146.83346\"/>\n      </g>\n     </g>\n     <g id=\"text_2\">\n      <!-- 100 -->\n      <defs>\n       <path d=\"M 12.40625 8.296875 \nL 28.515625 8.296875 \nL 28.515625 63.921875 \nL 10.984375 60.40625 \nL 10.984375 69.390625 \nL 28.421875 72.90625 \nL 38.28125 72.90625 \nL 38.28125 8.296875 \nL 54.390625 8.296875 \nL 54.390625 0 \nL 12.40625 0 \nz\n\" id=\"DejaVuSans-49\"/>\n      </defs>\n      <g transform=\"translate(75.1158 161.431897)scale(0.1 -0.1)\">\n       <use xlink:href=\"#DejaVuSans-49\"/>\n       <use x=\"63.623047\" xlink:href=\"#DejaVuSans-48\"/>\n       <use x=\"127.246094\" xlink:href=\"#DejaVuSans-48\"/>\n      </g>\n     </g>\n    </g>\n    <g id=\"xtick_3\">\n     <g id=\"line2d_3\">\n      <g>\n       <use style=\"stroke:#000000;stroke-width:0.8;\" x=\"121.959016\" xlink:href=\"#m1eafca7b28\" y=\"146.83346\"/>\n      </g>\n     </g>\n     <g id=\"text_3\">\n      <!-- 200 -->\n      <defs>\n       <path d=\"M 19.1875 8.296875 \nL 53.609375 8.296875 \nL 53.609375 0 \nL 7.328125 0 \nL 7.328125 8.296875 \nQ 12.9375 14.109375 22.625 23.890625 \nQ 32.328125 33.6875 34.8125 36.53125 \nQ 39.546875 41.84375 41.421875 45.53125 \nQ 43.3125 49.21875 43.3125 52.78125 \nQ 43.3125 58.59375 39.234375 62.25 \nQ 35.15625 65.921875 28.609375 65.921875 \nQ 23.96875 65.921875 18.8125 64.3125 \nQ 13.671875 62.703125 7.8125 59.421875 \nL 7.8125 69.390625 \nQ 13.765625 71.78125 18.9375 73 \nQ 24.125 74.21875 28.421875 74.21875 \nQ 39.75 74.21875 46.484375 68.546875 \nQ 53.21875 62.890625 53.21875 53.421875 \nQ 53.21875 48.921875 51.53125 44.890625 \nQ 49.859375 40.875 45.40625 35.40625 \nQ 44.1875 33.984375 37.640625 27.21875 \nQ 31.109375 20.453125 19.1875 8.296875 \nz\n\" id=\"DejaVuSans-50\"/>\n      </defs>\n      <g transform=\"translate(112.415266 161.431897)scale(0.1 -0.1)\">\n       <use xlink:href=\"#DejaVuSans-50\"/>\n       <use x=\"63.623047\" xlink:href=\"#DejaVuSans-48\"/>\n       <use x=\"127.246094\" xlink:href=\"#DejaVuSans-48\"/>\n      </g>\n     </g>\n    </g>\n    <g id=\"xtick_4\">\n     <g id=\"line2d_4\">\n      <g>\n       <use style=\"stroke:#000000;stroke-width:0.8;\" x=\"159.258481\" xlink:href=\"#m1eafca7b28\" y=\"146.83346\"/>\n      </g>\n     </g>\n     <g id=\"text_4\">\n      <!-- 300 -->\n      <defs>\n       <path d=\"M 40.578125 39.3125 \nQ 47.65625 37.796875 51.625 33 \nQ 55.609375 28.21875 55.609375 21.1875 \nQ 55.609375 10.40625 48.1875 4.484375 \nQ 40.765625 -1.421875 27.09375 -1.421875 \nQ 22.515625 -1.421875 17.65625 -0.515625 \nQ 12.796875 0.390625 7.625 2.203125 \nL 7.625 11.71875 \nQ 11.71875 9.328125 16.59375 8.109375 \nQ 21.484375 6.890625 26.8125 6.890625 \nQ 36.078125 6.890625 40.9375 10.546875 \nQ 45.796875 14.203125 45.796875 21.1875 \nQ 45.796875 27.640625 41.28125 31.265625 \nQ 36.765625 34.90625 28.71875 34.90625 \nL 20.21875 34.90625 \nL 20.21875 43.015625 \nL 29.109375 43.015625 \nQ 36.375 43.015625 40.234375 45.921875 \nQ 44.09375 48.828125 44.09375 54.296875 \nQ 44.09375 59.90625 40.109375 62.90625 \nQ 36.140625 65.921875 28.71875 65.921875 \nQ 24.65625 65.921875 20.015625 65.03125 \nQ 15.375 64.15625 9.8125 62.3125 \nL 9.8125 71.09375 \nQ 15.4375 72.65625 20.34375 73.4375 \nQ 25.25 74.21875 29.59375 74.21875 \nQ 40.828125 74.21875 47.359375 69.109375 \nQ 53.90625 64.015625 53.90625 55.328125 \nQ 53.90625 49.265625 50.4375 45.09375 \nQ 46.96875 40.921875 40.578125 39.3125 \nz\n\" id=\"DejaVuSans-51\"/>\n      </defs>\n      <g transform=\"translate(149.714731 161.431897)scale(0.1 -0.1)\">\n       <use xlink:href=\"#DejaVuSans-51\"/>\n       <use x=\"63.623047\" xlink:href=\"#DejaVuSans-48\"/>\n       <use x=\"127.246094\" xlink:href=\"#DejaVuSans-48\"/>\n      </g>\n     </g>\n    </g>\n    <g id=\"xtick_5\">\n     <g id=\"line2d_5\">\n      <g>\n       <use style=\"stroke:#000000;stroke-width:0.8;\" x=\"196.557946\" xlink:href=\"#m1eafca7b28\" y=\"146.83346\"/>\n      </g>\n     </g>\n     <g id=\"text_5\">\n      <!-- 400 -->\n      <defs>\n       <path d=\"M 37.796875 64.3125 \nL 12.890625 25.390625 \nL 37.796875 25.390625 \nz\nM 35.203125 72.90625 \nL 47.609375 72.90625 \nL 47.609375 25.390625 \nL 58.015625 25.390625 \nL 58.015625 17.1875 \nL 47.609375 17.1875 \nL 47.609375 0 \nL 37.796875 0 \nL 37.796875 17.1875 \nL 4.890625 17.1875 \nL 4.890625 26.703125 \nz\n\" id=\"DejaVuSans-52\"/>\n      </defs>\n      <g transform=\"translate(187.014196 161.431897)scale(0.1 -0.1)\">\n       <use xlink:href=\"#DejaVuSans-52\"/>\n       <use x=\"63.623047\" xlink:href=\"#DejaVuSans-48\"/>\n       <use x=\"127.246094\" xlink:href=\"#DejaVuSans-48\"/>\n      </g>\n     </g>\n    </g>\n   </g>\n   <g id=\"matplotlib.axis_2\">\n    <g id=\"ytick_1\">\n     <g id=\"line2d_6\">\n      <defs>\n       <path d=\"M 0 0 \nL -3.5 0 \n\" id=\"m62d2070e8b\" style=\"stroke:#000000;stroke-width:0.8;\"/>\n      </defs>\n      <g>\n       <use style=\"stroke:#000000;stroke-width:0.8;\" x=\"38.482813\" xlink:href=\"#m62d2070e8b\" y=\"144.249275\"/>\n      </g>\n     </g>\n     <g id=\"text_6\">\n      <!-- −1.2 -->\n      <defs>\n       <path d=\"M 10.59375 35.5 \nL 73.1875 35.5 \nL 73.1875 27.203125 \nL 10.59375 27.203125 \nz\n\" id=\"DejaVuSans-8722\"/>\n       <path d=\"M 10.6875 12.40625 \nL 21 12.40625 \nL 21 0 \nL 10.6875 0 \nz\n\" id=\"DejaVuSans-46\"/>\n      </defs>\n      <g transform=\"translate(7.2 148.048494)scale(0.1 -0.1)\">\n       <use xlink:href=\"#DejaVuSans-8722\"/>\n       <use x=\"83.789062\" xlink:href=\"#DejaVuSans-49\"/>\n       <use x=\"147.412109\" xlink:href=\"#DejaVuSans-46\"/>\n       <use x=\"179.199219\" xlink:href=\"#DejaVuSans-50\"/>\n      </g>\n     </g>\n    </g>\n    <g id=\"ytick_2\">\n     <g id=\"line2d_7\">\n      <g>\n       <use style=\"stroke:#000000;stroke-width:0.8;\" x=\"38.482813\" xlink:href=\"#m62d2070e8b\" y=\"117.599264\"/>\n      </g>\n     </g>\n     <g id=\"text_7\">\n      <!-- −1.0 -->\n      <g transform=\"translate(7.2 121.398482)scale(0.1 -0.1)\">\n       <use xlink:href=\"#DejaVuSans-8722\"/>\n       <use x=\"83.789062\" xlink:href=\"#DejaVuSans-49\"/>\n       <use x=\"147.412109\" xlink:href=\"#DejaVuSans-46\"/>\n       <use x=\"179.199219\" xlink:href=\"#DejaVuSans-48\"/>\n      </g>\n     </g>\n    </g>\n    <g id=\"ytick_3\">\n     <g id=\"line2d_8\">\n      <g>\n       <use style=\"stroke:#000000;stroke-width:0.8;\" x=\"38.482813\" xlink:href=\"#m62d2070e8b\" y=\"90.949252\"/>\n      </g>\n     </g>\n     <g id=\"text_8\">\n      <!-- −0.8 -->\n      <defs>\n       <path d=\"M 31.78125 34.625 \nQ 24.75 34.625 20.71875 30.859375 \nQ 16.703125 27.09375 16.703125 20.515625 \nQ 16.703125 13.921875 20.71875 10.15625 \nQ 24.75 6.390625 31.78125 6.390625 \nQ 38.8125 6.390625 42.859375 10.171875 \nQ 46.921875 13.96875 46.921875 20.515625 \nQ 46.921875 27.09375 42.890625 30.859375 \nQ 38.875 34.625 31.78125 34.625 \nz\nM 21.921875 38.8125 \nQ 15.578125 40.375 12.03125 44.71875 \nQ 8.5 49.078125 8.5 55.328125 \nQ 8.5 64.0625 14.71875 69.140625 \nQ 20.953125 74.21875 31.78125 74.21875 \nQ 42.671875 74.21875 48.875 69.140625 \nQ 55.078125 64.0625 55.078125 55.328125 \nQ 55.078125 49.078125 51.53125 44.71875 \nQ 48 40.375 41.703125 38.8125 \nQ 48.828125 37.15625 52.796875 32.3125 \nQ 56.78125 27.484375 56.78125 20.515625 \nQ 56.78125 9.90625 50.3125 4.234375 \nQ 43.84375 -1.421875 31.78125 -1.421875 \nQ 19.734375 -1.421875 13.25 4.234375 \nQ 6.78125 9.90625 6.78125 20.515625 \nQ 6.78125 27.484375 10.78125 32.3125 \nQ 14.796875 37.15625 21.921875 38.8125 \nz\nM 18.3125 54.390625 \nQ 18.3125 48.734375 21.84375 45.5625 \nQ 25.390625 42.390625 31.78125 42.390625 \nQ 38.140625 42.390625 41.71875 45.5625 \nQ 45.3125 48.734375 45.3125 54.390625 \nQ 45.3125 60.0625 41.71875 63.234375 \nQ 38.140625 66.40625 31.78125 66.40625 \nQ 25.390625 66.40625 21.84375 63.234375 \nQ 18.3125 60.0625 18.3125 54.390625 \nz\n\" id=\"DejaVuSans-56\"/>\n      </defs>\n      <g transform=\"translate(7.2 94.748471)scale(0.1 -0.1)\">\n       <use xlink:href=\"#DejaVuSans-8722\"/>\n       <use x=\"83.789062\" xlink:href=\"#DejaVuSans-48\"/>\n       <use x=\"147.412109\" xlink:href=\"#DejaVuSans-46\"/>\n       <use x=\"179.199219\" xlink:href=\"#DejaVuSans-56\"/>\n      </g>\n     </g>\n    </g>\n    <g id=\"ytick_4\">\n     <g id=\"line2d_9\">\n      <g>\n       <use style=\"stroke:#000000;stroke-width:0.8;\" x=\"38.482813\" xlink:href=\"#m62d2070e8b\" y=\"64.299241\"/>\n      </g>\n     </g>\n     <g id=\"text_9\">\n      <!-- −0.6 -->\n      <defs>\n       <path d=\"M 33.015625 40.375 \nQ 26.375 40.375 22.484375 35.828125 \nQ 18.609375 31.296875 18.609375 23.390625 \nQ 18.609375 15.53125 22.484375 10.953125 \nQ 26.375 6.390625 33.015625 6.390625 \nQ 39.65625 6.390625 43.53125 10.953125 \nQ 47.40625 15.53125 47.40625 23.390625 \nQ 47.40625 31.296875 43.53125 35.828125 \nQ 39.65625 40.375 33.015625 40.375 \nz\nM 52.59375 71.296875 \nL 52.59375 62.3125 \nQ 48.875 64.0625 45.09375 64.984375 \nQ 41.3125 65.921875 37.59375 65.921875 \nQ 27.828125 65.921875 22.671875 59.328125 \nQ 17.53125 52.734375 16.796875 39.40625 \nQ 19.671875 43.65625 24.015625 45.921875 \nQ 28.375 48.1875 33.59375 48.1875 \nQ 44.578125 48.1875 50.953125 41.515625 \nQ 57.328125 34.859375 57.328125 23.390625 \nQ 57.328125 12.15625 50.6875 5.359375 \nQ 44.046875 -1.421875 33.015625 -1.421875 \nQ 20.359375 -1.421875 13.671875 8.265625 \nQ 6.984375 17.96875 6.984375 36.375 \nQ 6.984375 53.65625 15.1875 63.9375 \nQ 23.390625 74.21875 37.203125 74.21875 \nQ 40.921875 74.21875 44.703125 73.484375 \nQ 48.484375 72.75 52.59375 71.296875 \nz\n\" id=\"DejaVuSans-54\"/>\n      </defs>\n      <g transform=\"translate(7.2 68.09846)scale(0.1 -0.1)\">\n       <use xlink:href=\"#DejaVuSans-8722\"/>\n       <use x=\"83.789062\" xlink:href=\"#DejaVuSans-48\"/>\n       <use x=\"147.412109\" xlink:href=\"#DejaVuSans-46\"/>\n       <use x=\"179.199219\" xlink:href=\"#DejaVuSans-54\"/>\n      </g>\n     </g>\n    </g>\n    <g id=\"ytick_5\">\n     <g id=\"line2d_10\">\n      <g>\n       <use style=\"stroke:#000000;stroke-width:0.8;\" x=\"38.482813\" xlink:href=\"#m62d2070e8b\" y=\"37.64923\"/>\n      </g>\n     </g>\n     <g id=\"text_10\">\n      <!-- −0.4 -->\n      <g transform=\"translate(7.2 41.448449)scale(0.1 -0.1)\">\n       <use xlink:href=\"#DejaVuSans-8722\"/>\n       <use x=\"83.789062\" xlink:href=\"#DejaVuSans-48\"/>\n       <use x=\"147.412109\" xlink:href=\"#DejaVuSans-46\"/>\n       <use x=\"179.199219\" xlink:href=\"#DejaVuSans-52\"/>\n      </g>\n     </g>\n    </g>\n    <g id=\"ytick_6\">\n     <g id=\"line2d_11\">\n      <g>\n       <use style=\"stroke:#000000;stroke-width:0.8;\" x=\"38.482813\" xlink:href=\"#m62d2070e8b\" y=\"10.999219\"/>\n      </g>\n     </g>\n     <g id=\"text_11\">\n      <!-- −0.2 -->\n      <g transform=\"translate(7.2 14.798437)scale(0.1 -0.1)\">\n       <use xlink:href=\"#DejaVuSans-8722\"/>\n       <use x=\"83.789062\" xlink:href=\"#DejaVuSans-48\"/>\n       <use x=\"147.412109\" xlink:href=\"#DejaVuSans-46\"/>\n       <use x=\"179.199219\" xlink:href=\"#DejaVuSans-50\"/>\n      </g>\n     </g>\n    </g>\n   </g>\n   <g id=\"line2d_12\">\n    <path clip-path=\"url(#pd2b9763a9d)\" d=\"M 47.360085 111.763844 \nL 47.73308 98.242828 \nL 48.106075 94.058509 \nL 48.479069 93.623315 \nL 48.852064 93.468878 \nL 49.225058 97.059567 \nL 49.598053 105.773987 \nL 50.344042 99.88167 \nL 50.717037 80.049531 \nL 51.090032 68.549518 \nL 51.463026 65.093012 \nL 51.836021 68.956197 \nL 52.209016 97.169365 \nL 52.58201 97.466113 \nL 52.955005 91.354333 \nL 53.328 90.46782 \nL 53.700994 79.602211 \nL 54.446984 90.174936 \nL 54.819978 99.442478 \nL 55.192973 102.760671 \nL 55.565968 96.656885 \nL 56.684952 62.596172 \nL 57.057946 60.701223 \nL 57.430941 72.258134 \nL 58.17693 82.73332 \nL 58.549925 94.013737 \nL 58.922919 81.228794 \nL 59.295914 74.576019 \nL 59.668909 76.519737 \nL 60.041903 87.157622 \nL 60.414898 90.386404 \nL 60.787893 90.044884 \nL 61.160887 82.196589 \nL 61.533882 65.938883 \nL 61.906877 57.358646 \nL 62.279871 53.267736 \nL 62.652866 53.747569 \nL 63.025861 59.814711 \nL 63.398855 68.529131 \nL 63.77185 87.584689 \nL 64.144845 88.341016 \nL 64.517839 70.981199 \nL 64.890834 69.818192 \nL 65.263829 80.915656 \nL 65.636823 65.109268 \nL 66.009818 72.266262 \nL 66.382812 88.580999 \nL 66.755807 86.502965 \nL 67.128802 59.62363 \nL 67.501796 49.217467 \nL 67.874791 45.216101 \nL 68.247786 60.522268 \nL 68.62078 70.062306 \nL 68.993775 58.464621 \nL 69.36677 83.745888 \nL 69.739764 81.301948 \nL 70.485754 73.937618 \nL 70.858748 61.97003 \nL 71.231743 77.093112 \nL 71.604738 85.539167 \nL 71.977732 81.720753 \nL 72.350727 69.667753 \nL 72.723722 63.377018 \nL 73.096716 51.689922 \nL 73.469711 48.51404 \nL 73.842706 46.525549 \nL 74.2157 53.68654 \nL 74.588695 51.234473 \nL 74.96169 60.408473 \nL 75.334684 72.42483 \nL 75.707679 53.601127 \nL 76.080673 59.02587 \nL 76.453668 61.059133 \nL 76.826663 61.636505 \nL 77.199657 73.185288 \nL 77.572652 71.200795 \nL 77.945647 70.033791 \nL 78.691636 40.344479 \nL 79.064631 32.227818 \nL 79.437625 38.656867 \nL 79.81062 59.359262 \nL 80.183615 69.354615 \nL 80.929604 73.616352 \nL 81.302599 65.49556 \nL 81.675593 63.417659 \nL 82.048588 65.727415 \nL 82.421583 60.351575 \nL 82.794577 66.418717 \nL 83.167572 61.31937 \nL 83.540567 64.271525 \nL 83.913561 39.315655 \nL 84.286556 39.254627 \nL 84.65955 48.973486 \nL 85.032545 42.044217 \nL 85.778534 59.017742 \nL 86.151529 78.715698 \nL 86.524524 75.812179 \nL 86.897518 53.601127 \nL 87.270513 54.634082 \nL 87.643508 69.025354 \nL 88.016502 65.023855 \nL 88.389497 69.257076 \nL 88.762492 57.293486 \nL 89.135486 61.433166 \nL 89.508481 55.057017 \nL 89.881476 45.016892 \nL 90.25447 40.189909 \nL 91.00046 63.206191 \nL 91.373454 66.800878 \nL 91.746449 67.829701 \nL 92.492438 59.095027 \nL 92.865433 63.970647 \nL 93.238427 63.629127 \nL 93.611422 55.780832 \nL 93.984417 74.470351 \nL 94.357411 70.562394 \nL 94.730406 62.628685 \nL 95.476395 31.016042 \nL 95.84939 34.700273 \nL 96.595379 67.59798 \nL 96.968374 62.132595 \nL 97.341369 68.468236 \nL 97.714363 66.849781 \nL 98.087358 62.937825 \nL 98.460353 52.529663 \nL 98.833347 74.885025 \nL 99.206342 58.800145 \nL 99.579337 65.963268 \nL 99.952331 62.146853 \nL 100.325326 43.504104 \nL 100.698321 52.682102 \nL 101.071315 28.456175 \nL 101.44431 30.767931 \nL 101.817304 39.209988 \nL 102.563294 65.705029 \nL 102.936288 53.098908 \nL 103.309283 55.593749 \nL 103.682278 40.429892 \nL 104.055272 50.15688 \nL 104.428267 54.573053 \nL 104.801262 50.931596 \nL 105.174256 52.696359 \nL 105.547251 70.108944 \nL 106.29324 35.298033 \nL 106.666235 17.110733 \nL 107.03923 45.594265 \nL 107.412224 38.118004 \nL 107.785219 44.087606 \nL 108.158214 55.183072 \nL 108.531208 48.524167 \nL 108.904203 36.745661 \nL 109.277198 41.440461 \nL 109.650192 43.020273 \nL 110.023187 48.717379 \nL 110.396181 57.799836 \nL 110.769176 62.031059 \nL 111.515165 33.258641 \nL 111.88816 35.114947 \nL 112.261155 25.259906 \nL 112.634149 23.269417 \nL 113.753133 51.706178 \nL 114.126128 50.815668 \nL 114.872117 27.350067 \nL 115.245112 33.962201 \nL 115.991101 55.054885 \nL 116.364096 47.66617 \nL 116.737091 45.039278 \nL 117.110085 35.912049 \nL 117.48308 23.220647 \nL 117.856075 19.587185 \nL 118.229069 18.054143 \nL 118.602064 40.407506 \nL 118.975058 45.917529 \nL 119.348053 48.503913 \nL 119.721048 42.764033 \nL 120.094042 31.534518 \nL 120.467037 25.611686 \nL 121.213026 42.587077 \nL 121.586021 60.548785 \nL 121.959016 66.794882 \nL 122.33201 67.732162 \nL 123.078 27.337941 \nL 123.450994 26.357887 \nL 123.823989 42.489538 \nL 124.196984 39.947927 \nL 124.569978 52.230784 \nL 124.942973 58.019433 \nL 125.315968 67.471925 \nL 125.688962 57.523343 \nL 126.061957 57.364642 \nL 126.434952 43.477721 \nL 126.807946 62.628685 \nL 127.180941 61.555223 \nL 127.553935 61.671017 \nL 127.92693 41.653927 \nL 128.299925 33.441726 \nL 128.672919 32.189176 \nL 129.045914 26.817333 \nL 129.418909 34.529446 \nL 129.791903 51.844492 \nL 130.164898 61.569347 \nL 130.537893 65.617617 \nL 130.910887 65.184555 \nL 131.283882 58.987228 \nL 131.656877 40.799928 \nL 132.029871 56.382589 \nL 132.402866 58.968972 \nL 132.775861 58.810272 \nL 133.148855 70.363185 \nL 133.52185 76.790235 \nL 134.267839 47.926407 \nL 134.640834 43.103555 \nL 135.013829 48.71125 \nL 135.386823 59.987536 \nL 135.759818 62.30129 \nL 136.132812 61.866228 \nL 136.505807 70.952816 \nL 136.878802 59.444675 \nL 137.251796 52.332453 \nL 137.624791 51.716305 \nL 137.997786 64.824646 \nL 138.37078 67.868344 \nL 138.743775 81.434132 \nL 139.11677 75.602843 \nL 139.489764 77.278196 \nL 139.862759 62.022797 \nL 140.235754 55.093528 \nL 140.608748 50.813669 \nL 141.354738 62.116339 \nL 141.727732 83.737759 \nL 142.473722 66.94732 \nL 142.846716 52.149501 \nL 143.219711 64.163859 \nL 143.592706 67.939499 \nL 143.9657 65.215069 \nL 144.338695 68.350309 \nL 144.71169 78.260249 \nL 145.830673 44.933478 \nL 146.203668 45.3239 \nL 146.576663 69.781682 \nL 147.695647 88.245476 \nL 148.068641 79.486283 \nL 148.441636 67.524825 \nL 148.814631 69.470543 \nL 149.187625 81.023456 \nL 149.56062 74.090056 \nL 149.933615 94.613496 \nL 150.679604 71.971513 \nL 151.425593 56.832041 \nL 152.171583 71.8861 \nL 152.544577 78.772596 \nL 152.917572 94.90025 \nL 153.290567 97.669453 \nL 154.036556 72.099566 \nL 154.40955 69.653495 \nL 154.782545 80.382923 \nL 155.15554 85.531039 \nL 155.528534 104.316099 \nL 155.901529 88.965159 \nL 156.274524 82.310385 \nL 156.647518 78.675057 \nL 157.393508 65.456918 \nL 157.766502 87.627329 \nL 158.139497 80.785471 \nL 158.512492 86.665663 \nL 158.885486 99.503506 \nL 159.631476 79.789294 \nL 160.00447 76.51574 \nL 160.377465 83.951226 \nL 160.75046 85.897077 \nL 161.123454 105.505622 \nL 161.496449 102.876598 \nL 161.869444 98.51026 \nL 162.242438 85.084784 \nL 162.615433 76.599154 \nL 162.988427 81.74727 \nL 163.361422 92.476565 \nL 163.734417 93.50339 \nL 164.107411 100.206933 \nL 164.480406 114.600205 \nL 164.853401 101.266271 \nL 165.226395 97.5394 \nL 165.59939 96.557348 \nL 166.345379 106.487675 \nL 167.091369 124.55998 \nL 167.464363 119.096728 \nL 168.210353 90.323377 \nL 168.583347 91.171247 \nL 169.329337 111.623532 \nL 169.702331 115.12481 \nL 170.075326 126.956216 \nL 170.448321 125.150678 \nL 170.821315 108.24431 \nL 171.19431 104.700392 \nL 171.567304 99.143598 \nL 171.940299 119.84999 \nL 172.313294 126.553667 \nL 172.686288 111.567567 \nL 173.059283 116.446384 \nL 173.432278 96.889673 \nL 173.805272 91.698917 \nL 174.178267 101.332363 \nL 174.551262 107.029603 \nL 174.924256 119.22185 \nL 175.297251 122.814538 \nL 175.670246 117.257744 \nL 176.04324 116.641596 \nL 176.78923 101.868162 \nL 177.162224 107.19923 \nL 177.535219 115.366792 \nL 177.908214 131.219951 \nL 178.281208 137.191552 \nL 178.654203 125.687409 \nL 179.027198 109.333096 \nL 179.400192 100.116457 \nL 179.773187 109.567084 \nL 180.146181 110.780858 \nL 180.519176 128.649957 \nL 180.892171 136.542891 \nL 181.265165 122.381475 \nL 181.63816 119.660909 \nL 182.011155 111.084802 \nL 182.384149 123.190703 \nL 182.757144 123.764078 \nL 183.130139 117.56262 \nL 183.503133 122.985364 \nL 183.876128 139.48292 \nL 184.622117 113.913034 \nL 184.995112 111.833001 \nL 185.368107 97.397089 \nL 185.741101 118.46952 \nL 186.114096 122.336703 \nL 186.860085 132.998973 \nL 187.23308 125.703799 \nL 187.606075 113.92516 \nL 187.979069 108.825813 \nL 188.352064 115.529491 \nL 188.725058 131.382516 \nL 189.098053 136.439223 \nL 189.471048 132.712352 \nL 189.844042 119.927275 \nL 190.217037 111.991568 \nL 190.590032 107.715707 \nL 191.336021 106.209049 \nL 191.709016 112.363736 \nL 192.08201 128.765752 \nL 192.455005 127.051756 \nL 192.828 118.933097 \nL 193.200994 120.60845 \nL 193.573989 120.174854 \nL 193.946984 114.065472 \nL 194.319978 122.415987 \nL 194.692973 122.531914 \nL 195.065968 133.722787 \nL 195.438962 124.872185 \nL 195.811957 101.561687 \nL 196.184952 95.180874 \nL 196.557946 109.48207 \nL 196.930941 112.069386 \nL 197.303935 123.072776 \nL 197.67693 123.824973 \nL 198.049925 123.757948 \nL 198.422919 125.616253 \nL 198.795914 117.314642 \nL 199.168909 121.821825 \nL 199.541903 104.45841 \nL 199.914898 125.164935 \nL 200.287893 127.751186 \nL 200.660887 121.736944 \nL 201.033882 121.944281 \nL 201.406877 93.875957 \nL 201.779871 104.883477 \nL 202.152866 96.672742 \nL 203.27185 127.580359 \nL 203.644845 122.755508 \nL 204.017839 107.225747 \nL 204.390834 101.760362 \nL 204.763829 109.927925 \nL 205.136823 114.801545 \nL 205.509818 113.544997 \nL 206.255807 117.436565 \nL 206.628802 103.370689 \nL 207.374791 88.41417 \nL 207.747786 91.640953 \nL 208.86677 131.057253 \nL 209.239764 124.676974 \nL 209.612759 115.460334 \nL 209.985754 113.014529 \nL 210.358748 113.953675 \nL 210.731743 113.33766 \nL 211.104738 120.315433 \nL 211.477732 140.656187 \nL 211.850727 133.905739 \nL 212.223722 121.486834 \nL 212.596716 112.818918 \nL 212.969711 95.093329 \nL 213.7157 106.396132 \nL 214.088695 114.472151 \nL 214.46169 136.642562 \nL 214.834684 129.62175 \nL 215.207679 109.69607 \nL 215.580673 106.335103 \nL 215.953668 101.784747 \nL 216.326663 116.909961 \nL 216.699657 117.757831 \nL 217.072652 105.700833 \nL 217.445647 98.771564 \nL 217.818641 79.764776 \nL 218.191636 80.433824 \nL 218.564631 77.347353 \nL 218.937625 92.010989 \nL 219.31062 88.737301 \nL 219.683615 118.684985 \nL 220.056609 119.624398 \nL 220.429604 118.276307 \nL 220.802599 98.625122 \nL 221.175593 88.676539 \nL 221.548588 107.827504 \nL 221.921583 105.015528 \nL 222.294577 113.732081 \nL 222.667572 125.559356 \nL 223.040567 127.779701 \nL 223.413561 110.145389 \nL 223.786556 97.909436 \nL 224.15955 80.362669 \nL 224.532545 83.589319 \nL 224.90554 104.295845 \nL 224.90554 104.295845 \n\" style=\"fill:none;stroke:#1f77b4;stroke-linecap:square;stroke-width:1.5;\"/>\n   </g>\n   <g id=\"patch_3\">\n    <path d=\"M 38.482813 146.83346 \nL 38.482813 10.93346 \n\" style=\"fill:none;stroke:#000000;stroke-linecap:square;stroke-linejoin:miter;stroke-width:0.8;\"/>\n   </g>\n   <g id=\"patch_4\">\n    <path d=\"M 233.782813 146.83346 \nL 233.782813 10.93346 \n\" style=\"fill:none;stroke:#000000;stroke-linecap:square;stroke-linejoin:miter;stroke-width:0.8;\"/>\n   </g>\n   <g id=\"patch_5\">\n    <path d=\"M 38.482813 146.83346 \nL 233.782813 146.83346 \n\" style=\"fill:none;stroke:#000000;stroke-linecap:square;stroke-linejoin:miter;stroke-width:0.8;\"/>\n   </g>\n   <g id=\"patch_6\">\n    <path d=\"M 38.482813 10.93346 \nL 233.782813 10.93346 \n\" style=\"fill:none;stroke:#000000;stroke-linecap:square;stroke-linejoin:miter;stroke-width:0.8;\"/>\n   </g>\n  </g>\n </g>\n <defs>\n  <clipPath id=\"pd2b9763a9d\">\n   <rect height=\"135.9\" width=\"195.3\" x=\"38.482813\" y=\"10.93346\"/>\n  </clipPath>\n </defs>\n</svg>\n"
          },
          "metadata": {
            "needs_background": "light"
          }
        }
      ]
    },
    {
      "cell_type": "code",
      "source": [
        "features = torch.tensor(features, dtype=torch.float32)\n",
        "labels = torch.tensor(labels, dtype=torch.float32)"
      ],
      "metadata": {
        "colab": {
          "base_uri": "https://localhost:8080/"
        },
        "id": "vdTYMhnT6fGy",
        "outputId": "1a23425c-2377-48b9-b338-106bcbb20c8a"
      },
      "execution_count": null,
      "outputs": [
        {
          "output_type": "stream",
          "name": "stderr",
          "text": [
            "/usr/local/lib/python3.7/dist-packages/ipykernel_launcher.py:1: UserWarning: To copy construct from a tensor, it is recommended to use sourceTensor.clone().detach() or sourceTensor.clone().detach().requires_grad_(True), rather than torch.tensor(sourceTensor).\n",
            "  \"\"\"Entry point for launching an IPython kernel.\n",
            "/usr/local/lib/python3.7/dist-packages/ipykernel_launcher.py:2: UserWarning: To copy construct from a tensor, it is recommended to use sourceTensor.clone().detach() or sourceTensor.clone().detach().requires_grad_(True), rather than torch.tensor(sourceTensor).\n",
            "  \n"
          ]
        }
      ]
    },
    {
      "cell_type": "markdown",
      "source": [
        "#LSTM尝试\n",
        "----\n"
      ],
      "metadata": {
        "id": "KTxXR9uRACQH"
      }
    },
    {
      "cell_type": "code",
      "source": [
        "import torch\n",
        "from torch import nn\n",
        "from d2l import torch as d2l\n",
        "import pandas as pd\n",
        "from torch.utils import data\n",
        "import numpy as np"
      ],
      "metadata": {
        "id": "JbI6p_U1A0bw"
      },
      "execution_count": 2,
      "outputs": []
    },
    {
      "cell_type": "code",
      "source": [
        "!pip install -u -q PyDrive\n",
        "from pydrive.auth import GoogleAuth\n",
        "from pydrive.drive import GoogleDrive\n",
        "from google.colab import auth\n",
        "from oauth2client.client import GoogleCredentials\n",
        "\n",
        "auth.authenticate_user()\n",
        "gauth = GoogleAuth()\n",
        "gauth.credentials = GoogleCredentials.get_application_default()\n",
        "drive = GoogleDrive(gauth)\n",
        "\n",
        "downloaded = drive.CreateFile({'id':'1C2cnS5fi2Du6UcCbShpj1W2AaFD49huD'})\n",
        "downloaded.GetContentFile('250HZ.xlsx')"
      ],
      "metadata": {
        "colab": {
          "base_uri": "https://localhost:8080/"
        },
        "id": "GAQWnM8DKOfr",
        "outputId": "b61bedcc-63fb-4421-d02c-7abb5f0cd591"
      },
      "execution_count": 3,
      "outputs": [
        {
          "output_type": "stream",
          "name": "stdout",
          "text": [
            "\n",
            "Usage:   \n",
            "  pip3 install [options] <requirement specifier> [package-index-options] ...\n",
            "  pip3 install [options] -r <requirements file> [package-index-options] ...\n",
            "  pip3 install [options] [-e] <vcs project url> ...\n",
            "  pip3 install [options] [-e] <local project path> ...\n",
            "  pip3 install [options] <archive url/path> ...\n",
            "\n",
            "no such option: -u\n"
          ]
        }
      ]
    },
    {
      "cell_type": "code",
      "source": [
        "def xlsx_to_csv():\n",
        "    data_xls=pd.read_excel('250HZ.xlsx')\n",
        "    data_xls.to_csv('250HZ.csv',encoding='utf-8')\n",
        "\n",
        "xlsx_to_csv()"
      ],
      "metadata": {
        "id": "mBhFsNyUKo2u"
      },
      "execution_count": 4,
      "outputs": []
    },
    {
      "cell_type": "code",
      "source": [
        "data1 = pd.read_csv('250HZ.csv')\n",
        "print(data1)"
      ],
      "metadata": {
        "colab": {
          "base_uri": "https://localhost:8080/"
        },
        "id": "TfTqy1AEKsAc",
        "outputId": "60a27030-1012-4eb2-c91a-b07cde5e187b"
      },
      "execution_count": 5,
      "outputs": [
        {
          "output_type": "stream",
          "name": "stdout",
          "text": [
            "      Unnamed: 0       光电           磁         温度        误差\n",
            "0              0  358.375  359.331207  17.201250  0.956207\n",
            "1              1  357.750  358.604736  17.242500  0.854736\n",
            "2              2  357.000  357.823334  17.366249  0.823334\n",
            "3              3  356.250  357.070068  17.325001  0.820068\n",
            "4              4  355.500  356.318909  17.407499  0.818909\n",
            "...          ...      ...         ...        ...       ...\n",
            "1904        1904    1.125    1.896515  17.118750  0.771515\n",
            "1905        1905    0.750    1.599884  17.283751  0.849884\n",
            "1906        1906    0.500    1.349945  17.242500  0.849945\n",
            "1907        1907    0.375    1.239395  17.283751  0.864395\n",
            "1908        1908    0.000    0.819855  17.160000  0.819855\n",
            "\n",
            "[1909 rows x 5 columns]\n"
          ]
        }
      ]
    },
    {
      "cell_type": "code",
      "source": [
        "inputs , outputs= data1.iloc[477: 1909, 2 : 4] , data1.iloc[477 : 1909, 4]\n",
        "features, labels = torch.tensor(inputs.values), torch.tensor(outputs.values)\n",
        "features"
      ],
      "metadata": {
        "colab": {
          "base_uri": "https://localhost:8080/"
        },
        "id": "xErq3pvHK-5D",
        "outputId": "b76f0146-9b35-4fb4-8650-5a7122a1cdae"
      },
      "execution_count": 6,
      "outputs": [
        {
          "output_type": "execute_result",
          "data": {
            "text/plain": [
              "tensor([[359.8888,  17.4488],\n",
              "        [359.7233,  17.3662],\n",
              "        [359.5290,  17.1600],\n",
              "        ...,\n",
              "        [  1.3499,  17.2425],\n",
              "        [  1.2394,  17.2838],\n",
              "        [  0.8199,  17.1600]], dtype=torch.float64)"
            ]
          },
          "metadata": {},
          "execution_count": 6
        }
      ]
    },
    {
      "cell_type": "code",
      "source": [
        "#归一化处理\n",
        "from sklearn.preprocessing import StandardScaler\n",
        "scaler = StandardScaler()\n",
        "sca_X = scaler.fit_transform(features)\n",
        "New_X = torch.from_numpy(sca_X)\n",
        "print(New_X.shape)"
      ],
      "metadata": {
        "colab": {
          "base_uri": "https://localhost:8080/"
        },
        "id": "KbKm7qniTY7V",
        "outputId": "12e6296d-196f-46b8-fe3f-79067f7b2cde"
      },
      "execution_count": 34,
      "outputs": [
        {
          "output_type": "stream",
          "name": "stdout",
          "text": [
            "torch.Size([1432, 2])\n"
          ]
        }
      ]
    },
    {
      "cell_type": "code",
      "source": [
        "#构造特征向量X\n",
        "mem_data_time = 5\n",
        "\n",
        "from collections import deque\n",
        "deq = deque(maxlen=mem_data_time)\n",
        "\n",
        "X=[]\n",
        "for i in sca_X:\n",
        "    deq.append(list(i))\n",
        "    if len(deq)==mem_data_time:\n",
        "        X.append(list(deq))\n",
        " "
      ],
      "metadata": {
        "id": "PlPhjjREsQPP"
      },
      "execution_count": 35,
      "outputs": []
    },
    {
      "cell_type": "code",
      "source": [
        "#构造特征向量y--labels\n",
        "y = labels[mem_data_time-1:]\n",
        "print(y.shape)"
      ],
      "metadata": {
        "colab": {
          "base_uri": "https://localhost:8080/"
        },
        "id": "zZwuTJH39M4G",
        "outputId": "9e433a9e-f644-4ad1-ac48-ded155f9b6f2"
      },
      "execution_count": 36,
      "outputs": [
        {
          "output_type": "stream",
          "name": "stdout",
          "text": [
            "torch.Size([1428])\n"
          ]
        }
      ]
    },
    {
      "cell_type": "code",
      "source": [
        "def load_array(data_arrays, batch_size, is_train=True):\n",
        "    '''构造一个PyTorch数据迭代器'''\n",
        "    dataset = data.TensorDataset(*data_arrays)#将数据转为dataset，*表示将元组拆解为一维数字作为传入参数\n",
        "    return data.DataLoader(dataset, batch_size, shuffle=is_train)\n",
        "    #将dataset型数据挑选batch_size大小的样本，shuffle控制是否打乱"
      ],
      "metadata": {
        "id": "wxHR98QPGnXg"
      },
      "execution_count": 8,
      "outputs": []
    },
    {
      "cell_type": "code",
      "source": [
        "#X = np.array(New_X) \n",
        "X = np.array(X)\n",
        "#y = np.array(labels) \n",
        "y = np.array(y)\n",
        "print(X.shape)\n",
        "print(y.shape)"
      ],
      "metadata": {
        "colab": {
          "base_uri": "https://localhost:8080/"
        },
        "id": "18qZ6L2QDMRo",
        "outputId": "2252e886-60aa-49fb-8f7e-b3768a190c51"
      },
      "execution_count": 37,
      "outputs": [
        {
          "output_type": "stream",
          "name": "stdout",
          "text": [
            "(1428, 5, 2)\n",
            "(1428,)\n"
          ]
        }
      ]
    },
    {
      "cell_type": "code",
      "source": [
        "batch_size = 10\n",
        "New_X = torch.from_numpy(X).to(torch.float32)\n",
        "New_y = torch.from_numpy(y).to(torch.float32)\n",
        "data_iter = load_array((New_X, New_y), batch_size)\n",
        "\n",
        "next(iter(data_iter))"
      ],
      "metadata": {
        "colab": {
          "base_uri": "https://localhost:8080/"
        },
        "id": "pomR4WpDHnmn",
        "outputId": "6c9e0a79-1b6c-4472-85cb-69afc555d059"
      },
      "execution_count": 75,
      "outputs": [
        {
          "output_type": "stream",
          "name": "stdout",
          "text": [
            "tensor([0, 0, 0,  ..., 0, 0, 0])\n"
          ]
        },
        {
          "output_type": "execute_result",
          "data": {
            "text/plain": [
              "[tensor([[[-0.2150, -2.0126],\n",
              "          [-0.2167, -1.5882],\n",
              "          [-0.2184, -0.3148],\n",
              "          [-0.2215,  0.9586],\n",
              "          [-0.2237,  2.2319]],\n",
              " \n",
              "         [[ 0.9668,  0.9586],\n",
              "          [ 0.9645,  0.9586],\n",
              "          [ 0.9607,  0.5341],\n",
              "          [ 0.9590,  0.1097],\n",
              "          [ 0.9571, -0.3148]],\n",
              " \n",
              "         [[-0.1277,  0.5341],\n",
              "          [-0.1298, -1.1637],\n",
              "          [-0.1319, -1.5882],\n",
              "          [-0.1358, -1.1637],\n",
              "          [-0.1378, -0.3148]],\n",
              " \n",
              "         [[-0.2167, -1.5882],\n",
              "          [-0.2184, -0.3148],\n",
              "          [-0.2215,  0.9586],\n",
              "          [-0.2237,  2.2319],\n",
              "          [-0.2251, -0.7392]],\n",
              " \n",
              "         [[ 1.3160, -0.3148],\n",
              "          [ 1.3146, -0.3148],\n",
              "          [ 1.3124,  1.3830],\n",
              "          [ 1.3091,  1.8075],\n",
              "          [ 1.3074, -0.3148]],\n",
              " \n",
              "         [[ 0.9057, -0.3148],\n",
              "          [ 0.9013,  0.5341],\n",
              "          [ 0.8998, -0.3148],\n",
              "          [ 0.8974,  0.1097],\n",
              "          [ 0.8936,  0.1097]],\n",
              " \n",
              "         [[ 0.3634,  0.5341],\n",
              "          [ 0.3615,  0.9586],\n",
              "          [ 0.3594,  0.9586],\n",
              "          [ 0.3554, -0.7392],\n",
              "          [ 0.3534,  0.5341]],\n",
              " \n",
              "         [[ 1.3786,  1.3830],\n",
              "          [ 1.3748,  1.3830],\n",
              "          [ 1.3744,  0.5341],\n",
              "          [ 1.3720, -0.7392],\n",
              "          [ 1.3688,  0.9586]],\n",
              " \n",
              "         [[-1.0015,  0.1097],\n",
              "          [-1.0053, -0.3148],\n",
              "          [-1.0069, -0.3148],\n",
              "          [-1.0090,  0.1097],\n",
              "          [-1.0123,  0.1097]],\n",
              " \n",
              "         [[ 1.2808,  1.8075],\n",
              "          [ 1.2789, -1.1637],\n",
              "          [ 1.2768, -0.7392],\n",
              "          [ 1.2734,  0.9586],\n",
              "          [ 1.2717,  0.9586]]]),\n",
              " tensor([0.7473, 0.5739, 0.6456, 0.7213, 0.6180, 0.3688, 0.2753, 0.7283, 1.0427,\n",
              "         0.6663])]"
            ]
          },
          "metadata": {},
          "execution_count": 75
        }
      ]
    },
    {
      "cell_type": "code",
      "source": [
        "#拆分训练集与测试集\n",
        "from sklearn.model_selection import train_test_split\n",
        "X_train, X_test, y_train, y_test = train_test_split(X,y,test_size=0.1)"
      ],
      "metadata": {
        "id": "2zD5gRzsDsjV"
      },
      "execution_count": 39,
      "outputs": []
    },
    {
      "cell_type": "code",
      "source": [
        "class LSTM(nn.Module):\n",
        "    def __init__(self, num_feature, hidden_num, bag_exm_num):\n",
        "        super().__init__()\n",
        "        \n",
        "        self.num_feature = num_feature\n",
        "        self.hidden_num = hidden_num\n",
        "        self.bag_exm_num = bag_exm_num\n",
        "\n",
        "        self.lstm = nn.LSTM(input_size = num_feature , hidden_size = hidden_num, batch_first = True, num_layers = 3, bidirectional = False)#不适用dropout\n",
        "        self.dropout = nn.Dropout(0.2)\n",
        "        self.flatten = nn.Flatten(1, 2)\n",
        "        self.linear = nn.Linear(160, 1)\n",
        "\n",
        "        self.cross_entroy = nn.CrossEntropyLoss()\n",
        "    \n",
        "    def forward(self, X):\n",
        "\n",
        "        hidden,(h_0, c_0) = self.lstm(X)\n",
        "        #print(hidden.shape)\n",
        "        hidden_drop = self.dropout(hidden)\n",
        "        #print(\"hidden_Drop的shape\",hidden_drop.shape)\n",
        "        flatten_hidden = self.flatten(hidden_drop)\n",
        "        #print(\"flatten_hidden的shape\",flatten_hidden.shape)\n",
        "        pre = self.linear(flatten_hidden)\n",
        "        #print(pre.shape)\n",
        "        return pre"
      ],
      "metadata": {
        "id": "uAOhMYh7m7E8"
      },
      "execution_count": 66,
      "outputs": []
    },
    {
      "cell_type": "code",
      "source": [
        "#训练\n",
        "\n",
        "num_feature = 2\n",
        "hidden_num = 32\n",
        "lr = 0.001\n",
        "num_epochs = 100\n",
        "\n",
        "net = LSTM(num_feature, hidden_num, 10)\n",
        "#net = net(num_feature, hidden_num, batch_size)\n",
        "optimizer = torch.optim.AdamW(net.parameters(), lr = lr)\n",
        "loss = nn.MSELoss()\n",
        "for epoch in range(num_epochs):\n",
        "    for x_train, y_train in data_iter:\n",
        "\n",
        "        #y_train = y_train.float()\n",
        "        pre = net(x_train)\n",
        "        #print(\"pre的shape\",pre.shape)\n",
        "        #pre = pre.float()\n",
        "        l = loss(pre, y_train)\n",
        "        #l = net.cross_entroy(pre, y_train)\n",
        "        optimizer.zero_grad()\n",
        "        l.backward()\n",
        "        optimizer.step()\n",
        "\n",
        "    if epoch % 10 == 0:\n",
        "        l = loss(net(New_X), New_y)\n",
        "        print(f'epoch{epoch + 1}, loss{l:f}')#l:f打印l，格式为浮点数\n",
        "\n"
      ],
      "metadata": {
        "colab": {
          "base_uri": "https://localhost:8080/"
        },
        "id": "h6fs31SbJGzO",
        "outputId": "7c57c474-7e6c-4adf-c6c0-36d15df8c311"
      },
      "execution_count": 78,
      "outputs": [
        {
          "output_type": "stream",
          "name": "stderr",
          "text": [
            "/usr/local/lib/python3.7/dist-packages/torch/nn/modules/loss.py:520: UserWarning: Using a target size (torch.Size([10])) that is different to the input size (torch.Size([10, 1])). This will likely lead to incorrect results due to broadcasting. Please ensure they have the same size.\n",
            "  return F.mse_loss(input, target, reduction=self.reduction)\n",
            "/usr/local/lib/python3.7/dist-packages/torch/nn/modules/loss.py:520: UserWarning: Using a target size (torch.Size([8])) that is different to the input size (torch.Size([8, 1])). This will likely lead to incorrect results due to broadcasting. Please ensure they have the same size.\n",
            "  return F.mse_loss(input, target, reduction=self.reduction)\n",
            "/usr/local/lib/python3.7/dist-packages/torch/nn/modules/loss.py:520: UserWarning: Using a target size (torch.Size([1428])) that is different to the input size (torch.Size([1428, 1])). This will likely lead to incorrect results due to broadcasting. Please ensure they have the same size.\n",
            "  return F.mse_loss(input, target, reduction=self.reduction)\n"
          ]
        },
        {
          "output_type": "stream",
          "name": "stdout",
          "text": [
            "epoch1, loss0.054383\n",
            "epoch11, loss0.049296\n",
            "epoch21, loss0.048850\n",
            "epoch31, loss0.049097\n",
            "epoch41, loss0.048966\n",
            "epoch51, loss0.048764\n",
            "epoch61, loss0.048688\n",
            "epoch71, loss0.048598\n",
            "epoch81, loss0.049176\n",
            "epoch91, loss0.049223\n"
          ]
        }
      ]
    },
    {
      "cell_type": "code",
      "source": [
        ""
      ],
      "metadata": {
        "id": "yyzXWtm14tss"
      },
      "execution_count": null,
      "outputs": []
    },
    {
      "cell_type": "code",
      "source": [
        "#构建LSTM神经网络\n",
        "from torch import nn\n",
        "net = nn.Sequential(\n",
        "    nn.LSTM(input_size=2, hidden_size=10, dropout=0.1),\n",
        "    nn.ReLU(),\n",
        "    nn.Linear(10,1)\n",
        "    )"
      ],
      "metadata": {
        "id": "hTmARWn1HFVX"
      },
      "execution_count": null,
      "outputs": []
    },
    {
      "cell_type": "code",
      "source": [
        "#训练\n",
        "epoch_size = 100\n"
      ],
      "metadata": {
        "id": "q-GHKMQimPh9"
      },
      "execution_count": null,
      "outputs": []
    },
    {
      "cell_type": "code",
      "source": [
        "num_layer = 3\n",
        "batch_size = 32\n",
        "h0 = torch.randn(num_layer, batch_size, 10)\n",
        "c0 = torch.randn(num_layer, batch_size, 10)"
      ],
      "metadata": {
        "id": "jgpumdbbitv2"
      },
      "execution_count": null,
      "outputs": []
    },
    {
      "cell_type": "code",
      "source": [
        "def train_epoch_ch8(net, train_iter, loss, updater, device, use_random_iter):\n",
        "    \"\"\"训练网络一个迭代周期（定义见第8章）\"\"\"\n",
        "    state, timer = None, d2l.Timer()\n",
        "    metric = d2l.Accumulator(2)  # 训练损失之和,词元数量\n",
        "    for X, Y in train_iter:\n",
        "        if state is None or use_random_iter:\n",
        "            # 在第一次迭代或使用随机抽样时初始化state\n",
        "            state = net.begin_state(batch_size=X.shape[0], device=device)\n",
        "        else:\n",
        "            if isinstance(net, nn.Module) and not isinstance(state, tuple):\n",
        "                # state对于nn.GRU是个张量\n",
        "                state.detach_()\n",
        "            else:\n",
        "                # state对于nn.LSTM或对于我们从零开始实现的模型是个张量\n",
        "                for s in state:\n",
        "                    s.detach_()\n",
        "        y = Y.T.reshape(-1)\n",
        "        X, y = X.to(device), y.to(device)\n",
        "        y_hat, state = net(X, state)\n",
        "        l = loss(y_hat, y.long()).mean()\n",
        "        if isinstance(updater, torch.optim.Optimizer):\n",
        "            updater.zero_grad()\n",
        "            l.backward()\n",
        "            grad_clipping(net, 1)\n",
        "            updater.step()\n",
        "        else:\n",
        "            l.backward()\n",
        "            grad_clipping(net, 1)\n",
        "            # 因为已经调用了mean函数\n",
        "            updater(batch_size=1)\n",
        "        metric.add(l * y.numel(), y.numel())\n",
        "    return math.exp(metric[0] / metric[1]), metric[1] / timer.stop()"
      ],
      "metadata": {
        "id": "8OnF8MSalzyG"
      },
      "execution_count": null,
      "outputs": []
    },
    {
      "cell_type": "code",
      "source": [
        "def train_ch8(net, train_iter, vocab, lr, num_epochs, device,\n",
        "              use_random_iter=False):\n",
        "    \"\"\"训练模型（定义见第8章）\"\"\"\n",
        "    loss = nn.CrossEntropyLoss()\n",
        "    animator = d2l.Animator(xlabel='epoch', ylabel='perplexity',\n",
        "                            legend=['train'], xlim=[10, num_epochs])\n",
        "    # 初始化\n",
        "    updater = torch.optim.SGD(net.parameters(), lr)\n",
        "    predict = lambda prefix: predict_ch8(prefix, 50, net, vocab, device)\n",
        "    # 训练和预测\n",
        "    for epoch in range(num_epochs):\n",
        "        ppl, speed = train_epoch_ch8(\n",
        "            net, train_iter, loss, updater, device, use_random_iter)\n",
        "        if (epoch + 1) % 10 == 0:\n",
        "            print(predict('time traveller'))\n",
        "            animator.add(epoch + 1, [ppl])\n",
        "    print(f'困惑度 {ppl:.1f}, {speed:.1f} 词元/秒 {str(device)}')\n",
        "    print(predict('time traveller'))\n",
        "    print(predict('traveller'))"
      ],
      "metadata": {
        "id": "HWs48kSeXYQr"
      },
      "execution_count": null,
      "outputs": []
    },
    {
      "cell_type": "code",
      "source": [
        "rnn = nn.LSTM(10, 20, 2)\n",
        "input = torch.randn(5, 3, 10)\n",
        "h0 = torch.randn(2, 3, 20)\n",
        "c0 = torch.randn(2, 3, 20)\n",
        "output, (hn, cn) = rnn(input, (h0, c0))\n",
        "print(input.shape)"
      ],
      "metadata": {
        "id": "2FYRkNnyVCB8"
      },
      "execution_count": null,
      "outputs": []
    },
    {
      "cell_type": "code",
      "source": [
        "vocab_size, num_hiddens, device = 5, 256, d2l.try_gpu()\n",
        "num_epochs, lr = 500, 1\n",
        "\n",
        "num_inputs = vocab_size\n",
        "lstm_layer = nn.LSTM(num_inputs, num_hiddens)\n",
        "model = d2l.RNNModel(lstm_layer, 2)\n",
        "model = model.to(device)\n",
        "d2l.train_ch8(model, X, 5, lr, num_epochs, device)"
      ],
      "metadata": {
        "id": "Yku09-zLAE3u"
      },
      "execution_count": null,
      "outputs": []
    },
    {
      "cell_type": "markdown",
      "source": [
        "#另一设想\n",
        "----"
      ],
      "metadata": {
        "id": "xSzTNp9AAGps"
      }
    },
    {
      "cell_type": "code",
      "source": [
        "def load_array(data_arrays, batch_size, is_train=True):\n",
        "    '''构造一个PyTorch数据迭代器'''\n",
        "    dataset = data.TensorDataset(*data_arrays)#将数据转为dataset，*表示将元组拆解为一维数字作为传入参数\n",
        "    return data.DataLoader(dataset, batch_size, shuffle=is_train)\n",
        "    #将dataset型数据挑选batch_size大小的样本，shuffle控制是否打乱\n",
        "\n",
        "batch_size = 50\n",
        "data_iter = load_array((features, labels), batch_size)\n",
        "\n",
        "next(iter(data_iter))"
      ],
      "metadata": {
        "id": "fbcZDFrsxCsO"
      },
      "execution_count": null,
      "outputs": []
    },
    {
      "cell_type": "code",
      "source": [
        "from torch import nn#nn为神经网络的缩写\n",
        "\n",
        "net = nn.Sequential(nn.Linear(2, 1))#Linear为全连接层，需要指定输入维度和输出维度\n",
        "#Sequential可以理解为容器，即list of layers"
      ],
      "metadata": {
        "id": "KB8G9UVMxGPK"
      },
      "execution_count": null,
      "outputs": []
    },
    {
      "cell_type": "code",
      "source": [
        "net[0].weight.data.normal_(1, 0.01)#normal_为使用正态分布替换掉data的值\n",
        "net[0].bias.data.fill_(0)#bias为偏差"
      ],
      "metadata": {
        "colab": {
          "base_uri": "https://localhost:8080/"
        },
        "id": "UsIN_sLDxHFi",
        "outputId": "993bfb4a-e2af-4fba-c68c-31dae8332693"
      },
      "execution_count": null,
      "outputs": [
        {
          "output_type": "execute_result",
          "data": {
            "text/plain": [
              "tensor([0.])"
            ]
          },
          "metadata": {},
          "execution_count": 46
        }
      ]
    },
    {
      "cell_type": "code",
      "source": [
        "loss = nn.MSELoss()\n",
        "trainer = torch.optim.SGD(net.parameters(), lr=0.003)#optim.SGD需要指定两个参数：net.parameters()为拿出所有参数，lr学习率"
      ],
      "metadata": {
        "id": "ZLvsklqgxKKm"
      },
      "execution_count": null,
      "outputs": []
    },
    {
      "cell_type": "code",
      "source": [
        "num_epochs = 20\n",
        "for epoch in range(num_epochs):\n",
        "    for X, y in data_iter:\n",
        "        l = loss(net(X), y)\n",
        "        trainer.zero_grad()\n",
        "        l.backward()\n",
        "        trainer.step()\n",
        "    l = loss(net(features), labels)\n",
        "    print(f'epoch{epoch + 1}, loss{l:f}')#l:f打印l，格式为浮点数"
      ],
      "metadata": {
        "colab": {
          "base_uri": "https://localhost:8080/",
          "height": 383
        },
        "id": "P-z7zVkTxN8s",
        "outputId": "857e1872-c7b7-49be-e646-dd6e76ca232f"
      },
      "execution_count": null,
      "outputs": [
        {
          "output_type": "error",
          "ename": "RuntimeError",
          "evalue": "ignored",
          "traceback": [
            "\u001b[0;31m---------------------------------------------------------------------------\u001b[0m",
            "\u001b[0;31mRuntimeError\u001b[0m                              Traceback (most recent call last)",
            "\u001b[0;32m<ipython-input-48-42ae9bc934db>\u001b[0m in \u001b[0;36m<module>\u001b[0;34m()\u001b[0m\n\u001b[1;32m      2\u001b[0m \u001b[0;32mfor\u001b[0m \u001b[0mepoch\u001b[0m \u001b[0;32min\u001b[0m \u001b[0mrange\u001b[0m\u001b[0;34m(\u001b[0m\u001b[0mnum_epochs\u001b[0m\u001b[0;34m)\u001b[0m\u001b[0;34m:\u001b[0m\u001b[0;34m\u001b[0m\u001b[0;34m\u001b[0m\u001b[0m\n\u001b[1;32m      3\u001b[0m     \u001b[0;32mfor\u001b[0m \u001b[0mX\u001b[0m\u001b[0;34m,\u001b[0m \u001b[0my\u001b[0m \u001b[0;32min\u001b[0m \u001b[0mdata_iter\u001b[0m\u001b[0;34m:\u001b[0m\u001b[0;34m\u001b[0m\u001b[0;34m\u001b[0m\u001b[0m\n\u001b[0;32m----> 4\u001b[0;31m         \u001b[0ml\u001b[0m \u001b[0;34m=\u001b[0m \u001b[0mloss\u001b[0m\u001b[0;34m(\u001b[0m\u001b[0mnet\u001b[0m\u001b[0;34m(\u001b[0m\u001b[0mX\u001b[0m\u001b[0;34m)\u001b[0m\u001b[0;34m,\u001b[0m \u001b[0my\u001b[0m\u001b[0;34m)\u001b[0m\u001b[0;34m\u001b[0m\u001b[0;34m\u001b[0m\u001b[0m\n\u001b[0m\u001b[1;32m      5\u001b[0m         \u001b[0mtrainer\u001b[0m\u001b[0;34m.\u001b[0m\u001b[0mzero_grad\u001b[0m\u001b[0;34m(\u001b[0m\u001b[0;34m)\u001b[0m\u001b[0;34m\u001b[0m\u001b[0;34m\u001b[0m\u001b[0m\n\u001b[1;32m      6\u001b[0m         \u001b[0ml\u001b[0m\u001b[0;34m.\u001b[0m\u001b[0mbackward\u001b[0m\u001b[0;34m(\u001b[0m\u001b[0;34m)\u001b[0m\u001b[0;34m\u001b[0m\u001b[0;34m\u001b[0m\u001b[0m\n",
            "\u001b[0;32m/usr/local/lib/python3.7/dist-packages/torch/nn/modules/module.py\u001b[0m in \u001b[0;36m_call_impl\u001b[0;34m(self, *input, **kwargs)\u001b[0m\n\u001b[1;32m   1100\u001b[0m         if not (self._backward_hooks or self._forward_hooks or self._forward_pre_hooks or _global_backward_hooks\n\u001b[1;32m   1101\u001b[0m                 or _global_forward_hooks or _global_forward_pre_hooks):\n\u001b[0;32m-> 1102\u001b[0;31m             \u001b[0;32mreturn\u001b[0m \u001b[0mforward_call\u001b[0m\u001b[0;34m(\u001b[0m\u001b[0;34m*\u001b[0m\u001b[0minput\u001b[0m\u001b[0;34m,\u001b[0m \u001b[0;34m**\u001b[0m\u001b[0mkwargs\u001b[0m\u001b[0;34m)\u001b[0m\u001b[0;34m\u001b[0m\u001b[0;34m\u001b[0m\u001b[0m\n\u001b[0m\u001b[1;32m   1103\u001b[0m         \u001b[0;31m# Do not call functions when jit is used\u001b[0m\u001b[0;34m\u001b[0m\u001b[0;34m\u001b[0m\u001b[0;34m\u001b[0m\u001b[0m\n\u001b[1;32m   1104\u001b[0m         \u001b[0mfull_backward_hooks\u001b[0m\u001b[0;34m,\u001b[0m \u001b[0mnon_full_backward_hooks\u001b[0m \u001b[0;34m=\u001b[0m \u001b[0;34m[\u001b[0m\u001b[0;34m]\u001b[0m\u001b[0;34m,\u001b[0m \u001b[0;34m[\u001b[0m\u001b[0;34m]\u001b[0m\u001b[0;34m\u001b[0m\u001b[0;34m\u001b[0m\u001b[0m\n",
            "\u001b[0;32m/usr/local/lib/python3.7/dist-packages/torch/nn/modules/container.py\u001b[0m in \u001b[0;36mforward\u001b[0;34m(self, input)\u001b[0m\n\u001b[1;32m    139\u001b[0m     \u001b[0;32mdef\u001b[0m \u001b[0mforward\u001b[0m\u001b[0;34m(\u001b[0m\u001b[0mself\u001b[0m\u001b[0;34m,\u001b[0m \u001b[0minput\u001b[0m\u001b[0;34m)\u001b[0m\u001b[0;34m:\u001b[0m\u001b[0;34m\u001b[0m\u001b[0;34m\u001b[0m\u001b[0m\n\u001b[1;32m    140\u001b[0m         \u001b[0;32mfor\u001b[0m \u001b[0mmodule\u001b[0m \u001b[0;32min\u001b[0m \u001b[0mself\u001b[0m\u001b[0;34m:\u001b[0m\u001b[0;34m\u001b[0m\u001b[0;34m\u001b[0m\u001b[0m\n\u001b[0;32m--> 141\u001b[0;31m             \u001b[0minput\u001b[0m \u001b[0;34m=\u001b[0m \u001b[0mmodule\u001b[0m\u001b[0;34m(\u001b[0m\u001b[0minput\u001b[0m\u001b[0;34m)\u001b[0m\u001b[0;34m\u001b[0m\u001b[0;34m\u001b[0m\u001b[0m\n\u001b[0m\u001b[1;32m    142\u001b[0m         \u001b[0;32mreturn\u001b[0m \u001b[0minput\u001b[0m\u001b[0;34m\u001b[0m\u001b[0;34m\u001b[0m\u001b[0m\n\u001b[1;32m    143\u001b[0m \u001b[0;34m\u001b[0m\u001b[0m\n",
            "\u001b[0;32m/usr/local/lib/python3.7/dist-packages/torch/nn/modules/module.py\u001b[0m in \u001b[0;36m_call_impl\u001b[0;34m(self, *input, **kwargs)\u001b[0m\n\u001b[1;32m   1100\u001b[0m         if not (self._backward_hooks or self._forward_hooks or self._forward_pre_hooks or _global_backward_hooks\n\u001b[1;32m   1101\u001b[0m                 or _global_forward_hooks or _global_forward_pre_hooks):\n\u001b[0;32m-> 1102\u001b[0;31m             \u001b[0;32mreturn\u001b[0m \u001b[0mforward_call\u001b[0m\u001b[0;34m(\u001b[0m\u001b[0;34m*\u001b[0m\u001b[0minput\u001b[0m\u001b[0;34m,\u001b[0m \u001b[0;34m**\u001b[0m\u001b[0mkwargs\u001b[0m\u001b[0;34m)\u001b[0m\u001b[0;34m\u001b[0m\u001b[0;34m\u001b[0m\u001b[0m\n\u001b[0m\u001b[1;32m   1103\u001b[0m         \u001b[0;31m# Do not call functions when jit is used\u001b[0m\u001b[0;34m\u001b[0m\u001b[0;34m\u001b[0m\u001b[0;34m\u001b[0m\u001b[0m\n\u001b[1;32m   1104\u001b[0m         \u001b[0mfull_backward_hooks\u001b[0m\u001b[0;34m,\u001b[0m \u001b[0mnon_full_backward_hooks\u001b[0m \u001b[0;34m=\u001b[0m \u001b[0;34m[\u001b[0m\u001b[0;34m]\u001b[0m\u001b[0;34m,\u001b[0m \u001b[0;34m[\u001b[0m\u001b[0;34m]\u001b[0m\u001b[0;34m\u001b[0m\u001b[0;34m\u001b[0m\u001b[0m\n",
            "\u001b[0;32m/usr/local/lib/python3.7/dist-packages/torch/nn/modules/linear.py\u001b[0m in \u001b[0;36mforward\u001b[0;34m(self, input)\u001b[0m\n\u001b[1;32m    101\u001b[0m \u001b[0;34m\u001b[0m\u001b[0m\n\u001b[1;32m    102\u001b[0m     \u001b[0;32mdef\u001b[0m \u001b[0mforward\u001b[0m\u001b[0;34m(\u001b[0m\u001b[0mself\u001b[0m\u001b[0;34m,\u001b[0m \u001b[0minput\u001b[0m\u001b[0;34m:\u001b[0m \u001b[0mTensor\u001b[0m\u001b[0;34m)\u001b[0m \u001b[0;34m->\u001b[0m \u001b[0mTensor\u001b[0m\u001b[0;34m:\u001b[0m\u001b[0;34m\u001b[0m\u001b[0;34m\u001b[0m\u001b[0m\n\u001b[0;32m--> 103\u001b[0;31m         \u001b[0;32mreturn\u001b[0m \u001b[0mF\u001b[0m\u001b[0;34m.\u001b[0m\u001b[0mlinear\u001b[0m\u001b[0;34m(\u001b[0m\u001b[0minput\u001b[0m\u001b[0;34m,\u001b[0m \u001b[0mself\u001b[0m\u001b[0;34m.\u001b[0m\u001b[0mweight\u001b[0m\u001b[0;34m,\u001b[0m \u001b[0mself\u001b[0m\u001b[0;34m.\u001b[0m\u001b[0mbias\u001b[0m\u001b[0;34m)\u001b[0m\u001b[0;34m\u001b[0m\u001b[0;34m\u001b[0m\u001b[0m\n\u001b[0m\u001b[1;32m    104\u001b[0m \u001b[0;34m\u001b[0m\u001b[0m\n\u001b[1;32m    105\u001b[0m     \u001b[0;32mdef\u001b[0m \u001b[0mextra_repr\u001b[0m\u001b[0;34m(\u001b[0m\u001b[0mself\u001b[0m\u001b[0;34m)\u001b[0m \u001b[0;34m->\u001b[0m \u001b[0mstr\u001b[0m\u001b[0;34m:\u001b[0m\u001b[0;34m\u001b[0m\u001b[0;34m\u001b[0m\u001b[0m\n",
            "\u001b[0;32m/usr/local/lib/python3.7/dist-packages/torch/nn/functional.py\u001b[0m in \u001b[0;36mlinear\u001b[0;34m(input, weight, bias)\u001b[0m\n\u001b[1;32m   1846\u001b[0m     \u001b[0;32mif\u001b[0m \u001b[0mhas_torch_function_variadic\u001b[0m\u001b[0;34m(\u001b[0m\u001b[0minput\u001b[0m\u001b[0;34m,\u001b[0m \u001b[0mweight\u001b[0m\u001b[0;34m,\u001b[0m \u001b[0mbias\u001b[0m\u001b[0;34m)\u001b[0m\u001b[0;34m:\u001b[0m\u001b[0;34m\u001b[0m\u001b[0;34m\u001b[0m\u001b[0m\n\u001b[1;32m   1847\u001b[0m         \u001b[0;32mreturn\u001b[0m \u001b[0mhandle_torch_function\u001b[0m\u001b[0;34m(\u001b[0m\u001b[0mlinear\u001b[0m\u001b[0;34m,\u001b[0m \u001b[0;34m(\u001b[0m\u001b[0minput\u001b[0m\u001b[0;34m,\u001b[0m \u001b[0mweight\u001b[0m\u001b[0;34m,\u001b[0m \u001b[0mbias\u001b[0m\u001b[0;34m)\u001b[0m\u001b[0;34m,\u001b[0m \u001b[0minput\u001b[0m\u001b[0;34m,\u001b[0m \u001b[0mweight\u001b[0m\u001b[0;34m,\u001b[0m \u001b[0mbias\u001b[0m\u001b[0;34m=\u001b[0m\u001b[0mbias\u001b[0m\u001b[0;34m)\u001b[0m\u001b[0;34m\u001b[0m\u001b[0;34m\u001b[0m\u001b[0m\n\u001b[0;32m-> 1848\u001b[0;31m     \u001b[0;32mreturn\u001b[0m \u001b[0mtorch\u001b[0m\u001b[0;34m.\u001b[0m\u001b[0m_C\u001b[0m\u001b[0;34m.\u001b[0m\u001b[0m_nn\u001b[0m\u001b[0;34m.\u001b[0m\u001b[0mlinear\u001b[0m\u001b[0;34m(\u001b[0m\u001b[0minput\u001b[0m\u001b[0;34m,\u001b[0m \u001b[0mweight\u001b[0m\u001b[0;34m,\u001b[0m \u001b[0mbias\u001b[0m\u001b[0;34m)\u001b[0m\u001b[0;34m\u001b[0m\u001b[0;34m\u001b[0m\u001b[0m\n\u001b[0m\u001b[1;32m   1849\u001b[0m \u001b[0;34m\u001b[0m\u001b[0m\n\u001b[1;32m   1850\u001b[0m \u001b[0;34m\u001b[0m\u001b[0m\n",
            "\u001b[0;31mRuntimeError\u001b[0m: expected scalar type Float but found Double"
          ]
        }
      ]
    },
    {
      "cell_type": "markdown",
      "source": [
        "#磁数据补偿\n",
        "---\n",
        "start"
      ],
      "metadata": {
        "id": "VXzNQnXEoon0"
      }
    },
    {
      "cell_type": "code",
      "source": [
        "import numpy as np\n",
        "import torch\n",
        "from torch.utils import data\n",
        "#from d2l import torch as d2l\n",
        "import pandas as pd"
      ],
      "metadata": {
        "id": "P5o04rHrovkO"
      },
      "execution_count": null,
      "outputs": []
    },
    {
      "cell_type": "code",
      "source": [
        "!pip install -u -q PyDrive\n",
        "from pydrive.auth import GoogleAuth\n",
        "from pydrive.drive import GoogleDrive\n",
        "from google.colab import auth\n",
        "from oauth2client.client import GoogleCredentials\n",
        "\n",
        "auth.authenticate_user()\n",
        "gauth = GoogleAuth()\n",
        "gauth.credentials = GoogleCredentials.get_application_default()\n",
        "drive = GoogleDrive(gauth)\n",
        "\n",
        "downloaded = drive.CreateFile({'id':'1vSjcohcF_sefqy_-_7grnnnhlv2VvB1o'})\n",
        "downloaded.GetContentFile('data_ci.csv')"
      ],
      "metadata": {
        "id": "399pBbcZo2cw"
      },
      "execution_count": null,
      "outputs": []
    },
    {
      "cell_type": "code",
      "source": [
        "data = pd.read_csv('data_ci.csv')\n",
        "print(data)"
      ],
      "metadata": {
        "id": "U2mcBsiNpuOs"
      },
      "execution_count": null,
      "outputs": []
    },
    {
      "cell_type": "code",
      "source": [
        "inputs1, outputs1 = data.iloc[:, 1], data.iloc[:, 2]\n",
        "inputs1 = inputs1.dropna(how = 'any')\n",
        "outputs1 = outputs1.dropna(how = 'any')\n",
        "inputs1.shape, outputs1.shape"
      ],
      "metadata": {
        "id": "rxH88pFfPWrA"
      },
      "execution_count": null,
      "outputs": []
    },
    {
      "cell_type": "code",
      "source": [
        "features1, labels1 = torch.tensor(inputs1.values), torch.tensor(outputs1.values)"
      ],
      "metadata": {
        "id": "eGxhvJ2Sz1L_"
      },
      "execution_count": null,
      "outputs": []
    },
    {
      "cell_type": "code",
      "source": [
        "i = np.arange(1, len(features1)+1)\n",
        "d2l.set_figsize()\n",
        "#d2l.plt.scatter(features[:, 0].detach().numpy(), labels.detach().numpy(), 1);\n",
        "d2l.plt.scatter(i, features1.detach().numpy(), 1);"
      ],
      "metadata": {
        "id": "P2u1Vu8BzxCq"
      },
      "execution_count": null,
      "outputs": []
    },
    {
      "cell_type": "code",
      "source": [
        "d2l.set_figsize()\n",
        "#d2l.plt.scatter(features[:, 0].detach().numpy(), labels.detach().numpy(), 1);\n",
        "d2l.plt.scatter(i, labels1.detach().numpy(), 1);"
      ],
      "metadata": {
        "id": "zdzTVv0q15Zw"
      },
      "execution_count": null,
      "outputs": []
    },
    {
      "cell_type": "code",
      "source": [
        "d2l.set_figsize()\n",
        "#d2l.plt.scatter(features[:, 0].detach().numpy(), labels.detach().numpy(), 1);\n",
        "d2l.plt.scatter(labels1.detach().numpy(), features1.detach().numpy(), 1);"
      ],
      "metadata": {
        "id": "mGfC96552Jne"
      },
      "execution_count": null,
      "outputs": []
    },
    {
      "cell_type": "code",
      "source": [
        "d2l.set_figsize()\n",
        "d2l.plt.scatter(features1.detach().numpy(), labels1.detach().numpy(), 1);"
      ],
      "metadata": {
        "id": "sDP13ahp2l2c"
      },
      "execution_count": null,
      "outputs": []
    },
    {
      "cell_type": "code",
      "source": [
        "w = torch.ones_like(features1)"
      ],
      "metadata": {
        "id": "B8YKxjaRTFuN"
      },
      "execution_count": null,
      "outputs": []
    }
  ]
}