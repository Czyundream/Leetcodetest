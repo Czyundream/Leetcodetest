{
  "nbformat": 4,
  "nbformat_minor": 0,
  "metadata": {
    "colab": {
      "name": "李沐—线形回归部分.ipynb",
      "provenance": [],
      "collapsed_sections": [],
      "mount_file_id": "1xIx-VC25k3VHzNBsWGAQiZ1PwV1C5Hch",
      "authorship_tag": "ABX9TyMJyknJ6mo61OIj/Xc4kENi",
      "include_colab_link": true
    },
    "kernelspec": {
      "name": "python3",
      "display_name": "Python 3"
    },
    "language_info": {
      "name": "python"
    }
  },
  "cells": [
    {
      "cell_type": "markdown",
      "metadata": {
        "id": "view-in-github",
        "colab_type": "text"
      },
      "source": [
        "<a href=\"https://colab.research.google.com/github/Czyundream/Leetcodetest/blob/main/%E6%9D%8E%E6%B2%90%E2%80%94%E7%BA%BF%E5%BD%A2%E5%9B%9E%E5%BD%92%E9%83%A8%E5%88%86.ipynb\" target=\"_parent\"><img src=\"https://colab.research.google.com/assets/colab-badge.svg\" alt=\"Open In Colab\"/></a>"
      ]
    },
    {
      "cell_type": "code",
      "source": [
        "!pip install git+https://github.com/d2l-ai/d2l-zh@release  # installing d2l"
      ],
      "metadata": {
        "id": "A4Om_3p8aceo"
      },
      "execution_count": null,
      "outputs": []
    },
    {
      "cell_type": "code",
      "execution_count": 29,
      "metadata": {
        "id": "BkKuphNnEzKB"
      },
      "outputs": [],
      "source": [
        "#线形回归从零开始实现\n",
        "import torch\n",
        "%matplotlib inline\n",
        "import random\n",
        "from d2l import torch as d2l"
      ]
    },
    {
      "cell_type": "markdown",
      "source": [
        "##生成人造数据集\n",
        "生成一个包含1000个样本的数据集，每个样本包含从标准正态分布中采样的2个特征。 我们的合成数据集是一个矩阵$𝐗∈\\mathbb{R}^{1000×2}$。\n",
        "使用参数：$\\mathbf{w}=[2,-3.4]^{T},b=4.2$和噪声项$\\epsilon $生成数据集和标签：  \n",
        "<center>$\\mathbf{y}=\\mathbf{X}\\mathbf{w}+b+ϵ$"
      ],
      "metadata": {
        "id": "nQZrr_ysMwj6"
      }
    },
    {
      "cell_type": "code",
      "source": [
        "def synthetic_data(w, b, num_examples):\n",
        "    '''生成y = Xw + b + 噪声'''\n",
        "    X = torch.normal(0, 1, (num_examples, len(w)))#X均值为0，方差为1的随机数，大小是n个样本，列数为w的长度\n",
        "    y = torch.matmul(X, w) + b\n",
        "    y +=torch.normal(0, 0.01, y.shape)\n",
        "    return X, y.reshape((-1,1))"
      ],
      "metadata": {
        "id": "wqcivAy2Muz4"
      },
      "execution_count": 30,
      "outputs": []
    },
    {
      "cell_type": "code",
      "source": [
        "true_w = torch.tensor([2, -3.4])\n",
        "true_b = 4.2\n",
        "features, labels = synthetic_data(true_w, true_b, 1000)"
      ],
      "metadata": {
        "id": "pFk5Wga3SALM"
      },
      "execution_count": 31,
      "outputs": []
    },
    {
      "cell_type": "code",
      "source": [
        "features.shape, labels.shape"
      ],
      "metadata": {
        "colab": {
          "base_uri": "https://localhost:8080/"
        },
        "id": "0TRUP9iASY-Z",
        "outputId": "046695cc-ebb3-45dd-a450-4a3c0933a94d"
      },
      "execution_count": 32,
      "outputs": [
        {
          "output_type": "execute_result",
          "data": {
            "text/plain": [
              "(torch.Size([1000, 2]), torch.Size([1000, 1]))"
            ]
          },
          "metadata": {},
          "execution_count": 32
        }
      ]
    },
    {
      "cell_type": "code",
      "source": [
        "d2l.set_figsize()\n",
        "d2l.plt.scatter(features[:, 1].detach().numpy(), labels.detach().numpy(), 1);#detach()实现分离数值，不再包含梯度关系"
      ],
      "metadata": {
        "colab": {
          "base_uri": "https://localhost:8080/",
          "height": 243
        },
        "id": "55kK9q9TS40u",
        "outputId": "76926d69-d940-4685-eab8-bc84d1d92272"
      },
      "execution_count": 33,
      "outputs": [
        {
          "output_type": "display_data",
          "data": {
            "text/plain": [
              "<Figure size 252x180 with 1 Axes>"
            ],
            "image/svg+xml": "<?xml version=\"1.0\" encoding=\"utf-8\" standalone=\"no\"?>\n<!DOCTYPE svg PUBLIC \"-//W3C//DTD SVG 1.1//EN\"\n  \"http://www.w3.org/Graphics/SVG/1.1/DTD/svg11.dtd\">\n<!-- Created with matplotlib (https://matplotlib.org/) -->\n<svg height=\"166.978125pt\" version=\"1.1\" viewBox=\"0 0 231.442187 166.978125\" width=\"231.442187pt\" xmlns=\"http://www.w3.org/2000/svg\" xmlns:xlink=\"http://www.w3.org/1999/xlink\">\n <defs>\n  <style type=\"text/css\">\n*{stroke-linecap:butt;stroke-linejoin:round;}\n  </style>\n </defs>\n <g id=\"figure_1\">\n  <g id=\"patch_1\">\n   <path d=\"M 0 166.978125 \nL 231.442187 166.978125 \nL 231.442187 0 \nL 0 0 \nz\n\" style=\"fill:none;\"/>\n  </g>\n  <g id=\"axes_1\">\n   <g id=\"patch_2\">\n    <path d=\"M 28.942188 143.1 \nL 224.242188 143.1 \nL 224.242188 7.2 \nL 28.942188 7.2 \nz\n\" style=\"fill:#ffffff;\"/>\n   </g>\n   <g id=\"PathCollection_1\">\n    <defs>\n     <path d=\"M 0 0.5 \nC 0.132602 0.5 0.25979 0.447317 0.353553 0.353553 \nC 0.447317 0.25979 0.5 0.132602 0.5 0 \nC 0.5 -0.132602 0.447317 -0.25979 0.353553 -0.353553 \nC 0.25979 -0.447317 0.132602 -0.5 0 -0.5 \nC -0.132602 -0.5 -0.25979 -0.447317 -0.353553 -0.353553 \nC -0.447317 -0.25979 -0.5 -0.132602 -0.5 0 \nC -0.5 0.132602 -0.447317 0.25979 -0.353553 0.353553 \nC -0.25979 0.447317 -0.132602 0.5 0 0.5 \nz\n\" id=\"m7c4ea94773\" style=\"stroke:#1f77b4;\"/>\n    </defs>\n    <g clip-path=\"url(#pbdcf538420)\">\n     <use style=\"fill:#1f77b4;stroke:#1f77b4;\" x=\"165.938912\" xlink:href=\"#m7c4ea94773\" y=\"86.625967\"/>\n     <use style=\"fill:#1f77b4;stroke:#1f77b4;\" x=\"101.265875\" xlink:href=\"#m7c4ea94773\" y=\"57.74724\"/>\n     <use style=\"fill:#1f77b4;stroke:#1f77b4;\" x=\"110.518065\" xlink:href=\"#m7c4ea94773\" y=\"97.370671\"/>\n     <use style=\"fill:#1f77b4;stroke:#1f77b4;\" x=\"134.802121\" xlink:href=\"#m7c4ea94773\" y=\"94.485483\"/>\n     <use style=\"fill:#1f77b4;stroke:#1f77b4;\" x=\"144.879955\" xlink:href=\"#m7c4ea94773\" y=\"86.198409\"/>\n     <use style=\"fill:#1f77b4;stroke:#1f77b4;\" x=\"130.864667\" xlink:href=\"#m7c4ea94773\" y=\"66.946258\"/>\n     <use style=\"fill:#1f77b4;stroke:#1f77b4;\" x=\"130.348712\" xlink:href=\"#m7c4ea94773\" y=\"98.940648\"/>\n     <use style=\"fill:#1f77b4;stroke:#1f77b4;\" x=\"92.451372\" xlink:href=\"#m7c4ea94773\" y=\"63.535944\"/>\n     <use style=\"fill:#1f77b4;stroke:#1f77b4;\" x=\"138.138286\" xlink:href=\"#m7c4ea94773\" y=\"83.640755\"/>\n     <use style=\"fill:#1f77b4;stroke:#1f77b4;\" x=\"118.553972\" xlink:href=\"#m7c4ea94773\" y=\"58.573774\"/>\n     <use style=\"fill:#1f77b4;stroke:#1f77b4;\" x=\"70.20053\" xlink:href=\"#m7c4ea94773\" y=\"56.517289\"/>\n     <use style=\"fill:#1f77b4;stroke:#1f77b4;\" x=\"106.262296\" xlink:href=\"#m7c4ea94773\" y=\"64.992918\"/>\n     <use style=\"fill:#1f77b4;stroke:#1f77b4;\" x=\"111.55112\" xlink:href=\"#m7c4ea94773\" y=\"76.640946\"/>\n     <use style=\"fill:#1f77b4;stroke:#1f77b4;\" x=\"126.176945\" xlink:href=\"#m7c4ea94773\" y=\"92.800853\"/>\n     <use style=\"fill:#1f77b4;stroke:#1f77b4;\" x=\"127.228116\" xlink:href=\"#m7c4ea94773\" y=\"87.480179\"/>\n     <use style=\"fill:#1f77b4;stroke:#1f77b4;\" x=\"54.126564\" xlink:href=\"#m7c4ea94773\" y=\"35.403328\"/>\n     <use style=\"fill:#1f77b4;stroke:#1f77b4;\" x=\"135.904476\" xlink:href=\"#m7c4ea94773\" y=\"75.456686\"/>\n     <use style=\"fill:#1f77b4;stroke:#1f77b4;\" x=\"103.944176\" xlink:href=\"#m7c4ea94773\" y=\"64.429249\"/>\n     <use style=\"fill:#1f77b4;stroke:#1f77b4;\" x=\"95.348753\" xlink:href=\"#m7c4ea94773\" y=\"49.428742\"/>\n     <use style=\"fill:#1f77b4;stroke:#1f77b4;\" x=\"156.358172\" xlink:href=\"#m7c4ea94773\" y=\"87.78252\"/>\n     <use style=\"fill:#1f77b4;stroke:#1f77b4;\" x=\"83.593862\" xlink:href=\"#m7c4ea94773\" y=\"73.685432\"/>\n     <use style=\"fill:#1f77b4;stroke:#1f77b4;\" x=\"103.972464\" xlink:href=\"#m7c4ea94773\" y=\"47.637164\"/>\n     <use style=\"fill:#1f77b4;stroke:#1f77b4;\" x=\"138.799641\" xlink:href=\"#m7c4ea94773\" y=\"73.491018\"/>\n     <use style=\"fill:#1f77b4;stroke:#1f77b4;\" x=\"102.632852\" xlink:href=\"#m7c4ea94773\" y=\"72.26366\"/>\n     <use style=\"fill:#1f77b4;stroke:#1f77b4;\" x=\"143.727002\" xlink:href=\"#m7c4ea94773\" y=\"95.636306\"/>\n     <use style=\"fill:#1f77b4;stroke:#1f77b4;\" x=\"111.841795\" xlink:href=\"#m7c4ea94773\" y=\"74.100071\"/>\n     <use style=\"fill:#1f77b4;stroke:#1f77b4;\" x=\"125.559323\" xlink:href=\"#m7c4ea94773\" y=\"90.719587\"/>\n     <use style=\"fill:#1f77b4;stroke:#1f77b4;\" x=\"97.285532\" xlink:href=\"#m7c4ea94773\" y=\"60.564621\"/>\n     <use style=\"fill:#1f77b4;stroke:#1f77b4;\" x=\"97.384409\" xlink:href=\"#m7c4ea94773\" y=\"54.282371\"/>\n     <use style=\"fill:#1f77b4;stroke:#1f77b4;\" x=\"181.781879\" xlink:href=\"#m7c4ea94773\" y=\"109.039631\"/>\n     <use style=\"fill:#1f77b4;stroke:#1f77b4;\" x=\"123.395908\" xlink:href=\"#m7c4ea94773\" y=\"82.014018\"/>\n     <use style=\"fill:#1f77b4;stroke:#1f77b4;\" x=\"159.789295\" xlink:href=\"#m7c4ea94773\" y=\"115.481262\"/>\n     <use style=\"fill:#1f77b4;stroke:#1f77b4;\" x=\"148.087102\" xlink:href=\"#m7c4ea94773\" y=\"102.295624\"/>\n     <use style=\"fill:#1f77b4;stroke:#1f77b4;\" x=\"124.916912\" xlink:href=\"#m7c4ea94773\" y=\"89.564709\"/>\n     <use style=\"fill:#1f77b4;stroke:#1f77b4;\" x=\"144.181196\" xlink:href=\"#m7c4ea94773\" y=\"92.633209\"/>\n     <use style=\"fill:#1f77b4;stroke:#1f77b4;\" x=\"74.96149\" xlink:href=\"#m7c4ea94773\" y=\"60.93192\"/>\n     <use style=\"fill:#1f77b4;stroke:#1f77b4;\" x=\"206.195203\" xlink:href=\"#m7c4ea94773\" y=\"128.708411\"/>\n     <use style=\"fill:#1f77b4;stroke:#1f77b4;\" x=\"84.582911\" xlink:href=\"#m7c4ea94773\" y=\"75.058265\"/>\n     <use style=\"fill:#1f77b4;stroke:#1f77b4;\" x=\"102.150858\" xlink:href=\"#m7c4ea94773\" y=\"62.163095\"/>\n     <use style=\"fill:#1f77b4;stroke:#1f77b4;\" x=\"178.658107\" xlink:href=\"#m7c4ea94773\" y=\"133.714503\"/>\n     <use style=\"fill:#1f77b4;stroke:#1f77b4;\" x=\"107.065981\" xlink:href=\"#m7c4ea94773\" y=\"46.592717\"/>\n     <use style=\"fill:#1f77b4;stroke:#1f77b4;\" x=\"122.186719\" xlink:href=\"#m7c4ea94773\" y=\"88.968055\"/>\n     <use style=\"fill:#1f77b4;stroke:#1f77b4;\" x=\"103.008766\" xlink:href=\"#m7c4ea94773\" y=\"63.420016\"/>\n     <use style=\"fill:#1f77b4;stroke:#1f77b4;\" x=\"78.079266\" xlink:href=\"#m7c4ea94773\" y=\"64.068408\"/>\n     <use style=\"fill:#1f77b4;stroke:#1f77b4;\" x=\"96.515434\" xlink:href=\"#m7c4ea94773\" y=\"78.644503\"/>\n     <use style=\"fill:#1f77b4;stroke:#1f77b4;\" x=\"153.115123\" xlink:href=\"#m7c4ea94773\" y=\"82.681837\"/>\n     <use style=\"fill:#1f77b4;stroke:#1f77b4;\" x=\"157.995045\" xlink:href=\"#m7c4ea94773\" y=\"116.268617\"/>\n     <use style=\"fill:#1f77b4;stroke:#1f77b4;\" x=\"86.529543\" xlink:href=\"#m7c4ea94773\" y=\"47.988298\"/>\n     <use style=\"fill:#1f77b4;stroke:#1f77b4;\" x=\"119.670586\" xlink:href=\"#m7c4ea94773\" y=\"88.449287\"/>\n     <use style=\"fill:#1f77b4;stroke:#1f77b4;\" x=\"92.012218\" xlink:href=\"#m7c4ea94773\" y=\"33.081006\"/>\n     <use style=\"fill:#1f77b4;stroke:#1f77b4;\" x=\"87.218731\" xlink:href=\"#m7c4ea94773\" y=\"34.06664\"/>\n     <use style=\"fill:#1f77b4;stroke:#1f77b4;\" x=\"132.859487\" xlink:href=\"#m7c4ea94773\" y=\"84.472591\"/>\n     <use style=\"fill:#1f77b4;stroke:#1f77b4;\" x=\"148.610546\" xlink:href=\"#m7c4ea94773\" y=\"100.129995\"/>\n     <use style=\"fill:#1f77b4;stroke:#1f77b4;\" x=\"71.992772\" xlink:href=\"#m7c4ea94773\" y=\"42.425428\"/>\n     <use style=\"fill:#1f77b4;stroke:#1f77b4;\" x=\"124.791523\" xlink:href=\"#m7c4ea94773\" y=\"66.178554\"/>\n     <use style=\"fill:#1f77b4;stroke:#1f77b4;\" x=\"97.305046\" xlink:href=\"#m7c4ea94773\" y=\"76.531288\"/>\n     <use style=\"fill:#1f77b4;stroke:#1f77b4;\" x=\"132.007468\" xlink:href=\"#m7c4ea94773\" y=\"89.851245\"/>\n     <use style=\"fill:#1f77b4;stroke:#1f77b4;\" x=\"114.38543\" xlink:href=\"#m7c4ea94773\" y=\"64.524874\"/>\n     <use style=\"fill:#1f77b4;stroke:#1f77b4;\" x=\"122.879346\" xlink:href=\"#m7c4ea94773\" y=\"74.781514\"/>\n     <use style=\"fill:#1f77b4;stroke:#1f77b4;\" x=\"149.036594\" xlink:href=\"#m7c4ea94773\" y=\"92.140618\"/>\n     <use style=\"fill:#1f77b4;stroke:#1f77b4;\" x=\"105.792359\" xlink:href=\"#m7c4ea94773\" y=\"61.856736\"/>\n     <use style=\"fill:#1f77b4;stroke:#1f77b4;\" x=\"102.280848\" xlink:href=\"#m7c4ea94773\" y=\"47.645158\"/>\n     <use style=\"fill:#1f77b4;stroke:#1f77b4;\" x=\"112.315062\" xlink:href=\"#m7c4ea94773\" y=\"78.137502\"/>\n     <use style=\"fill:#1f77b4;stroke:#1f77b4;\" x=\"155.921176\" xlink:href=\"#m7c4ea94773\" y=\"84.671904\"/>\n     <use style=\"fill:#1f77b4;stroke:#1f77b4;\" x=\"98.546897\" xlink:href=\"#m7c4ea94773\" y=\"83.012321\"/>\n     <use style=\"fill:#1f77b4;stroke:#1f77b4;\" x=\"127.915021\" xlink:href=\"#m7c4ea94773\" y=\"81.528463\"/>\n     <use style=\"fill:#1f77b4;stroke:#1f77b4;\" x=\"113.183936\" xlink:href=\"#m7c4ea94773\" y=\"82.096656\"/>\n     <use style=\"fill:#1f77b4;stroke:#1f77b4;\" x=\"162.120391\" xlink:href=\"#m7c4ea94773\" y=\"118.270146\"/>\n     <use style=\"fill:#1f77b4;stroke:#1f77b4;\" x=\"120.443958\" xlink:href=\"#m7c4ea94773\" y=\"73.552737\"/>\n     <use style=\"fill:#1f77b4;stroke:#1f77b4;\" x=\"79.461784\" xlink:href=\"#m7c4ea94773\" y=\"56.370329\"/>\n     <use style=\"fill:#1f77b4;stroke:#1f77b4;\" x=\"117.88007\" xlink:href=\"#m7c4ea94773\" y=\"60.406107\"/>\n     <use style=\"fill:#1f77b4;stroke:#1f77b4;\" x=\"120.289178\" xlink:href=\"#m7c4ea94773\" y=\"74.439075\"/>\n     <use style=\"fill:#1f77b4;stroke:#1f77b4;\" x=\"130.227643\" xlink:href=\"#m7c4ea94773\" y=\"97.390705\"/>\n     <use style=\"fill:#1f77b4;stroke:#1f77b4;\" x=\"61.099358\" xlink:href=\"#m7c4ea94773\" y=\"29.86183\"/>\n     <use style=\"fill:#1f77b4;stroke:#1f77b4;\" x=\"93.523218\" xlink:href=\"#m7c4ea94773\" y=\"51.013384\"/>\n     <use style=\"fill:#1f77b4;stroke:#1f77b4;\" x=\"80.995401\" xlink:href=\"#m7c4ea94773\" y=\"45.917143\"/>\n     <use style=\"fill:#1f77b4;stroke:#1f77b4;\" x=\"100.364356\" xlink:href=\"#m7c4ea94773\" y=\"72.187314\"/>\n     <use style=\"fill:#1f77b4;stroke:#1f77b4;\" x=\"68.554668\" xlink:href=\"#m7c4ea94773\" y=\"47.986259\"/>\n     <use style=\"fill:#1f77b4;stroke:#1f77b4;\" x=\"89.826854\" xlink:href=\"#m7c4ea94773\" y=\"43.108394\"/>\n     <use style=\"fill:#1f77b4;stroke:#1f77b4;\" x=\"134.704163\" xlink:href=\"#m7c4ea94773\" y=\"99.522997\"/>\n     <use style=\"fill:#1f77b4;stroke:#1f77b4;\" x=\"100.750169\" xlink:href=\"#m7c4ea94773\" y=\"68.90339\"/>\n     <use style=\"fill:#1f77b4;stroke:#1f77b4;\" x=\"123.452918\" xlink:href=\"#m7c4ea94773\" y=\"80.116403\"/>\n     <use style=\"fill:#1f77b4;stroke:#1f77b4;\" x=\"146.378975\" xlink:href=\"#m7c4ea94773\" y=\"97.979169\"/>\n     <use style=\"fill:#1f77b4;stroke:#1f77b4;\" x=\"108.772009\" xlink:href=\"#m7c4ea94773\" y=\"86.693387\"/>\n     <use style=\"fill:#1f77b4;stroke:#1f77b4;\" x=\"117.391267\" xlink:href=\"#m7c4ea94773\" y=\"87.708911\"/>\n     <use style=\"fill:#1f77b4;stroke:#1f77b4;\" x=\"93.773282\" xlink:href=\"#m7c4ea94773\" y=\"53.930488\"/>\n     <use style=\"fill:#1f77b4;stroke:#1f77b4;\" x=\"140.920156\" xlink:href=\"#m7c4ea94773\" y=\"83.649669\"/>\n     <use style=\"fill:#1f77b4;stroke:#1f77b4;\" x=\"120.59438\" xlink:href=\"#m7c4ea94773\" y=\"73.541854\"/>\n     <use style=\"fill:#1f77b4;stroke:#1f77b4;\" x=\"72.931144\" xlink:href=\"#m7c4ea94773\" y=\"68.65617\"/>\n     <use style=\"fill:#1f77b4;stroke:#1f77b4;\" x=\"178.185944\" xlink:href=\"#m7c4ea94773\" y=\"106.662636\"/>\n     <use style=\"fill:#1f77b4;stroke:#1f77b4;\" x=\"130.213835\" xlink:href=\"#m7c4ea94773\" y=\"68.045464\"/>\n     <use style=\"fill:#1f77b4;stroke:#1f77b4;\" x=\"99.633144\" xlink:href=\"#m7c4ea94773\" y=\"85.887574\"/>\n     <use style=\"fill:#1f77b4;stroke:#1f77b4;\" x=\"82.464676\" xlink:href=\"#m7c4ea94773\" y=\"51.871836\"/>\n     <use style=\"fill:#1f77b4;stroke:#1f77b4;\" x=\"124.133456\" xlink:href=\"#m7c4ea94773\" y=\"82.45875\"/>\n     <use style=\"fill:#1f77b4;stroke:#1f77b4;\" x=\"159.852637\" xlink:href=\"#m7c4ea94773\" y=\"118.841133\"/>\n     <use style=\"fill:#1f77b4;stroke:#1f77b4;\" x=\"134.800418\" xlink:href=\"#m7c4ea94773\" y=\"83.051043\"/>\n     <use style=\"fill:#1f77b4;stroke:#1f77b4;\" x=\"156.595404\" xlink:href=\"#m7c4ea94773\" y=\"97.930903\"/>\n     <use style=\"fill:#1f77b4;stroke:#1f77b4;\" x=\"102.229862\" xlink:href=\"#m7c4ea94773\" y=\"73.696601\"/>\n     <use style=\"fill:#1f77b4;stroke:#1f77b4;\" x=\"120.393556\" xlink:href=\"#m7c4ea94773\" y=\"77.488882\"/>\n     <use style=\"fill:#1f77b4;stroke:#1f77b4;\" x=\"95.02679\" xlink:href=\"#m7c4ea94773\" y=\"57.745651\"/>\n     <use style=\"fill:#1f77b4;stroke:#1f77b4;\" x=\"107.352187\" xlink:href=\"#m7c4ea94773\" y=\"65.347019\"/>\n     <use style=\"fill:#1f77b4;stroke:#1f77b4;\" x=\"74.897949\" xlink:href=\"#m7c4ea94773\" y=\"58.309495\"/>\n     <use style=\"fill:#1f77b4;stroke:#1f77b4;\" x=\"148.770687\" xlink:href=\"#m7c4ea94773\" y=\"107.084567\"/>\n     <use style=\"fill:#1f77b4;stroke:#1f77b4;\" x=\"150.190913\" xlink:href=\"#m7c4ea94773\" y=\"96.230627\"/>\n     <use style=\"fill:#1f77b4;stroke:#1f77b4;\" x=\"129.981181\" xlink:href=\"#m7c4ea94773\" y=\"96.770629\"/>\n     <use style=\"fill:#1f77b4;stroke:#1f77b4;\" x=\"140.716888\" xlink:href=\"#m7c4ea94773\" y=\"87.115418\"/>\n     <use style=\"fill:#1f77b4;stroke:#1f77b4;\" x=\"62.508239\" xlink:href=\"#m7c4ea94773\" y=\"55.19955\"/>\n     <use style=\"fill:#1f77b4;stroke:#1f77b4;\" x=\"98.802898\" xlink:href=\"#m7c4ea94773\" y=\"84.638646\"/>\n     <use style=\"fill:#1f77b4;stroke:#1f77b4;\" x=\"103.023384\" xlink:href=\"#m7c4ea94773\" y=\"63.640672\"/>\n     <use style=\"fill:#1f77b4;stroke:#1f77b4;\" x=\"114.27205\" xlink:href=\"#m7c4ea94773\" y=\"65.268199\"/>\n     <use style=\"fill:#1f77b4;stroke:#1f77b4;\" x=\"124.035762\" xlink:href=\"#m7c4ea94773\" y=\"73.273945\"/>\n     <use style=\"fill:#1f77b4;stroke:#1f77b4;\" x=\"91.562045\" xlink:href=\"#m7c4ea94773\" y=\"68.781614\"/>\n     <use style=\"fill:#1f77b4;stroke:#1f77b4;\" x=\"103.50783\" xlink:href=\"#m7c4ea94773\" y=\"67.915082\"/>\n     <use style=\"fill:#1f77b4;stroke:#1f77b4;\" x=\"151.377313\" xlink:href=\"#m7c4ea94773\" y=\"99.951032\"/>\n     <use style=\"fill:#1f77b4;stroke:#1f77b4;\" x=\"149.995818\" xlink:href=\"#m7c4ea94773\" y=\"90.437715\"/>\n     <use style=\"fill:#1f77b4;stroke:#1f77b4;\" x=\"164.671973\" xlink:href=\"#m7c4ea94773\" y=\"105.84157\"/>\n     <use style=\"fill:#1f77b4;stroke:#1f77b4;\" x=\"191.16329\" xlink:href=\"#m7c4ea94773\" y=\"120.29527\"/>\n     <use style=\"fill:#1f77b4;stroke:#1f77b4;\" x=\"90.859244\" xlink:href=\"#m7c4ea94773\" y=\"55.500457\"/>\n     <use style=\"fill:#1f77b4;stroke:#1f77b4;\" x=\"104.22296\" xlink:href=\"#m7c4ea94773\" y=\"80.340014\"/>\n     <use style=\"fill:#1f77b4;stroke:#1f77b4;\" x=\"156.207841\" xlink:href=\"#m7c4ea94773\" y=\"81.268758\"/>\n     <use style=\"fill:#1f77b4;stroke:#1f77b4;\" x=\"104.842815\" xlink:href=\"#m7c4ea94773\" y=\"53.968395\"/>\n     <use style=\"fill:#1f77b4;stroke:#1f77b4;\" x=\"127.639345\" xlink:href=\"#m7c4ea94773\" y=\"109.152505\"/>\n     <use style=\"fill:#1f77b4;stroke:#1f77b4;\" x=\"155.561381\" xlink:href=\"#m7c4ea94773\" y=\"84.776678\"/>\n     <use style=\"fill:#1f77b4;stroke:#1f77b4;\" x=\"102.101416\" xlink:href=\"#m7c4ea94773\" y=\"78.712558\"/>\n     <use style=\"fill:#1f77b4;stroke:#1f77b4;\" x=\"132.902843\" xlink:href=\"#m7c4ea94773\" y=\"92.113715\"/>\n     <use style=\"fill:#1f77b4;stroke:#1f77b4;\" x=\"164.142125\" xlink:href=\"#m7c4ea94773\" y=\"109.321804\"/>\n     <use style=\"fill:#1f77b4;stroke:#1f77b4;\" x=\"132.651746\" xlink:href=\"#m7c4ea94773\" y=\"102.755383\"/>\n     <use style=\"fill:#1f77b4;stroke:#1f77b4;\" x=\"117.399547\" xlink:href=\"#m7c4ea94773\" y=\"64.003812\"/>\n     <use style=\"fill:#1f77b4;stroke:#1f77b4;\" x=\"96.843863\" xlink:href=\"#m7c4ea94773\" y=\"87.13355\"/>\n     <use style=\"fill:#1f77b4;stroke:#1f77b4;\" x=\"123.070557\" xlink:href=\"#m7c4ea94773\" y=\"71.14147\"/>\n     <use style=\"fill:#1f77b4;stroke:#1f77b4;\" x=\"122.529826\" xlink:href=\"#m7c4ea94773\" y=\"63.389441\"/>\n     <use style=\"fill:#1f77b4;stroke:#1f77b4;\" x=\"75.619494\" xlink:href=\"#m7c4ea94773\" y=\"47.671417\"/>\n     <use style=\"fill:#1f77b4;stroke:#1f77b4;\" x=\"94.164958\" xlink:href=\"#m7c4ea94773\" y=\"77.479226\"/>\n     <use style=\"fill:#1f77b4;stroke:#1f77b4;\" x=\"126.903794\" xlink:href=\"#m7c4ea94773\" y=\"87.599902\"/>\n     <use style=\"fill:#1f77b4;stroke:#1f77b4;\" x=\"149.314357\" xlink:href=\"#m7c4ea94773\" y=\"96.092557\"/>\n     <use style=\"fill:#1f77b4;stroke:#1f77b4;\" x=\"135.883851\" xlink:href=\"#m7c4ea94773\" y=\"94.540055\"/>\n     <use style=\"fill:#1f77b4;stroke:#1f77b4;\" x=\"133.608674\" xlink:href=\"#m7c4ea94773\" y=\"86.311606\"/>\n     <use style=\"fill:#1f77b4;stroke:#1f77b4;\" x=\"143.584831\" xlink:href=\"#m7c4ea94773\" y=\"93.855602\"/>\n     <use style=\"fill:#1f77b4;stroke:#1f77b4;\" x=\"93.774479\" xlink:href=\"#m7c4ea94773\" y=\"68.168025\"/>\n     <use style=\"fill:#1f77b4;stroke:#1f77b4;\" x=\"70.58127\" xlink:href=\"#m7c4ea94773\" y=\"52.277654\"/>\n     <use style=\"fill:#1f77b4;stroke:#1f77b4;\" x=\"95.689523\" xlink:href=\"#m7c4ea94773\" y=\"53.459498\"/>\n     <use style=\"fill:#1f77b4;stroke:#1f77b4;\" x=\"75.933367\" xlink:href=\"#m7c4ea94773\" y=\"45.928532\"/>\n     <use style=\"fill:#1f77b4;stroke:#1f77b4;\" x=\"108.431441\" xlink:href=\"#m7c4ea94773\" y=\"56.32031\"/>\n     <use style=\"fill:#1f77b4;stroke:#1f77b4;\" x=\"130.59844\" xlink:href=\"#m7c4ea94773\" y=\"62.994588\"/>\n     <use style=\"fill:#1f77b4;stroke:#1f77b4;\" x=\"77.26875\" xlink:href=\"#m7c4ea94773\" y=\"50.263662\"/>\n     <use style=\"fill:#1f77b4;stroke:#1f77b4;\" x=\"127.094752\" xlink:href=\"#m7c4ea94773\" y=\"98.463565\"/>\n     <use style=\"fill:#1f77b4;stroke:#1f77b4;\" x=\"116.979973\" xlink:href=\"#m7c4ea94773\" y=\"99.177911\"/>\n     <use style=\"fill:#1f77b4;stroke:#1f77b4;\" x=\"96.719494\" xlink:href=\"#m7c4ea94773\" y=\"36.786164\"/>\n     <use style=\"fill:#1f77b4;stroke:#1f77b4;\" x=\"85.156075\" xlink:href=\"#m7c4ea94773\" y=\"72.686754\"/>\n     <use style=\"fill:#1f77b4;stroke:#1f77b4;\" x=\"134.755637\" xlink:href=\"#m7c4ea94773\" y=\"76.094768\"/>\n     <use style=\"fill:#1f77b4;stroke:#1f77b4;\" x=\"91.978921\" xlink:href=\"#m7c4ea94773\" y=\"90.070917\"/>\n     <use style=\"fill:#1f77b4;stroke:#1f77b4;\" x=\"92.974872\" xlink:href=\"#m7c4ea94773\" y=\"46.806301\"/>\n     <use style=\"fill:#1f77b4;stroke:#1f77b4;\" x=\"150.786955\" xlink:href=\"#m7c4ea94773\" y=\"99.750034\"/>\n     <use style=\"fill:#1f77b4;stroke:#1f77b4;\" x=\"141.701708\" xlink:href=\"#m7c4ea94773\" y=\"89.664536\"/>\n     <use style=\"fill:#1f77b4;stroke:#1f77b4;\" x=\"114.498023\" xlink:href=\"#m7c4ea94773\" y=\"69.098277\"/>\n     <use style=\"fill:#1f77b4;stroke:#1f77b4;\" x=\"50.512014\" xlink:href=\"#m7c4ea94773\" y=\"43.963046\"/>\n     <use style=\"fill:#1f77b4;stroke:#1f77b4;\" x=\"123.482772\" xlink:href=\"#m7c4ea94773\" y=\"87.65693\"/>\n     <use style=\"fill:#1f77b4;stroke:#1f77b4;\" x=\"118.564914\" xlink:href=\"#m7c4ea94773\" y=\"80.898629\"/>\n     <use style=\"fill:#1f77b4;stroke:#1f77b4;\" x=\"147.763008\" xlink:href=\"#m7c4ea94773\" y=\"98.139744\"/>\n     <use style=\"fill:#1f77b4;stroke:#1f77b4;\" x=\"71.051468\" xlink:href=\"#m7c4ea94773\" y=\"31.782978\"/>\n     <use style=\"fill:#1f77b4;stroke:#1f77b4;\" x=\"107.343018\" xlink:href=\"#m7c4ea94773\" y=\"64.573489\"/>\n     <use style=\"fill:#1f77b4;stroke:#1f77b4;\" x=\"121.460637\" xlink:href=\"#m7c4ea94773\" y=\"81.873413\"/>\n     <use style=\"fill:#1f77b4;stroke:#1f77b4;\" x=\"135.301481\" xlink:href=\"#m7c4ea94773\" y=\"76.842259\"/>\n     <use style=\"fill:#1f77b4;stroke:#1f77b4;\" x=\"150.07061\" xlink:href=\"#m7c4ea94773\" y=\"112.41015\"/>\n     <use style=\"fill:#1f77b4;stroke:#1f77b4;\" x=\"59.932615\" xlink:href=\"#m7c4ea94773\" y=\"36.339515\"/>\n     <use style=\"fill:#1f77b4;stroke:#1f77b4;\" x=\"174.357281\" xlink:href=\"#m7c4ea94773\" y=\"102.998895\"/>\n     <use style=\"fill:#1f77b4;stroke:#1f77b4;\" x=\"73.206531\" xlink:href=\"#m7c4ea94773\" y=\"57.338867\"/>\n     <use style=\"fill:#1f77b4;stroke:#1f77b4;\" x=\"102.702956\" xlink:href=\"#m7c4ea94773\" y=\"66.68717\"/>\n     <use style=\"fill:#1f77b4;stroke:#1f77b4;\" x=\"59.907831\" xlink:href=\"#m7c4ea94773\" y=\"43.015116\"/>\n     <use style=\"fill:#1f77b4;stroke:#1f77b4;\" x=\"84.093178\" xlink:href=\"#m7c4ea94773\" y=\"52.044362\"/>\n     <use style=\"fill:#1f77b4;stroke:#1f77b4;\" x=\"166.273705\" xlink:href=\"#m7c4ea94773\" y=\"108.459474\"/>\n     <use style=\"fill:#1f77b4;stroke:#1f77b4;\" x=\"114.20658\" xlink:href=\"#m7c4ea94773\" y=\"75.479244\"/>\n     <use style=\"fill:#1f77b4;stroke:#1f77b4;\" x=\"49.456733\" xlink:href=\"#m7c4ea94773\" y=\"45.383626\"/>\n     <use style=\"fill:#1f77b4;stroke:#1f77b4;\" x=\"100.150066\" xlink:href=\"#m7c4ea94773\" y=\"61.255884\"/>\n     <use style=\"fill:#1f77b4;stroke:#1f77b4;\" x=\"172.542435\" xlink:href=\"#m7c4ea94773\" y=\"112.695915\"/>\n     <use style=\"fill:#1f77b4;stroke:#1f77b4;\" x=\"112.048378\" xlink:href=\"#m7c4ea94773\" y=\"79.070045\"/>\n     <use style=\"fill:#1f77b4;stroke:#1f77b4;\" x=\"139.567126\" xlink:href=\"#m7c4ea94773\" y=\"111.724059\"/>\n     <use style=\"fill:#1f77b4;stroke:#1f77b4;\" x=\"123.585806\" xlink:href=\"#m7c4ea94773\" y=\"73.855102\"/>\n     <use style=\"fill:#1f77b4;stroke:#1f77b4;\" x=\"114.281925\" xlink:href=\"#m7c4ea94773\" y=\"77.518749\"/>\n     <use style=\"fill:#1f77b4;stroke:#1f77b4;\" x=\"81.788899\" xlink:href=\"#m7c4ea94773\" y=\"46.420373\"/>\n     <use style=\"fill:#1f77b4;stroke:#1f77b4;\" x=\"104.479815\" xlink:href=\"#m7c4ea94773\" y=\"70.956776\"/>\n     <use style=\"fill:#1f77b4;stroke:#1f77b4;\" x=\"70.223769\" xlink:href=\"#m7c4ea94773\" y=\"51.617324\"/>\n     <use style=\"fill:#1f77b4;stroke:#1f77b4;\" x=\"86.943579\" xlink:href=\"#m7c4ea94773\" y=\"79.138842\"/>\n     <use style=\"fill:#1f77b4;stroke:#1f77b4;\" x=\"90.601433\" xlink:href=\"#m7c4ea94773\" y=\"54.814749\"/>\n     <use style=\"fill:#1f77b4;stroke:#1f77b4;\" x=\"193.091061\" xlink:href=\"#m7c4ea94773\" y=\"117.244563\"/>\n     <use style=\"fill:#1f77b4;stroke:#1f77b4;\" x=\"210.191201\" xlink:href=\"#m7c4ea94773\" y=\"136.142527\"/>\n     <use style=\"fill:#1f77b4;stroke:#1f77b4;\" x=\"143.985553\" xlink:href=\"#m7c4ea94773\" y=\"89.491581\"/>\n     <use style=\"fill:#1f77b4;stroke:#1f77b4;\" x=\"119.860972\" xlink:href=\"#m7c4ea94773\" y=\"79.466191\"/>\n     <use style=\"fill:#1f77b4;stroke:#1f77b4;\" x=\"124.906896\" xlink:href=\"#m7c4ea94773\" y=\"82.786336\"/>\n     <use style=\"fill:#1f77b4;stroke:#1f77b4;\" x=\"85.216019\" xlink:href=\"#m7c4ea94773\" y=\"61.447789\"/>\n     <use style=\"fill:#1f77b4;stroke:#1f77b4;\" x=\"110.260088\" xlink:href=\"#m7c4ea94773\" y=\"76.487325\"/>\n     <use style=\"fill:#1f77b4;stroke:#1f77b4;\" x=\"82.370164\" xlink:href=\"#m7c4ea94773\" y=\"37.68408\"/>\n     <use style=\"fill:#1f77b4;stroke:#1f77b4;\" x=\"117.515053\" xlink:href=\"#m7c4ea94773\" y=\"83.333988\"/>\n     <use style=\"fill:#1f77b4;stroke:#1f77b4;\" x=\"125.003558\" xlink:href=\"#m7c4ea94773\" y=\"82.403478\"/>\n     <use style=\"fill:#1f77b4;stroke:#1f77b4;\" x=\"82.833794\" xlink:href=\"#m7c4ea94773\" y=\"63.23092\"/>\n     <use style=\"fill:#1f77b4;stroke:#1f77b4;\" x=\"143.866782\" xlink:href=\"#m7c4ea94773\" y=\"85.291742\"/>\n     <use style=\"fill:#1f77b4;stroke:#1f77b4;\" x=\"84.183597\" xlink:href=\"#m7c4ea94773\" y=\"57.385018\"/>\n     <use style=\"fill:#1f77b4;stroke:#1f77b4;\" x=\"106.487102\" xlink:href=\"#m7c4ea94773\" y=\"64.6827\"/>\n     <use style=\"fill:#1f77b4;stroke:#1f77b4;\" x=\"119.199169\" xlink:href=\"#m7c4ea94773\" y=\"83.453425\"/>\n     <use style=\"fill:#1f77b4;stroke:#1f77b4;\" x=\"132.174086\" xlink:href=\"#m7c4ea94773\" y=\"90.651595\"/>\n     <use style=\"fill:#1f77b4;stroke:#1f77b4;\" x=\"143.68104\" xlink:href=\"#m7c4ea94773\" y=\"94.388928\"/>\n     <use style=\"fill:#1f77b4;stroke:#1f77b4;\" x=\"118.526331\" xlink:href=\"#m7c4ea94773\" y=\"73.815215\"/>\n     <use style=\"fill:#1f77b4;stroke:#1f77b4;\" x=\"91.903552\" xlink:href=\"#m7c4ea94773\" y=\"64.435335\"/>\n     <use style=\"fill:#1f77b4;stroke:#1f77b4;\" x=\"100.964027\" xlink:href=\"#m7c4ea94773\" y=\"72.322035\"/>\n     <use style=\"fill:#1f77b4;stroke:#1f77b4;\" x=\"146.487736\" xlink:href=\"#m7c4ea94773\" y=\"84.324256\"/>\n     <use style=\"fill:#1f77b4;stroke:#1f77b4;\" x=\"117.385812\" xlink:href=\"#m7c4ea94773\" y=\"80.45427\"/>\n     <use style=\"fill:#1f77b4;stroke:#1f77b4;\" x=\"72.016477\" xlink:href=\"#m7c4ea94773\" y=\"50.05328\"/>\n     <use style=\"fill:#1f77b4;stroke:#1f77b4;\" x=\"57.109864\" xlink:href=\"#m7c4ea94773\" y=\"46.272026\"/>\n     <use style=\"fill:#1f77b4;stroke:#1f77b4;\" x=\"92.950605\" xlink:href=\"#m7c4ea94773\" y=\"55.438852\"/>\n     <use style=\"fill:#1f77b4;stroke:#1f77b4;\" x=\"120.654213\" xlink:href=\"#m7c4ea94773\" y=\"55.902466\"/>\n     <use style=\"fill:#1f77b4;stroke:#1f77b4;\" x=\"72.265561\" xlink:href=\"#m7c4ea94773\" y=\"61.555537\"/>\n     <use style=\"fill:#1f77b4;stroke:#1f77b4;\" x=\"109.432127\" xlink:href=\"#m7c4ea94773\" y=\"76.555338\"/>\n     <use style=\"fill:#1f77b4;stroke:#1f77b4;\" x=\"107.456107\" xlink:href=\"#m7c4ea94773\" y=\"72.077847\"/>\n     <use style=\"fill:#1f77b4;stroke:#1f77b4;\" x=\"115.16006\" xlink:href=\"#m7c4ea94773\" y=\"68.002387\"/>\n     <use style=\"fill:#1f77b4;stroke:#1f77b4;\" x=\"49.091126\" xlink:href=\"#m7c4ea94773\" y=\"28.25484\"/>\n     <use style=\"fill:#1f77b4;stroke:#1f77b4;\" x=\"113.74953\" xlink:href=\"#m7c4ea94773\" y=\"67.268616\"/>\n     <use style=\"fill:#1f77b4;stroke:#1f77b4;\" x=\"115.466551\" xlink:href=\"#m7c4ea94773\" y=\"74.985812\"/>\n     <use style=\"fill:#1f77b4;stroke:#1f77b4;\" x=\"103.472438\" xlink:href=\"#m7c4ea94773\" y=\"69.759487\"/>\n     <use style=\"fill:#1f77b4;stroke:#1f77b4;\" x=\"107.213974\" xlink:href=\"#m7c4ea94773\" y=\"81.625898\"/>\n     <use style=\"fill:#1f77b4;stroke:#1f77b4;\" x=\"165.551383\" xlink:href=\"#m7c4ea94773\" y=\"101.957134\"/>\n     <use style=\"fill:#1f77b4;stroke:#1f77b4;\" x=\"145.433872\" xlink:href=\"#m7c4ea94773\" y=\"111.140368\"/>\n     <use style=\"fill:#1f77b4;stroke:#1f77b4;\" x=\"106.272271\" xlink:href=\"#m7c4ea94773\" y=\"67.707126\"/>\n     <use style=\"fill:#1f77b4;stroke:#1f77b4;\" x=\"74.535158\" xlink:href=\"#m7c4ea94773\" y=\"52.806065\"/>\n     <use style=\"fill:#1f77b4;stroke:#1f77b4;\" x=\"82.591649\" xlink:href=\"#m7c4ea94773\" y=\"67.046326\"/>\n     <use style=\"fill:#1f77b4;stroke:#1f77b4;\" x=\"128.965589\" xlink:href=\"#m7c4ea94773\" y=\"86.888706\"/>\n     <use style=\"fill:#1f77b4;stroke:#1f77b4;\" x=\"74.244881\" xlink:href=\"#m7c4ea94773\" y=\"61.252434\"/>\n     <use style=\"fill:#1f77b4;stroke:#1f77b4;\" x=\"124.961103\" xlink:href=\"#m7c4ea94773\" y=\"103.402657\"/>\n     <use style=\"fill:#1f77b4;stroke:#1f77b4;\" x=\"126.784126\" xlink:href=\"#m7c4ea94773\" y=\"77.958858\"/>\n     <use style=\"fill:#1f77b4;stroke:#1f77b4;\" x=\"135.409427\" xlink:href=\"#m7c4ea94773\" y=\"93.751705\"/>\n     <use style=\"fill:#1f77b4;stroke:#1f77b4;\" x=\"140.142215\" xlink:href=\"#m7c4ea94773\" y=\"98.339547\"/>\n     <use style=\"fill:#1f77b4;stroke:#1f77b4;\" x=\"63.787663\" xlink:href=\"#m7c4ea94773\" y=\"36.054145\"/>\n     <use style=\"fill:#1f77b4;stroke:#1f77b4;\" x=\"108.690749\" xlink:href=\"#m7c4ea94773\" y=\"84.91543\"/>\n     <use style=\"fill:#1f77b4;stroke:#1f77b4;\" x=\"140.811468\" xlink:href=\"#m7c4ea94773\" y=\"92.58244\"/>\n     <use style=\"fill:#1f77b4;stroke:#1f77b4;\" x=\"121.057098\" xlink:href=\"#m7c4ea94773\" y=\"74.580075\"/>\n     <use style=\"fill:#1f77b4;stroke:#1f77b4;\" x=\"77.5748\" xlink:href=\"#m7c4ea94773\" y=\"61.102306\"/>\n     <use style=\"fill:#1f77b4;stroke:#1f77b4;\" x=\"101.86951\" xlink:href=\"#m7c4ea94773\" y=\"70.213806\"/>\n     <use style=\"fill:#1f77b4;stroke:#1f77b4;\" x=\"97.417914\" xlink:href=\"#m7c4ea94773\" y=\"64.038073\"/>\n     <use style=\"fill:#1f77b4;stroke:#1f77b4;\" x=\"153.393965\" xlink:href=\"#m7c4ea94773\" y=\"92.401802\"/>\n     <use style=\"fill:#1f77b4;stroke:#1f77b4;\" x=\"174.241499\" xlink:href=\"#m7c4ea94773\" y=\"133.644731\"/>\n     <use style=\"fill:#1f77b4;stroke:#1f77b4;\" x=\"150.660626\" xlink:href=\"#m7c4ea94773\" y=\"103.337973\"/>\n     <use style=\"fill:#1f77b4;stroke:#1f77b4;\" x=\"109.765147\" xlink:href=\"#m7c4ea94773\" y=\"80.647931\"/>\n     <use style=\"fill:#1f77b4;stroke:#1f77b4;\" x=\"115.116909\" xlink:href=\"#m7c4ea94773\" y=\"67.052\"/>\n     <use style=\"fill:#1f77b4;stroke:#1f77b4;\" x=\"105.40364\" xlink:href=\"#m7c4ea94773\" y=\"85.193799\"/>\n     <use style=\"fill:#1f77b4;stroke:#1f77b4;\" x=\"132.624184\" xlink:href=\"#m7c4ea94773\" y=\"87.617308\"/>\n     <use style=\"fill:#1f77b4;stroke:#1f77b4;\" x=\"165.22154\" xlink:href=\"#m7c4ea94773\" y=\"90.12555\"/>\n     <use style=\"fill:#1f77b4;stroke:#1f77b4;\" x=\"164.445417\" xlink:href=\"#m7c4ea94773\" y=\"109.024882\"/>\n     <use style=\"fill:#1f77b4;stroke:#1f77b4;\" x=\"91.6411\" xlink:href=\"#m7c4ea94773\" y=\"84.999591\"/>\n     <use style=\"fill:#1f77b4;stroke:#1f77b4;\" x=\"74.518509\" xlink:href=\"#m7c4ea94773\" y=\"47.945554\"/>\n     <use style=\"fill:#1f77b4;stroke:#1f77b4;\" x=\"163.761343\" xlink:href=\"#m7c4ea94773\" y=\"106.610989\"/>\n     <use style=\"fill:#1f77b4;stroke:#1f77b4;\" x=\"160.354114\" xlink:href=\"#m7c4ea94773\" y=\"101.147806\"/>\n     <use style=\"fill:#1f77b4;stroke:#1f77b4;\" x=\"128.764831\" xlink:href=\"#m7c4ea94773\" y=\"62.878663\"/>\n     <use style=\"fill:#1f77b4;stroke:#1f77b4;\" x=\"109.244815\" xlink:href=\"#m7c4ea94773\" y=\"72.429677\"/>\n     <use style=\"fill:#1f77b4;stroke:#1f77b4;\" x=\"158.222271\" xlink:href=\"#m7c4ea94773\" y=\"108.245415\"/>\n     <use style=\"fill:#1f77b4;stroke:#1f77b4;\" x=\"54.742819\" xlink:href=\"#m7c4ea94773\" y=\"36.290791\"/>\n     <use style=\"fill:#1f77b4;stroke:#1f77b4;\" x=\"147.876132\" xlink:href=\"#m7c4ea94773\" y=\"86.173845\"/>\n     <use style=\"fill:#1f77b4;stroke:#1f77b4;\" x=\"122.539721\" xlink:href=\"#m7c4ea94773\" y=\"98.81309\"/>\n     <use style=\"fill:#1f77b4;stroke:#1f77b4;\" x=\"133.534593\" xlink:href=\"#m7c4ea94773\" y=\"79.487657\"/>\n     <use style=\"fill:#1f77b4;stroke:#1f77b4;\" x=\"156.432126\" xlink:href=\"#m7c4ea94773\" y=\"97.636516\"/>\n     <use style=\"fill:#1f77b4;stroke:#1f77b4;\" x=\"110.300333\" xlink:href=\"#m7c4ea94773\" y=\"73.26884\"/>\n     <use style=\"fill:#1f77b4;stroke:#1f77b4;\" x=\"117.505093\" xlink:href=\"#m7c4ea94773\" y=\"97.592564\"/>\n     <use style=\"fill:#1f77b4;stroke:#1f77b4;\" x=\"94.864611\" xlink:href=\"#m7c4ea94773\" y=\"39.672451\"/>\n     <use style=\"fill:#1f77b4;stroke:#1f77b4;\" x=\"143.824905\" xlink:href=\"#m7c4ea94773\" y=\"92.072045\"/>\n     <use style=\"fill:#1f77b4;stroke:#1f77b4;\" x=\"84.719771\" xlink:href=\"#m7c4ea94773\" y=\"52.102319\"/>\n     <use style=\"fill:#1f77b4;stroke:#1f77b4;\" x=\"96.920982\" xlink:href=\"#m7c4ea94773\" y=\"76.514983\"/>\n     <use style=\"fill:#1f77b4;stroke:#1f77b4;\" x=\"56.638607\" xlink:href=\"#m7c4ea94773\" y=\"58.984527\"/>\n     <use style=\"fill:#1f77b4;stroke:#1f77b4;\" x=\"80.32462\" xlink:href=\"#m7c4ea94773\" y=\"45.352561\"/>\n     <use style=\"fill:#1f77b4;stroke:#1f77b4;\" x=\"155.442735\" xlink:href=\"#m7c4ea94773\" y=\"85.29851\"/>\n     <use style=\"fill:#1f77b4;stroke:#1f77b4;\" x=\"184.570673\" xlink:href=\"#m7c4ea94773\" y=\"118.333831\"/>\n     <use style=\"fill:#1f77b4;stroke:#1f77b4;\" x=\"143.384886\" xlink:href=\"#m7c4ea94773\" y=\"104.080116\"/>\n     <use style=\"fill:#1f77b4;stroke:#1f77b4;\" x=\"92.942459\" xlink:href=\"#m7c4ea94773\" y=\"64.963537\"/>\n     <use style=\"fill:#1f77b4;stroke:#1f77b4;\" x=\"136.843739\" xlink:href=\"#m7c4ea94773\" y=\"87.139144\"/>\n     <use style=\"fill:#1f77b4;stroke:#1f77b4;\" x=\"117.584678\" xlink:href=\"#m7c4ea94773\" y=\"90.859993\"/>\n     <use style=\"fill:#1f77b4;stroke:#1f77b4;\" x=\"188.290847\" xlink:href=\"#m7c4ea94773\" y=\"116.378518\"/>\n     <use style=\"fill:#1f77b4;stroke:#1f77b4;\" x=\"191.156727\" xlink:href=\"#m7c4ea94773\" y=\"125.240116\"/>\n     <use style=\"fill:#1f77b4;stroke:#1f77b4;\" x=\"146.267757\" xlink:href=\"#m7c4ea94773\" y=\"94.689155\"/>\n     <use style=\"fill:#1f77b4;stroke:#1f77b4;\" x=\"107.286267\" xlink:href=\"#m7c4ea94773\" y=\"73.284754\"/>\n     <use style=\"fill:#1f77b4;stroke:#1f77b4;\" x=\"111.920097\" xlink:href=\"#m7c4ea94773\" y=\"61.278708\"/>\n     <use style=\"fill:#1f77b4;stroke:#1f77b4;\" x=\"82.047754\" xlink:href=\"#m7c4ea94773\" y=\"46.085166\"/>\n     <use style=\"fill:#1f77b4;stroke:#1f77b4;\" x=\"94.312294\" xlink:href=\"#m7c4ea94773\" y=\"56.625298\"/>\n     <use style=\"fill:#1f77b4;stroke:#1f77b4;\" x=\"133.368726\" xlink:href=\"#m7c4ea94773\" y=\"84.72598\"/>\n     <use style=\"fill:#1f77b4;stroke:#1f77b4;\" x=\"67.509665\" xlink:href=\"#m7c4ea94773\" y=\"64.151888\"/>\n     <use style=\"fill:#1f77b4;stroke:#1f77b4;\" x=\"137.892586\" xlink:href=\"#m7c4ea94773\" y=\"105.052536\"/>\n     <use style=\"fill:#1f77b4;stroke:#1f77b4;\" x=\"135.966101\" xlink:href=\"#m7c4ea94773\" y=\"101.282076\"/>\n     <use style=\"fill:#1f77b4;stroke:#1f77b4;\" x=\"142.997138\" xlink:href=\"#m7c4ea94773\" y=\"69.951313\"/>\n     <use style=\"fill:#1f77b4;stroke:#1f77b4;\" x=\"136.30128\" xlink:href=\"#m7c4ea94773\" y=\"97.679628\"/>\n     <use style=\"fill:#1f77b4;stroke:#1f77b4;\" x=\"75.244659\" xlink:href=\"#m7c4ea94773\" y=\"60.446404\"/>\n     <use style=\"fill:#1f77b4;stroke:#1f77b4;\" x=\"54.240278\" xlink:href=\"#m7c4ea94773\" y=\"59.954265\"/>\n     <use style=\"fill:#1f77b4;stroke:#1f77b4;\" x=\"134.928836\" xlink:href=\"#m7c4ea94773\" y=\"77.214582\"/>\n     <use style=\"fill:#1f77b4;stroke:#1f77b4;\" x=\"135.894321\" xlink:href=\"#m7c4ea94773\" y=\"72.297516\"/>\n     <use style=\"fill:#1f77b4;stroke:#1f77b4;\" x=\"132.001282\" xlink:href=\"#m7c4ea94773\" y=\"83.124099\"/>\n     <use style=\"fill:#1f77b4;stroke:#1f77b4;\" x=\"85.269263\" xlink:href=\"#m7c4ea94773\" y=\"59.207672\"/>\n     <use style=\"fill:#1f77b4;stroke:#1f77b4;\" x=\"118.704133\" xlink:href=\"#m7c4ea94773\" y=\"75.883777\"/>\n     <use style=\"fill:#1f77b4;stroke:#1f77b4;\" x=\"160.315255\" xlink:href=\"#m7c4ea94773\" y=\"127.295819\"/>\n     <use style=\"fill:#1f77b4;stroke:#1f77b4;\" x=\"135.400069\" xlink:href=\"#m7c4ea94773\" y=\"67.54504\"/>\n     <use style=\"fill:#1f77b4;stroke:#1f77b4;\" x=\"150.868356\" xlink:href=\"#m7c4ea94773\" y=\"108.591053\"/>\n     <use style=\"fill:#1f77b4;stroke:#1f77b4;\" x=\"125.007737\" xlink:href=\"#m7c4ea94773\" y=\"71.994066\"/>\n     <use style=\"fill:#1f77b4;stroke:#1f77b4;\" x=\"107.798974\" xlink:href=\"#m7c4ea94773\" y=\"78.170467\"/>\n     <use style=\"fill:#1f77b4;stroke:#1f77b4;\" x=\"101.560829\" xlink:href=\"#m7c4ea94773\" y=\"69.385719\"/>\n     <use style=\"fill:#1f77b4;stroke:#1f77b4;\" x=\"96.179074\" xlink:href=\"#m7c4ea94773\" y=\"69.666624\"/>\n     <use style=\"fill:#1f77b4;stroke:#1f77b4;\" x=\"170.212763\" xlink:href=\"#m7c4ea94773\" y=\"102.542483\"/>\n     <use style=\"fill:#1f77b4;stroke:#1f77b4;\" x=\"118.991137\" xlink:href=\"#m7c4ea94773\" y=\"54.252054\"/>\n     <use style=\"fill:#1f77b4;stroke:#1f77b4;\" x=\"132.150726\" xlink:href=\"#m7c4ea94773\" y=\"97.241099\"/>\n     <use style=\"fill:#1f77b4;stroke:#1f77b4;\" x=\"98.766604\" xlink:href=\"#m7c4ea94773\" y=\"74.463829\"/>\n     <use style=\"fill:#1f77b4;stroke:#1f77b4;\" x=\"114.395445\" xlink:href=\"#m7c4ea94773\" y=\"74.295391\"/>\n     <use style=\"fill:#1f77b4;stroke:#1f77b4;\" x=\"102.768548\" xlink:href=\"#m7c4ea94773\" y=\"55.585909\"/>\n     <use style=\"fill:#1f77b4;stroke:#1f77b4;\" x=\"111.462509\" xlink:href=\"#m7c4ea94773\" y=\"84.317932\"/>\n     <use style=\"fill:#1f77b4;stroke:#1f77b4;\" x=\"77.706423\" xlink:href=\"#m7c4ea94773\" y=\"63.97857\"/>\n     <use style=\"fill:#1f77b4;stroke:#1f77b4;\" x=\"209.583302\" xlink:href=\"#m7c4ea94773\" y=\"126.440302\"/>\n     <use style=\"fill:#1f77b4;stroke:#1f77b4;\" x=\"104.23579\" xlink:href=\"#m7c4ea94773\" y=\"68.373383\"/>\n     <use style=\"fill:#1f77b4;stroke:#1f77b4;\" x=\"126.957457\" xlink:href=\"#m7c4ea94773\" y=\"110.0828\"/>\n     <use style=\"fill:#1f77b4;stroke:#1f77b4;\" x=\"98.958198\" xlink:href=\"#m7c4ea94773\" y=\"78.490773\"/>\n     <use style=\"fill:#1f77b4;stroke:#1f77b4;\" x=\"118.400773\" xlink:href=\"#m7c4ea94773\" y=\"79.114871\"/>\n     <use style=\"fill:#1f77b4;stroke:#1f77b4;\" x=\"94.368788\" xlink:href=\"#m7c4ea94773\" y=\"50.259483\"/>\n     <use style=\"fill:#1f77b4;stroke:#1f77b4;\" x=\"127.860341\" xlink:href=\"#m7c4ea94773\" y=\"93.994962\"/>\n     <use style=\"fill:#1f77b4;stroke:#1f77b4;\" x=\"116.912164\" xlink:href=\"#m7c4ea94773\" y=\"75.453344\"/>\n     <use style=\"fill:#1f77b4;stroke:#1f77b4;\" x=\"144.030079\" xlink:href=\"#m7c4ea94773\" y=\"84.785171\"/>\n     <use style=\"fill:#1f77b4;stroke:#1f77b4;\" x=\"188.346784\" xlink:href=\"#m7c4ea94773\" y=\"113.702396\"/>\n     <use style=\"fill:#1f77b4;stroke:#1f77b4;\" x=\"151.72388\" xlink:href=\"#m7c4ea94773\" y=\"91.68278\"/>\n     <use style=\"fill:#1f77b4;stroke:#1f77b4;\" x=\"122.506247\" xlink:href=\"#m7c4ea94773\" y=\"74.574186\"/>\n     <use style=\"fill:#1f77b4;stroke:#1f77b4;\" x=\"128.042499\" xlink:href=\"#m7c4ea94773\" y=\"74.939681\"/>\n     <use style=\"fill:#1f77b4;stroke:#1f77b4;\" x=\"106.97321\" xlink:href=\"#m7c4ea94773\" y=\"78.79309\"/>\n     <use style=\"fill:#1f77b4;stroke:#1f77b4;\" x=\"126.726921\" xlink:href=\"#m7c4ea94773\" y=\"74.662827\"/>\n     <use style=\"fill:#1f77b4;stroke:#1f77b4;\" x=\"161.112385\" xlink:href=\"#m7c4ea94773\" y=\"88.503159\"/>\n     <use style=\"fill:#1f77b4;stroke:#1f77b4;\" x=\"103.271949\" xlink:href=\"#m7c4ea94773\" y=\"61.151121\"/>\n     <use style=\"fill:#1f77b4;stroke:#1f77b4;\" x=\"108.707751\" xlink:href=\"#m7c4ea94773\" y=\"71.461554\"/>\n     <use style=\"fill:#1f77b4;stroke:#1f77b4;\" x=\"162.68518\" xlink:href=\"#m7c4ea94773\" y=\"101.313504\"/>\n     <use style=\"fill:#1f77b4;stroke:#1f77b4;\" x=\"185.482799\" xlink:href=\"#m7c4ea94773\" y=\"118.359363\"/>\n     <use style=\"fill:#1f77b4;stroke:#1f77b4;\" x=\"125.868491\" xlink:href=\"#m7c4ea94773\" y=\"74.818343\"/>\n     <use style=\"fill:#1f77b4;stroke:#1f77b4;\" x=\"199.161067\" xlink:href=\"#m7c4ea94773\" y=\"134.09078\"/>\n     <use style=\"fill:#1f77b4;stroke:#1f77b4;\" x=\"172.659852\" xlink:href=\"#m7c4ea94773\" y=\"121.881218\"/>\n     <use style=\"fill:#1f77b4;stroke:#1f77b4;\" x=\"83.664918\" xlink:href=\"#m7c4ea94773\" y=\"63.558165\"/>\n     <use style=\"fill:#1f77b4;stroke:#1f77b4;\" x=\"129.637425\" xlink:href=\"#m7c4ea94773\" y=\"75.822275\"/>\n     <use style=\"fill:#1f77b4;stroke:#1f77b4;\" x=\"99.949942\" xlink:href=\"#m7c4ea94773\" y=\"87.105773\"/>\n     <use style=\"fill:#1f77b4;stroke:#1f77b4;\" x=\"141.143547\" xlink:href=\"#m7c4ea94773\" y=\"98.03618\"/>\n     <use style=\"fill:#1f77b4;stroke:#1f77b4;\" x=\"100.485597\" xlink:href=\"#m7c4ea94773\" y=\"67.232657\"/>\n     <use style=\"fill:#1f77b4;stroke:#1f77b4;\" x=\"151.105031\" xlink:href=\"#m7c4ea94773\" y=\"95.116445\"/>\n     <use style=\"fill:#1f77b4;stroke:#1f77b4;\" x=\"89.870492\" xlink:href=\"#m7c4ea94773\" y=\"69.226077\"/>\n     <use style=\"fill:#1f77b4;stroke:#1f77b4;\" x=\"151.714471\" xlink:href=\"#m7c4ea94773\" y=\"100.669321\"/>\n     <use style=\"fill:#1f77b4;stroke:#1f77b4;\" x=\"123.471659\" xlink:href=\"#m7c4ea94773\" y=\"78.8066\"/>\n     <use style=\"fill:#1f77b4;stroke:#1f77b4;\" x=\"157.822685\" xlink:href=\"#m7c4ea94773\" y=\"110.12124\"/>\n     <use style=\"fill:#1f77b4;stroke:#1f77b4;\" x=\"108.031681\" xlink:href=\"#m7c4ea94773\" y=\"72.142762\"/>\n     <use style=\"fill:#1f77b4;stroke:#1f77b4;\" x=\"138.895499\" xlink:href=\"#m7c4ea94773\" y=\"83.392098\"/>\n     <use style=\"fill:#1f77b4;stroke:#1f77b4;\" x=\"78.669503\" xlink:href=\"#m7c4ea94773\" y=\"62.084042\"/>\n     <use style=\"fill:#1f77b4;stroke:#1f77b4;\" x=\"80.794351\" xlink:href=\"#m7c4ea94773\" y=\"57.063057\"/>\n     <use style=\"fill:#1f77b4;stroke:#1f77b4;\" x=\"156.062226\" xlink:href=\"#m7c4ea94773\" y=\"96.002538\"/>\n     <use style=\"fill:#1f77b4;stroke:#1f77b4;\" x=\"130.028693\" xlink:href=\"#m7c4ea94773\" y=\"88.569637\"/>\n     <use style=\"fill:#1f77b4;stroke:#1f77b4;\" x=\"95.222262\" xlink:href=\"#m7c4ea94773\" y=\"46.296449\"/>\n     <use style=\"fill:#1f77b4;stroke:#1f77b4;\" x=\"158.078641\" xlink:href=\"#m7c4ea94773\" y=\"94.972643\"/>\n     <use style=\"fill:#1f77b4;stroke:#1f77b4;\" x=\"135.240036\" xlink:href=\"#m7c4ea94773\" y=\"78.760024\"/>\n     <use style=\"fill:#1f77b4;stroke:#1f77b4;\" x=\"120.320827\" xlink:href=\"#m7c4ea94773\" y=\"76.517943\"/>\n     <use style=\"fill:#1f77b4;stroke:#1f77b4;\" x=\"151.143059\" xlink:href=\"#m7c4ea94773\" y=\"102.139459\"/>\n     <use style=\"fill:#1f77b4;stroke:#1f77b4;\" x=\"97.679605\" xlink:href=\"#m7c4ea94773\" y=\"71.036763\"/>\n     <use style=\"fill:#1f77b4;stroke:#1f77b4;\" x=\"86.338748\" xlink:href=\"#m7c4ea94773\" y=\"75.824724\"/>\n     <use style=\"fill:#1f77b4;stroke:#1f77b4;\" x=\"118.035552\" xlink:href=\"#m7c4ea94773\" y=\"75.509396\"/>\n     <use style=\"fill:#1f77b4;stroke:#1f77b4;\" x=\"131.121144\" xlink:href=\"#m7c4ea94773\" y=\"81.316165\"/>\n     <use style=\"fill:#1f77b4;stroke:#1f77b4;\" x=\"142.792706\" xlink:href=\"#m7c4ea94773\" y=\"86.288715\"/>\n     <use style=\"fill:#1f77b4;stroke:#1f77b4;\" x=\"149.735602\" xlink:href=\"#m7c4ea94773\" y=\"87.423144\"/>\n     <use style=\"fill:#1f77b4;stroke:#1f77b4;\" x=\"100.482915\" xlink:href=\"#m7c4ea94773\" y=\"58.500693\"/>\n     <use style=\"fill:#1f77b4;stroke:#1f77b4;\" x=\"127.502638\" xlink:href=\"#m7c4ea94773\" y=\"80.120428\"/>\n     <use style=\"fill:#1f77b4;stroke:#1f77b4;\" x=\"46.375184\" xlink:href=\"#m7c4ea94773\" y=\"50.165304\"/>\n     <use style=\"fill:#1f77b4;stroke:#1f77b4;\" x=\"151.49811\" xlink:href=\"#m7c4ea94773\" y=\"98.016402\"/>\n     <use style=\"fill:#1f77b4;stroke:#1f77b4;\" x=\"123.504913\" xlink:href=\"#m7c4ea94773\" y=\"73.44487\"/>\n     <use style=\"fill:#1f77b4;stroke:#1f77b4;\" x=\"141.747712\" xlink:href=\"#m7c4ea94773\" y=\"83.976237\"/>\n     <use style=\"fill:#1f77b4;stroke:#1f77b4;\" x=\"100.265624\" xlink:href=\"#m7c4ea94773\" y=\"70.046446\"/>\n     <use style=\"fill:#1f77b4;stroke:#1f77b4;\" x=\"101.938441\" xlink:href=\"#m7c4ea94773\" y=\"47.392675\"/>\n     <use style=\"fill:#1f77b4;stroke:#1f77b4;\" x=\"140.230925\" xlink:href=\"#m7c4ea94773\" y=\"87.018129\"/>\n     <use style=\"fill:#1f77b4;stroke:#1f77b4;\" x=\"113.323459\" xlink:href=\"#m7c4ea94773\" y=\"75.381933\"/>\n     <use style=\"fill:#1f77b4;stroke:#1f77b4;\" x=\"103.467104\" xlink:href=\"#m7c4ea94773\" y=\"63.929591\"/>\n     <use style=\"fill:#1f77b4;stroke:#1f77b4;\" x=\"145.443104\" xlink:href=\"#m7c4ea94773\" y=\"81.786717\"/>\n     <use style=\"fill:#1f77b4;stroke:#1f77b4;\" x=\"159.27009\" xlink:href=\"#m7c4ea94773\" y=\"95.652708\"/>\n     <use style=\"fill:#1f77b4;stroke:#1f77b4;\" x=\"97.716078\" xlink:href=\"#m7c4ea94773\" y=\"48.778602\"/>\n     <use style=\"fill:#1f77b4;stroke:#1f77b4;\" x=\"182.825409\" xlink:href=\"#m7c4ea94773\" y=\"108.781519\"/>\n     <use style=\"fill:#1f77b4;stroke:#1f77b4;\" x=\"140.599717\" xlink:href=\"#m7c4ea94773\" y=\"84.360313\"/>\n     <use style=\"fill:#1f77b4;stroke:#1f77b4;\" x=\"102.358699\" xlink:href=\"#m7c4ea94773\" y=\"91.74795\"/>\n     <use style=\"fill:#1f77b4;stroke:#1f77b4;\" x=\"122.904048\" xlink:href=\"#m7c4ea94773\" y=\"81.116292\"/>\n     <use style=\"fill:#1f77b4;stroke:#1f77b4;\" x=\"135.213901\" xlink:href=\"#m7c4ea94773\" y=\"90.765735\"/>\n     <use style=\"fill:#1f77b4;stroke:#1f77b4;\" x=\"96.455743\" xlink:href=\"#m7c4ea94773\" y=\"66.310093\"/>\n     <use style=\"fill:#1f77b4;stroke:#1f77b4;\" x=\"117.880042\" xlink:href=\"#m7c4ea94773\" y=\"76.935507\"/>\n     <use style=\"fill:#1f77b4;stroke:#1f77b4;\" x=\"124.703137\" xlink:href=\"#m7c4ea94773\" y=\"71.791299\"/>\n     <use style=\"fill:#1f77b4;stroke:#1f77b4;\" x=\"127.291252\" xlink:href=\"#m7c4ea94773\" y=\"72.63486\"/>\n     <use style=\"fill:#1f77b4;stroke:#1f77b4;\" x=\"98.679255\" xlink:href=\"#m7c4ea94773\" y=\"50.195211\"/>\n     <use style=\"fill:#1f77b4;stroke:#1f77b4;\" x=\"97.159058\" xlink:href=\"#m7c4ea94773\" y=\"73.449448\"/>\n     <use style=\"fill:#1f77b4;stroke:#1f77b4;\" x=\"96.792468\" xlink:href=\"#m7c4ea94773\" y=\"65.598179\"/>\n     <use style=\"fill:#1f77b4;stroke:#1f77b4;\" x=\"80.250459\" xlink:href=\"#m7c4ea94773\" y=\"47.699963\"/>\n     <use style=\"fill:#1f77b4;stroke:#1f77b4;\" x=\"133.873744\" xlink:href=\"#m7c4ea94773\" y=\"79.019786\"/>\n     <use style=\"fill:#1f77b4;stroke:#1f77b4;\" x=\"108.151914\" xlink:href=\"#m7c4ea94773\" y=\"67.922443\"/>\n     <use style=\"fill:#1f77b4;stroke:#1f77b4;\" x=\"130.501944\" xlink:href=\"#m7c4ea94773\" y=\"62.534979\"/>\n     <use style=\"fill:#1f77b4;stroke:#1f77b4;\" x=\"117.763116\" xlink:href=\"#m7c4ea94773\" y=\"79.418178\"/>\n     <use style=\"fill:#1f77b4;stroke:#1f77b4;\" x=\"87.867978\" xlink:href=\"#m7c4ea94773\" y=\"59.711107\"/>\n     <use style=\"fill:#1f77b4;stroke:#1f77b4;\" x=\"95.060647\" xlink:href=\"#m7c4ea94773\" y=\"59.23705\"/>\n     <use style=\"fill:#1f77b4;stroke:#1f77b4;\" x=\"92.167976\" xlink:href=\"#m7c4ea94773\" y=\"54.178964\"/>\n     <use style=\"fill:#1f77b4;stroke:#1f77b4;\" x=\"131.175086\" xlink:href=\"#m7c4ea94773\" y=\"75.664303\"/>\n     <use style=\"fill:#1f77b4;stroke:#1f77b4;\" x=\"67.280045\" xlink:href=\"#m7c4ea94773\" y=\"78.335688\"/>\n     <use style=\"fill:#1f77b4;stroke:#1f77b4;\" x=\"110.342934\" xlink:href=\"#m7c4ea94773\" y=\"80.27938\"/>\n     <use style=\"fill:#1f77b4;stroke:#1f77b4;\" x=\"121.078552\" xlink:href=\"#m7c4ea94773\" y=\"81.203141\"/>\n     <use style=\"fill:#1f77b4;stroke:#1f77b4;\" x=\"172.251725\" xlink:href=\"#m7c4ea94773\" y=\"120.141945\"/>\n     <use style=\"fill:#1f77b4;stroke:#1f77b4;\" x=\"165.726739\" xlink:href=\"#m7c4ea94773\" y=\"101.259021\"/>\n     <use style=\"fill:#1f77b4;stroke:#1f77b4;\" x=\"90.843901\" xlink:href=\"#m7c4ea94773\" y=\"63.224651\"/>\n     <use style=\"fill:#1f77b4;stroke:#1f77b4;\" x=\"116.382696\" xlink:href=\"#m7c4ea94773\" y=\"68.991161\"/>\n     <use style=\"fill:#1f77b4;stroke:#1f77b4;\" x=\"89.34446\" xlink:href=\"#m7c4ea94773\" y=\"55.685162\"/>\n     <use style=\"fill:#1f77b4;stroke:#1f77b4;\" x=\"121.815179\" xlink:href=\"#m7c4ea94773\" y=\"71.757928\"/>\n     <use style=\"fill:#1f77b4;stroke:#1f77b4;\" x=\"105.145336\" xlink:href=\"#m7c4ea94773\" y=\"60.629206\"/>\n     <use style=\"fill:#1f77b4;stroke:#1f77b4;\" x=\"132.639628\" xlink:href=\"#m7c4ea94773\" y=\"86.418134\"/>\n     <use style=\"fill:#1f77b4;stroke:#1f77b4;\" x=\"174.549873\" xlink:href=\"#m7c4ea94773\" y=\"99.373805\"/>\n     <use style=\"fill:#1f77b4;stroke:#1f77b4;\" x=\"70.015775\" xlink:href=\"#m7c4ea94773\" y=\"49.293034\"/>\n     <use style=\"fill:#1f77b4;stroke:#1f77b4;\" x=\"83.518101\" xlink:href=\"#m7c4ea94773\" y=\"62.722514\"/>\n     <use style=\"fill:#1f77b4;stroke:#1f77b4;\" x=\"153.042974\" xlink:href=\"#m7c4ea94773\" y=\"103.012357\"/>\n     <use style=\"fill:#1f77b4;stroke:#1f77b4;\" x=\"156.873453\" xlink:href=\"#m7c4ea94773\" y=\"97.9891\"/>\n     <use style=\"fill:#1f77b4;stroke:#1f77b4;\" x=\"160.193286\" xlink:href=\"#m7c4ea94773\" y=\"108.031759\"/>\n     <use style=\"fill:#1f77b4;stroke:#1f77b4;\" x=\"150.731421\" xlink:href=\"#m7c4ea94773\" y=\"104.292512\"/>\n     <use style=\"fill:#1f77b4;stroke:#1f77b4;\" x=\"173.081766\" xlink:href=\"#m7c4ea94773\" y=\"79.162567\"/>\n     <use style=\"fill:#1f77b4;stroke:#1f77b4;\" x=\"132.069314\" xlink:href=\"#m7c4ea94773\" y=\"92.206499\"/>\n     <use style=\"fill:#1f77b4;stroke:#1f77b4;\" x=\"88.469785\" xlink:href=\"#m7c4ea94773\" y=\"50.327756\"/>\n     <use style=\"fill:#1f77b4;stroke:#1f77b4;\" x=\"181.835236\" xlink:href=\"#m7c4ea94773\" y=\"111.493396\"/>\n     <use style=\"fill:#1f77b4;stroke:#1f77b4;\" x=\"127.967967\" xlink:href=\"#m7c4ea94773\" y=\"81.592874\"/>\n     <use style=\"fill:#1f77b4;stroke:#1f77b4;\" x=\"78.026577\" xlink:href=\"#m7c4ea94773\" y=\"39.280359\"/>\n     <use style=\"fill:#1f77b4;stroke:#1f77b4;\" x=\"120.347043\" xlink:href=\"#m7c4ea94773\" y=\"62.437936\"/>\n     <use style=\"fill:#1f77b4;stroke:#1f77b4;\" x=\"138.922326\" xlink:href=\"#m7c4ea94773\" y=\"82.938025\"/>\n     <use style=\"fill:#1f77b4;stroke:#1f77b4;\" x=\"86.524275\" xlink:href=\"#m7c4ea94773\" y=\"58.644712\"/>\n     <use style=\"fill:#1f77b4;stroke:#1f77b4;\" x=\"142.573174\" xlink:href=\"#m7c4ea94773\" y=\"80.319382\"/>\n     <use style=\"fill:#1f77b4;stroke:#1f77b4;\" x=\"96.753943\" xlink:href=\"#m7c4ea94773\" y=\"54.386062\"/>\n     <use style=\"fill:#1f77b4;stroke:#1f77b4;\" x=\"107.078015\" xlink:href=\"#m7c4ea94773\" y=\"68.470423\"/>\n     <use style=\"fill:#1f77b4;stroke:#1f77b4;\" x=\"100.395038\" xlink:href=\"#m7c4ea94773\" y=\"52.305562\"/>\n     <use style=\"fill:#1f77b4;stroke:#1f77b4;\" x=\"190.711058\" xlink:href=\"#m7c4ea94773\" y=\"113.51848\"/>\n     <use style=\"fill:#1f77b4;stroke:#1f77b4;\" x=\"51.488872\" xlink:href=\"#m7c4ea94773\" y=\"32.907361\"/>\n     <use style=\"fill:#1f77b4;stroke:#1f77b4;\" x=\"91.242733\" xlink:href=\"#m7c4ea94773\" y=\"65.665124\"/>\n     <use style=\"fill:#1f77b4;stroke:#1f77b4;\" x=\"115.653135\" xlink:href=\"#m7c4ea94773\" y=\"74.817543\"/>\n     <use style=\"fill:#1f77b4;stroke:#1f77b4;\" x=\"123.120547\" xlink:href=\"#m7c4ea94773\" y=\"62.989993\"/>\n     <use style=\"fill:#1f77b4;stroke:#1f77b4;\" x=\"146.54042\" xlink:href=\"#m7c4ea94773\" y=\"87.265317\"/>\n     <use style=\"fill:#1f77b4;stroke:#1f77b4;\" x=\"99.029988\" xlink:href=\"#m7c4ea94773\" y=\"41.948184\"/>\n     <use style=\"fill:#1f77b4;stroke:#1f77b4;\" x=\"71.959439\" xlink:href=\"#m7c4ea94773\" y=\"52.636185\"/>\n     <use style=\"fill:#1f77b4;stroke:#1f77b4;\" x=\"106.639742\" xlink:href=\"#m7c4ea94773\" y=\"66.627201\"/>\n     <use style=\"fill:#1f77b4;stroke:#1f77b4;\" x=\"74.741802\" xlink:href=\"#m7c4ea94773\" y=\"36.1306\"/>\n     <use style=\"fill:#1f77b4;stroke:#1f77b4;\" x=\"161.921537\" xlink:href=\"#m7c4ea94773\" y=\"99.762974\"/>\n     <use style=\"fill:#1f77b4;stroke:#1f77b4;\" x=\"74.142065\" xlink:href=\"#m7c4ea94773\" y=\"57.287229\"/>\n     <use style=\"fill:#1f77b4;stroke:#1f77b4;\" x=\"168.595066\" xlink:href=\"#m7c4ea94773\" y=\"119.838094\"/>\n     <use style=\"fill:#1f77b4;stroke:#1f77b4;\" x=\"92.636502\" xlink:href=\"#m7c4ea94773\" y=\"58.642263\"/>\n     <use style=\"fill:#1f77b4;stroke:#1f77b4;\" x=\"116.505634\" xlink:href=\"#m7c4ea94773\" y=\"67.665233\"/>\n     <use style=\"fill:#1f77b4;stroke:#1f77b4;\" x=\"113.712957\" xlink:href=\"#m7c4ea94773\" y=\"50.143001\"/>\n     <use style=\"fill:#1f77b4;stroke:#1f77b4;\" x=\"149.39428\" xlink:href=\"#m7c4ea94773\" y=\"94.734106\"/>\n     <use style=\"fill:#1f77b4;stroke:#1f77b4;\" x=\"103.273843\" xlink:href=\"#m7c4ea94773\" y=\"77.543325\"/>\n     <use style=\"fill:#1f77b4;stroke:#1f77b4;\" x=\"124.467629\" xlink:href=\"#m7c4ea94773\" y=\"87.271923\"/>\n     <use style=\"fill:#1f77b4;stroke:#1f77b4;\" x=\"125.684748\" xlink:href=\"#m7c4ea94773\" y=\"104.202332\"/>\n     <use style=\"fill:#1f77b4;stroke:#1f77b4;\" x=\"95.006678\" xlink:href=\"#m7c4ea94773\" y=\"67.038286\"/>\n     <use style=\"fill:#1f77b4;stroke:#1f77b4;\" x=\"172.534759\" xlink:href=\"#m7c4ea94773\" y=\"109.193112\"/>\n     <use style=\"fill:#1f77b4;stroke:#1f77b4;\" x=\"122.970123\" xlink:href=\"#m7c4ea94773\" y=\"72.21889\"/>\n     <use style=\"fill:#1f77b4;stroke:#1f77b4;\" x=\"92.108655\" xlink:href=\"#m7c4ea94773\" y=\"62.60344\"/>\n     <use style=\"fill:#1f77b4;stroke:#1f77b4;\" x=\"133.007919\" xlink:href=\"#m7c4ea94773\" y=\"95.434349\"/>\n     <use style=\"fill:#1f77b4;stroke:#1f77b4;\" x=\"105.003086\" xlink:href=\"#m7c4ea94773\" y=\"59.679406\"/>\n     <use style=\"fill:#1f77b4;stroke:#1f77b4;\" x=\"119.986928\" xlink:href=\"#m7c4ea94773\" y=\"81.936253\"/>\n     <use style=\"fill:#1f77b4;stroke:#1f77b4;\" x=\"109.365902\" xlink:href=\"#m7c4ea94773\" y=\"74.257768\"/>\n     <use style=\"fill:#1f77b4;stroke:#1f77b4;\" x=\"143.812956\" xlink:href=\"#m7c4ea94773\" y=\"104.779305\"/>\n     <use style=\"fill:#1f77b4;stroke:#1f77b4;\" x=\"82.500651\" xlink:href=\"#m7c4ea94773\" y=\"45.197293\"/>\n     <use style=\"fill:#1f77b4;stroke:#1f77b4;\" x=\"111.066667\" xlink:href=\"#m7c4ea94773\" y=\"91.184905\"/>\n     <use style=\"fill:#1f77b4;stroke:#1f77b4;\" x=\"94.713148\" xlink:href=\"#m7c4ea94773\" y=\"59.045816\"/>\n     <use style=\"fill:#1f77b4;stroke:#1f77b4;\" x=\"127.940396\" xlink:href=\"#m7c4ea94773\" y=\"81.648697\"/>\n     <use style=\"fill:#1f77b4;stroke:#1f77b4;\" x=\"85.906485\" xlink:href=\"#m7c4ea94773\" y=\"41.327152\"/>\n     <use style=\"fill:#1f77b4;stroke:#1f77b4;\" x=\"154.255639\" xlink:href=\"#m7c4ea94773\" y=\"109.708828\"/>\n     <use style=\"fill:#1f77b4;stroke:#1f77b4;\" x=\"109.428709\" xlink:href=\"#m7c4ea94773\" y=\"68.721365\"/>\n     <use style=\"fill:#1f77b4;stroke:#1f77b4;\" x=\"156.052129\" xlink:href=\"#m7c4ea94773\" y=\"100.899734\"/>\n     <use style=\"fill:#1f77b4;stroke:#1f77b4;\" x=\"46.122043\" xlink:href=\"#m7c4ea94773\" y=\"30.566724\"/>\n     <use style=\"fill:#1f77b4;stroke:#1f77b4;\" x=\"154.954133\" xlink:href=\"#m7c4ea94773\" y=\"93.636663\"/>\n     <use style=\"fill:#1f77b4;stroke:#1f77b4;\" x=\"112.342203\" xlink:href=\"#m7c4ea94773\" y=\"88.243512\"/>\n     <use style=\"fill:#1f77b4;stroke:#1f77b4;\" x=\"84.755689\" xlink:href=\"#m7c4ea94773\" y=\"51.640988\"/>\n     <use style=\"fill:#1f77b4;stroke:#1f77b4;\" x=\"94.844941\" xlink:href=\"#m7c4ea94773\" y=\"58.946603\"/>\n     <use style=\"fill:#1f77b4;stroke:#1f77b4;\" x=\"127.204024\" xlink:href=\"#m7c4ea94773\" y=\"86.909313\"/>\n     <use style=\"fill:#1f77b4;stroke:#1f77b4;\" x=\"107.403559\" xlink:href=\"#m7c4ea94773\" y=\"70.080762\"/>\n     <use style=\"fill:#1f77b4;stroke:#1f77b4;\" x=\"161.420935\" xlink:href=\"#m7c4ea94773\" y=\"114.04469\"/>\n     <use style=\"fill:#1f77b4;stroke:#1f77b4;\" x=\"129.409689\" xlink:href=\"#m7c4ea94773\" y=\"94.683937\"/>\n     <use style=\"fill:#1f77b4;stroke:#1f77b4;\" x=\"164.200058\" xlink:href=\"#m7c4ea94773\" y=\"103.331296\"/>\n     <use style=\"fill:#1f77b4;stroke:#1f77b4;\" x=\"107.984934\" xlink:href=\"#m7c4ea94773\" y=\"77.23982\"/>\n     <use style=\"fill:#1f77b4;stroke:#1f77b4;\" x=\"94.478673\" xlink:href=\"#m7c4ea94773\" y=\"76.821798\"/>\n     <use style=\"fill:#1f77b4;stroke:#1f77b4;\" x=\"101.150571\" xlink:href=\"#m7c4ea94773\" y=\"82.22503\"/>\n     <use style=\"fill:#1f77b4;stroke:#1f77b4;\" x=\"94.662377\" xlink:href=\"#m7c4ea94773\" y=\"75.140602\"/>\n     <use style=\"fill:#1f77b4;stroke:#1f77b4;\" x=\"68.681355\" xlink:href=\"#m7c4ea94773\" y=\"56.70468\"/>\n     <use style=\"fill:#1f77b4;stroke:#1f77b4;\" x=\"137.820744\" xlink:href=\"#m7c4ea94773\" y=\"86.976804\"/>\n     <use style=\"fill:#1f77b4;stroke:#1f77b4;\" x=\"90.658092\" xlink:href=\"#m7c4ea94773\" y=\"58.776372\"/>\n     <use style=\"fill:#1f77b4;stroke:#1f77b4;\" x=\"108.353295\" xlink:href=\"#m7c4ea94773\" y=\"62.843668\"/>\n     <use style=\"fill:#1f77b4;stroke:#1f77b4;\" x=\"132.69999\" xlink:href=\"#m7c4ea94773\" y=\"97.201595\"/>\n     <use style=\"fill:#1f77b4;stroke:#1f77b4;\" x=\"97.32533\" xlink:href=\"#m7c4ea94773\" y=\"54.929946\"/>\n     <use style=\"fill:#1f77b4;stroke:#1f77b4;\" x=\"106.655626\" xlink:href=\"#m7c4ea94773\" y=\"60.895352\"/>\n     <use style=\"fill:#1f77b4;stroke:#1f77b4;\" x=\"119.320864\" xlink:href=\"#m7c4ea94773\" y=\"99.405249\"/>\n     <use style=\"fill:#1f77b4;stroke:#1f77b4;\" x=\"126.567807\" xlink:href=\"#m7c4ea94773\" y=\"99.064801\"/>\n     <use style=\"fill:#1f77b4;stroke:#1f77b4;\" x=\"147.061052\" xlink:href=\"#m7c4ea94773\" y=\"100.041498\"/>\n     <use style=\"fill:#1f77b4;stroke:#1f77b4;\" x=\"106.697032\" xlink:href=\"#m7c4ea94773\" y=\"70.944114\"/>\n     <use style=\"fill:#1f77b4;stroke:#1f77b4;\" x=\"126.00881\" xlink:href=\"#m7c4ea94773\" y=\"63.526766\"/>\n     <use style=\"fill:#1f77b4;stroke:#1f77b4;\" x=\"154.516855\" xlink:href=\"#m7c4ea94773\" y=\"97.212044\"/>\n     <use style=\"fill:#1f77b4;stroke:#1f77b4;\" x=\"137.501677\" xlink:href=\"#m7c4ea94773\" y=\"70.777518\"/>\n     <use style=\"fill:#1f77b4;stroke:#1f77b4;\" x=\"93.62994\" xlink:href=\"#m7c4ea94773\" y=\"75.66957\"/>\n     <use style=\"fill:#1f77b4;stroke:#1f77b4;\" x=\"123.945891\" xlink:href=\"#m7c4ea94773\" y=\"97.050064\"/>\n     <use style=\"fill:#1f77b4;stroke:#1f77b4;\" x=\"98.964919\" xlink:href=\"#m7c4ea94773\" y=\"65.902552\"/>\n     <use style=\"fill:#1f77b4;stroke:#1f77b4;\" x=\"106.213487\" xlink:href=\"#m7c4ea94773\" y=\"70.174513\"/>\n     <use style=\"fill:#1f77b4;stroke:#1f77b4;\" x=\"100.328287\" xlink:href=\"#m7c4ea94773\" y=\"70.892112\"/>\n     <use style=\"fill:#1f77b4;stroke:#1f77b4;\" x=\"130.342003\" xlink:href=\"#m7c4ea94773\" y=\"79.599658\"/>\n     <use style=\"fill:#1f77b4;stroke:#1f77b4;\" x=\"142.223883\" xlink:href=\"#m7c4ea94773\" y=\"63.228051\"/>\n     <use style=\"fill:#1f77b4;stroke:#1f77b4;\" x=\"167.186023\" xlink:href=\"#m7c4ea94773\" y=\"108.46159\"/>\n     <use style=\"fill:#1f77b4;stroke:#1f77b4;\" x=\"144.907143\" xlink:href=\"#m7c4ea94773\" y=\"102.232995\"/>\n     <use style=\"fill:#1f77b4;stroke:#1f77b4;\" x=\"107.665419\" xlink:href=\"#m7c4ea94773\" y=\"66.712364\"/>\n     <use style=\"fill:#1f77b4;stroke:#1f77b4;\" x=\"99.167195\" xlink:href=\"#m7c4ea94773\" y=\"63.506661\"/>\n     <use style=\"fill:#1f77b4;stroke:#1f77b4;\" x=\"124.12222\" xlink:href=\"#m7c4ea94773\" y=\"85.569659\"/>\n     <use style=\"fill:#1f77b4;stroke:#1f77b4;\" x=\"70.080053\" xlink:href=\"#m7c4ea94773\" y=\"57.968364\"/>\n     <use style=\"fill:#1f77b4;stroke:#1f77b4;\" x=\"71.154994\" xlink:href=\"#m7c4ea94773\" y=\"57.800163\"/>\n     <use style=\"fill:#1f77b4;stroke:#1f77b4;\" x=\"77.510507\" xlink:href=\"#m7c4ea94773\" y=\"58.977388\"/>\n     <use style=\"fill:#1f77b4;stroke:#1f77b4;\" x=\"143.910748\" xlink:href=\"#m7c4ea94773\" y=\"90.378561\"/>\n     <use style=\"fill:#1f77b4;stroke:#1f77b4;\" x=\"104.528973\" xlink:href=\"#m7c4ea94773\" y=\"74.890502\"/>\n     <use style=\"fill:#1f77b4;stroke:#1f77b4;\" x=\"126.855146\" xlink:href=\"#m7c4ea94773\" y=\"86.556054\"/>\n     <use style=\"fill:#1f77b4;stroke:#1f77b4;\" x=\"142.782521\" xlink:href=\"#m7c4ea94773\" y=\"87.989975\"/>\n     <use style=\"fill:#1f77b4;stroke:#1f77b4;\" x=\"84.555981\" xlink:href=\"#m7c4ea94773\" y=\"68.00436\"/>\n     <use style=\"fill:#1f77b4;stroke:#1f77b4;\" x=\"100.626204\" xlink:href=\"#m7c4ea94773\" y=\"65.7181\"/>\n     <use style=\"fill:#1f77b4;stroke:#1f77b4;\" x=\"126.39138\" xlink:href=\"#m7c4ea94773\" y=\"87.784194\"/>\n     <use style=\"fill:#1f77b4;stroke:#1f77b4;\" x=\"67.363753\" xlink:href=\"#m7c4ea94773\" y=\"48.054335\"/>\n     <use style=\"fill:#1f77b4;stroke:#1f77b4;\" x=\"81.368421\" xlink:href=\"#m7c4ea94773\" y=\"73.79652\"/>\n     <use style=\"fill:#1f77b4;stroke:#1f77b4;\" x=\"116.012751\" xlink:href=\"#m7c4ea94773\" y=\"85.03785\"/>\n     <use style=\"fill:#1f77b4;stroke:#1f77b4;\" x=\"90.395127\" xlink:href=\"#m7c4ea94773\" y=\"55.509868\"/>\n     <use style=\"fill:#1f77b4;stroke:#1f77b4;\" x=\"118.965743\" xlink:href=\"#m7c4ea94773\" y=\"86.463713\"/>\n     <use style=\"fill:#1f77b4;stroke:#1f77b4;\" x=\"98.759946\" xlink:href=\"#m7c4ea94773\" y=\"62.298373\"/>\n     <use style=\"fill:#1f77b4;stroke:#1f77b4;\" x=\"124.199271\" xlink:href=\"#m7c4ea94773\" y=\"67.218751\"/>\n     <use style=\"fill:#1f77b4;stroke:#1f77b4;\" x=\"137.60529\" xlink:href=\"#m7c4ea94773\" y=\"94.032236\"/>\n     <use style=\"fill:#1f77b4;stroke:#1f77b4;\" x=\"136.977467\" xlink:href=\"#m7c4ea94773\" y=\"106.177058\"/>\n     <use style=\"fill:#1f77b4;stroke:#1f77b4;\" x=\"134.004923\" xlink:href=\"#m7c4ea94773\" y=\"96.443368\"/>\n     <use style=\"fill:#1f77b4;stroke:#1f77b4;\" x=\"110.620254\" xlink:href=\"#m7c4ea94773\" y=\"82.121757\"/>\n     <use style=\"fill:#1f77b4;stroke:#1f77b4;\" x=\"113.424997\" xlink:href=\"#m7c4ea94773\" y=\"65.039557\"/>\n     <use style=\"fill:#1f77b4;stroke:#1f77b4;\" x=\"152.183506\" xlink:href=\"#m7c4ea94773\" y=\"110.037514\"/>\n     <use style=\"fill:#1f77b4;stroke:#1f77b4;\" x=\"181.323451\" xlink:href=\"#m7c4ea94773\" y=\"113.773085\"/>\n     <use style=\"fill:#1f77b4;stroke:#1f77b4;\" x=\"97.898607\" xlink:href=\"#m7c4ea94773\" y=\"61.848018\"/>\n     <use style=\"fill:#1f77b4;stroke:#1f77b4;\" x=\"105.676078\" xlink:href=\"#m7c4ea94773\" y=\"69.768799\"/>\n     <use style=\"fill:#1f77b4;stroke:#1f77b4;\" x=\"103.412421\" xlink:href=\"#m7c4ea94773\" y=\"71.40966\"/>\n     <use style=\"fill:#1f77b4;stroke:#1f77b4;\" x=\"103.893877\" xlink:href=\"#m7c4ea94773\" y=\"59.350605\"/>\n     <use style=\"fill:#1f77b4;stroke:#1f77b4;\" x=\"51.737163\" xlink:href=\"#m7c4ea94773\" y=\"33.326086\"/>\n     <use style=\"fill:#1f77b4;stroke:#1f77b4;\" x=\"107.721625\" xlink:href=\"#m7c4ea94773\" y=\"62.742869\"/>\n     <use style=\"fill:#1f77b4;stroke:#1f77b4;\" x=\"119.693206\" xlink:href=\"#m7c4ea94773\" y=\"75.208286\"/>\n     <use style=\"fill:#1f77b4;stroke:#1f77b4;\" x=\"65.701209\" xlink:href=\"#m7c4ea94773\" y=\"32.760249\"/>\n     <use style=\"fill:#1f77b4;stroke:#1f77b4;\" x=\"96.575682\" xlink:href=\"#m7c4ea94773\" y=\"77.370797\"/>\n     <use style=\"fill:#1f77b4;stroke:#1f77b4;\" x=\"125.402851\" xlink:href=\"#m7c4ea94773\" y=\"70.673663\"/>\n     <use style=\"fill:#1f77b4;stroke:#1f77b4;\" x=\"97.952731\" xlink:href=\"#m7c4ea94773\" y=\"88.381333\"/>\n     <use style=\"fill:#1f77b4;stroke:#1f77b4;\" x=\"67.726259\" xlink:href=\"#m7c4ea94773\" y=\"61.613353\"/>\n     <use style=\"fill:#1f77b4;stroke:#1f77b4;\" x=\"137.981994\" xlink:href=\"#m7c4ea94773\" y=\"89.627161\"/>\n     <use style=\"fill:#1f77b4;stroke:#1f77b4;\" x=\"175.951845\" xlink:href=\"#m7c4ea94773\" y=\"101.724673\"/>\n     <use style=\"fill:#1f77b4;stroke:#1f77b4;\" x=\"162.116399\" xlink:href=\"#m7c4ea94773\" y=\"121.336067\"/>\n     <use style=\"fill:#1f77b4;stroke:#1f77b4;\" x=\"83.067812\" xlink:href=\"#m7c4ea94773\" y=\"50.13609\"/>\n     <use style=\"fill:#1f77b4;stroke:#1f77b4;\" x=\"58.790035\" xlink:href=\"#m7c4ea94773\" y=\"40.198413\"/>\n     <use style=\"fill:#1f77b4;stroke:#1f77b4;\" x=\"100.560023\" xlink:href=\"#m7c4ea94773\" y=\"82.581894\"/>\n     <use style=\"fill:#1f77b4;stroke:#1f77b4;\" x=\"181.665052\" xlink:href=\"#m7c4ea94773\" y=\"95.317762\"/>\n     <use style=\"fill:#1f77b4;stroke:#1f77b4;\" x=\"120.713076\" xlink:href=\"#m7c4ea94773\" y=\"101.06863\"/>\n     <use style=\"fill:#1f77b4;stroke:#1f77b4;\" x=\"80.471204\" xlink:href=\"#m7c4ea94773\" y=\"53.371932\"/>\n     <use style=\"fill:#1f77b4;stroke:#1f77b4;\" x=\"93.290559\" xlink:href=\"#m7c4ea94773\" y=\"58.279307\"/>\n     <use style=\"fill:#1f77b4;stroke:#1f77b4;\" x=\"165.695207\" xlink:href=\"#m7c4ea94773\" y=\"103.534755\"/>\n     <use style=\"fill:#1f77b4;stroke:#1f77b4;\" x=\"70.977845\" xlink:href=\"#m7c4ea94773\" y=\"35.596629\"/>\n     <use style=\"fill:#1f77b4;stroke:#1f77b4;\" x=\"130.012867\" xlink:href=\"#m7c4ea94773\" y=\"77.488768\"/>\n     <use style=\"fill:#1f77b4;stroke:#1f77b4;\" x=\"128.37855\" xlink:href=\"#m7c4ea94773\" y=\"72.56458\"/>\n     <use style=\"fill:#1f77b4;stroke:#1f77b4;\" x=\"76.686413\" xlink:href=\"#m7c4ea94773\" y=\"44.620704\"/>\n     <use style=\"fill:#1f77b4;stroke:#1f77b4;\" x=\"97.179579\" xlink:href=\"#m7c4ea94773\" y=\"72.649427\"/>\n     <use style=\"fill:#1f77b4;stroke:#1f77b4;\" x=\"165.049402\" xlink:href=\"#m7c4ea94773\" y=\"92.379416\"/>\n     <use style=\"fill:#1f77b4;stroke:#1f77b4;\" x=\"139.324808\" xlink:href=\"#m7c4ea94773\" y=\"76.135748\"/>\n     <use style=\"fill:#1f77b4;stroke:#1f77b4;\" x=\"93.574355\" xlink:href=\"#m7c4ea94773\" y=\"60.296926\"/>\n     <use style=\"fill:#1f77b4;stroke:#1f77b4;\" x=\"133.763957\" xlink:href=\"#m7c4ea94773\" y=\"78.998439\"/>\n     <use style=\"fill:#1f77b4;stroke:#1f77b4;\" x=\"73.702117\" xlink:href=\"#m7c4ea94773\" y=\"60.098609\"/>\n     <use style=\"fill:#1f77b4;stroke:#1f77b4;\" x=\"111.154984\" xlink:href=\"#m7c4ea94773\" y=\"76.006122\"/>\n     <use style=\"fill:#1f77b4;stroke:#1f77b4;\" x=\"165.533158\" xlink:href=\"#m7c4ea94773\" y=\"98.223827\"/>\n     <use style=\"fill:#1f77b4;stroke:#1f77b4;\" x=\"154.168709\" xlink:href=\"#m7c4ea94773\" y=\"104.145324\"/>\n     <use style=\"fill:#1f77b4;stroke:#1f77b4;\" x=\"102.150078\" xlink:href=\"#m7c4ea94773\" y=\"64.220152\"/>\n     <use style=\"fill:#1f77b4;stroke:#1f77b4;\" x=\"87.911056\" xlink:href=\"#m7c4ea94773\" y=\"52.769358\"/>\n     <use style=\"fill:#1f77b4;stroke:#1f77b4;\" x=\"137.241016\" xlink:href=\"#m7c4ea94773\" y=\"76.032746\"/>\n     <use style=\"fill:#1f77b4;stroke:#1f77b4;\" x=\"90.099371\" xlink:href=\"#m7c4ea94773\" y=\"45.79245\"/>\n     <use style=\"fill:#1f77b4;stroke:#1f77b4;\" x=\"54.504027\" xlink:href=\"#m7c4ea94773\" y=\"42.679621\"/>\n     <use style=\"fill:#1f77b4;stroke:#1f77b4;\" x=\"97.675094\" xlink:href=\"#m7c4ea94773\" y=\"92.161814\"/>\n     <use style=\"fill:#1f77b4;stroke:#1f77b4;\" x=\"154.046063\" xlink:href=\"#m7c4ea94773\" y=\"85.059107\"/>\n     <use style=\"fill:#1f77b4;stroke:#1f77b4;\" x=\"76.534856\" xlink:href=\"#m7c4ea94773\" y=\"56.743108\"/>\n     <use style=\"fill:#1f77b4;stroke:#1f77b4;\" x=\"129.541949\" xlink:href=\"#m7c4ea94773\" y=\"78.424016\"/>\n     <use style=\"fill:#1f77b4;stroke:#1f77b4;\" x=\"63.62764\" xlink:href=\"#m7c4ea94773\" y=\"72.868106\"/>\n     <use style=\"fill:#1f77b4;stroke:#1f77b4;\" x=\"77.188398\" xlink:href=\"#m7c4ea94773\" y=\"55.178107\"/>\n     <use style=\"fill:#1f77b4;stroke:#1f77b4;\" x=\"82.024496\" xlink:href=\"#m7c4ea94773\" y=\"44.786066\"/>\n     <use style=\"fill:#1f77b4;stroke:#1f77b4;\" x=\"161.66228\" xlink:href=\"#m7c4ea94773\" y=\"95.065703\"/>\n     <use style=\"fill:#1f77b4;stroke:#1f77b4;\" x=\"126.707213\" xlink:href=\"#m7c4ea94773\" y=\"85.394266\"/>\n     <use style=\"fill:#1f77b4;stroke:#1f77b4;\" x=\"158.673319\" xlink:href=\"#m7c4ea94773\" y=\"100.703234\"/>\n     <use style=\"fill:#1f77b4;stroke:#1f77b4;\" x=\"153.770052\" xlink:href=\"#m7c4ea94773\" y=\"98.025747\"/>\n     <use style=\"fill:#1f77b4;stroke:#1f77b4;\" x=\"94.76553\" xlink:href=\"#m7c4ea94773\" y=\"67.902759\"/>\n     <use style=\"fill:#1f77b4;stroke:#1f77b4;\" x=\"70.640518\" xlink:href=\"#m7c4ea94773\" y=\"43.339591\"/>\n     <use style=\"fill:#1f77b4;stroke:#1f77b4;\" x=\"90.989229\" xlink:href=\"#m7c4ea94773\" y=\"58.442438\"/>\n     <use style=\"fill:#1f77b4;stroke:#1f77b4;\" x=\"56.641543\" xlink:href=\"#m7c4ea94773\" y=\"35.648201\"/>\n     <use style=\"fill:#1f77b4;stroke:#1f77b4;\" x=\"81.278882\" xlink:href=\"#m7c4ea94773\" y=\"55.841852\"/>\n     <use style=\"fill:#1f77b4;stroke:#1f77b4;\" x=\"110.094346\" xlink:href=\"#m7c4ea94773\" y=\"52.524237\"/>\n     <use style=\"fill:#1f77b4;stroke:#1f77b4;\" x=\"134.399368\" xlink:href=\"#m7c4ea94773\" y=\"100.794634\"/>\n     <use style=\"fill:#1f77b4;stroke:#1f77b4;\" x=\"143.714249\" xlink:href=\"#m7c4ea94773\" y=\"120.577\"/>\n     <use style=\"fill:#1f77b4;stroke:#1f77b4;\" x=\"166.85097\" xlink:href=\"#m7c4ea94773\" y=\"85.301323\"/>\n     <use style=\"fill:#1f77b4;stroke:#1f77b4;\" x=\"144.168716\" xlink:href=\"#m7c4ea94773\" y=\"93.432253\"/>\n     <use style=\"fill:#1f77b4;stroke:#1f77b4;\" x=\"120.453634\" xlink:href=\"#m7c4ea94773\" y=\"84.377182\"/>\n     <use style=\"fill:#1f77b4;stroke:#1f77b4;\" x=\"119.880949\" xlink:href=\"#m7c4ea94773\" y=\"57.451169\"/>\n     <use style=\"fill:#1f77b4;stroke:#1f77b4;\" x=\"113.247727\" xlink:href=\"#m7c4ea94773\" y=\"77.529983\"/>\n     <use style=\"fill:#1f77b4;stroke:#1f77b4;\" x=\"161.644946\" xlink:href=\"#m7c4ea94773\" y=\"95.227833\"/>\n     <use style=\"fill:#1f77b4;stroke:#1f77b4;\" x=\"123.541001\" xlink:href=\"#m7c4ea94773\" y=\"84.931102\"/>\n     <use style=\"fill:#1f77b4;stroke:#1f77b4;\" x=\"108.745696\" xlink:href=\"#m7c4ea94773\" y=\"59.97424\"/>\n     <use style=\"fill:#1f77b4;stroke:#1f77b4;\" x=\"87.447977\" xlink:href=\"#m7c4ea94773\" y=\"46.369276\"/>\n     <use style=\"fill:#1f77b4;stroke:#1f77b4;\" x=\"77.480968\" xlink:href=\"#m7c4ea94773\" y=\"46.503537\"/>\n     <use style=\"fill:#1f77b4;stroke:#1f77b4;\" x=\"107.513194\" xlink:href=\"#m7c4ea94773\" y=\"67.784466\"/>\n     <use style=\"fill:#1f77b4;stroke:#1f77b4;\" x=\"134.300899\" xlink:href=\"#m7c4ea94773\" y=\"81.871581\"/>\n     <use style=\"fill:#1f77b4;stroke:#1f77b4;\" x=\"127.938864\" xlink:href=\"#m7c4ea94773\" y=\"87.241277\"/>\n     <use style=\"fill:#1f77b4;stroke:#1f77b4;\" x=\"128.318626\" xlink:href=\"#m7c4ea94773\" y=\"67.631713\"/>\n     <use style=\"fill:#1f77b4;stroke:#1f77b4;\" x=\"126.247639\" xlink:href=\"#m7c4ea94773\" y=\"70.2027\"/>\n     <use style=\"fill:#1f77b4;stroke:#1f77b4;\" x=\"103.041266\" xlink:href=\"#m7c4ea94773\" y=\"90.214417\"/>\n     <use style=\"fill:#1f77b4;stroke:#1f77b4;\" x=\"68.545391\" xlink:href=\"#m7c4ea94773\" y=\"47.069834\"/>\n     <use style=\"fill:#1f77b4;stroke:#1f77b4;\" x=\"149.493968\" xlink:href=\"#m7c4ea94773\" y=\"95.369346\"/>\n     <use style=\"fill:#1f77b4;stroke:#1f77b4;\" x=\"108.135749\" xlink:href=\"#m7c4ea94773\" y=\"77.152302\"/>\n     <use style=\"fill:#1f77b4;stroke:#1f77b4;\" x=\"115.517237\" xlink:href=\"#m7c4ea94773\" y=\"72.007701\"/>\n     <use style=\"fill:#1f77b4;stroke:#1f77b4;\" x=\"133.265388\" xlink:href=\"#m7c4ea94773\" y=\"98.1012\"/>\n     <use style=\"fill:#1f77b4;stroke:#1f77b4;\" x=\"145.56244\" xlink:href=\"#m7c4ea94773\" y=\"88.287764\"/>\n     <use style=\"fill:#1f77b4;stroke:#1f77b4;\" x=\"105.605887\" xlink:href=\"#m7c4ea94773\" y=\"73.369054\"/>\n     <use style=\"fill:#1f77b4;stroke:#1f77b4;\" x=\"131.290711\" xlink:href=\"#m7c4ea94773\" y=\"87.366608\"/>\n     <use style=\"fill:#1f77b4;stroke:#1f77b4;\" x=\"152.112989\" xlink:href=\"#m7c4ea94773\" y=\"102.554368\"/>\n     <use style=\"fill:#1f77b4;stroke:#1f77b4;\" x=\"63.53665\" xlink:href=\"#m7c4ea94773\" y=\"36.706663\"/>\n     <use style=\"fill:#1f77b4;stroke:#1f77b4;\" x=\"87.736034\" xlink:href=\"#m7c4ea94773\" y=\"57.474127\"/>\n     <use style=\"fill:#1f77b4;stroke:#1f77b4;\" x=\"120.941418\" xlink:href=\"#m7c4ea94773\" y=\"60.438898\"/>\n     <use style=\"fill:#1f77b4;stroke:#1f77b4;\" x=\"113.673278\" xlink:href=\"#m7c4ea94773\" y=\"77.738729\"/>\n     <use style=\"fill:#1f77b4;stroke:#1f77b4;\" x=\"199.509855\" xlink:href=\"#m7c4ea94773\" y=\"121.709519\"/>\n     <use style=\"fill:#1f77b4;stroke:#1f77b4;\" x=\"176.907847\" xlink:href=\"#m7c4ea94773\" y=\"112.965283\"/>\n     <use style=\"fill:#1f77b4;stroke:#1f77b4;\" x=\"99.10609\" xlink:href=\"#m7c4ea94773\" y=\"86.894379\"/>\n     <use style=\"fill:#1f77b4;stroke:#1f77b4;\" x=\"87.145573\" xlink:href=\"#m7c4ea94773\" y=\"52.131892\"/>\n     <use style=\"fill:#1f77b4;stroke:#1f77b4;\" x=\"178.980642\" xlink:href=\"#m7c4ea94773\" y=\"84.685198\"/>\n     <use style=\"fill:#1f77b4;stroke:#1f77b4;\" x=\"134.517202\" xlink:href=\"#m7c4ea94773\" y=\"98.686107\"/>\n     <use style=\"fill:#1f77b4;stroke:#1f77b4;\" x=\"105.12802\" xlink:href=\"#m7c4ea94773\" y=\"61.593208\"/>\n     <use style=\"fill:#1f77b4;stroke:#1f77b4;\" x=\"84.556233\" xlink:href=\"#m7c4ea94773\" y=\"75.499887\"/>\n     <use style=\"fill:#1f77b4;stroke:#1f77b4;\" x=\"103.2189\" xlink:href=\"#m7c4ea94773\" y=\"71.192562\"/>\n     <use style=\"fill:#1f77b4;stroke:#1f77b4;\" x=\"78.467998\" xlink:href=\"#m7c4ea94773\" y=\"54.821802\"/>\n     <use style=\"fill:#1f77b4;stroke:#1f77b4;\" x=\"156.402124\" xlink:href=\"#m7c4ea94773\" y=\"100.477791\"/>\n     <use style=\"fill:#1f77b4;stroke:#1f77b4;\" x=\"99.265438\" xlink:href=\"#m7c4ea94773\" y=\"71.511165\"/>\n     <use style=\"fill:#1f77b4;stroke:#1f77b4;\" x=\"131.34988\" xlink:href=\"#m7c4ea94773\" y=\"85.005485\"/>\n     <use style=\"fill:#1f77b4;stroke:#1f77b4;\" x=\"157.782372\" xlink:href=\"#m7c4ea94773\" y=\"106.658982\"/>\n     <use style=\"fill:#1f77b4;stroke:#1f77b4;\" x=\"147.472821\" xlink:href=\"#m7c4ea94773\" y=\"112.183644\"/>\n     <use style=\"fill:#1f77b4;stroke:#1f77b4;\" x=\"108.230681\" xlink:href=\"#m7c4ea94773\" y=\"53.897571\"/>\n     <use style=\"fill:#1f77b4;stroke:#1f77b4;\" x=\"81.193448\" xlink:href=\"#m7c4ea94773\" y=\"44.611172\"/>\n     <use style=\"fill:#1f77b4;stroke:#1f77b4;\" x=\"58.211973\" xlink:href=\"#m7c4ea94773\" y=\"65.424974\"/>\n     <use style=\"fill:#1f77b4;stroke:#1f77b4;\" x=\"112.315996\" xlink:href=\"#m7c4ea94773\" y=\"65.161419\"/>\n     <use style=\"fill:#1f77b4;stroke:#1f77b4;\" x=\"149.659465\" xlink:href=\"#m7c4ea94773\" y=\"96.469611\"/>\n     <use style=\"fill:#1f77b4;stroke:#1f77b4;\" x=\"122.555689\" xlink:href=\"#m7c4ea94773\" y=\"78.971304\"/>\n     <use style=\"fill:#1f77b4;stroke:#1f77b4;\" x=\"92.607677\" xlink:href=\"#m7c4ea94773\" y=\"58.195548\"/>\n     <use style=\"fill:#1f77b4;stroke:#1f77b4;\" x=\"164.199434\" xlink:href=\"#m7c4ea94773\" y=\"99.809309\"/>\n     <use style=\"fill:#1f77b4;stroke:#1f77b4;\" x=\"132.301906\" xlink:href=\"#m7c4ea94773\" y=\"75.248017\"/>\n     <use style=\"fill:#1f77b4;stroke:#1f77b4;\" x=\"134.324326\" xlink:href=\"#m7c4ea94773\" y=\"89.768955\"/>\n     <use style=\"fill:#1f77b4;stroke:#1f77b4;\" x=\"146.880758\" xlink:href=\"#m7c4ea94773\" y=\"101.401737\"/>\n     <use style=\"fill:#1f77b4;stroke:#1f77b4;\" x=\"43.435648\" xlink:href=\"#m7c4ea94773\" y=\"34.655943\"/>\n     <use style=\"fill:#1f77b4;stroke:#1f77b4;\" x=\"114.110448\" xlink:href=\"#m7c4ea94773\" y=\"45.442985\"/>\n     <use style=\"fill:#1f77b4;stroke:#1f77b4;\" x=\"190.712291\" xlink:href=\"#m7c4ea94773\" y=\"116.018113\"/>\n     <use style=\"fill:#1f77b4;stroke:#1f77b4;\" x=\"75.152432\" xlink:href=\"#m7c4ea94773\" y=\"56.129726\"/>\n     <use style=\"fill:#1f77b4;stroke:#1f77b4;\" x=\"115.228941\" xlink:href=\"#m7c4ea94773\" y=\"89.590473\"/>\n     <use style=\"fill:#1f77b4;stroke:#1f77b4;\" x=\"109.01725\" xlink:href=\"#m7c4ea94773\" y=\"69.109401\"/>\n     <use style=\"fill:#1f77b4;stroke:#1f77b4;\" x=\"87.771919\" xlink:href=\"#m7c4ea94773\" y=\"61.953799\"/>\n     <use style=\"fill:#1f77b4;stroke:#1f77b4;\" x=\"114.529044\" xlink:href=\"#m7c4ea94773\" y=\"86.830354\"/>\n     <use style=\"fill:#1f77b4;stroke:#1f77b4;\" x=\"145.988744\" xlink:href=\"#m7c4ea94773\" y=\"89.766813\"/>\n     <use style=\"fill:#1f77b4;stroke:#1f77b4;\" x=\"130.557832\" xlink:href=\"#m7c4ea94773\" y=\"77.93183\"/>\n     <use style=\"fill:#1f77b4;stroke:#1f77b4;\" x=\"165.556138\" xlink:href=\"#m7c4ea94773\" y=\"114.283322\"/>\n     <use style=\"fill:#1f77b4;stroke:#1f77b4;\" x=\"137.647853\" xlink:href=\"#m7c4ea94773\" y=\"106.359837\"/>\n     <use style=\"fill:#1f77b4;stroke:#1f77b4;\" x=\"114.71139\" xlink:href=\"#m7c4ea94773\" y=\"75.12134\"/>\n     <use style=\"fill:#1f77b4;stroke:#1f77b4;\" x=\"118.194329\" xlink:href=\"#m7c4ea94773\" y=\"75.879838\"/>\n     <use style=\"fill:#1f77b4;stroke:#1f77b4;\" x=\"122.880297\" xlink:href=\"#m7c4ea94773\" y=\"86.875005\"/>\n     <use style=\"fill:#1f77b4;stroke:#1f77b4;\" x=\"136.327571\" xlink:href=\"#m7c4ea94773\" y=\"86.516313\"/>\n     <use style=\"fill:#1f77b4;stroke:#1f77b4;\" x=\"143.715873\" xlink:href=\"#m7c4ea94773\" y=\"87.121911\"/>\n     <use style=\"fill:#1f77b4;stroke:#1f77b4;\" x=\"74.720055\" xlink:href=\"#m7c4ea94773\" y=\"50.04009\"/>\n     <use style=\"fill:#1f77b4;stroke:#1f77b4;\" x=\"98.993043\" xlink:href=\"#m7c4ea94773\" y=\"77.045014\"/>\n     <use style=\"fill:#1f77b4;stroke:#1f77b4;\" x=\"90.604626\" xlink:href=\"#m7c4ea94773\" y=\"50.002871\"/>\n     <use style=\"fill:#1f77b4;stroke:#1f77b4;\" x=\"156.333208\" xlink:href=\"#m7c4ea94773\" y=\"96.704537\"/>\n     <use style=\"fill:#1f77b4;stroke:#1f77b4;\" x=\"92.46126\" xlink:href=\"#m7c4ea94773\" y=\"55.396807\"/>\n     <use style=\"fill:#1f77b4;stroke:#1f77b4;\" x=\"121.012223\" xlink:href=\"#m7c4ea94773\" y=\"82.581001\"/>\n     <use style=\"fill:#1f77b4;stroke:#1f77b4;\" x=\"119.46199\" xlink:href=\"#m7c4ea94773\" y=\"98.908164\"/>\n     <use style=\"fill:#1f77b4;stroke:#1f77b4;\" x=\"113.290951\" xlink:href=\"#m7c4ea94773\" y=\"67.051552\"/>\n     <use style=\"fill:#1f77b4;stroke:#1f77b4;\" x=\"139.9919\" xlink:href=\"#m7c4ea94773\" y=\"85.495486\"/>\n     <use style=\"fill:#1f77b4;stroke:#1f77b4;\" x=\"150.661588\" xlink:href=\"#m7c4ea94773\" y=\"93.251167\"/>\n     <use style=\"fill:#1f77b4;stroke:#1f77b4;\" x=\"145.536887\" xlink:href=\"#m7c4ea94773\" y=\"91.0972\"/>\n     <use style=\"fill:#1f77b4;stroke:#1f77b4;\" x=\"105.598392\" xlink:href=\"#m7c4ea94773\" y=\"59.076508\"/>\n     <use style=\"fill:#1f77b4;stroke:#1f77b4;\" x=\"120.681419\" xlink:href=\"#m7c4ea94773\" y=\"85.396385\"/>\n     <use style=\"fill:#1f77b4;stroke:#1f77b4;\" x=\"83.633706\" xlink:href=\"#m7c4ea94773\" y=\"51.713648\"/>\n     <use style=\"fill:#1f77b4;stroke:#1f77b4;\" x=\"37.81946\" xlink:href=\"#m7c4ea94773\" y=\"33.059042\"/>\n     <use style=\"fill:#1f77b4;stroke:#1f77b4;\" x=\"168.205945\" xlink:href=\"#m7c4ea94773\" y=\"106.494424\"/>\n     <use style=\"fill:#1f77b4;stroke:#1f77b4;\" x=\"138.670144\" xlink:href=\"#m7c4ea94773\" y=\"97.527354\"/>\n     <use style=\"fill:#1f77b4;stroke:#1f77b4;\" x=\"140.828256\" xlink:href=\"#m7c4ea94773\" y=\"76.468564\"/>\n     <use style=\"fill:#1f77b4;stroke:#1f77b4;\" x=\"97.857185\" xlink:href=\"#m7c4ea94773\" y=\"69.912908\"/>\n     <use style=\"fill:#1f77b4;stroke:#1f77b4;\" x=\"98.533723\" xlink:href=\"#m7c4ea94773\" y=\"71.064094\"/>\n     <use style=\"fill:#1f77b4;stroke:#1f77b4;\" x=\"82.254262\" xlink:href=\"#m7c4ea94773\" y=\"65.278662\"/>\n     <use style=\"fill:#1f77b4;stroke:#1f77b4;\" x=\"103.279891\" xlink:href=\"#m7c4ea94773\" y=\"69.792974\"/>\n     <use style=\"fill:#1f77b4;stroke:#1f77b4;\" x=\"149.798414\" xlink:href=\"#m7c4ea94773\" y=\"109.21853\"/>\n     <use style=\"fill:#1f77b4;stroke:#1f77b4;\" x=\"88.586004\" xlink:href=\"#m7c4ea94773\" y=\"62.983801\"/>\n     <use style=\"fill:#1f77b4;stroke:#1f77b4;\" x=\"73.81744\" xlink:href=\"#m7c4ea94773\" y=\"47.522994\"/>\n     <use style=\"fill:#1f77b4;stroke:#1f77b4;\" x=\"132.307529\" xlink:href=\"#m7c4ea94773\" y=\"97.286506\"/>\n     <use style=\"fill:#1f77b4;stroke:#1f77b4;\" x=\"88.955387\" xlink:href=\"#m7c4ea94773\" y=\"76.752113\"/>\n     <use style=\"fill:#1f77b4;stroke:#1f77b4;\" x=\"134.204805\" xlink:href=\"#m7c4ea94773\" y=\"75.69426\"/>\n     <use style=\"fill:#1f77b4;stroke:#1f77b4;\" x=\"98.280237\" xlink:href=\"#m7c4ea94773\" y=\"67.539728\"/>\n     <use style=\"fill:#1f77b4;stroke:#1f77b4;\" x=\"133.701777\" xlink:href=\"#m7c4ea94773\" y=\"79.409637\"/>\n     <use style=\"fill:#1f77b4;stroke:#1f77b4;\" x=\"78.564582\" xlink:href=\"#m7c4ea94773\" y=\"62.129338\"/>\n     <use style=\"fill:#1f77b4;stroke:#1f77b4;\" x=\"151.285929\" xlink:href=\"#m7c4ea94773\" y=\"89.512484\"/>\n     <use style=\"fill:#1f77b4;stroke:#1f77b4;\" x=\"113.703949\" xlink:href=\"#m7c4ea94773\" y=\"68.956151\"/>\n     <use style=\"fill:#1f77b4;stroke:#1f77b4;\" x=\"185.70231\" xlink:href=\"#m7c4ea94773\" y=\"94.830866\"/>\n     <use style=\"fill:#1f77b4;stroke:#1f77b4;\" x=\"135.839277\" xlink:href=\"#m7c4ea94773\" y=\"84.731616\"/>\n     <use style=\"fill:#1f77b4;stroke:#1f77b4;\" x=\"103.068761\" xlink:href=\"#m7c4ea94773\" y=\"60.887692\"/>\n     <use style=\"fill:#1f77b4;stroke:#1f77b4;\" x=\"113.436708\" xlink:href=\"#m7c4ea94773\" y=\"63.145719\"/>\n     <use style=\"fill:#1f77b4;stroke:#1f77b4;\" x=\"99.431814\" xlink:href=\"#m7c4ea94773\" y=\"58.275624\"/>\n     <use style=\"fill:#1f77b4;stroke:#1f77b4;\" x=\"121.456067\" xlink:href=\"#m7c4ea94773\" y=\"90.467636\"/>\n     <use style=\"fill:#1f77b4;stroke:#1f77b4;\" x=\"148.752602\" xlink:href=\"#m7c4ea94773\" y=\"84.113189\"/>\n     <use style=\"fill:#1f77b4;stroke:#1f77b4;\" x=\"151.377607\" xlink:href=\"#m7c4ea94773\" y=\"109.712128\"/>\n     <use style=\"fill:#1f77b4;stroke:#1f77b4;\" x=\"97.8494\" xlink:href=\"#m7c4ea94773\" y=\"68.718764\"/>\n     <use style=\"fill:#1f77b4;stroke:#1f77b4;\" x=\"76.04557\" xlink:href=\"#m7c4ea94773\" y=\"51.796974\"/>\n     <use style=\"fill:#1f77b4;stroke:#1f77b4;\" x=\"137.522805\" xlink:href=\"#m7c4ea94773\" y=\"76.544018\"/>\n     <use style=\"fill:#1f77b4;stroke:#1f77b4;\" x=\"165.449198\" xlink:href=\"#m7c4ea94773\" y=\"101.622082\"/>\n     <use style=\"fill:#1f77b4;stroke:#1f77b4;\" x=\"103.165816\" xlink:href=\"#m7c4ea94773\" y=\"78.181643\"/>\n     <use style=\"fill:#1f77b4;stroke:#1f77b4;\" x=\"124.994931\" xlink:href=\"#m7c4ea94773\" y=\"66.308362\"/>\n     <use style=\"fill:#1f77b4;stroke:#1f77b4;\" x=\"147.66378\" xlink:href=\"#m7c4ea94773\" y=\"84.717582\"/>\n     <use style=\"fill:#1f77b4;stroke:#1f77b4;\" x=\"113.235689\" xlink:href=\"#m7c4ea94773\" y=\"75.965727\"/>\n     <use style=\"fill:#1f77b4;stroke:#1f77b4;\" x=\"83.96054\" xlink:href=\"#m7c4ea94773\" y=\"56.168078\"/>\n     <use style=\"fill:#1f77b4;stroke:#1f77b4;\" x=\"110.316781\" xlink:href=\"#m7c4ea94773\" y=\"87.796404\"/>\n     <use style=\"fill:#1f77b4;stroke:#1f77b4;\" x=\"161.571963\" xlink:href=\"#m7c4ea94773\" y=\"110.456413\"/>\n     <use style=\"fill:#1f77b4;stroke:#1f77b4;\" x=\"95.112402\" xlink:href=\"#m7c4ea94773\" y=\"71.384798\"/>\n     <use style=\"fill:#1f77b4;stroke:#1f77b4;\" x=\"146.294666\" xlink:href=\"#m7c4ea94773\" y=\"101.96427\"/>\n     <use style=\"fill:#1f77b4;stroke:#1f77b4;\" x=\"156.111471\" xlink:href=\"#m7c4ea94773\" y=\"94.631635\"/>\n     <use style=\"fill:#1f77b4;stroke:#1f77b4;\" x=\"119.361177\" xlink:href=\"#m7c4ea94773\" y=\"81.601567\"/>\n     <use style=\"fill:#1f77b4;stroke:#1f77b4;\" x=\"129.552304\" xlink:href=\"#m7c4ea94773\" y=\"68.715217\"/>\n     <use style=\"fill:#1f77b4;stroke:#1f77b4;\" x=\"181.011089\" xlink:href=\"#m7c4ea94773\" y=\"127.474784\"/>\n     <use style=\"fill:#1f77b4;stroke:#1f77b4;\" x=\"117.19999\" xlink:href=\"#m7c4ea94773\" y=\"91.498409\"/>\n     <use style=\"fill:#1f77b4;stroke:#1f77b4;\" x=\"142.965899\" xlink:href=\"#m7c4ea94773\" y=\"103.519366\"/>\n     <use style=\"fill:#1f77b4;stroke:#1f77b4;\" x=\"106.090355\" xlink:href=\"#m7c4ea94773\" y=\"57.730915\"/>\n     <use style=\"fill:#1f77b4;stroke:#1f77b4;\" x=\"107.019386\" xlink:href=\"#m7c4ea94773\" y=\"58.547795\"/>\n     <use style=\"fill:#1f77b4;stroke:#1f77b4;\" x=\"133.380111\" xlink:href=\"#m7c4ea94773\" y=\"65.139341\"/>\n     <use style=\"fill:#1f77b4;stroke:#1f77b4;\" x=\"107.878685\" xlink:href=\"#m7c4ea94773\" y=\"97.981783\"/>\n     <use style=\"fill:#1f77b4;stroke:#1f77b4;\" x=\"148.573413\" xlink:href=\"#m7c4ea94773\" y=\"80.131453\"/>\n     <use style=\"fill:#1f77b4;stroke:#1f77b4;\" x=\"146.563966\" xlink:href=\"#m7c4ea94773\" y=\"93.827326\"/>\n     <use style=\"fill:#1f77b4;stroke:#1f77b4;\" x=\"81.901437\" xlink:href=\"#m7c4ea94773\" y=\"50.575554\"/>\n     <use style=\"fill:#1f77b4;stroke:#1f77b4;\" x=\"108.359307\" xlink:href=\"#m7c4ea94773\" y=\"69.95745\"/>\n     <use style=\"fill:#1f77b4;stroke:#1f77b4;\" x=\"40.899926\" xlink:href=\"#m7c4ea94773\" y=\"13.377273\"/>\n     <use style=\"fill:#1f77b4;stroke:#1f77b4;\" x=\"138.402035\" xlink:href=\"#m7c4ea94773\" y=\"111.305599\"/>\n     <use style=\"fill:#1f77b4;stroke:#1f77b4;\" x=\"116.21769\" xlink:href=\"#m7c4ea94773\" y=\"66.404084\"/>\n     <use style=\"fill:#1f77b4;stroke:#1f77b4;\" x=\"59.860909\" xlink:href=\"#m7c4ea94773\" y=\"49.977953\"/>\n     <use style=\"fill:#1f77b4;stroke:#1f77b4;\" x=\"93.967184\" xlink:href=\"#m7c4ea94773\" y=\"55.138987\"/>\n     <use style=\"fill:#1f77b4;stroke:#1f77b4;\" x=\"134.461499\" xlink:href=\"#m7c4ea94773\" y=\"95.621572\"/>\n     <use style=\"fill:#1f77b4;stroke:#1f77b4;\" x=\"99.832339\" xlink:href=\"#m7c4ea94773\" y=\"74.927938\"/>\n     <use style=\"fill:#1f77b4;stroke:#1f77b4;\" x=\"112.824441\" xlink:href=\"#m7c4ea94773\" y=\"55.324992\"/>\n     <use style=\"fill:#1f77b4;stroke:#1f77b4;\" x=\"119.831704\" xlink:href=\"#m7c4ea94773\" y=\"63.961841\"/>\n     <use style=\"fill:#1f77b4;stroke:#1f77b4;\" x=\"116.703758\" xlink:href=\"#m7c4ea94773\" y=\"87.952751\"/>\n     <use style=\"fill:#1f77b4;stroke:#1f77b4;\" x=\"130.987837\" xlink:href=\"#m7c4ea94773\" y=\"82.494126\"/>\n     <use style=\"fill:#1f77b4;stroke:#1f77b4;\" x=\"67.713387\" xlink:href=\"#m7c4ea94773\" y=\"56.476944\"/>\n     <use style=\"fill:#1f77b4;stroke:#1f77b4;\" x=\"114.144276\" xlink:href=\"#m7c4ea94773\" y=\"66.055685\"/>\n     <use style=\"fill:#1f77b4;stroke:#1f77b4;\" x=\"140.840894\" xlink:href=\"#m7c4ea94773\" y=\"112.36227\"/>\n     <use style=\"fill:#1f77b4;stroke:#1f77b4;\" x=\"64.615979\" xlink:href=\"#m7c4ea94773\" y=\"35.48634\"/>\n     <use style=\"fill:#1f77b4;stroke:#1f77b4;\" x=\"37.869164\" xlink:href=\"#m7c4ea94773\" y=\"29.563361\"/>\n     <use style=\"fill:#1f77b4;stroke:#1f77b4;\" x=\"45.453157\" xlink:href=\"#m7c4ea94773\" y=\"33.619136\"/>\n     <use style=\"fill:#1f77b4;stroke:#1f77b4;\" x=\"77.31993\" xlink:href=\"#m7c4ea94773\" y=\"54.197006\"/>\n     <use style=\"fill:#1f77b4;stroke:#1f77b4;\" x=\"57.937995\" xlink:href=\"#m7c4ea94773\" y=\"34.836889\"/>\n     <use style=\"fill:#1f77b4;stroke:#1f77b4;\" x=\"138.397281\" xlink:href=\"#m7c4ea94773\" y=\"90.241768\"/>\n     <use style=\"fill:#1f77b4;stroke:#1f77b4;\" x=\"79.655579\" xlink:href=\"#m7c4ea94773\" y=\"47.447091\"/>\n     <use style=\"fill:#1f77b4;stroke:#1f77b4;\" x=\"81.425537\" xlink:href=\"#m7c4ea94773\" y=\"49.668449\"/>\n     <use style=\"fill:#1f77b4;stroke:#1f77b4;\" x=\"95.131191\" xlink:href=\"#m7c4ea94773\" y=\"46.379041\"/>\n     <use style=\"fill:#1f77b4;stroke:#1f77b4;\" x=\"84.883011\" xlink:href=\"#m7c4ea94773\" y=\"52.192354\"/>\n     <use style=\"fill:#1f77b4;stroke:#1f77b4;\" x=\"79.8361\" xlink:href=\"#m7c4ea94773\" y=\"62.913657\"/>\n     <use style=\"fill:#1f77b4;stroke:#1f77b4;\" x=\"104.261004\" xlink:href=\"#m7c4ea94773\" y=\"78.60732\"/>\n     <use style=\"fill:#1f77b4;stroke:#1f77b4;\" x=\"104.72788\" xlink:href=\"#m7c4ea94773\" y=\"58.924609\"/>\n     <use style=\"fill:#1f77b4;stroke:#1f77b4;\" x=\"77.755551\" xlink:href=\"#m7c4ea94773\" y=\"42.653235\"/>\n     <use style=\"fill:#1f77b4;stroke:#1f77b4;\" x=\"130.537799\" xlink:href=\"#m7c4ea94773\" y=\"89.043844\"/>\n     <use style=\"fill:#1f77b4;stroke:#1f77b4;\" x=\"121.594473\" xlink:href=\"#m7c4ea94773\" y=\"76.631573\"/>\n     <use style=\"fill:#1f77b4;stroke:#1f77b4;\" x=\"102.008368\" xlink:href=\"#m7c4ea94773\" y=\"57.391955\"/>\n     <use style=\"fill:#1f77b4;stroke:#1f77b4;\" x=\"165.438044\" xlink:href=\"#m7c4ea94773\" y=\"103.916689\"/>\n     <use style=\"fill:#1f77b4;stroke:#1f77b4;\" x=\"169.786176\" xlink:href=\"#m7c4ea94773\" y=\"103.929323\"/>\n     <use style=\"fill:#1f77b4;stroke:#1f77b4;\" x=\"87.355468\" xlink:href=\"#m7c4ea94773\" y=\"64.878058\"/>\n     <use style=\"fill:#1f77b4;stroke:#1f77b4;\" x=\"131.838537\" xlink:href=\"#m7c4ea94773\" y=\"94.008517\"/>\n     <use style=\"fill:#1f77b4;stroke:#1f77b4;\" x=\"94.815827\" xlink:href=\"#m7c4ea94773\" y=\"74.581851\"/>\n     <use style=\"fill:#1f77b4;stroke:#1f77b4;\" x=\"129.418994\" xlink:href=\"#m7c4ea94773\" y=\"81.418008\"/>\n     <use style=\"fill:#1f77b4;stroke:#1f77b4;\" x=\"107.556878\" xlink:href=\"#m7c4ea94773\" y=\"64.552775\"/>\n     <use style=\"fill:#1f77b4;stroke:#1f77b4;\" x=\"87.856026\" xlink:href=\"#m7c4ea94773\" y=\"79.061162\"/>\n     <use style=\"fill:#1f77b4;stroke:#1f77b4;\" x=\"115.145472\" xlink:href=\"#m7c4ea94773\" y=\"81.061622\"/>\n     <use style=\"fill:#1f77b4;stroke:#1f77b4;\" x=\"119.155278\" xlink:href=\"#m7c4ea94773\" y=\"60.721485\"/>\n     <use style=\"fill:#1f77b4;stroke:#1f77b4;\" x=\"95.998212\" xlink:href=\"#m7c4ea94773\" y=\"52.636321\"/>\n     <use style=\"fill:#1f77b4;stroke:#1f77b4;\" x=\"135.804118\" xlink:href=\"#m7c4ea94773\" y=\"79.917498\"/>\n     <use style=\"fill:#1f77b4;stroke:#1f77b4;\" x=\"93.761429\" xlink:href=\"#m7c4ea94773\" y=\"54.578371\"/>\n     <use style=\"fill:#1f77b4;stroke:#1f77b4;\" x=\"174.867599\" xlink:href=\"#m7c4ea94773\" y=\"101.672128\"/>\n     <use style=\"fill:#1f77b4;stroke:#1f77b4;\" x=\"100.720194\" xlink:href=\"#m7c4ea94773\" y=\"78.984286\"/>\n     <use style=\"fill:#1f77b4;stroke:#1f77b4;\" x=\"105.896033\" xlink:href=\"#m7c4ea94773\" y=\"53.758033\"/>\n     <use style=\"fill:#1f77b4;stroke:#1f77b4;\" x=\"98.645763\" xlink:href=\"#m7c4ea94773\" y=\"49.926573\"/>\n     <use style=\"fill:#1f77b4;stroke:#1f77b4;\" x=\"130.960407\" xlink:href=\"#m7c4ea94773\" y=\"103.323363\"/>\n     <use style=\"fill:#1f77b4;stroke:#1f77b4;\" x=\"130.094887\" xlink:href=\"#m7c4ea94773\" y=\"85.68852\"/>\n     <use style=\"fill:#1f77b4;stroke:#1f77b4;\" x=\"125.935028\" xlink:href=\"#m7c4ea94773\" y=\"72.311718\"/>\n     <use style=\"fill:#1f77b4;stroke:#1f77b4;\" x=\"80.24929\" xlink:href=\"#m7c4ea94773\" y=\"34.5733\"/>\n     <use style=\"fill:#1f77b4;stroke:#1f77b4;\" x=\"68.120608\" xlink:href=\"#m7c4ea94773\" y=\"42.744226\"/>\n     <use style=\"fill:#1f77b4;stroke:#1f77b4;\" x=\"128.542932\" xlink:href=\"#m7c4ea94773\" y=\"83.329735\"/>\n     <use style=\"fill:#1f77b4;stroke:#1f77b4;\" x=\"164.760264\" xlink:href=\"#m7c4ea94773\" y=\"104.424033\"/>\n     <use style=\"fill:#1f77b4;stroke:#1f77b4;\" x=\"96.614574\" xlink:href=\"#m7c4ea94773\" y=\"62.274573\"/>\n     <use style=\"fill:#1f77b4;stroke:#1f77b4;\" x=\"162.605486\" xlink:href=\"#m7c4ea94773\" y=\"89.751583\"/>\n     <use style=\"fill:#1f77b4;stroke:#1f77b4;\" x=\"106.451893\" xlink:href=\"#m7c4ea94773\" y=\"82.994808\"/>\n     <use style=\"fill:#1f77b4;stroke:#1f77b4;\" x=\"147.319771\" xlink:href=\"#m7c4ea94773\" y=\"95.819239\"/>\n     <use style=\"fill:#1f77b4;stroke:#1f77b4;\" x=\"125.300007\" xlink:href=\"#m7c4ea94773\" y=\"74.989204\"/>\n     <use style=\"fill:#1f77b4;stroke:#1f77b4;\" x=\"128.492666\" xlink:href=\"#m7c4ea94773\" y=\"90.592969\"/>\n     <use style=\"fill:#1f77b4;stroke:#1f77b4;\" x=\"124.377179\" xlink:href=\"#m7c4ea94773\" y=\"83.90151\"/>\n     <use style=\"fill:#1f77b4;stroke:#1f77b4;\" x=\"98.861199\" xlink:href=\"#m7c4ea94773\" y=\"78.106474\"/>\n     <use style=\"fill:#1f77b4;stroke:#1f77b4;\" x=\"95.915413\" xlink:href=\"#m7c4ea94773\" y=\"62.458825\"/>\n     <use style=\"fill:#1f77b4;stroke:#1f77b4;\" x=\"92.266854\" xlink:href=\"#m7c4ea94773\" y=\"83.442547\"/>\n     <use style=\"fill:#1f77b4;stroke:#1f77b4;\" x=\"112.870731\" xlink:href=\"#m7c4ea94773\" y=\"64.119631\"/>\n     <use style=\"fill:#1f77b4;stroke:#1f77b4;\" x=\"148.169427\" xlink:href=\"#m7c4ea94773\" y=\"86.942454\"/>\n     <use style=\"fill:#1f77b4;stroke:#1f77b4;\" x=\"76.700164\" xlink:href=\"#m7c4ea94773\" y=\"49.545451\"/>\n     <use style=\"fill:#1f77b4;stroke:#1f77b4;\" x=\"158.569217\" xlink:href=\"#m7c4ea94773\" y=\"94.309709\"/>\n     <use style=\"fill:#1f77b4;stroke:#1f77b4;\" x=\"131.514295\" xlink:href=\"#m7c4ea94773\" y=\"77.842066\"/>\n     <use style=\"fill:#1f77b4;stroke:#1f77b4;\" x=\"132.174042\" xlink:href=\"#m7c4ea94773\" y=\"88.936754\"/>\n     <use style=\"fill:#1f77b4;stroke:#1f77b4;\" x=\"138.441207\" xlink:href=\"#m7c4ea94773\" y=\"99.433498\"/>\n     <use style=\"fill:#1f77b4;stroke:#1f77b4;\" x=\"80.761462\" xlink:href=\"#m7c4ea94773\" y=\"59.429754\"/>\n     <use style=\"fill:#1f77b4;stroke:#1f77b4;\" x=\"75.930491\" xlink:href=\"#m7c4ea94773\" y=\"45.281413\"/>\n     <use style=\"fill:#1f77b4;stroke:#1f77b4;\" x=\"173.501095\" xlink:href=\"#m7c4ea94773\" y=\"104.82332\"/>\n     <use style=\"fill:#1f77b4;stroke:#1f77b4;\" x=\"101.038063\" xlink:href=\"#m7c4ea94773\" y=\"62.763598\"/>\n     <use style=\"fill:#1f77b4;stroke:#1f77b4;\" x=\"94.921902\" xlink:href=\"#m7c4ea94773\" y=\"79.442346\"/>\n     <use style=\"fill:#1f77b4;stroke:#1f77b4;\" x=\"142.733051\" xlink:href=\"#m7c4ea94773\" y=\"89.051854\"/>\n     <use style=\"fill:#1f77b4;stroke:#1f77b4;\" x=\"99.704495\" xlink:href=\"#m7c4ea94773\" y=\"69.637655\"/>\n     <use style=\"fill:#1f77b4;stroke:#1f77b4;\" x=\"136.887001\" xlink:href=\"#m7c4ea94773\" y=\"66.873959\"/>\n     <use style=\"fill:#1f77b4;stroke:#1f77b4;\" x=\"122.493657\" xlink:href=\"#m7c4ea94773\" y=\"81.272033\"/>\n     <use style=\"fill:#1f77b4;stroke:#1f77b4;\" x=\"150.640262\" xlink:href=\"#m7c4ea94773\" y=\"93.814822\"/>\n     <use style=\"fill:#1f77b4;stroke:#1f77b4;\" x=\"81.294629\" xlink:href=\"#m7c4ea94773\" y=\"56.055133\"/>\n     <use style=\"fill:#1f77b4;stroke:#1f77b4;\" x=\"149.724799\" xlink:href=\"#m7c4ea94773\" y=\"100.918651\"/>\n     <use style=\"fill:#1f77b4;stroke:#1f77b4;\" x=\"93.302637\" xlink:href=\"#m7c4ea94773\" y=\"56.601969\"/>\n     <use style=\"fill:#1f77b4;stroke:#1f77b4;\" x=\"139.287653\" xlink:href=\"#m7c4ea94773\" y=\"93.021543\"/>\n     <use style=\"fill:#1f77b4;stroke:#1f77b4;\" x=\"129.575257\" xlink:href=\"#m7c4ea94773\" y=\"103.317359\"/>\n     <use style=\"fill:#1f77b4;stroke:#1f77b4;\" x=\"166.788997\" xlink:href=\"#m7c4ea94773\" y=\"108.032632\"/>\n     <use style=\"fill:#1f77b4;stroke:#1f77b4;\" x=\"119.681216\" xlink:href=\"#m7c4ea94773\" y=\"72.946241\"/>\n     <use style=\"fill:#1f77b4;stroke:#1f77b4;\" x=\"129.071452\" xlink:href=\"#m7c4ea94773\" y=\"81.022706\"/>\n     <use style=\"fill:#1f77b4;stroke:#1f77b4;\" x=\"173.083789\" xlink:href=\"#m7c4ea94773\" y=\"102.787186\"/>\n     <use style=\"fill:#1f77b4;stroke:#1f77b4;\" x=\"142.862185\" xlink:href=\"#m7c4ea94773\" y=\"103.464062\"/>\n     <use style=\"fill:#1f77b4;stroke:#1f77b4;\" x=\"133.493579\" xlink:href=\"#m7c4ea94773\" y=\"88.256042\"/>\n     <use style=\"fill:#1f77b4;stroke:#1f77b4;\" x=\"103.853926\" xlink:href=\"#m7c4ea94773\" y=\"74.859958\"/>\n     <use style=\"fill:#1f77b4;stroke:#1f77b4;\" x=\"157.52516\" xlink:href=\"#m7c4ea94773\" y=\"100.387305\"/>\n     <use style=\"fill:#1f77b4;stroke:#1f77b4;\" x=\"143.137664\" xlink:href=\"#m7c4ea94773\" y=\"85.173332\"/>\n     <use style=\"fill:#1f77b4;stroke:#1f77b4;\" x=\"148.098015\" xlink:href=\"#m7c4ea94773\" y=\"91.5367\"/>\n     <use style=\"fill:#1f77b4;stroke:#1f77b4;\" x=\"107.909157\" xlink:href=\"#m7c4ea94773\" y=\"70.689772\"/>\n     <use style=\"fill:#1f77b4;stroke:#1f77b4;\" x=\"188.859312\" xlink:href=\"#m7c4ea94773\" y=\"123.79568\"/>\n     <use style=\"fill:#1f77b4;stroke:#1f77b4;\" x=\"97.148959\" xlink:href=\"#m7c4ea94773\" y=\"79.460003\"/>\n     <use style=\"fill:#1f77b4;stroke:#1f77b4;\" x=\"131.084209\" xlink:href=\"#m7c4ea94773\" y=\"83.937703\"/>\n     <use style=\"fill:#1f77b4;stroke:#1f77b4;\" x=\"111.918381\" xlink:href=\"#m7c4ea94773\" y=\"55.439601\"/>\n     <use style=\"fill:#1f77b4;stroke:#1f77b4;\" x=\"57.929947\" xlink:href=\"#m7c4ea94773\" y=\"31.448414\"/>\n     <use style=\"fill:#1f77b4;stroke:#1f77b4;\" x=\"123.928698\" xlink:href=\"#m7c4ea94773\" y=\"73.020554\"/>\n     <use style=\"fill:#1f77b4;stroke:#1f77b4;\" x=\"120.880602\" xlink:href=\"#m7c4ea94773\" y=\"76.781999\"/>\n     <use style=\"fill:#1f77b4;stroke:#1f77b4;\" x=\"132.357359\" xlink:href=\"#m7c4ea94773\" y=\"85.304247\"/>\n     <use style=\"fill:#1f77b4;stroke:#1f77b4;\" x=\"138.435\" xlink:href=\"#m7c4ea94773\" y=\"76.365033\"/>\n     <use style=\"fill:#1f77b4;stroke:#1f77b4;\" x=\"124.06381\" xlink:href=\"#m7c4ea94773\" y=\"85.163784\"/>\n     <use style=\"fill:#1f77b4;stroke:#1f77b4;\" x=\"63.66722\" xlink:href=\"#m7c4ea94773\" y=\"50.779262\"/>\n     <use style=\"fill:#1f77b4;stroke:#1f77b4;\" x=\"99.946298\" xlink:href=\"#m7c4ea94773\" y=\"66.631315\"/>\n     <use style=\"fill:#1f77b4;stroke:#1f77b4;\" x=\"55.825756\" xlink:href=\"#m7c4ea94773\" y=\"51.515045\"/>\n     <use style=\"fill:#1f77b4;stroke:#1f77b4;\" x=\"169.161681\" xlink:href=\"#m7c4ea94773\" y=\"83.828616\"/>\n     <use style=\"fill:#1f77b4;stroke:#1f77b4;\" x=\"151.196559\" xlink:href=\"#m7c4ea94773\" y=\"98.031658\"/>\n     <use style=\"fill:#1f77b4;stroke:#1f77b4;\" x=\"80.570133\" xlink:href=\"#m7c4ea94773\" y=\"54.503141\"/>\n     <use style=\"fill:#1f77b4;stroke:#1f77b4;\" x=\"106.217158\" xlink:href=\"#m7c4ea94773\" y=\"54.305286\"/>\n     <use style=\"fill:#1f77b4;stroke:#1f77b4;\" x=\"113.263361\" xlink:href=\"#m7c4ea94773\" y=\"73.265123\"/>\n     <use style=\"fill:#1f77b4;stroke:#1f77b4;\" x=\"138.014262\" xlink:href=\"#m7c4ea94773\" y=\"84.348713\"/>\n     <use style=\"fill:#1f77b4;stroke:#1f77b4;\" x=\"69.856452\" xlink:href=\"#m7c4ea94773\" y=\"48.232199\"/>\n     <use style=\"fill:#1f77b4;stroke:#1f77b4;\" x=\"125.246288\" xlink:href=\"#m7c4ea94773\" y=\"92.808644\"/>\n     <use style=\"fill:#1f77b4;stroke:#1f77b4;\" x=\"94.475563\" xlink:href=\"#m7c4ea94773\" y=\"55.306909\"/>\n     <use style=\"fill:#1f77b4;stroke:#1f77b4;\" x=\"86.992299\" xlink:href=\"#m7c4ea94773\" y=\"39.569023\"/>\n     <use style=\"fill:#1f77b4;stroke:#1f77b4;\" x=\"108.909802\" xlink:href=\"#m7c4ea94773\" y=\"66.671141\"/>\n     <use style=\"fill:#1f77b4;stroke:#1f77b4;\" x=\"152.612853\" xlink:href=\"#m7c4ea94773\" y=\"101.884072\"/>\n     <use style=\"fill:#1f77b4;stroke:#1f77b4;\" x=\"131.198064\" xlink:href=\"#m7c4ea94773\" y=\"77.352924\"/>\n     <use style=\"fill:#1f77b4;stroke:#1f77b4;\" x=\"45.507145\" xlink:href=\"#m7c4ea94773\" y=\"46.625073\"/>\n     <use style=\"fill:#1f77b4;stroke:#1f77b4;\" x=\"110.403322\" xlink:href=\"#m7c4ea94773\" y=\"73.182678\"/>\n     <use style=\"fill:#1f77b4;stroke:#1f77b4;\" x=\"98.012471\" xlink:href=\"#m7c4ea94773\" y=\"44.520084\"/>\n     <use style=\"fill:#1f77b4;stroke:#1f77b4;\" x=\"80.319571\" xlink:href=\"#m7c4ea94773\" y=\"46.920931\"/>\n     <use style=\"fill:#1f77b4;stroke:#1f77b4;\" x=\"131.173676\" xlink:href=\"#m7c4ea94773\" y=\"84.320186\"/>\n     <use style=\"fill:#1f77b4;stroke:#1f77b4;\" x=\"55.174955\" xlink:href=\"#m7c4ea94773\" y=\"32.576106\"/>\n     <use style=\"fill:#1f77b4;stroke:#1f77b4;\" x=\"154.977748\" xlink:href=\"#m7c4ea94773\" y=\"112.754281\"/>\n     <use style=\"fill:#1f77b4;stroke:#1f77b4;\" x=\"85.477358\" xlink:href=\"#m7c4ea94773\" y=\"67.517058\"/>\n     <use style=\"fill:#1f77b4;stroke:#1f77b4;\" x=\"146.489443\" xlink:href=\"#m7c4ea94773\" y=\"101.859699\"/>\n     <use style=\"fill:#1f77b4;stroke:#1f77b4;\" x=\"100.943489\" xlink:href=\"#m7c4ea94773\" y=\"52.755459\"/>\n     <use style=\"fill:#1f77b4;stroke:#1f77b4;\" x=\"98.989989\" xlink:href=\"#m7c4ea94773\" y=\"69.180809\"/>\n     <use style=\"fill:#1f77b4;stroke:#1f77b4;\" x=\"87.201184\" xlink:href=\"#m7c4ea94773\" y=\"69.794967\"/>\n     <use style=\"fill:#1f77b4;stroke:#1f77b4;\" x=\"115.189236\" xlink:href=\"#m7c4ea94773\" y=\"79.998629\"/>\n     <use style=\"fill:#1f77b4;stroke:#1f77b4;\" x=\"84.355513\" xlink:href=\"#m7c4ea94773\" y=\"75.714094\"/>\n     <use style=\"fill:#1f77b4;stroke:#1f77b4;\" x=\"152.266414\" xlink:href=\"#m7c4ea94773\" y=\"101.209051\"/>\n     <use style=\"fill:#1f77b4;stroke:#1f77b4;\" x=\"162.124026\" xlink:href=\"#m7c4ea94773\" y=\"107.791384\"/>\n     <use style=\"fill:#1f77b4;stroke:#1f77b4;\" x=\"94.479079\" xlink:href=\"#m7c4ea94773\" y=\"52.648829\"/>\n     <use style=\"fill:#1f77b4;stroke:#1f77b4;\" x=\"115.589501\" xlink:href=\"#m7c4ea94773\" y=\"69.88652\"/>\n     <use style=\"fill:#1f77b4;stroke:#1f77b4;\" x=\"108.460359\" xlink:href=\"#m7c4ea94773\" y=\"68.187405\"/>\n     <use style=\"fill:#1f77b4;stroke:#1f77b4;\" x=\"104.043807\" xlink:href=\"#m7c4ea94773\" y=\"77.414704\"/>\n     <use style=\"fill:#1f77b4;stroke:#1f77b4;\" x=\"67.212681\" xlink:href=\"#m7c4ea94773\" y=\"50.613313\"/>\n     <use style=\"fill:#1f77b4;stroke:#1f77b4;\" x=\"74.071836\" xlink:href=\"#m7c4ea94773\" y=\"67.812699\"/>\n     <use style=\"fill:#1f77b4;stroke:#1f77b4;\" x=\"183.104345\" xlink:href=\"#m7c4ea94773\" y=\"115.497667\"/>\n     <use style=\"fill:#1f77b4;stroke:#1f77b4;\" x=\"78.51036\" xlink:href=\"#m7c4ea94773\" y=\"44.929323\"/>\n     <use style=\"fill:#1f77b4;stroke:#1f77b4;\" x=\"159.317102\" xlink:href=\"#m7c4ea94773\" y=\"95.77073\"/>\n     <use style=\"fill:#1f77b4;stroke:#1f77b4;\" x=\"128.209699\" xlink:href=\"#m7c4ea94773\" y=\"80.584027\"/>\n     <use style=\"fill:#1f77b4;stroke:#1f77b4;\" x=\"176.130118\" xlink:href=\"#m7c4ea94773\" y=\"118.940102\"/>\n     <use style=\"fill:#1f77b4;stroke:#1f77b4;\" x=\"97.764054\" xlink:href=\"#m7c4ea94773\" y=\"40.871229\"/>\n     <use style=\"fill:#1f77b4;stroke:#1f77b4;\" x=\"115.170209\" xlink:href=\"#m7c4ea94773\" y=\"95.609507\"/>\n     <use style=\"fill:#1f77b4;stroke:#1f77b4;\" x=\"127.044191\" xlink:href=\"#m7c4ea94773\" y=\"88.486211\"/>\n     <use style=\"fill:#1f77b4;stroke:#1f77b4;\" x=\"121.87043\" xlink:href=\"#m7c4ea94773\" y=\"94.351204\"/>\n     <use style=\"fill:#1f77b4;stroke:#1f77b4;\" x=\"88.552011\" xlink:href=\"#m7c4ea94773\" y=\"67.928872\"/>\n     <use style=\"fill:#1f77b4;stroke:#1f77b4;\" x=\"145.424895\" xlink:href=\"#m7c4ea94773\" y=\"100.551668\"/>\n     <use style=\"fill:#1f77b4;stroke:#1f77b4;\" x=\"103.574\" xlink:href=\"#m7c4ea94773\" y=\"67.113975\"/>\n     <use style=\"fill:#1f77b4;stroke:#1f77b4;\" x=\"97.801031\" xlink:href=\"#m7c4ea94773\" y=\"69.8213\"/>\n     <use style=\"fill:#1f77b4;stroke:#1f77b4;\" x=\"132.137815\" xlink:href=\"#m7c4ea94773\" y=\"86.811072\"/>\n     <use style=\"fill:#1f77b4;stroke:#1f77b4;\" x=\"137.497258\" xlink:href=\"#m7c4ea94773\" y=\"92.514917\"/>\n     <use style=\"fill:#1f77b4;stroke:#1f77b4;\" x=\"87.974704\" xlink:href=\"#m7c4ea94773\" y=\"67.221023\"/>\n     <use style=\"fill:#1f77b4;stroke:#1f77b4;\" x=\"126.902549\" xlink:href=\"#m7c4ea94773\" y=\"96.055558\"/>\n     <use style=\"fill:#1f77b4;stroke:#1f77b4;\" x=\"160.519907\" xlink:href=\"#m7c4ea94773\" y=\"104.097505\"/>\n     <use style=\"fill:#1f77b4;stroke:#1f77b4;\" x=\"148.929545\" xlink:href=\"#m7c4ea94773\" y=\"91.182054\"/>\n     <use style=\"fill:#1f77b4;stroke:#1f77b4;\" x=\"152.6007\" xlink:href=\"#m7c4ea94773\" y=\"113.95252\"/>\n     <use style=\"fill:#1f77b4;stroke:#1f77b4;\" x=\"117.201954\" xlink:href=\"#m7c4ea94773\" y=\"78.858593\"/>\n     <use style=\"fill:#1f77b4;stroke:#1f77b4;\" x=\"122.337345\" xlink:href=\"#m7c4ea94773\" y=\"72.258206\"/>\n     <use style=\"fill:#1f77b4;stroke:#1f77b4;\" x=\"164.557683\" xlink:href=\"#m7c4ea94773\" y=\"105.366153\"/>\n     <use style=\"fill:#1f77b4;stroke:#1f77b4;\" x=\"128.092597\" xlink:href=\"#m7c4ea94773\" y=\"83.580263\"/>\n     <use style=\"fill:#1f77b4;stroke:#1f77b4;\" x=\"95.234095\" xlink:href=\"#m7c4ea94773\" y=\"48.327764\"/>\n     <use style=\"fill:#1f77b4;stroke:#1f77b4;\" x=\"102.936159\" xlink:href=\"#m7c4ea94773\" y=\"86.036637\"/>\n     <use style=\"fill:#1f77b4;stroke:#1f77b4;\" x=\"134.943348\" xlink:href=\"#m7c4ea94773\" y=\"78.528644\"/>\n     <use style=\"fill:#1f77b4;stroke:#1f77b4;\" x=\"121.136057\" xlink:href=\"#m7c4ea94773\" y=\"79.541697\"/>\n     <use style=\"fill:#1f77b4;stroke:#1f77b4;\" x=\"111.994045\" xlink:href=\"#m7c4ea94773\" y=\"66.535906\"/>\n     <use style=\"fill:#1f77b4;stroke:#1f77b4;\" x=\"112.82753\" xlink:href=\"#m7c4ea94773\" y=\"53.881734\"/>\n     <use style=\"fill:#1f77b4;stroke:#1f77b4;\" x=\"136.61436\" xlink:href=\"#m7c4ea94773\" y=\"73.186019\"/>\n     <use style=\"fill:#1f77b4;stroke:#1f77b4;\" x=\"80.591571\" xlink:href=\"#m7c4ea94773\" y=\"69.355961\"/>\n     <use style=\"fill:#1f77b4;stroke:#1f77b4;\" x=\"158.506973\" xlink:href=\"#m7c4ea94773\" y=\"106.124701\"/>\n     <use style=\"fill:#1f77b4;stroke:#1f77b4;\" x=\"118.209238\" xlink:href=\"#m7c4ea94773\" y=\"97.378443\"/>\n     <use style=\"fill:#1f77b4;stroke:#1f77b4;\" x=\"116.855169\" xlink:href=\"#m7c4ea94773\" y=\"88.031196\"/>\n     <use style=\"fill:#1f77b4;stroke:#1f77b4;\" x=\"95.904313\" xlink:href=\"#m7c4ea94773\" y=\"67.864752\"/>\n     <use style=\"fill:#1f77b4;stroke:#1f77b4;\" x=\"73.969738\" xlink:href=\"#m7c4ea94773\" y=\"59.11085\"/>\n     <use style=\"fill:#1f77b4;stroke:#1f77b4;\" x=\"120.135957\" xlink:href=\"#m7c4ea94773\" y=\"84.493298\"/>\n     <use style=\"fill:#1f77b4;stroke:#1f77b4;\" x=\"121.169446\" xlink:href=\"#m7c4ea94773\" y=\"70.702426\"/>\n     <use style=\"fill:#1f77b4;stroke:#1f77b4;\" x=\"66.024116\" xlink:href=\"#m7c4ea94773\" y=\"56.175186\"/>\n     <use style=\"fill:#1f77b4;stroke:#1f77b4;\" x=\"64.471526\" xlink:href=\"#m7c4ea94773\" y=\"45.049239\"/>\n     <use style=\"fill:#1f77b4;stroke:#1f77b4;\" x=\"143.960497\" xlink:href=\"#m7c4ea94773\" y=\"96.830571\"/>\n     <use style=\"fill:#1f77b4;stroke:#1f77b4;\" x=\"122.7629\" xlink:href=\"#m7c4ea94773\" y=\"81.042192\"/>\n     <use style=\"fill:#1f77b4;stroke:#1f77b4;\" x=\"139.693674\" xlink:href=\"#m7c4ea94773\" y=\"72.770821\"/>\n     <use style=\"fill:#1f77b4;stroke:#1f77b4;\" x=\"93.883633\" xlink:href=\"#m7c4ea94773\" y=\"41.46075\"/>\n     <use style=\"fill:#1f77b4;stroke:#1f77b4;\" x=\"126.825889\" xlink:href=\"#m7c4ea94773\" y=\"84.259242\"/>\n     <use style=\"fill:#1f77b4;stroke:#1f77b4;\" x=\"132.158947\" xlink:href=\"#m7c4ea94773\" y=\"70.402019\"/>\n     <use style=\"fill:#1f77b4;stroke:#1f77b4;\" x=\"65.655449\" xlink:href=\"#m7c4ea94773\" y=\"44.169618\"/>\n     <use style=\"fill:#1f77b4;stroke:#1f77b4;\" x=\"79.987365\" xlink:href=\"#m7c4ea94773\" y=\"50.151977\"/>\n     <use style=\"fill:#1f77b4;stroke:#1f77b4;\" x=\"69.012167\" xlink:href=\"#m7c4ea94773\" y=\"57.921388\"/>\n     <use style=\"fill:#1f77b4;stroke:#1f77b4;\" x=\"118.530197\" xlink:href=\"#m7c4ea94773\" y=\"95.597114\"/>\n     <use style=\"fill:#1f77b4;stroke:#1f77b4;\" x=\"95.864471\" xlink:href=\"#m7c4ea94773\" y=\"66.815559\"/>\n     <use style=\"fill:#1f77b4;stroke:#1f77b4;\" x=\"174.452109\" xlink:href=\"#m7c4ea94773\" y=\"103.087049\"/>\n     <use style=\"fill:#1f77b4;stroke:#1f77b4;\" x=\"136.179688\" xlink:href=\"#m7c4ea94773\" y=\"89.492455\"/>\n     <use style=\"fill:#1f77b4;stroke:#1f77b4;\" x=\"88.086018\" xlink:href=\"#m7c4ea94773\" y=\"44.901733\"/>\n     <use style=\"fill:#1f77b4;stroke:#1f77b4;\" x=\"97.582875\" xlink:href=\"#m7c4ea94773\" y=\"59.740624\"/>\n     <use style=\"fill:#1f77b4;stroke:#1f77b4;\" x=\"68.28542\" xlink:href=\"#m7c4ea94773\" y=\"55.787952\"/>\n     <use style=\"fill:#1f77b4;stroke:#1f77b4;\" x=\"134.499429\" xlink:href=\"#m7c4ea94773\" y=\"99.740121\"/>\n     <use style=\"fill:#1f77b4;stroke:#1f77b4;\" x=\"119.465198\" xlink:href=\"#m7c4ea94773\" y=\"88.813453\"/>\n     <use style=\"fill:#1f77b4;stroke:#1f77b4;\" x=\"81.070001\" xlink:href=\"#m7c4ea94773\" y=\"54.027106\"/>\n     <use style=\"fill:#1f77b4;stroke:#1f77b4;\" x=\"153.573494\" xlink:href=\"#m7c4ea94773\" y=\"103.966675\"/>\n     <use style=\"fill:#1f77b4;stroke:#1f77b4;\" x=\"157.363562\" xlink:href=\"#m7c4ea94773\" y=\"88.727855\"/>\n     <use style=\"fill:#1f77b4;stroke:#1f77b4;\" x=\"98.282616\" xlink:href=\"#m7c4ea94773\" y=\"81.188541\"/>\n     <use style=\"fill:#1f77b4;stroke:#1f77b4;\" x=\"101.943809\" xlink:href=\"#m7c4ea94773\" y=\"64.821699\"/>\n     <use style=\"fill:#1f77b4;stroke:#1f77b4;\" x=\"87.703283\" xlink:href=\"#m7c4ea94773\" y=\"56.420606\"/>\n     <use style=\"fill:#1f77b4;stroke:#1f77b4;\" x=\"102.685316\" xlink:href=\"#m7c4ea94773\" y=\"53.873983\"/>\n     <use style=\"fill:#1f77b4;stroke:#1f77b4;\" x=\"174.567289\" xlink:href=\"#m7c4ea94773\" y=\"107.94565\"/>\n     <use style=\"fill:#1f77b4;stroke:#1f77b4;\" x=\"121.67802\" xlink:href=\"#m7c4ea94773\" y=\"77.006768\"/>\n     <use style=\"fill:#1f77b4;stroke:#1f77b4;\" x=\"97.756197\" xlink:href=\"#m7c4ea94773\" y=\"68.134212\"/>\n     <use style=\"fill:#1f77b4;stroke:#1f77b4;\" x=\"115.101272\" xlink:href=\"#m7c4ea94773\" y=\"84.868179\"/>\n     <use style=\"fill:#1f77b4;stroke:#1f77b4;\" x=\"107.092205\" xlink:href=\"#m7c4ea94773\" y=\"72.066901\"/>\n     <use style=\"fill:#1f77b4;stroke:#1f77b4;\" x=\"82.217753\" xlink:href=\"#m7c4ea94773\" y=\"52.419959\"/>\n     <use style=\"fill:#1f77b4;stroke:#1f77b4;\" x=\"136.197185\" xlink:href=\"#m7c4ea94773\" y=\"84.153687\"/>\n     <use style=\"fill:#1f77b4;stroke:#1f77b4;\" x=\"86.227395\" xlink:href=\"#m7c4ea94773\" y=\"54.106688\"/>\n     <use style=\"fill:#1f77b4;stroke:#1f77b4;\" x=\"109.635422\" xlink:href=\"#m7c4ea94773\" y=\"80.625003\"/>\n     <use style=\"fill:#1f77b4;stroke:#1f77b4;\" x=\"125.920236\" xlink:href=\"#m7c4ea94773\" y=\"92.464063\"/>\n     <use style=\"fill:#1f77b4;stroke:#1f77b4;\" x=\"122.954389\" xlink:href=\"#m7c4ea94773\" y=\"93.913039\"/>\n     <use style=\"fill:#1f77b4;stroke:#1f77b4;\" x=\"69.12867\" xlink:href=\"#m7c4ea94773\" y=\"51.815841\"/>\n     <use style=\"fill:#1f77b4;stroke:#1f77b4;\" x=\"83.961619\" xlink:href=\"#m7c4ea94773\" y=\"61.253934\"/>\n     <use style=\"fill:#1f77b4;stroke:#1f77b4;\" x=\"67.401191\" xlink:href=\"#m7c4ea94773\" y=\"52.835856\"/>\n     <use style=\"fill:#1f77b4;stroke:#1f77b4;\" x=\"84.979693\" xlink:href=\"#m7c4ea94773\" y=\"65.818073\"/>\n     <use style=\"fill:#1f77b4;stroke:#1f77b4;\" x=\"128.968294\" xlink:href=\"#m7c4ea94773\" y=\"107.346642\"/>\n     <use style=\"fill:#1f77b4;stroke:#1f77b4;\" x=\"92.949928\" xlink:href=\"#m7c4ea94773\" y=\"58.997477\"/>\n     <use style=\"fill:#1f77b4;stroke:#1f77b4;\" x=\"121.592679\" xlink:href=\"#m7c4ea94773\" y=\"104.358498\"/>\n     <use style=\"fill:#1f77b4;stroke:#1f77b4;\" x=\"178.677399\" xlink:href=\"#m7c4ea94773\" y=\"135.803293\"/>\n     <use style=\"fill:#1f77b4;stroke:#1f77b4;\" x=\"129.401591\" xlink:href=\"#m7c4ea94773\" y=\"82.375443\"/>\n     <use style=\"fill:#1f77b4;stroke:#1f77b4;\" x=\"104.670013\" xlink:href=\"#m7c4ea94773\" y=\"73.586406\"/>\n     <use style=\"fill:#1f77b4;stroke:#1f77b4;\" x=\"112.780426\" xlink:href=\"#m7c4ea94773\" y=\"70.702699\"/>\n     <use style=\"fill:#1f77b4;stroke:#1f77b4;\" x=\"136.712287\" xlink:href=\"#m7c4ea94773\" y=\"107.935554\"/>\n     <use style=\"fill:#1f77b4;stroke:#1f77b4;\" x=\"169.540835\" xlink:href=\"#m7c4ea94773\" y=\"101.512398\"/>\n     <use style=\"fill:#1f77b4;stroke:#1f77b4;\" x=\"146.062838\" xlink:href=\"#m7c4ea94773\" y=\"112.715393\"/>\n     <use style=\"fill:#1f77b4;stroke:#1f77b4;\" x=\"106.714346\" xlink:href=\"#m7c4ea94773\" y=\"94.316868\"/>\n     <use style=\"fill:#1f77b4;stroke:#1f77b4;\" x=\"124.912794\" xlink:href=\"#m7c4ea94773\" y=\"69.835775\"/>\n     <use style=\"fill:#1f77b4;stroke:#1f77b4;\" x=\"75.274668\" xlink:href=\"#m7c4ea94773\" y=\"35.631357\"/>\n     <use style=\"fill:#1f77b4;stroke:#1f77b4;\" x=\"169.847063\" xlink:href=\"#m7c4ea94773\" y=\"101.954875\"/>\n     <use style=\"fill:#1f77b4;stroke:#1f77b4;\" x=\"198.019296\" xlink:href=\"#m7c4ea94773\" y=\"105.533893\"/>\n     <use style=\"fill:#1f77b4;stroke:#1f77b4;\" x=\"173.321164\" xlink:href=\"#m7c4ea94773\" y=\"117.144476\"/>\n     <use style=\"fill:#1f77b4;stroke:#1f77b4;\" x=\"81.786847\" xlink:href=\"#m7c4ea94773\" y=\"55.231207\"/>\n     <use style=\"fill:#1f77b4;stroke:#1f77b4;\" x=\"117.558898\" xlink:href=\"#m7c4ea94773\" y=\"58.471672\"/>\n     <use style=\"fill:#1f77b4;stroke:#1f77b4;\" x=\"51.260264\" xlink:href=\"#m7c4ea94773\" y=\"42.255421\"/>\n     <use style=\"fill:#1f77b4;stroke:#1f77b4;\" x=\"123.957511\" xlink:href=\"#m7c4ea94773\" y=\"90.125607\"/>\n     <use style=\"fill:#1f77b4;stroke:#1f77b4;\" x=\"113.387863\" xlink:href=\"#m7c4ea94773\" y=\"66.445416\"/>\n     <use style=\"fill:#1f77b4;stroke:#1f77b4;\" x=\"134.809711\" xlink:href=\"#m7c4ea94773\" y=\"85.292871\"/>\n     <use style=\"fill:#1f77b4;stroke:#1f77b4;\" x=\"80.237453\" xlink:href=\"#m7c4ea94773\" y=\"50.607743\"/>\n     <use style=\"fill:#1f77b4;stroke:#1f77b4;\" x=\"99.227311\" xlink:href=\"#m7c4ea94773\" y=\"67.377664\"/>\n     <use style=\"fill:#1f77b4;stroke:#1f77b4;\" x=\"86.555609\" xlink:href=\"#m7c4ea94773\" y=\"72.368598\"/>\n     <use style=\"fill:#1f77b4;stroke:#1f77b4;\" x=\"117.797725\" xlink:href=\"#m7c4ea94773\" y=\"61.613517\"/>\n     <use style=\"fill:#1f77b4;stroke:#1f77b4;\" x=\"167.497633\" xlink:href=\"#m7c4ea94773\" y=\"100.145551\"/>\n     <use style=\"fill:#1f77b4;stroke:#1f77b4;\" x=\"133.622801\" xlink:href=\"#m7c4ea94773\" y=\"93.038008\"/>\n     <use style=\"fill:#1f77b4;stroke:#1f77b4;\" x=\"99.989408\" xlink:href=\"#m7c4ea94773\" y=\"60.176251\"/>\n     <use style=\"fill:#1f77b4;stroke:#1f77b4;\" x=\"140.098329\" xlink:href=\"#m7c4ea94773\" y=\"74.083777\"/>\n     <use style=\"fill:#1f77b4;stroke:#1f77b4;\" x=\"80.501893\" xlink:href=\"#m7c4ea94773\" y=\"56.168938\"/>\n     <use style=\"fill:#1f77b4;stroke:#1f77b4;\" x=\"122.423454\" xlink:href=\"#m7c4ea94773\" y=\"75.865431\"/>\n     <use style=\"fill:#1f77b4;stroke:#1f77b4;\" x=\"80.076437\" xlink:href=\"#m7c4ea94773\" y=\"63.390757\"/>\n     <use style=\"fill:#1f77b4;stroke:#1f77b4;\" x=\"179.997001\" xlink:href=\"#m7c4ea94773\" y=\"117.478069\"/>\n     <use style=\"fill:#1f77b4;stroke:#1f77b4;\" x=\"215.364915\" xlink:href=\"#m7c4ea94773\" y=\"136.922727\"/>\n     <use style=\"fill:#1f77b4;stroke:#1f77b4;\" x=\"111.041884\" xlink:href=\"#m7c4ea94773\" y=\"65.705388\"/>\n     <use style=\"fill:#1f77b4;stroke:#1f77b4;\" x=\"168.190672\" xlink:href=\"#m7c4ea94773\" y=\"112.930476\"/>\n     <use style=\"fill:#1f77b4;stroke:#1f77b4;\" x=\"115.950466\" xlink:href=\"#m7c4ea94773\" y=\"74.063521\"/>\n     <use style=\"fill:#1f77b4;stroke:#1f77b4;\" x=\"103.600426\" xlink:href=\"#m7c4ea94773\" y=\"73.259424\"/>\n     <use style=\"fill:#1f77b4;stroke:#1f77b4;\" x=\"66.739198\" xlink:href=\"#m7c4ea94773\" y=\"30.483944\"/>\n     <use style=\"fill:#1f77b4;stroke:#1f77b4;\" x=\"100.381167\" xlink:href=\"#m7c4ea94773\" y=\"77.03684\"/>\n     <use style=\"fill:#1f77b4;stroke:#1f77b4;\" x=\"121.149547\" xlink:href=\"#m7c4ea94773\" y=\"66.108454\"/>\n     <use style=\"fill:#1f77b4;stroke:#1f77b4;\" x=\"182.212248\" xlink:href=\"#m7c4ea94773\" y=\"104.988027\"/>\n     <use style=\"fill:#1f77b4;stroke:#1f77b4;\" x=\"123.946826\" xlink:href=\"#m7c4ea94773\" y=\"79.845475\"/>\n     <use style=\"fill:#1f77b4;stroke:#1f77b4;\" x=\"88.44389\" xlink:href=\"#m7c4ea94773\" y=\"57.557468\"/>\n     <use style=\"fill:#1f77b4;stroke:#1f77b4;\" x=\"146.396838\" xlink:href=\"#m7c4ea94773\" y=\"84.281538\"/>\n     <use style=\"fill:#1f77b4;stroke:#1f77b4;\" x=\"158.671123\" xlink:href=\"#m7c4ea94773\" y=\"103.003208\"/>\n     <use style=\"fill:#1f77b4;stroke:#1f77b4;\" x=\"107.625914\" xlink:href=\"#m7c4ea94773\" y=\"88.197637\"/>\n     <use style=\"fill:#1f77b4;stroke:#1f77b4;\" x=\"139.976444\" xlink:href=\"#m7c4ea94773\" y=\"88.050674\"/>\n    </g>\n   </g>\n   <g id=\"matplotlib.axis_1\">\n    <g id=\"xtick_1\">\n     <g id=\"line2d_1\">\n      <defs>\n       <path d=\"M 0 0 \nL 0 3.5 \n\" id=\"m8508e49906\" style=\"stroke:#000000;stroke-width:0.8;\"/>\n      </defs>\n      <g>\n       <use style=\"stroke:#000000;stroke-width:0.8;\" x=\"54.259728\" xlink:href=\"#m8508e49906\" y=\"143.1\"/>\n      </g>\n     </g>\n     <g id=\"text_1\">\n      <!-- −2 -->\n      <defs>\n       <path d=\"M 10.59375 35.5 \nL 73.1875 35.5 \nL 73.1875 27.203125 \nL 10.59375 27.203125 \nz\n\" id=\"DejaVuSans-8722\"/>\n       <path d=\"M 19.1875 8.296875 \nL 53.609375 8.296875 \nL 53.609375 0 \nL 7.328125 0 \nL 7.328125 8.296875 \nQ 12.9375 14.109375 22.625 23.890625 \nQ 32.328125 33.6875 34.8125 36.53125 \nQ 39.546875 41.84375 41.421875 45.53125 \nQ 43.3125 49.21875 43.3125 52.78125 \nQ 43.3125 58.59375 39.234375 62.25 \nQ 35.15625 65.921875 28.609375 65.921875 \nQ 23.96875 65.921875 18.8125 64.3125 \nQ 13.671875 62.703125 7.8125 59.421875 \nL 7.8125 69.390625 \nQ 13.765625 71.78125 18.9375 73 \nQ 24.125 74.21875 28.421875 74.21875 \nQ 39.75 74.21875 46.484375 68.546875 \nQ 53.21875 62.890625 53.21875 53.421875 \nQ 53.21875 48.921875 51.53125 44.890625 \nQ 49.859375 40.875 45.40625 35.40625 \nQ 44.1875 33.984375 37.640625 27.21875 \nQ 31.109375 20.453125 19.1875 8.296875 \nz\n\" id=\"DejaVuSans-50\"/>\n      </defs>\n      <g transform=\"translate(46.888634 157.698438)scale(0.1 -0.1)\">\n       <use xlink:href=\"#DejaVuSans-8722\"/>\n       <use x=\"83.789062\" xlink:href=\"#DejaVuSans-50\"/>\n      </g>\n     </g>\n    </g>\n    <g id=\"xtick_2\">\n     <g id=\"line2d_2\">\n      <g>\n       <use style=\"stroke:#000000;stroke-width:0.8;\" x=\"117.327659\" xlink:href=\"#m8508e49906\" y=\"143.1\"/>\n      </g>\n     </g>\n     <g id=\"text_2\">\n      <!-- 0 -->\n      <defs>\n       <path d=\"M 31.78125 66.40625 \nQ 24.171875 66.40625 20.328125 58.90625 \nQ 16.5 51.421875 16.5 36.375 \nQ 16.5 21.390625 20.328125 13.890625 \nQ 24.171875 6.390625 31.78125 6.390625 \nQ 39.453125 6.390625 43.28125 13.890625 \nQ 47.125 21.390625 47.125 36.375 \nQ 47.125 51.421875 43.28125 58.90625 \nQ 39.453125 66.40625 31.78125 66.40625 \nz\nM 31.78125 74.21875 \nQ 44.046875 74.21875 50.515625 64.515625 \nQ 56.984375 54.828125 56.984375 36.375 \nQ 56.984375 17.96875 50.515625 8.265625 \nQ 44.046875 -1.421875 31.78125 -1.421875 \nQ 19.53125 -1.421875 13.0625 8.265625 \nQ 6.59375 17.96875 6.59375 36.375 \nQ 6.59375 54.828125 13.0625 64.515625 \nQ 19.53125 74.21875 31.78125 74.21875 \nz\n\" id=\"DejaVuSans-48\"/>\n      </defs>\n      <g transform=\"translate(114.146409 157.698438)scale(0.1 -0.1)\">\n       <use xlink:href=\"#DejaVuSans-48\"/>\n      </g>\n     </g>\n    </g>\n    <g id=\"xtick_3\">\n     <g id=\"line2d_3\">\n      <g>\n       <use style=\"stroke:#000000;stroke-width:0.8;\" x=\"180.39559\" xlink:href=\"#m8508e49906\" y=\"143.1\"/>\n      </g>\n     </g>\n     <g id=\"text_3\">\n      <!-- 2 -->\n      <g transform=\"translate(177.21434 157.698438)scale(0.1 -0.1)\">\n       <use xlink:href=\"#DejaVuSans-50\"/>\n      </g>\n     </g>\n    </g>\n   </g>\n   <g id=\"matplotlib.axis_2\">\n    <g id=\"ytick_1\">\n     <g id=\"line2d_4\">\n      <defs>\n       <path d=\"M 0 0 \nL -3.5 0 \n\" id=\"m12f254e452\" style=\"stroke:#000000;stroke-width:0.8;\"/>\n      </defs>\n      <g>\n       <use style=\"stroke:#000000;stroke-width:0.8;\" x=\"28.942188\" xlink:href=\"#m12f254e452\" y=\"125.374276\"/>\n      </g>\n     </g>\n     <g id=\"text_4\">\n      <!-- −5 -->\n      <defs>\n       <path d=\"M 10.796875 72.90625 \nL 49.515625 72.90625 \nL 49.515625 64.59375 \nL 19.828125 64.59375 \nL 19.828125 46.734375 \nQ 21.96875 47.46875 24.109375 47.828125 \nQ 26.265625 48.1875 28.421875 48.1875 \nQ 40.625 48.1875 47.75 41.5 \nQ 54.890625 34.8125 54.890625 23.390625 \nQ 54.890625 11.625 47.5625 5.09375 \nQ 40.234375 -1.421875 26.90625 -1.421875 \nQ 22.3125 -1.421875 17.546875 -0.640625 \nQ 12.796875 0.140625 7.71875 1.703125 \nL 7.71875 11.625 \nQ 12.109375 9.234375 16.796875 8.0625 \nQ 21.484375 6.890625 26.703125 6.890625 \nQ 35.15625 6.890625 40.078125 11.328125 \nQ 45.015625 15.765625 45.015625 23.390625 \nQ 45.015625 31 40.078125 35.4375 \nQ 35.15625 39.890625 26.703125 39.890625 \nQ 22.75 39.890625 18.8125 39.015625 \nQ 14.890625 38.140625 10.796875 36.28125 \nz\n\" id=\"DejaVuSans-53\"/>\n      </defs>\n      <g transform=\"translate(7.2 129.173495)scale(0.1 -0.1)\">\n       <use xlink:href=\"#DejaVuSans-8722\"/>\n       <use x=\"83.789062\" xlink:href=\"#DejaVuSans-53\"/>\n      </g>\n     </g>\n    </g>\n    <g id=\"ytick_2\">\n     <g id=\"line2d_5\">\n      <g>\n       <use style=\"stroke:#000000;stroke-width:0.8;\" x=\"28.942188\" xlink:href=\"#m12f254e452\" y=\"98.847562\"/>\n      </g>\n     </g>\n     <g id=\"text_5\">\n      <!-- 0 -->\n      <g transform=\"translate(15.579688 102.646781)scale(0.1 -0.1)\">\n       <use xlink:href=\"#DejaVuSans-48\"/>\n      </g>\n     </g>\n    </g>\n    <g id=\"ytick_3\">\n     <g id=\"line2d_6\">\n      <g>\n       <use style=\"stroke:#000000;stroke-width:0.8;\" x=\"28.942188\" xlink:href=\"#m12f254e452\" y=\"72.320848\"/>\n      </g>\n     </g>\n     <g id=\"text_6\">\n      <!-- 5 -->\n      <g transform=\"translate(15.579688 76.120067)scale(0.1 -0.1)\">\n       <use xlink:href=\"#DejaVuSans-53\"/>\n      </g>\n     </g>\n    </g>\n    <g id=\"ytick_4\">\n     <g id=\"line2d_7\">\n      <g>\n       <use style=\"stroke:#000000;stroke-width:0.8;\" x=\"28.942188\" xlink:href=\"#m12f254e452\" y=\"45.794135\"/>\n      </g>\n     </g>\n     <g id=\"text_7\">\n      <!-- 10 -->\n      <defs>\n       <path d=\"M 12.40625 8.296875 \nL 28.515625 8.296875 \nL 28.515625 63.921875 \nL 10.984375 60.40625 \nL 10.984375 69.390625 \nL 28.421875 72.90625 \nL 38.28125 72.90625 \nL 38.28125 8.296875 \nL 54.390625 8.296875 \nL 54.390625 0 \nL 12.40625 0 \nz\n\" id=\"DejaVuSans-49\"/>\n      </defs>\n      <g transform=\"translate(9.217188 49.593353)scale(0.1 -0.1)\">\n       <use xlink:href=\"#DejaVuSans-49\"/>\n       <use x=\"63.623047\" xlink:href=\"#DejaVuSans-48\"/>\n      </g>\n     </g>\n    </g>\n    <g id=\"ytick_5\">\n     <g id=\"line2d_8\">\n      <g>\n       <use style=\"stroke:#000000;stroke-width:0.8;\" x=\"28.942188\" xlink:href=\"#m12f254e452\" y=\"19.267421\"/>\n      </g>\n     </g>\n     <g id=\"text_8\">\n      <!-- 15 -->\n      <g transform=\"translate(9.217188 23.066639)scale(0.1 -0.1)\">\n       <use xlink:href=\"#DejaVuSans-49\"/>\n       <use x=\"63.623047\" xlink:href=\"#DejaVuSans-53\"/>\n      </g>\n     </g>\n    </g>\n   </g>\n   <g id=\"patch_3\">\n    <path d=\"M 28.942188 143.1 \nL 28.942188 7.2 \n\" style=\"fill:none;stroke:#000000;stroke-linecap:square;stroke-linejoin:miter;stroke-width:0.8;\"/>\n   </g>\n   <g id=\"patch_4\">\n    <path d=\"M 224.242188 143.1 \nL 224.242188 7.2 \n\" style=\"fill:none;stroke:#000000;stroke-linecap:square;stroke-linejoin:miter;stroke-width:0.8;\"/>\n   </g>\n   <g id=\"patch_5\">\n    <path d=\"M 28.942188 143.1 \nL 224.242188 143.1 \n\" style=\"fill:none;stroke:#000000;stroke-linecap:square;stroke-linejoin:miter;stroke-width:0.8;\"/>\n   </g>\n   <g id=\"patch_6\">\n    <path d=\"M 28.942188 7.2 \nL 224.242188 7.2 \n\" style=\"fill:none;stroke:#000000;stroke-linecap:square;stroke-linejoin:miter;stroke-width:0.8;\"/>\n   </g>\n  </g>\n </g>\n <defs>\n  <clipPath id=\"pbdcf538420\">\n   <rect height=\"135.9\" width=\"195.3\" x=\"28.942188\" y=\"7.2\"/>\n  </clipPath>\n </defs>\n</svg>\n"
          },
          "metadata": {
            "needs_background": "light"
          }
        }
      ]
    },
    {
      "cell_type": "markdown",
      "source": [
        "##读取数据集\n",
        "---\n",
        "定义一个data_iter函数， 该函数接收批量大小、特征矩阵和标签向量作为输入，生成大小为batch_size的小批量。 每个小批量包含一组特征和标签。"
      ],
      "metadata": {
        "id": "RPov5mGFTV-p"
      }
    },
    {
      "cell_type": "code",
      "source": [
        "def data_iter(batch_size, features, labels):\n",
        "    num_examples = len(features)\n",
        "    indices = list(range(num_examples))\n",
        "    #进行打乱操作\n",
        "    random.shuffle(indices)\n",
        "    for i in range(0, num_examples, batch_size):\n",
        "        batch_indices = torch.tensor(\n",
        "            indices[i:min(i + batch_size, num_examples)]#执行分批操作\n",
        "        )\n",
        "        yield features[batch_indices], labels[batch_indices]\n",
        "        #yield就是return一个值，并记录返回的位置，下一次迭代从这个位置开始。\n",
        "\n",
        "batch_size = 10\n",
        "\n",
        "#执行读取第一个小批量打印，每个批量的特征维度显示批量大小和输入特征数。 同样的，批量的标签形状与batch_size相等。\n",
        "'''\n",
        "for X, y in data_iter(batch_size, features, labels):\n",
        "    print(X,'\\n', y)\n",
        "    break\n",
        "'''"
      ],
      "metadata": {
        "colab": {
          "base_uri": "https://localhost:8080/",
          "height": 35
        },
        "id": "_D4_2DM0TEym",
        "outputId": "256311df-da37-497b-d7c2-0c21c5db8900"
      },
      "execution_count": 57,
      "outputs": [
        {
          "output_type": "execute_result",
          "data": {
            "application/vnd.google.colaboratory.intrinsic+json": {
              "type": "string"
            },
            "text/plain": [
              "\"\\nfor X, y in data_iter(batch_size, features, labels):\\n    print(X,'\\n', y)\\n    break\\n\""
            ]
          },
          "metadata": {},
          "execution_count": 57
        }
      ]
    },
    {
      "cell_type": "markdown",
      "source": [
        "当我们运行迭代时，我们会连续地获得不同的小批量，直至遍历完整个数据集。 上面实现的迭代对于教学来说很好，但它的执行效率很低，可能会在实际问题上陷入麻烦。 例如，它要求我们将所有数据加载到内存中，并执行大量的随机内存访问。 在深度学习框架中实现的内置迭代器效率要高得多， 它可以处理存储在文件中的数据和数据流提供的数据。"
      ],
      "metadata": {
        "id": "Wa65ZEgcXjzy"
      }
    },
    {
      "cell_type": "markdown",
      "source": [
        "##初始化模型参数"
      ],
      "metadata": {
        "id": "r35d-lDPXoAK"
      }
    },
    {
      "cell_type": "code",
      "source": [
        "w = torch.normal(0, 0.01, size=(2, 1), requires_grad=True)\n",
        "b = torch.zeros(1, requires_grad=True)\n",
        "w, b"
      ],
      "metadata": {
        "id": "VYESZoeoXm_p",
        "colab": {
          "base_uri": "https://localhost:8080/"
        },
        "outputId": "198f5017-f48a-416d-9794-9a467c7b1380"
      },
      "execution_count": 55,
      "outputs": [
        {
          "output_type": "execute_result",
          "data": {
            "text/plain": [
              "(tensor([[ 0.0170],\n",
              "         [-0.0044]], requires_grad=True), tensor([0.], requires_grad=True))"
            ]
          },
          "metadata": {},
          "execution_count": 55
        }
      ]
    },
    {
      "cell_type": "markdown",
      "source": [
        "在初始化参数之后，我们的任务是更新这些参数，直到这些参数足够拟合我们的数据。 每次更新都需要计算损失函数关于模型参数的梯度。 有了这个梯度，我们就可以向减小损失的方向更新每个参数。"
      ],
      "metadata": {
        "id": "7GuxI2iuYEaz"
      }
    },
    {
      "cell_type": "markdown",
      "source": [
        "##定义模型"
      ],
      "metadata": {
        "id": "O3tezoDxYIID"
      }
    },
    {
      "cell_type": "markdown",
      "source": [
        "接下来，我们必须定义模型，将模型的输入和参数同模型的输出关联起来。 回想一下，要计算线性模型的输出， 我们只需计算输入特征$\\mathbf{X}$和模型权重$\\mathbf{w}$的矩阵-向量乘法后加上偏置$b$。注意，上面$\\mathbf{X}$$\\mathbf{w}$是一个向量，而$b$是一个标量。  \n",
        "广播机制：当我们用一个向量加一个标量时，标量会被加到向量的每个分量上。"
      ],
      "metadata": {
        "id": "avOJlLeDkLxG"
      }
    },
    {
      "cell_type": "code",
      "source": [
        "def linreg(X, w, b):\n",
        "    '''线性回归模型'''\n",
        "    return torch.matmul(X, w) + b"
      ],
      "metadata": {
        "id": "CvFVwlmIYJ7H"
      },
      "execution_count": 36,
      "outputs": []
    },
    {
      "cell_type": "markdown",
      "source": [
        "##定义损失函数\n",
        "---\n",
        "因为需要计算损失函数的梯度，所以我们应该先定义损失函数。 这里平方损失函数。在实现中，我们需要将真实值y的形状转换为和预测值y_hat的形状相同。"
      ],
      "metadata": {
        "id": "Qpv9mGxBlHRH"
      }
    },
    {
      "cell_type": "code",
      "source": [
        "def squared_loss(y_hat, y):\n",
        "    '''均方误差'''\n",
        "    return (y_hat - y.reshape(y_hat.shape))**2 / 2 #并没有求均值"
      ],
      "metadata": {
        "id": "JvvLmNC6lPf3"
      },
      "execution_count": 37,
      "outputs": []
    },
    {
      "cell_type": "markdown",
      "source": [
        "##定义优化算法\n",
        "---\n",
        "实现小批量随机梯度下降更新。 该函数接受模型参数集合、学习速率和批量大小作为输入。每 一步更新的大小由学习速率lr决定。 因为我们计算的损失是一个批量样本的总和，所以我们用批量大小（batch_size） 来规范化步长，这样步长大小就不会取决于我们对批量大小的选择。"
      ],
      "metadata": {
        "id": "N53al_i7q10Z"
      }
    },
    {
      "cell_type": "code",
      "source": [
        "def sgd(params, lr, batch_size):\n",
        "    '''小批量随机梯度下降'''\n",
        "    with torch.no_grad():\n",
        "        for param in params:\n",
        "            param -= lr * param.grad / batch_size #在这一步进行了求均值\n",
        "            param.grad.zero_()"
      ],
      "metadata": {
        "id": "JpXftkiRrKgD"
      },
      "execution_count": 38,
      "outputs": []
    },
    {
      "cell_type": "markdown",
      "source": [
        "##训练过程\n",
        "---\n",
        " 理解这段代码至关重要，因为从事深度学习后， 你会一遍又一遍地看到几乎相同的训练过程。 在每次迭代中，我们读取一小批量训练样本，并通过我们的模型来获得一组预测。 计算完损失后，我们开始反向传播，存储每个参数的梯度。 最后，我们调用优化算法sgd来更新模型参数。在每个迭代周期（epoch）中，我们使用data_iter函数遍历整个数据集， 并将训练数据集中所有样本都使用一次（假设样本数能够被批量大小整除）。 这里的迭代周期个数num_epochs和学习率lr都是超参数，分别设为3和0.03。 设置超参数很棘手，需要通过反复试验进行调整。 "
      ],
      "metadata": {
        "id": "F9QtO5S52ibS"
      }
    },
    {
      "cell_type": "code",
      "source": [
        "lr = 0.03#学习率不能太小，也不能太大\n",
        "num_epochs = 3\n",
        "net = linreg\n",
        "loss = squared_loss\n",
        "\n",
        "for epoch in range(num_epochs):#第一层实现对所有数据扫一遍\n",
        "    for X, y in data_iter(batch_size, features, labels):#每一次拿出一个批量大小的X，y \n",
        "        l = loss(net(X, w, b), y)#y预测和y的小批量损失\n",
        "        #此时l形状是（'batch_size'，1），不是一个标量。l中所有元素被加到一起，并以此计算[w, b]的梯度\n",
        "        l.sum().backward()\n",
        "        sgd([w, b], lr, batch_size)#使用参数的梯度更新参数\n",
        "    with torch.no_grad():#对数据jingjing\n",
        "        train_l = loss(net(features, w , b), labels)\n",
        "        print(f'epoch {epoch + 1}, loss {float(train_l.mean()):f}')"
      ],
      "metadata": {
        "colab": {
          "base_uri": "https://localhost:8080/"
        },
        "id": "h89IHrb22kw9",
        "outputId": "5e8cc5b7-b3d9-4981-a14d-eab6bd6e1962"
      },
      "execution_count": 58,
      "outputs": [
        {
          "output_type": "stream",
          "name": "stdout",
          "text": [
            "epoch 1, loss 0.033257\n",
            "epoch 2, loss 0.000117\n",
            "epoch 3, loss 0.000050\n"
          ]
        }
      ]
    },
    {
      "cell_type": "markdown",
      "source": [
        "因为我们使用的是自己合成的数据集，所以我们知道真正的参数是什么。我们可以通过比较真实参数和通过训练学到的参数来评估训练的成功程度。"
      ],
      "metadata": {
        "id": "1Jw-eYon68Fb"
      }
    },
    {
      "cell_type": "code",
      "source": [
        "print(f'w的估计误差：{true_w - w.reshape(true_w.shape)}')\n",
        "print(f'b的估计误差:{true_b - b}')"
      ],
      "metadata": {
        "colab": {
          "base_uri": "https://localhost:8080/"
        },
        "id": "pLfpbh9K65Rg",
        "outputId": "d0405aeb-ffbf-480a-bfd3-8d1d1f8f4e51"
      },
      "execution_count": 40,
      "outputs": [
        {
          "output_type": "stream",
          "name": "stdout",
          "text": [
            "w的估计误差：tensor([ 0.0008, -0.0001], grad_fn=<SubBackward0>)\n",
            "b的估计误差:tensor([0.0006], grad_fn=<RsubBackward1>)\n"
          ]
        }
      ]
    },
    {
      "cell_type": "markdown",
      "source": [
        "学习率不能太小也不能太大\n",
        "举例："
      ],
      "metadata": {
        "id": "2Fjssg2mIat7"
      }
    },
    {
      "cell_type": "code",
      "source": [
        "#每次需要重新随机初始化，避免跟着上一次的梯度结果\n",
        "w = torch.normal(0, 0.01, size=(2, 1), requires_grad=True)\n",
        "b = torch.zeros(1, requires_grad=True)\n",
        "\n",
        "lr = 0.001#学习率不能太小，也不能太大\n",
        "num_epochs = 10\n",
        "net = linreg\n",
        "loss = squared_loss\n",
        "\n",
        "for epoch in range(num_epochs):#第一层实现对所有数据扫一遍\n",
        "    for X, y in data_iter(batch_size, features, labels):#每一次拿出一个批量大小的X，y \n",
        "        l = loss(net(X, w, b), y)#y预测和y的小批量损失\n",
        "        #此时l形状是（'batch_size'，1），不是一个标量。l中所有元素被加到一起，并以此计算[w, b]的梯度\n",
        "        l.sum().backward()\n",
        "        sgd([w, b], lr, batch_size)#使用参数的梯度更新参数\n",
        "    with torch.no_grad():#对数据jingjing\n",
        "        train_l = loss(net(features, w , b), labels)\n",
        "        print(f'epoch {epoch + 1}, loss {float(train_l.mean()):f}')"
      ],
      "metadata": {
        "colab": {
          "base_uri": "https://localhost:8080/"
        },
        "id": "1LsvkxaaIfSx",
        "outputId": "7e39b812-76a1-486b-b305-90ada013e220"
      },
      "execution_count": 41,
      "outputs": [
        {
          "output_type": "stream",
          "name": "stdout",
          "text": [
            "epoch 1, loss 13.425802\n",
            "epoch 2, loss 11.025660\n",
            "epoch 3, loss 9.054631\n",
            "epoch 4, loss 7.435962\n",
            "epoch 5, loss 6.106705\n",
            "epoch 6, loss 5.015083\n",
            "epoch 7, loss 4.118612\n",
            "epoch 8, loss 3.382402\n",
            "epoch 9, loss 2.777807\n",
            "epoch 10, loss 2.281295\n"
          ]
        }
      ]
    },
    {
      "cell_type": "code",
      "source": [
        "#每次需要重新随机初始化，避免跟着上一次的梯度结果\n",
        "w = torch.normal(0, 0.01, size=(2, 1), requires_grad=True)\n",
        "b = torch.zeros(1, requires_grad=True)\n",
        "\n",
        "lr = 10#学习率不能太小，也不能太大\n",
        "num_epochs = 10\n",
        "net = linreg\n",
        "loss = squared_loss\n",
        "\n",
        "for epoch in range(num_epochs):#第一层实现对所有数据扫一遍\n",
        "    for X, y in data_iter(batch_size, features, labels):#每一次拿出一个批量大小的X，y \n",
        "        l = loss(net(X, w, b), y)#y预测和y的小批量损失\n",
        "        #此时l形状是（'batch_size'，1），不是一个标量。l中所有元素被加到一起，并以此计算[w, b]的梯度\n",
        "        l.sum().backward()\n",
        "        sgd([w, b], lr, batch_size)#使用参数的梯度更新参数\n",
        "    with torch.no_grad():#对数据jingjing\n",
        "        train_l = loss(net(features, w , b), labels)\n",
        "        print(f'epoch {epoch + 1}, loss {float(train_l.mean()):f}')"
      ],
      "metadata": {
        "colab": {
          "base_uri": "https://localhost:8080/"
        },
        "id": "NphcxYlvI5bp",
        "outputId": "c2bc13dd-4dcd-4e4d-e4b1-6d1c66877661"
      },
      "execution_count": 42,
      "outputs": [
        {
          "output_type": "stream",
          "name": "stdout",
          "text": [
            "epoch 1, loss nan\n",
            "epoch 2, loss nan\n",
            "epoch 3, loss nan\n",
            "epoch 4, loss nan\n",
            "epoch 5, loss nan\n",
            "epoch 6, loss nan\n",
            "epoch 7, loss nan\n",
            "epoch 8, loss nan\n",
            "epoch 9, loss nan\n",
            "epoch 10, loss nan\n"
          ]
        }
      ]
    },
    {
      "cell_type": "markdown",
      "source": [
        "##本节思考题\n",
        "---\n",
        "1.如果我们将权重初始化为零，会发生什么。算法仍然有效吗？"
      ],
      "metadata": {
        "id": "XAjIVz4ZRSyL"
      }
    },
    {
      "cell_type": "code",
      "source": [
        "w = torch.zeros(size=(2, 1), requires_grad=True)\n",
        "b = torch.zeros(1, requires_grad=True)\n",
        "lr = 0.03#学习率不能太小，也不能太大\n",
        "num_epochs = 3#学习数据几遍\n",
        "net = linreg\n",
        "loss = squared_loss\n",
        "\n",
        "for epoch in range(num_epochs):#第一层实现每一次对所有数据扫一遍\n",
        "    for X, y in data_iter(batch_size, features, labels):#每一次拿出一个批量大小的X，y \n",
        "        l = loss(net(X, w, b), y)#y预测和y的小批量损失\n",
        "        #此时l形状是（'batch_size'，1），不是一个标量。l中所有元素被加到一起，并以此计算[w, b]的梯度\n",
        "        l.sum().backward()\n",
        "        sgd([w, b], lr, batch_size)#使用参数的梯度更新参数\n",
        "    with torch.no_grad():\n",
        "        train_l = loss(net(features, w , b), labels)\n",
        "        print(f'epoch {epoch + 1}, loss {float(train_l.mean()):f}')"
      ],
      "metadata": {
        "colab": {
          "base_uri": "https://localhost:8080/"
        },
        "id": "EJYq9P6lRbZZ",
        "outputId": "40f22976-71af-4587-a2cb-b1ccf9d79fcc"
      },
      "execution_count": 59,
      "outputs": [
        {
          "output_type": "stream",
          "name": "stdout",
          "text": [
            "epoch 1, loss 0.033461\n",
            "epoch 2, loss 0.000119\n",
            "epoch 3, loss 0.000050\n"
          ]
        }
      ]
    },
    {
      "cell_type": "markdown",
      "source": [
        "#线性回归的简易实现部分\n",
        "---\n",
        "（1）通过张量来进行数据存储和线性代数； （2）通过自动微分来计算梯度。 实际上，由于数据迭代器、损失函数、优化器和神经网络层很常用， 现代深度学习库也为我们实现了这些组件。"
      ],
      "metadata": {
        "id": "c0JWgeKAK-9P"
      }
    },
    {
      "cell_type": "code",
      "source": [
        "!pip install git+https://github.com/d2l-ai/d2l-zh@release  # installing d2l"
      ],
      "metadata": {
        "id": "Lg051y15NjaM"
      },
      "execution_count": null,
      "outputs": []
    },
    {
      "cell_type": "code",
      "source": [
        "#生成数据集\n",
        "import numpy as np\n",
        "import torch\n",
        "from torch.utils import data\n",
        "from d2l import torch as d2l\n",
        "true_w = torch.tensor([2, -3.4])\n",
        "true_b = 4.2\n",
        "features, labels = d2l.synthetic_data(true_w, true_b, 1000)"
      ],
      "metadata": {
        "id": "bXrW_PypL40Q"
      },
      "execution_count": 45,
      "outputs": []
    },
    {
      "cell_type": "code",
      "source": [
        "def load_array(data_arrays, batch_size, is_train=True):\n",
        "    '''构造一个PyTorch数据迭代器'''\n",
        "    dataset = data.TensorDataset(*data_arrays)#将数据转为dataset，*表示将元组拆解为一维数字作为传入参数\n",
        "    return data.DataLoader(dataset, batch_size, shuffle=is_train)\n",
        "    #将dataset型数据挑选batch_size大小的样本，shuffle控制是否打乱\n",
        "\n",
        "batch_size = 10\n",
        "data_iter = load_array((features, labels), batch_size)\n",
        "\n",
        "next(iter(data_iter))"
      ],
      "metadata": {
        "id": "vOVi0dPZONdC",
        "colab": {
          "base_uri": "https://localhost:8080/"
        },
        "outputId": "5ebd6573-6c8e-4a38-cead-0e9a97810e56"
      },
      "execution_count": 46,
      "outputs": [
        {
          "output_type": "execute_result",
          "data": {
            "text/plain": [
              "[tensor([[ 0.1553, -0.1649],\n",
              "         [ 0.7915,  0.6654],\n",
              "         [-0.2432, -0.9138],\n",
              "         [-1.0076, -0.8861],\n",
              "         [ 1.1005,  0.5288],\n",
              "         [-0.4933, -0.4332],\n",
              "         [ 0.1949, -0.6182],\n",
              "         [ 0.7145, -1.2690],\n",
              "         [-1.0992, -1.0687],\n",
              "         [ 0.7895,  1.8604]]), tensor([[ 5.0817],\n",
              "         [ 3.5148],\n",
              "         [ 6.8115],\n",
              "         [ 5.1909],\n",
              "         [ 4.6189],\n",
              "         [ 4.6608],\n",
              "         [ 6.6833],\n",
              "         [ 9.9399],\n",
              "         [ 5.6375],\n",
              "         [-0.5504]])]"
            ]
          },
          "metadata": {},
          "execution_count": 46
        }
      ]
    },
    {
      "cell_type": "markdown",
      "source": [
        "##模型定义\n",
        "---\n",
        "使用框架的预定义好的层"
      ],
      "metadata": {
        "id": "Bm-yHnjaQHrv"
      }
    },
    {
      "cell_type": "code",
      "source": [
        "from torch import nn#nn为神经网络的缩写\n",
        "\n",
        "net = nn.Sequential(nn.Linear(2, 1))#Linear为全连接层，需要指定输入维度和输出维度\n",
        "#Sequential可以理解为容器，即list of layers"
      ],
      "metadata": {
        "id": "53wlSGWnQNVo"
      },
      "execution_count": 47,
      "outputs": []
    },
    {
      "cell_type": "markdown",
      "source": [
        "初始化模型参数"
      ],
      "metadata": {
        "id": "zA14EKppQdKS"
      }
    },
    {
      "cell_type": "code",
      "source": [
        "net[0].weight.data.normal_(0, 0.01)#normal_为使用正态分布替换掉data的值\n",
        "net[0].bias.data.fill_(0)#bias为偏差"
      ],
      "metadata": {
        "colab": {
          "base_uri": "https://localhost:8080/"
        },
        "id": "YPYrHI74Qgqv",
        "outputId": "a1aeb58b-d375-4805-aead-944e420376fe"
      },
      "execution_count": 48,
      "outputs": [
        {
          "output_type": "execute_result",
          "data": {
            "text/plain": [
              "tensor([0.])"
            ]
          },
          "metadata": {},
          "execution_count": 48
        }
      ]
    },
    {
      "cell_type": "markdown",
      "source": [
        "均方误差函数nn里的MSELoss类"
      ],
      "metadata": {
        "id": "Owc6aL6cV_yS"
      }
    },
    {
      "cell_type": "code",
      "source": [
        "loss = nn.MSELoss()"
      ],
      "metadata": {
        "id": "Q64fYnq6WBSF"
      },
      "execution_count": 49,
      "outputs": []
    },
    {
      "cell_type": "markdown",
      "source": [
        "实例化SGD在类optim里即optimize优化"
      ],
      "metadata": {
        "id": "LTnT8VqYWN4V"
      }
    },
    {
      "cell_type": "code",
      "source": [
        "trainer = torch.optim.SGD(net.parameters(), lr=0.03)#optim.SGD需要指定两个参数：net.parameters()为拿出所有参数，lr学习率"
      ],
      "metadata": {
        "id": "IgSEsVq9W1LA"
      },
      "execution_count": 50,
      "outputs": []
    },
    {
      "cell_type": "markdown",
      "source": [
        "训练过程"
      ],
      "metadata": {
        "id": "4GvHqeETXIOx"
      }
    },
    {
      "cell_type": "code",
      "source": [
        "num_epochs = 3\n",
        "for epoch in range(num_epochs):\n",
        "    for X, y in data_iter:\n",
        "        l = loss(net(X), y)\n",
        "        trainer.zero_grad()\n",
        "        l.backward()\n",
        "        trainer.step()\n",
        "    l = loss(net(features), labels)\n",
        "    print(f'epoch{epoch + 1}, loss{l:f}')#l:f打印l，格式为浮点数"
      ],
      "metadata": {
        "colab": {
          "base_uri": "https://localhost:8080/"
        },
        "id": "K63g0d0cXLL3",
        "outputId": "b2bad8dc-2628-4d4f-f721-1426234f8aa9"
      },
      "execution_count": 51,
      "outputs": [
        {
          "output_type": "stream",
          "name": "stdout",
          "text": [
            "epoch1, loss0.000216\n",
            "epoch2, loss0.000100\n",
            "epoch3, loss0.000100\n"
          ]
        }
      ]
    }
  ]
}